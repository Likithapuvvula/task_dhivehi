{
  "nbformat": 4,
  "nbformat_minor": 0,
  "metadata": {
    "colab": {
      "provenance": [],
      "authorship_tag": "ABX9TyOl2uZ2YNYojYmnbhjjrzE4",
      "include_colab_link": true
    },
    "kernelspec": {
      "name": "python3",
      "display_name": "Python 3"
    },
    "language_info": {
      "name": "python"
    },
    "widgets": {
      "application/vnd.jupyter.widget-state+json": {
        "b2afc3bacece4ca497149720611fd459": {
          "model_module": "@jupyter-widgets/controls",
          "model_name": "HBoxModel",
          "model_module_version": "1.5.0",
          "state": {
            "_dom_classes": [],
            "_model_module": "@jupyter-widgets/controls",
            "_model_module_version": "1.5.0",
            "_model_name": "HBoxModel",
            "_view_count": null,
            "_view_module": "@jupyter-widgets/controls",
            "_view_module_version": "1.5.0",
            "_view_name": "HBoxView",
            "box_style": "",
            "children": [
              "IPY_MODEL_0837c16667df4eb88fca3ecabf741156",
              "IPY_MODEL_9a93cd0047884017a801a9e677bf81dc",
              "IPY_MODEL_322af553600f42778f3f59d9ad8026a2"
            ],
            "layout": "IPY_MODEL_2f2b5344e87d40deb4e43d827b7c6237"
          }
        },
        "0837c16667df4eb88fca3ecabf741156": {
          "model_module": "@jupyter-widgets/controls",
          "model_name": "HTMLModel",
          "model_module_version": "1.5.0",
          "state": {
            "_dom_classes": [],
            "_model_module": "@jupyter-widgets/controls",
            "_model_module_version": "1.5.0",
            "_model_name": "HTMLModel",
            "_view_count": null,
            "_view_module": "@jupyter-widgets/controls",
            "_view_module_version": "1.5.0",
            "_view_name": "HTMLView",
            "description": "",
            "description_tooltip": null,
            "layout": "IPY_MODEL_86419d2349c444d7837ad6a78b37fc5b",
            "placeholder": "​",
            "style": "IPY_MODEL_74dec422b8414e3187f0bba447c77027",
            "value": "vocabulary.txt: "
          }
        },
        "9a93cd0047884017a801a9e677bf81dc": {
          "model_module": "@jupyter-widgets/controls",
          "model_name": "FloatProgressModel",
          "model_module_version": "1.5.0",
          "state": {
            "_dom_classes": [],
            "_model_module": "@jupyter-widgets/controls",
            "_model_module_version": "1.5.0",
            "_model_name": "FloatProgressModel",
            "_view_count": null,
            "_view_module": "@jupyter-widgets/controls",
            "_view_module_version": "1.5.0",
            "_view_name": "ProgressView",
            "bar_style": "success",
            "description": "",
            "description_tooltip": null,
            "layout": "IPY_MODEL_3be21db98e3c49fcb68819af8bf63890",
            "max": 1,
            "min": 0,
            "orientation": "horizontal",
            "style": "IPY_MODEL_fc345b3a4ef64d06a0c4f720315b7d80",
            "value": 1
          }
        },
        "322af553600f42778f3f59d9ad8026a2": {
          "model_module": "@jupyter-widgets/controls",
          "model_name": "HTMLModel",
          "model_module_version": "1.5.0",
          "state": {
            "_dom_classes": [],
            "_model_module": "@jupyter-widgets/controls",
            "_model_module_version": "1.5.0",
            "_model_name": "HTMLModel",
            "_view_count": null,
            "_view_module": "@jupyter-widgets/controls",
            "_view_module_version": "1.5.0",
            "_view_name": "HTMLView",
            "description": "",
            "description_tooltip": null,
            "layout": "IPY_MODEL_6915940f801542b8b88449de36ce060a",
            "placeholder": "​",
            "style": "IPY_MODEL_96557fe975bc46a49ed4cd9c3fd0c7a9",
            "value": " 422k/? [00:00&lt;00:00, 7.78MB/s]"
          }
        },
        "2f2b5344e87d40deb4e43d827b7c6237": {
          "model_module": "@jupyter-widgets/base",
          "model_name": "LayoutModel",
          "model_module_version": "1.2.0",
          "state": {
            "_model_module": "@jupyter-widgets/base",
            "_model_module_version": "1.2.0",
            "_model_name": "LayoutModel",
            "_view_count": null,
            "_view_module": "@jupyter-widgets/base",
            "_view_module_version": "1.2.0",
            "_view_name": "LayoutView",
            "align_content": null,
            "align_items": null,
            "align_self": null,
            "border": null,
            "bottom": null,
            "display": null,
            "flex": null,
            "flex_flow": null,
            "grid_area": null,
            "grid_auto_columns": null,
            "grid_auto_flow": null,
            "grid_auto_rows": null,
            "grid_column": null,
            "grid_gap": null,
            "grid_row": null,
            "grid_template_areas": null,
            "grid_template_columns": null,
            "grid_template_rows": null,
            "height": null,
            "justify_content": null,
            "justify_items": null,
            "left": null,
            "margin": null,
            "max_height": null,
            "max_width": null,
            "min_height": null,
            "min_width": null,
            "object_fit": null,
            "object_position": null,
            "order": null,
            "overflow": null,
            "overflow_x": null,
            "overflow_y": null,
            "padding": null,
            "right": null,
            "top": null,
            "visibility": null,
            "width": null
          }
        },
        "86419d2349c444d7837ad6a78b37fc5b": {
          "model_module": "@jupyter-widgets/base",
          "model_name": "LayoutModel",
          "model_module_version": "1.2.0",
          "state": {
            "_model_module": "@jupyter-widgets/base",
            "_model_module_version": "1.2.0",
            "_model_name": "LayoutModel",
            "_view_count": null,
            "_view_module": "@jupyter-widgets/base",
            "_view_module_version": "1.2.0",
            "_view_name": "LayoutView",
            "align_content": null,
            "align_items": null,
            "align_self": null,
            "border": null,
            "bottom": null,
            "display": null,
            "flex": null,
            "flex_flow": null,
            "grid_area": null,
            "grid_auto_columns": null,
            "grid_auto_flow": null,
            "grid_auto_rows": null,
            "grid_column": null,
            "grid_gap": null,
            "grid_row": null,
            "grid_template_areas": null,
            "grid_template_columns": null,
            "grid_template_rows": null,
            "height": null,
            "justify_content": null,
            "justify_items": null,
            "left": null,
            "margin": null,
            "max_height": null,
            "max_width": null,
            "min_height": null,
            "min_width": null,
            "object_fit": null,
            "object_position": null,
            "order": null,
            "overflow": null,
            "overflow_x": null,
            "overflow_y": null,
            "padding": null,
            "right": null,
            "top": null,
            "visibility": null,
            "width": null
          }
        },
        "74dec422b8414e3187f0bba447c77027": {
          "model_module": "@jupyter-widgets/controls",
          "model_name": "DescriptionStyleModel",
          "model_module_version": "1.5.0",
          "state": {
            "_model_module": "@jupyter-widgets/controls",
            "_model_module_version": "1.5.0",
            "_model_name": "DescriptionStyleModel",
            "_view_count": null,
            "_view_module": "@jupyter-widgets/base",
            "_view_module_version": "1.2.0",
            "_view_name": "StyleView",
            "description_width": ""
          }
        },
        "3be21db98e3c49fcb68819af8bf63890": {
          "model_module": "@jupyter-widgets/base",
          "model_name": "LayoutModel",
          "model_module_version": "1.2.0",
          "state": {
            "_model_module": "@jupyter-widgets/base",
            "_model_module_version": "1.2.0",
            "_model_name": "LayoutModel",
            "_view_count": null,
            "_view_module": "@jupyter-widgets/base",
            "_view_module_version": "1.2.0",
            "_view_name": "LayoutView",
            "align_content": null,
            "align_items": null,
            "align_self": null,
            "border": null,
            "bottom": null,
            "display": null,
            "flex": null,
            "flex_flow": null,
            "grid_area": null,
            "grid_auto_columns": null,
            "grid_auto_flow": null,
            "grid_auto_rows": null,
            "grid_column": null,
            "grid_gap": null,
            "grid_row": null,
            "grid_template_areas": null,
            "grid_template_columns": null,
            "grid_template_rows": null,
            "height": null,
            "justify_content": null,
            "justify_items": null,
            "left": null,
            "margin": null,
            "max_height": null,
            "max_width": null,
            "min_height": null,
            "min_width": null,
            "object_fit": null,
            "object_position": null,
            "order": null,
            "overflow": null,
            "overflow_x": null,
            "overflow_y": null,
            "padding": null,
            "right": null,
            "top": null,
            "visibility": null,
            "width": "20px"
          }
        },
        "fc345b3a4ef64d06a0c4f720315b7d80": {
          "model_module": "@jupyter-widgets/controls",
          "model_name": "ProgressStyleModel",
          "model_module_version": "1.5.0",
          "state": {
            "_model_module": "@jupyter-widgets/controls",
            "_model_module_version": "1.5.0",
            "_model_name": "ProgressStyleModel",
            "_view_count": null,
            "_view_module": "@jupyter-widgets/base",
            "_view_module_version": "1.2.0",
            "_view_name": "StyleView",
            "bar_color": null,
            "description_width": ""
          }
        },
        "6915940f801542b8b88449de36ce060a": {
          "model_module": "@jupyter-widgets/base",
          "model_name": "LayoutModel",
          "model_module_version": "1.2.0",
          "state": {
            "_model_module": "@jupyter-widgets/base",
            "_model_module_version": "1.2.0",
            "_model_name": "LayoutModel",
            "_view_count": null,
            "_view_module": "@jupyter-widgets/base",
            "_view_module_version": "1.2.0",
            "_view_name": "LayoutView",
            "align_content": null,
            "align_items": null,
            "align_self": null,
            "border": null,
            "bottom": null,
            "display": null,
            "flex": null,
            "flex_flow": null,
            "grid_area": null,
            "grid_auto_columns": null,
            "grid_auto_flow": null,
            "grid_auto_rows": null,
            "grid_column": null,
            "grid_gap": null,
            "grid_row": null,
            "grid_template_areas": null,
            "grid_template_columns": null,
            "grid_template_rows": null,
            "height": null,
            "justify_content": null,
            "justify_items": null,
            "left": null,
            "margin": null,
            "max_height": null,
            "max_width": null,
            "min_height": null,
            "min_width": null,
            "object_fit": null,
            "object_position": null,
            "order": null,
            "overflow": null,
            "overflow_x": null,
            "overflow_y": null,
            "padding": null,
            "right": null,
            "top": null,
            "visibility": null,
            "width": null
          }
        },
        "96557fe975bc46a49ed4cd9c3fd0c7a9": {
          "model_module": "@jupyter-widgets/controls",
          "model_name": "DescriptionStyleModel",
          "model_module_version": "1.5.0",
          "state": {
            "_model_module": "@jupyter-widgets/controls",
            "_model_module_version": "1.5.0",
            "_model_name": "DescriptionStyleModel",
            "_view_count": null,
            "_view_module": "@jupyter-widgets/base",
            "_view_module_version": "1.2.0",
            "_view_name": "StyleView",
            "description_width": ""
          }
        },
        "232ff74535714718b68e3746fb364928": {
          "model_module": "@jupyter-widgets/controls",
          "model_name": "HBoxModel",
          "model_module_version": "1.5.0",
          "state": {
            "_dom_classes": [],
            "_model_module": "@jupyter-widgets/controls",
            "_model_module_version": "1.5.0",
            "_model_name": "HBoxModel",
            "_view_count": null,
            "_view_module": "@jupyter-widgets/controls",
            "_view_module_version": "1.5.0",
            "_view_name": "HBoxView",
            "box_style": "",
            "children": [
              "IPY_MODEL_07d57e4277cc448984a50127b91874f9",
              "IPY_MODEL_3817011238074a019de5a0020da81e95",
              "IPY_MODEL_4386f971a31b46389eeb5eab08a9010c"
            ],
            "layout": "IPY_MODEL_78b898f77d7d43c1b64625c1a3621598"
          }
        },
        "07d57e4277cc448984a50127b91874f9": {
          "model_module": "@jupyter-widgets/controls",
          "model_name": "HTMLModel",
          "model_module_version": "1.5.0",
          "state": {
            "_dom_classes": [],
            "_model_module": "@jupyter-widgets/controls",
            "_model_module_version": "1.5.0",
            "_model_name": "HTMLModel",
            "_view_count": null,
            "_view_module": "@jupyter-widgets/controls",
            "_view_module_version": "1.5.0",
            "_view_name": "HTMLView",
            "description": "",
            "description_tooltip": null,
            "layout": "IPY_MODEL_8a960af4879a474a94d30476d7dac067",
            "placeholder": "​",
            "style": "IPY_MODEL_bbe15c0cccc64b619d36573e720d9e51",
            "value": "config.json: "
          }
        },
        "3817011238074a019de5a0020da81e95": {
          "model_module": "@jupyter-widgets/controls",
          "model_name": "FloatProgressModel",
          "model_module_version": "1.5.0",
          "state": {
            "_dom_classes": [],
            "_model_module": "@jupyter-widgets/controls",
            "_model_module_version": "1.5.0",
            "_model_name": "FloatProgressModel",
            "_view_count": null,
            "_view_module": "@jupyter-widgets/controls",
            "_view_module_version": "1.5.0",
            "_view_name": "ProgressView",
            "bar_style": "success",
            "description": "",
            "description_tooltip": null,
            "layout": "IPY_MODEL_d5bb3bb2aa8b4ba5afb208ee0fcc4dc9",
            "max": 1,
            "min": 0,
            "orientation": "horizontal",
            "style": "IPY_MODEL_3f80c9df2bc74e46a087e6c5aa5fcd80",
            "value": 1
          }
        },
        "4386f971a31b46389eeb5eab08a9010c": {
          "model_module": "@jupyter-widgets/controls",
          "model_name": "HTMLModel",
          "model_module_version": "1.5.0",
          "state": {
            "_dom_classes": [],
            "_model_module": "@jupyter-widgets/controls",
            "_model_module_version": "1.5.0",
            "_model_name": "HTMLModel",
            "_view_count": null,
            "_view_module": "@jupyter-widgets/controls",
            "_view_module_version": "1.5.0",
            "_view_name": "HTMLView",
            "description": "",
            "description_tooltip": null,
            "layout": "IPY_MODEL_8bba34d29aaa466bb603b6429e73ba58",
            "placeholder": "​",
            "style": "IPY_MODEL_90f0ba3c87c84834a6a1eb7bef439ac2",
            "value": " 2.32k/? [00:00&lt;00:00, 57.4kB/s]"
          }
        },
        "78b898f77d7d43c1b64625c1a3621598": {
          "model_module": "@jupyter-widgets/base",
          "model_name": "LayoutModel",
          "model_module_version": "1.2.0",
          "state": {
            "_model_module": "@jupyter-widgets/base",
            "_model_module_version": "1.2.0",
            "_model_name": "LayoutModel",
            "_view_count": null,
            "_view_module": "@jupyter-widgets/base",
            "_view_module_version": "1.2.0",
            "_view_name": "LayoutView",
            "align_content": null,
            "align_items": null,
            "align_self": null,
            "border": null,
            "bottom": null,
            "display": null,
            "flex": null,
            "flex_flow": null,
            "grid_area": null,
            "grid_auto_columns": null,
            "grid_auto_flow": null,
            "grid_auto_rows": null,
            "grid_column": null,
            "grid_gap": null,
            "grid_row": null,
            "grid_template_areas": null,
            "grid_template_columns": null,
            "grid_template_rows": null,
            "height": null,
            "justify_content": null,
            "justify_items": null,
            "left": null,
            "margin": null,
            "max_height": null,
            "max_width": null,
            "min_height": null,
            "min_width": null,
            "object_fit": null,
            "object_position": null,
            "order": null,
            "overflow": null,
            "overflow_x": null,
            "overflow_y": null,
            "padding": null,
            "right": null,
            "top": null,
            "visibility": null,
            "width": null
          }
        },
        "8a960af4879a474a94d30476d7dac067": {
          "model_module": "@jupyter-widgets/base",
          "model_name": "LayoutModel",
          "model_module_version": "1.2.0",
          "state": {
            "_model_module": "@jupyter-widgets/base",
            "_model_module_version": "1.2.0",
            "_model_name": "LayoutModel",
            "_view_count": null,
            "_view_module": "@jupyter-widgets/base",
            "_view_module_version": "1.2.0",
            "_view_name": "LayoutView",
            "align_content": null,
            "align_items": null,
            "align_self": null,
            "border": null,
            "bottom": null,
            "display": null,
            "flex": null,
            "flex_flow": null,
            "grid_area": null,
            "grid_auto_columns": null,
            "grid_auto_flow": null,
            "grid_auto_rows": null,
            "grid_column": null,
            "grid_gap": null,
            "grid_row": null,
            "grid_template_areas": null,
            "grid_template_columns": null,
            "grid_template_rows": null,
            "height": null,
            "justify_content": null,
            "justify_items": null,
            "left": null,
            "margin": null,
            "max_height": null,
            "max_width": null,
            "min_height": null,
            "min_width": null,
            "object_fit": null,
            "object_position": null,
            "order": null,
            "overflow": null,
            "overflow_x": null,
            "overflow_y": null,
            "padding": null,
            "right": null,
            "top": null,
            "visibility": null,
            "width": null
          }
        },
        "bbe15c0cccc64b619d36573e720d9e51": {
          "model_module": "@jupyter-widgets/controls",
          "model_name": "DescriptionStyleModel",
          "model_module_version": "1.5.0",
          "state": {
            "_model_module": "@jupyter-widgets/controls",
            "_model_module_version": "1.5.0",
            "_model_name": "DescriptionStyleModel",
            "_view_count": null,
            "_view_module": "@jupyter-widgets/base",
            "_view_module_version": "1.2.0",
            "_view_name": "StyleView",
            "description_width": ""
          }
        },
        "d5bb3bb2aa8b4ba5afb208ee0fcc4dc9": {
          "model_module": "@jupyter-widgets/base",
          "model_name": "LayoutModel",
          "model_module_version": "1.2.0",
          "state": {
            "_model_module": "@jupyter-widgets/base",
            "_model_module_version": "1.2.0",
            "_model_name": "LayoutModel",
            "_view_count": null,
            "_view_module": "@jupyter-widgets/base",
            "_view_module_version": "1.2.0",
            "_view_name": "LayoutView",
            "align_content": null,
            "align_items": null,
            "align_self": null,
            "border": null,
            "bottom": null,
            "display": null,
            "flex": null,
            "flex_flow": null,
            "grid_area": null,
            "grid_auto_columns": null,
            "grid_auto_flow": null,
            "grid_auto_rows": null,
            "grid_column": null,
            "grid_gap": null,
            "grid_row": null,
            "grid_template_areas": null,
            "grid_template_columns": null,
            "grid_template_rows": null,
            "height": null,
            "justify_content": null,
            "justify_items": null,
            "left": null,
            "margin": null,
            "max_height": null,
            "max_width": null,
            "min_height": null,
            "min_width": null,
            "object_fit": null,
            "object_position": null,
            "order": null,
            "overflow": null,
            "overflow_x": null,
            "overflow_y": null,
            "padding": null,
            "right": null,
            "top": null,
            "visibility": null,
            "width": "20px"
          }
        },
        "3f80c9df2bc74e46a087e6c5aa5fcd80": {
          "model_module": "@jupyter-widgets/controls",
          "model_name": "ProgressStyleModel",
          "model_module_version": "1.5.0",
          "state": {
            "_model_module": "@jupyter-widgets/controls",
            "_model_module_version": "1.5.0",
            "_model_name": "ProgressStyleModel",
            "_view_count": null,
            "_view_module": "@jupyter-widgets/base",
            "_view_module_version": "1.2.0",
            "_view_name": "StyleView",
            "bar_color": null,
            "description_width": ""
          }
        },
        "8bba34d29aaa466bb603b6429e73ba58": {
          "model_module": "@jupyter-widgets/base",
          "model_name": "LayoutModel",
          "model_module_version": "1.2.0",
          "state": {
            "_model_module": "@jupyter-widgets/base",
            "_model_module_version": "1.2.0",
            "_model_name": "LayoutModel",
            "_view_count": null,
            "_view_module": "@jupyter-widgets/base",
            "_view_module_version": "1.2.0",
            "_view_name": "LayoutView",
            "align_content": null,
            "align_items": null,
            "align_self": null,
            "border": null,
            "bottom": null,
            "display": null,
            "flex": null,
            "flex_flow": null,
            "grid_area": null,
            "grid_auto_columns": null,
            "grid_auto_flow": null,
            "grid_auto_rows": null,
            "grid_column": null,
            "grid_gap": null,
            "grid_row": null,
            "grid_template_areas": null,
            "grid_template_columns": null,
            "grid_template_rows": null,
            "height": null,
            "justify_content": null,
            "justify_items": null,
            "left": null,
            "margin": null,
            "max_height": null,
            "max_width": null,
            "min_height": null,
            "min_width": null,
            "object_fit": null,
            "object_position": null,
            "order": null,
            "overflow": null,
            "overflow_x": null,
            "overflow_y": null,
            "padding": null,
            "right": null,
            "top": null,
            "visibility": null,
            "width": null
          }
        },
        "90f0ba3c87c84834a6a1eb7bef439ac2": {
          "model_module": "@jupyter-widgets/controls",
          "model_name": "DescriptionStyleModel",
          "model_module_version": "1.5.0",
          "state": {
            "_model_module": "@jupyter-widgets/controls",
            "_model_module_version": "1.5.0",
            "_model_name": "DescriptionStyleModel",
            "_view_count": null,
            "_view_module": "@jupyter-widgets/base",
            "_view_module_version": "1.2.0",
            "_view_name": "StyleView",
            "description_width": ""
          }
        },
        "9fb1ee60a7f64da2b06e671fe3518659": {
          "model_module": "@jupyter-widgets/controls",
          "model_name": "HBoxModel",
          "model_module_version": "1.5.0",
          "state": {
            "_dom_classes": [],
            "_model_module": "@jupyter-widgets/controls",
            "_model_module_version": "1.5.0",
            "_model_name": "HBoxModel",
            "_view_count": null,
            "_view_module": "@jupyter-widgets/controls",
            "_view_module_version": "1.5.0",
            "_view_name": "HBoxView",
            "box_style": "",
            "children": [
              "IPY_MODEL_004aeb950b5d4c9b8298e761dbb72c59",
              "IPY_MODEL_14b1d096e2b74f309e8b7e358c605c82",
              "IPY_MODEL_f077a7e6b8d24d628d78a209f5a25ac6"
            ],
            "layout": "IPY_MODEL_ef8270b937314b9494bddf9add7a2f6e"
          }
        },
        "004aeb950b5d4c9b8298e761dbb72c59": {
          "model_module": "@jupyter-widgets/controls",
          "model_name": "HTMLModel",
          "model_module_version": "1.5.0",
          "state": {
            "_dom_classes": [],
            "_model_module": "@jupyter-widgets/controls",
            "_model_module_version": "1.5.0",
            "_model_name": "HTMLModel",
            "_view_count": null,
            "_view_module": "@jupyter-widgets/controls",
            "_view_module_version": "1.5.0",
            "_view_name": "HTMLView",
            "description": "",
            "description_tooltip": null,
            "layout": "IPY_MODEL_d7550dc580cc4de189c62e3ced125749",
            "placeholder": "​",
            "style": "IPY_MODEL_1bbd9d0536df4c67930dba179aa2c67a",
            "value": "tokenizer.json: "
          }
        },
        "14b1d096e2b74f309e8b7e358c605c82": {
          "model_module": "@jupyter-widgets/controls",
          "model_name": "FloatProgressModel",
          "model_module_version": "1.5.0",
          "state": {
            "_dom_classes": [],
            "_model_module": "@jupyter-widgets/controls",
            "_model_module_version": "1.5.0",
            "_model_name": "FloatProgressModel",
            "_view_count": null,
            "_view_module": "@jupyter-widgets/controls",
            "_view_module_version": "1.5.0",
            "_view_name": "ProgressView",
            "bar_style": "success",
            "description": "",
            "description_tooltip": null,
            "layout": "IPY_MODEL_23e2fdf356c24916ad1243ce3f5dfcf2",
            "max": 1,
            "min": 0,
            "orientation": "horizontal",
            "style": "IPY_MODEL_4bb5f6aa698a45eaa45c8eb01f9860f9",
            "value": 1
          }
        },
        "f077a7e6b8d24d628d78a209f5a25ac6": {
          "model_module": "@jupyter-widgets/controls",
          "model_name": "HTMLModel",
          "model_module_version": "1.5.0",
          "state": {
            "_dom_classes": [],
            "_model_module": "@jupyter-widgets/controls",
            "_model_module_version": "1.5.0",
            "_model_name": "HTMLModel",
            "_view_count": null,
            "_view_module": "@jupyter-widgets/controls",
            "_view_module_version": "1.5.0",
            "_view_name": "HTMLView",
            "description": "",
            "description_tooltip": null,
            "layout": "IPY_MODEL_b5e70ca5513449dc96ccc8029fd36ed8",
            "placeholder": "​",
            "style": "IPY_MODEL_aa52b53c1b0d4b21b37c38b85c7965a3",
            "value": " 2.13M/? [00:00&lt;00:00, 25.2MB/s]"
          }
        },
        "ef8270b937314b9494bddf9add7a2f6e": {
          "model_module": "@jupyter-widgets/base",
          "model_name": "LayoutModel",
          "model_module_version": "1.2.0",
          "state": {
            "_model_module": "@jupyter-widgets/base",
            "_model_module_version": "1.2.0",
            "_model_name": "LayoutModel",
            "_view_count": null,
            "_view_module": "@jupyter-widgets/base",
            "_view_module_version": "1.2.0",
            "_view_name": "LayoutView",
            "align_content": null,
            "align_items": null,
            "align_self": null,
            "border": null,
            "bottom": null,
            "display": null,
            "flex": null,
            "flex_flow": null,
            "grid_area": null,
            "grid_auto_columns": null,
            "grid_auto_flow": null,
            "grid_auto_rows": null,
            "grid_column": null,
            "grid_gap": null,
            "grid_row": null,
            "grid_template_areas": null,
            "grid_template_columns": null,
            "grid_template_rows": null,
            "height": null,
            "justify_content": null,
            "justify_items": null,
            "left": null,
            "margin": null,
            "max_height": null,
            "max_width": null,
            "min_height": null,
            "min_width": null,
            "object_fit": null,
            "object_position": null,
            "order": null,
            "overflow": null,
            "overflow_x": null,
            "overflow_y": null,
            "padding": null,
            "right": null,
            "top": null,
            "visibility": null,
            "width": null
          }
        },
        "d7550dc580cc4de189c62e3ced125749": {
          "model_module": "@jupyter-widgets/base",
          "model_name": "LayoutModel",
          "model_module_version": "1.2.0",
          "state": {
            "_model_module": "@jupyter-widgets/base",
            "_model_module_version": "1.2.0",
            "_model_name": "LayoutModel",
            "_view_count": null,
            "_view_module": "@jupyter-widgets/base",
            "_view_module_version": "1.2.0",
            "_view_name": "LayoutView",
            "align_content": null,
            "align_items": null,
            "align_self": null,
            "border": null,
            "bottom": null,
            "display": null,
            "flex": null,
            "flex_flow": null,
            "grid_area": null,
            "grid_auto_columns": null,
            "grid_auto_flow": null,
            "grid_auto_rows": null,
            "grid_column": null,
            "grid_gap": null,
            "grid_row": null,
            "grid_template_areas": null,
            "grid_template_columns": null,
            "grid_template_rows": null,
            "height": null,
            "justify_content": null,
            "justify_items": null,
            "left": null,
            "margin": null,
            "max_height": null,
            "max_width": null,
            "min_height": null,
            "min_width": null,
            "object_fit": null,
            "object_position": null,
            "order": null,
            "overflow": null,
            "overflow_x": null,
            "overflow_y": null,
            "padding": null,
            "right": null,
            "top": null,
            "visibility": null,
            "width": null
          }
        },
        "1bbd9d0536df4c67930dba179aa2c67a": {
          "model_module": "@jupyter-widgets/controls",
          "model_name": "DescriptionStyleModel",
          "model_module_version": "1.5.0",
          "state": {
            "_model_module": "@jupyter-widgets/controls",
            "_model_module_version": "1.5.0",
            "_model_name": "DescriptionStyleModel",
            "_view_count": null,
            "_view_module": "@jupyter-widgets/base",
            "_view_module_version": "1.2.0",
            "_view_name": "StyleView",
            "description_width": ""
          }
        },
        "23e2fdf356c24916ad1243ce3f5dfcf2": {
          "model_module": "@jupyter-widgets/base",
          "model_name": "LayoutModel",
          "model_module_version": "1.2.0",
          "state": {
            "_model_module": "@jupyter-widgets/base",
            "_model_module_version": "1.2.0",
            "_model_name": "LayoutModel",
            "_view_count": null,
            "_view_module": "@jupyter-widgets/base",
            "_view_module_version": "1.2.0",
            "_view_name": "LayoutView",
            "align_content": null,
            "align_items": null,
            "align_self": null,
            "border": null,
            "bottom": null,
            "display": null,
            "flex": null,
            "flex_flow": null,
            "grid_area": null,
            "grid_auto_columns": null,
            "grid_auto_flow": null,
            "grid_auto_rows": null,
            "grid_column": null,
            "grid_gap": null,
            "grid_row": null,
            "grid_template_areas": null,
            "grid_template_columns": null,
            "grid_template_rows": null,
            "height": null,
            "justify_content": null,
            "justify_items": null,
            "left": null,
            "margin": null,
            "max_height": null,
            "max_width": null,
            "min_height": null,
            "min_width": null,
            "object_fit": null,
            "object_position": null,
            "order": null,
            "overflow": null,
            "overflow_x": null,
            "overflow_y": null,
            "padding": null,
            "right": null,
            "top": null,
            "visibility": null,
            "width": "20px"
          }
        },
        "4bb5f6aa698a45eaa45c8eb01f9860f9": {
          "model_module": "@jupyter-widgets/controls",
          "model_name": "ProgressStyleModel",
          "model_module_version": "1.5.0",
          "state": {
            "_model_module": "@jupyter-widgets/controls",
            "_model_module_version": "1.5.0",
            "_model_name": "ProgressStyleModel",
            "_view_count": null,
            "_view_module": "@jupyter-widgets/base",
            "_view_module_version": "1.2.0",
            "_view_name": "StyleView",
            "bar_color": null,
            "description_width": ""
          }
        },
        "b5e70ca5513449dc96ccc8029fd36ed8": {
          "model_module": "@jupyter-widgets/base",
          "model_name": "LayoutModel",
          "model_module_version": "1.2.0",
          "state": {
            "_model_module": "@jupyter-widgets/base",
            "_model_module_version": "1.2.0",
            "_model_name": "LayoutModel",
            "_view_count": null,
            "_view_module": "@jupyter-widgets/base",
            "_view_module_version": "1.2.0",
            "_view_name": "LayoutView",
            "align_content": null,
            "align_items": null,
            "align_self": null,
            "border": null,
            "bottom": null,
            "display": null,
            "flex": null,
            "flex_flow": null,
            "grid_area": null,
            "grid_auto_columns": null,
            "grid_auto_flow": null,
            "grid_auto_rows": null,
            "grid_column": null,
            "grid_gap": null,
            "grid_row": null,
            "grid_template_areas": null,
            "grid_template_columns": null,
            "grid_template_rows": null,
            "height": null,
            "justify_content": null,
            "justify_items": null,
            "left": null,
            "margin": null,
            "max_height": null,
            "max_width": null,
            "min_height": null,
            "min_width": null,
            "object_fit": null,
            "object_position": null,
            "order": null,
            "overflow": null,
            "overflow_x": null,
            "overflow_y": null,
            "padding": null,
            "right": null,
            "top": null,
            "visibility": null,
            "width": null
          }
        },
        "aa52b53c1b0d4b21b37c38b85c7965a3": {
          "model_module": "@jupyter-widgets/controls",
          "model_name": "DescriptionStyleModel",
          "model_module_version": "1.5.0",
          "state": {
            "_model_module": "@jupyter-widgets/controls",
            "_model_module_version": "1.5.0",
            "_model_name": "DescriptionStyleModel",
            "_view_count": null,
            "_view_module": "@jupyter-widgets/base",
            "_view_module_version": "1.2.0",
            "_view_name": "StyleView",
            "description_width": ""
          }
        },
        "c04d275259d74c57974be6e03ff93dfc": {
          "model_module": "@jupyter-widgets/controls",
          "model_name": "HBoxModel",
          "model_module_version": "1.5.0",
          "state": {
            "_dom_classes": [],
            "_model_module": "@jupyter-widgets/controls",
            "_model_module_version": "1.5.0",
            "_model_name": "HBoxModel",
            "_view_count": null,
            "_view_module": "@jupyter-widgets/controls",
            "_view_module_version": "1.5.0",
            "_view_name": "HBoxView",
            "box_style": "",
            "children": [
              "IPY_MODEL_05917ba1e5834f7a86196560002501a9",
              "IPY_MODEL_0ea0e2bdbd2146f890f9962ddc2d7118",
              "IPY_MODEL_403ba94dab85446d8c28092770bed4d1"
            ],
            "layout": "IPY_MODEL_6a946ec230c34387b36284d4be88054e"
          }
        },
        "05917ba1e5834f7a86196560002501a9": {
          "model_module": "@jupyter-widgets/controls",
          "model_name": "HTMLModel",
          "model_module_version": "1.5.0",
          "state": {
            "_dom_classes": [],
            "_model_module": "@jupyter-widgets/controls",
            "_model_module_version": "1.5.0",
            "_model_name": "HTMLModel",
            "_view_count": null,
            "_view_module": "@jupyter-widgets/controls",
            "_view_module_version": "1.5.0",
            "_view_name": "HTMLView",
            "description": "",
            "description_tooltip": null,
            "layout": "IPY_MODEL_1ebe7034ec2443bc91746bb6896d78b4",
            "placeholder": "​",
            "style": "IPY_MODEL_8df27f247dbe41c6aa3c8580c3170ed5",
            "value": "model.bin: 100%"
          }
        },
        "0ea0e2bdbd2146f890f9962ddc2d7118": {
          "model_module": "@jupyter-widgets/controls",
          "model_name": "FloatProgressModel",
          "model_module_version": "1.5.0",
          "state": {
            "_dom_classes": [],
            "_model_module": "@jupyter-widgets/controls",
            "_model_module_version": "1.5.0",
            "_model_name": "FloatProgressModel",
            "_view_count": null,
            "_view_module": "@jupyter-widgets/controls",
            "_view_module_version": "1.5.0",
            "_view_name": "ProgressView",
            "bar_style": "success",
            "description": "",
            "description_tooltip": null,
            "layout": "IPY_MODEL_5f949e736662449ba18f996d47d72ba1",
            "max": 75537502,
            "min": 0,
            "orientation": "horizontal",
            "style": "IPY_MODEL_38fc7b8d41394bdc995c3a0caf3c498c",
            "value": 75537502
          }
        },
        "403ba94dab85446d8c28092770bed4d1": {
          "model_module": "@jupyter-widgets/controls",
          "model_name": "HTMLModel",
          "model_module_version": "1.5.0",
          "state": {
            "_dom_classes": [],
            "_model_module": "@jupyter-widgets/controls",
            "_model_module_version": "1.5.0",
            "_model_name": "HTMLModel",
            "_view_count": null,
            "_view_module": "@jupyter-widgets/controls",
            "_view_module_version": "1.5.0",
            "_view_name": "HTMLView",
            "description": "",
            "description_tooltip": null,
            "layout": "IPY_MODEL_a378b884fcfb42bf83350a3ff6dfc693",
            "placeholder": "​",
            "style": "IPY_MODEL_435e2415ea084bdeb068186acc954587",
            "value": " 75.5M/75.5M [00:01&lt;00:00, 92.0MB/s]"
          }
        },
        "6a946ec230c34387b36284d4be88054e": {
          "model_module": "@jupyter-widgets/base",
          "model_name": "LayoutModel",
          "model_module_version": "1.2.0",
          "state": {
            "_model_module": "@jupyter-widgets/base",
            "_model_module_version": "1.2.0",
            "_model_name": "LayoutModel",
            "_view_count": null,
            "_view_module": "@jupyter-widgets/base",
            "_view_module_version": "1.2.0",
            "_view_name": "LayoutView",
            "align_content": null,
            "align_items": null,
            "align_self": null,
            "border": null,
            "bottom": null,
            "display": null,
            "flex": null,
            "flex_flow": null,
            "grid_area": null,
            "grid_auto_columns": null,
            "grid_auto_flow": null,
            "grid_auto_rows": null,
            "grid_column": null,
            "grid_gap": null,
            "grid_row": null,
            "grid_template_areas": null,
            "grid_template_columns": null,
            "grid_template_rows": null,
            "height": null,
            "justify_content": null,
            "justify_items": null,
            "left": null,
            "margin": null,
            "max_height": null,
            "max_width": null,
            "min_height": null,
            "min_width": null,
            "object_fit": null,
            "object_position": null,
            "order": null,
            "overflow": null,
            "overflow_x": null,
            "overflow_y": null,
            "padding": null,
            "right": null,
            "top": null,
            "visibility": null,
            "width": null
          }
        },
        "1ebe7034ec2443bc91746bb6896d78b4": {
          "model_module": "@jupyter-widgets/base",
          "model_name": "LayoutModel",
          "model_module_version": "1.2.0",
          "state": {
            "_model_module": "@jupyter-widgets/base",
            "_model_module_version": "1.2.0",
            "_model_name": "LayoutModel",
            "_view_count": null,
            "_view_module": "@jupyter-widgets/base",
            "_view_module_version": "1.2.0",
            "_view_name": "LayoutView",
            "align_content": null,
            "align_items": null,
            "align_self": null,
            "border": null,
            "bottom": null,
            "display": null,
            "flex": null,
            "flex_flow": null,
            "grid_area": null,
            "grid_auto_columns": null,
            "grid_auto_flow": null,
            "grid_auto_rows": null,
            "grid_column": null,
            "grid_gap": null,
            "grid_row": null,
            "grid_template_areas": null,
            "grid_template_columns": null,
            "grid_template_rows": null,
            "height": null,
            "justify_content": null,
            "justify_items": null,
            "left": null,
            "margin": null,
            "max_height": null,
            "max_width": null,
            "min_height": null,
            "min_width": null,
            "object_fit": null,
            "object_position": null,
            "order": null,
            "overflow": null,
            "overflow_x": null,
            "overflow_y": null,
            "padding": null,
            "right": null,
            "top": null,
            "visibility": null,
            "width": null
          }
        },
        "8df27f247dbe41c6aa3c8580c3170ed5": {
          "model_module": "@jupyter-widgets/controls",
          "model_name": "DescriptionStyleModel",
          "model_module_version": "1.5.0",
          "state": {
            "_model_module": "@jupyter-widgets/controls",
            "_model_module_version": "1.5.0",
            "_model_name": "DescriptionStyleModel",
            "_view_count": null,
            "_view_module": "@jupyter-widgets/base",
            "_view_module_version": "1.2.0",
            "_view_name": "StyleView",
            "description_width": ""
          }
        },
        "5f949e736662449ba18f996d47d72ba1": {
          "model_module": "@jupyter-widgets/base",
          "model_name": "LayoutModel",
          "model_module_version": "1.2.0",
          "state": {
            "_model_module": "@jupyter-widgets/base",
            "_model_module_version": "1.2.0",
            "_model_name": "LayoutModel",
            "_view_count": null,
            "_view_module": "@jupyter-widgets/base",
            "_view_module_version": "1.2.0",
            "_view_name": "LayoutView",
            "align_content": null,
            "align_items": null,
            "align_self": null,
            "border": null,
            "bottom": null,
            "display": null,
            "flex": null,
            "flex_flow": null,
            "grid_area": null,
            "grid_auto_columns": null,
            "grid_auto_flow": null,
            "grid_auto_rows": null,
            "grid_column": null,
            "grid_gap": null,
            "grid_row": null,
            "grid_template_areas": null,
            "grid_template_columns": null,
            "grid_template_rows": null,
            "height": null,
            "justify_content": null,
            "justify_items": null,
            "left": null,
            "margin": null,
            "max_height": null,
            "max_width": null,
            "min_height": null,
            "min_width": null,
            "object_fit": null,
            "object_position": null,
            "order": null,
            "overflow": null,
            "overflow_x": null,
            "overflow_y": null,
            "padding": null,
            "right": null,
            "top": null,
            "visibility": null,
            "width": null
          }
        },
        "38fc7b8d41394bdc995c3a0caf3c498c": {
          "model_module": "@jupyter-widgets/controls",
          "model_name": "ProgressStyleModel",
          "model_module_version": "1.5.0",
          "state": {
            "_model_module": "@jupyter-widgets/controls",
            "_model_module_version": "1.5.0",
            "_model_name": "ProgressStyleModel",
            "_view_count": null,
            "_view_module": "@jupyter-widgets/base",
            "_view_module_version": "1.2.0",
            "_view_name": "StyleView",
            "bar_color": null,
            "description_width": ""
          }
        },
        "a378b884fcfb42bf83350a3ff6dfc693": {
          "model_module": "@jupyter-widgets/base",
          "model_name": "LayoutModel",
          "model_module_version": "1.2.0",
          "state": {
            "_model_module": "@jupyter-widgets/base",
            "_model_module_version": "1.2.0",
            "_model_name": "LayoutModel",
            "_view_count": null,
            "_view_module": "@jupyter-widgets/base",
            "_view_module_version": "1.2.0",
            "_view_name": "LayoutView",
            "align_content": null,
            "align_items": null,
            "align_self": null,
            "border": null,
            "bottom": null,
            "display": null,
            "flex": null,
            "flex_flow": null,
            "grid_area": null,
            "grid_auto_columns": null,
            "grid_auto_flow": null,
            "grid_auto_rows": null,
            "grid_column": null,
            "grid_gap": null,
            "grid_row": null,
            "grid_template_areas": null,
            "grid_template_columns": null,
            "grid_template_rows": null,
            "height": null,
            "justify_content": null,
            "justify_items": null,
            "left": null,
            "margin": null,
            "max_height": null,
            "max_width": null,
            "min_height": null,
            "min_width": null,
            "object_fit": null,
            "object_position": null,
            "order": null,
            "overflow": null,
            "overflow_x": null,
            "overflow_y": null,
            "padding": null,
            "right": null,
            "top": null,
            "visibility": null,
            "width": null
          }
        },
        "435e2415ea084bdeb068186acc954587": {
          "model_module": "@jupyter-widgets/controls",
          "model_name": "DescriptionStyleModel",
          "model_module_version": "1.5.0",
          "state": {
            "_model_module": "@jupyter-widgets/controls",
            "_model_module_version": "1.5.0",
            "_model_name": "DescriptionStyleModel",
            "_view_count": null,
            "_view_module": "@jupyter-widgets/base",
            "_view_module_version": "1.2.0",
            "_view_name": "StyleView",
            "description_width": ""
          }
        }
      }
    }
  },
  "cells": [
    {
      "cell_type": "markdown",
      "metadata": {
        "id": "view-in-github",
        "colab_type": "text"
      },
      "source": [
        "<a href=\"https://colab.research.google.com/github/Likithapuvvula/task_dhivehi/blob/main/Untitled0.ipynb\" target=\"_parent\"><img src=\"https://colab.research.google.com/assets/colab-badge.svg\" alt=\"Open In Colab\"/></a>"
      ]
    },
    {
      "cell_type": "code",
      "source": [
        "!fusermount -u /content/drive\n",
        "!rm -rf /content/drive\n"
      ],
      "metadata": {
        "colab": {
          "base_uri": "https://localhost:8080/"
        },
        "id": "hh2Yb6UcP51P",
        "outputId": "8b1b1b71-a6c8-44ed-ebdb-df993a72dd86"
      },
      "execution_count": null,
      "outputs": [
        {
          "output_type": "stream",
          "name": "stdout",
          "text": [
            "fusermount: failed to unmount /content/drive: Invalid argument\n"
          ]
        }
      ]
    },
    {
      "cell_type": "code",
      "source": [
        "from google.colab import drive\n",
        "drive.mount('/content/drive', force_remount=True)\n"
      ],
      "metadata": {
        "colab": {
          "base_uri": "https://localhost:8080/",
          "height": 304
        },
        "id": "u1XJ6Q77QKG5",
        "outputId": "11682f72-a1c8-4cf8-d292-eef8535f16c2"
      },
      "execution_count": null,
      "outputs": [
        {
          "output_type": "error",
          "ename": "ValueError",
          "evalue": "mount failed",
          "traceback": [
            "\u001b[0;31m---------------------------------------------------------------------------\u001b[0m",
            "\u001b[0;31mValueError\u001b[0m                                Traceback (most recent call last)",
            "\u001b[0;32m/tmp/ipython-input-655143678.py\u001b[0m in \u001b[0;36m<cell line: 0>\u001b[0;34m()\u001b[0m\n\u001b[1;32m      1\u001b[0m \u001b[0;32mfrom\u001b[0m \u001b[0mgoogle\u001b[0m\u001b[0;34m.\u001b[0m\u001b[0mcolab\u001b[0m \u001b[0;32mimport\u001b[0m \u001b[0mdrive\u001b[0m\u001b[0;34m\u001b[0m\u001b[0;34m\u001b[0m\u001b[0m\n\u001b[0;32m----> 2\u001b[0;31m \u001b[0mdrive\u001b[0m\u001b[0;34m.\u001b[0m\u001b[0mmount\u001b[0m\u001b[0;34m(\u001b[0m\u001b[0;34m'/content/drive'\u001b[0m\u001b[0;34m,\u001b[0m \u001b[0mforce_remount\u001b[0m\u001b[0;34m=\u001b[0m\u001b[0;32mTrue\u001b[0m\u001b[0;34m)\u001b[0m\u001b[0;34m\u001b[0m\u001b[0;34m\u001b[0m\u001b[0m\n\u001b[0m",
            "\u001b[0;32m/usr/local/lib/python3.12/dist-packages/google/colab/drive.py\u001b[0m in \u001b[0;36mmount\u001b[0;34m(mountpoint, force_remount, timeout_ms, readonly)\u001b[0m\n\u001b[1;32m     95\u001b[0m \u001b[0;32mdef\u001b[0m \u001b[0mmount\u001b[0m\u001b[0;34m(\u001b[0m\u001b[0mmountpoint\u001b[0m\u001b[0;34m,\u001b[0m \u001b[0mforce_remount\u001b[0m\u001b[0;34m=\u001b[0m\u001b[0;32mFalse\u001b[0m\u001b[0;34m,\u001b[0m \u001b[0mtimeout_ms\u001b[0m\u001b[0;34m=\u001b[0m\u001b[0;36m120000\u001b[0m\u001b[0;34m,\u001b[0m \u001b[0mreadonly\u001b[0m\u001b[0;34m=\u001b[0m\u001b[0;32mFalse\u001b[0m\u001b[0;34m)\u001b[0m\u001b[0;34m:\u001b[0m\u001b[0;34m\u001b[0m\u001b[0;34m\u001b[0m\u001b[0m\n\u001b[1;32m     96\u001b[0m   \u001b[0;34m\"\"\"Mount your Google Drive at the specified mountpoint path.\"\"\"\u001b[0m\u001b[0;34m\u001b[0m\u001b[0;34m\u001b[0m\u001b[0m\n\u001b[0;32m---> 97\u001b[0;31m   return _mount(\n\u001b[0m\u001b[1;32m     98\u001b[0m       \u001b[0mmountpoint\u001b[0m\u001b[0;34m,\u001b[0m\u001b[0;34m\u001b[0m\u001b[0;34m\u001b[0m\u001b[0m\n\u001b[1;32m     99\u001b[0m       \u001b[0mforce_remount\u001b[0m\u001b[0;34m=\u001b[0m\u001b[0mforce_remount\u001b[0m\u001b[0;34m,\u001b[0m\u001b[0;34m\u001b[0m\u001b[0;34m\u001b[0m\u001b[0m\n",
            "\u001b[0;32m/usr/local/lib/python3.12/dist-packages/google/colab/drive.py\u001b[0m in \u001b[0;36m_mount\u001b[0;34m(mountpoint, force_remount, timeout_ms, ephemeral, readonly)\u001b[0m\n\u001b[1;32m    270\u001b[0m             \u001b[0;34m'https://research.google.com/colaboratory/faq.html#drive-timeout'\u001b[0m\u001b[0;34m\u001b[0m\u001b[0;34m\u001b[0m\u001b[0m\n\u001b[1;32m    271\u001b[0m         )\n\u001b[0;32m--> 272\u001b[0;31m       \u001b[0;32mraise\u001b[0m \u001b[0mValueError\u001b[0m\u001b[0;34m(\u001b[0m\u001b[0;34m'mount failed'\u001b[0m \u001b[0;34m+\u001b[0m \u001b[0mextra_reason\u001b[0m\u001b[0;34m)\u001b[0m\u001b[0;34m\u001b[0m\u001b[0;34m\u001b[0m\u001b[0m\n\u001b[0m\u001b[1;32m    273\u001b[0m     \u001b[0;32melif\u001b[0m \u001b[0mcase\u001b[0m \u001b[0;34m==\u001b[0m \u001b[0;36m4\u001b[0m\u001b[0;34m:\u001b[0m\u001b[0;34m\u001b[0m\u001b[0;34m\u001b[0m\u001b[0m\n\u001b[1;32m    274\u001b[0m       \u001b[0;31m# Terminate the DriveFS binary before killing bash.\u001b[0m\u001b[0;34m\u001b[0m\u001b[0;34m\u001b[0m\u001b[0m\n",
            "\u001b[0;31mValueError\u001b[0m: mount failed"
          ]
        }
      ]
    },
    {
      "cell_type": "code",
      "source": [
        "import os\n",
        "# Search for the folder\n",
        "for root, dirs, files in os.walk('/content/drive'):\n",
        "    if 'task_dhivehi' in dirs:\n",
        "        print(\"Found:\", os.path.join(root, 'task_dhivehi'))\n"
      ],
      "metadata": {
        "colab": {
          "base_uri": "https://localhost:8080/"
        },
        "id": "7kWGhn5uSRtZ",
        "outputId": "909c3f0f-860a-450b-8cb0-0144c63543ec"
      },
      "execution_count": null,
      "outputs": [
        {
          "output_type": "stream",
          "name": "stdout",
          "text": [
            "Found: /content/drive/.shortcut-targets-by-id/1ox4jWsPwq0XCxKdaYPUlVbVqLV3xkfJl/task_dhivehi\n",
            "Found: /content/drive/.shortcut-targets-by-id/1ox4jWsPwq0XCxKdaYPUlVbVqLV3xkfJl/task_dhivehi/audios/task_dhivehi\n",
            "Found: /content/drive/.shortcut-targets-by-id/1ox4jWsPwq0XCxKdaYPUlVbVqLV3xkfJl/task_dhivehi/chunks/task_dhivehi\n",
            "Found: /content/drive/.shortcut-targets-by-id/1ox4jWsPwq0XCxKdaYPUlVbVqLV3xkfJl/task_dhivehi/transcriptions/task_dhivehi\n",
            "Found: /content/drive/.Encrypted/.shortcut-targets-by-id/1ox4jWsPwq0XCxKdaYPUlVbVqLV3xkfJl/task_dhivehi\n"
          ]
        }
      ]
    },
    {
      "cell_type": "code",
      "source": [
        "import os\n",
        "import shutil\n",
        "\n",
        "OUTPUT_FOLDER = \"/content/drive/MyDrive/task_dhivehi/translated_txt\"\n",
        "\n",
        "# ⚠️ Delete the folder and recreate it\n",
        "if os.path.exists(OUTPUT_FOLDER):\n",
        "    shutil.rmtree(OUTPUT_FOLDER)\n",
        "os.makedirs(OUTPUT_FOLDER, exist_ok=True)\n",
        "\n",
        "print(\"🧹 Translation folder cleared:\", OUTPUT_FOLDER)\n"
      ],
      "metadata": {
        "colab": {
          "base_uri": "https://localhost:8080/"
        },
        "id": "5PEf7H2cPdMG",
        "outputId": "f22be314-0c68-48c4-e6ce-9d80be1bb13a"
      },
      "execution_count": null,
      "outputs": [
        {
          "output_type": "stream",
          "name": "stdout",
          "text": [
            "🧹 Translation folder cleared: /content/drive/MyDrive/task_dhivehi/translated_txt\n"
          ]
        }
      ]
    },
    {
      "cell_type": "code",
      "source": [
        "# ✅ Install Whisper + dependencies\n",
        "!pip install -q git+https://github.com/openai/whisper.git\n",
        "!pip install -q tqdm\n",
        "\n"
      ],
      "metadata": {
        "colab": {
          "base_uri": "https://localhost:8080/"
        },
        "id": "ImDH3uqWRnCV",
        "outputId": "0a1ce1b6-a0cd-446f-d7ab-6922bbb7f014"
      },
      "execution_count": null,
      "outputs": [
        {
          "output_type": "stream",
          "name": "stdout",
          "text": [
            "  Installing build dependencies ... \u001b[?25l\u001b[?25hdone\n",
            "  Getting requirements to build wheel ... \u001b[?25l\u001b[?25hdone\n",
            "  Preparing metadata (pyproject.toml) ... \u001b[?25l\u001b[?25hdone\n",
            "  Building wheel for openai-whisper (pyproject.toml) ... \u001b[?25l\u001b[?25hdone\n"
          ]
        }
      ]
    },
    {
      "cell_type": "code",
      "execution_count": null,
      "metadata": {
        "colab": {
          "base_uri": "https://localhost:8080/"
        },
        "id": "vBzIwoy6PI_x",
        "outputId": "52460fa7-5fd2-45a9-bcc5-4298105c26ed"
      },
      "outputs": [
        {
          "output_type": "stream",
          "name": "stdout",
          "text": [
            "🧹 Translation folder cleared: /content/drive/.shortcut-targets-by-id/1ox4jWsPwq0XCxKdaYPUlVbVqLV3xkfJl/task_dhivehi/translated_txt/\n"
          ]
        }
      ],
      "source": [
        "import os\n",
        "import shutil\n",
        "\n",
        "OUTPUT_FOLDER = \"/content/drive/.shortcut-targets-by-id/1ox4jWsPwq0XCxKdaYPUlVbVqLV3xkfJl/task_dhivehi/translated_txt/\"\n",
        "\n",
        "\n",
        "# ⚠️ Delete the folder and recreate it\n",
        "if os.path.exists(OUTPUT_FOLDER):\n",
        "    shutil.rmtree(OUTPUT_FOLDER)\n",
        "os.makedirs(OUTPUT_FOLDER, exist_ok=True)\n",
        "\n",
        "print(\"🧹 Translation folder cleared:\", OUTPUT_FOLDER)\n"
      ]
    },
    {
      "cell_type": "code",
      "source": [
        "import torch\n",
        "\n",
        "if torch.cuda.is_available():\n",
        "    print(f\"GPU: {torch.cuda.get_device_name(0)}\")\n",
        "    print(f\"Total VRAM: {torch.cuda.get_device_properties(0).total_memory / 1e9:.2f} GB\")\n",
        "    print(f\"Allocated: {torch.cuda.memory_allocated(0) / 1e9:.2f} GB\")\n",
        "    print(f\"Cached: {torch.cuda.memory_reserved(0) / 1e9:.2f} GB\")\n",
        "else:\n",
        "    print(\"No GPU available\")\n"
      ],
      "metadata": {
        "colab": {
          "base_uri": "https://localhost:8080/"
        },
        "id": "MKbWxY8Kb2_1",
        "outputId": "4a8024d5-c5f3-4477-f940-c14d124d3ea0"
      },
      "execution_count": null,
      "outputs": [
        {
          "output_type": "stream",
          "name": "stdout",
          "text": [
            "No GPU available\n"
          ]
        }
      ]
    },
    {
      "cell_type": "code",
      "source": [
        "!mkdir -p /content/drive\n"
      ],
      "metadata": {
        "id": "my-eEFQUcTXR"
      },
      "execution_count": null,
      "outputs": []
    },
    {
      "cell_type": "code",
      "source": [
        "from google.colab import drive\n",
        "drive.mount('/content/drive', force_remount=True)\n"
      ],
      "metadata": {
        "colab": {
          "base_uri": "https://localhost:8080/"
        },
        "id": "ekmPjcvFceO6",
        "outputId": "ea5a8236-ec05-4464-c1d5-b07b5c4bfc78"
      },
      "execution_count": null,
      "outputs": [
        {
          "output_type": "stream",
          "name": "stdout",
          "text": [
            "Mounted at /content/drive\n"
          ]
        }
      ]
    },
    {
      "cell_type": "code",
      "source": [
        "import os\n",
        "\n",
        "BASE = \"/content/drive/MyDrive/task_dhivehi\"\n",
        "print(\"Base exists?\", os.path.exists(BASE))\n",
        "\n",
        "if not os.path.exists(BASE):\n",
        "    raise FileNotFoundError(f\"{BASE} does not exist!\")\n",
        "\n",
        "# List top-level folders\n",
        "print(\"Folders/files in task_dhivehi:\")\n",
        "for f in os.listdir(BASE):\n",
        "    print(\"-\", f)\n",
        "\n",
        "# Recursively list all subfolders and files\n",
        "print(\"\\nRecursive folder structure:\")\n",
        "for root, dirs, files in os.walk(BASE):\n",
        "    print(\"\\nFolder:\", root)\n"
      ],
      "metadata": {
        "colab": {
          "base_uri": "https://localhost:8080/"
        },
        "id": "53r17CcLcmer",
        "outputId": "8c838160-ae23-492f-a2a4-75dd3d914cf1"
      },
      "execution_count": null,
      "outputs": [
        {
          "output_type": "stream",
          "name": "stdout",
          "text": [
            "Base exists? True\n",
            "Folders/files in task_dhivehi:\n",
            "- audios\n",
            "- chunks\n",
            "- transcriptions\n",
            "- transcriptions_cleaned\n",
            "- translated_txt\n",
            "\n",
            "Recursive folder structure:\n",
            "\n",
            "Folder: /content/drive/MyDrive/task_dhivehi\n",
            "\n",
            "Folder: /content/drive/MyDrive/task_dhivehi/audios\n",
            "\n",
            "Folder: /content/drive/MyDrive/task_dhivehi/chunks\n",
            "\n",
            "Folder: /content/drive/MyDrive/task_dhivehi/transcriptions\n",
            "\n",
            "Folder: /content/drive/MyDrive/task_dhivehi/transcriptions_cleaned\n",
            "\n",
            "Folder: /content/drive/MyDrive/task_dhivehi/translated_txt\n"
          ]
        }
      ]
    },
    {
      "cell_type": "code",
      "source": [
        "!pip install --upgrade --quiet git+https://github.com/openai/whisper.git\n",
        "!pip install --quiet setuptools wheel  # ensures no build issues\n"
      ],
      "metadata": {
        "colab": {
          "base_uri": "https://localhost:8080/"
        },
        "id": "iyVecuXDja7e",
        "outputId": "c0a78636-1ece-4fc4-fdb3-4c2ecc85c984"
      },
      "execution_count": null,
      "outputs": [
        {
          "output_type": "stream",
          "name": "stdout",
          "text": [
            "  Installing build dependencies ... \u001b[?25l\u001b[?25hdone\n",
            "  Getting requirements to build wheel ... \u001b[?25l\u001b[?25hdone\n",
            "  Preparing metadata (pyproject.toml) ... \u001b[?25l\u001b[?25hdone\n",
            "  Building wheel for openai-whisper (pyproject.toml) ... \u001b[?25l\u001b[?25hdone\n"
          ]
        }
      ]
    },
    {
      "cell_type": "code",
      "source": [
        "!apt-get install -y ffmpeg\n"
      ],
      "metadata": {
        "colab": {
          "base_uri": "https://localhost:8080/"
        },
        "id": "MSGq4g5YjhNZ",
        "outputId": "e6429516-283a-442e-b42b-a5bff2d0ad22"
      },
      "execution_count": null,
      "outputs": [
        {
          "output_type": "stream",
          "name": "stdout",
          "text": [
            "Reading package lists... Done\n",
            "Building dependency tree... Done\n",
            "Reading state information... Done\n",
            "ffmpeg is already the newest version (7:4.4.2-0ubuntu0.22.04.1).\n",
            "0 upgraded, 0 newly installed, 0 to remove and 35 not upgraded.\n"
          ]
        }
      ]
    },
    {
      "cell_type": "code",
      "source": [
        "import torch\n",
        "\n",
        "# Check if GPU is available\n",
        "if torch.cuda.is_available():\n",
        "    device_name = torch.cuda.get_device_name(0)\n",
        "    total_memory = torch.cuda.get_device_properties(0).total_memory / 1e9  # GB\n",
        "    allocated = torch.cuda.memory_allocated(0) / 1e9  # GB\n",
        "    reserved = torch.cuda.memory_reserved(0) / 1e9  # GB\n",
        "    print(f\"✅ GPU available: {device_name}\")\n",
        "    print(f\"Total GPU Memory: {total_memory:.2f} GB\")\n",
        "    print(f\"Memory Allocated: {allocated:.2f} GB\")\n",
        "    print(f\"Memory Reserved: {reserved:.2f} GB\")\n",
        "else:\n",
        "    print(\"❌ GPU not available. Please enable GPU in Runtime settings.\")\n"
      ],
      "metadata": {
        "id": "4czi56TOkSM7",
        "colab": {
          "base_uri": "https://localhost:8080/"
        },
        "outputId": "9a1b7444-8c37-4f38-b700-496ab7ac57d8"
      },
      "execution_count": null,
      "outputs": [
        {
          "output_type": "stream",
          "name": "stdout",
          "text": [
            "✅ GPU available: Tesla T4\n",
            "Total GPU Memory: 15.83 GB\n",
            "Memory Allocated: 0.00 GB\n",
            "Memory Reserved: 0.00 GB\n"
          ]
        }
      ]
    },
    {
      "cell_type": "code",
      "source": [
        "!pip install --upgrade openai-whisper\n",
        "!pip install -U setuptools wheel  # ensures compatibility\n"
      ],
      "metadata": {
        "colab": {
          "base_uri": "https://localhost:8080/",
          "height": 1000
        },
        "id": "t8DS7NTCxCnN",
        "outputId": "1706cca6-32ef-45ab-faad-cbf5dd22a3b4"
      },
      "execution_count": null,
      "outputs": [
        {
          "output_type": "stream",
          "name": "stdout",
          "text": [
            "Collecting openai-whisper\n",
            "  Downloading openai_whisper-20250625.tar.gz (803 kB)\n",
            "\u001b[?25l     \u001b[90m━━━━━━━━━━━━━━━━━━━━━━━━━━━━━━━━━━━━━━━━\u001b[0m \u001b[32m0.0/803.2 kB\u001b[0m \u001b[31m?\u001b[0m eta \u001b[36m-:--:--\u001b[0m\r\u001b[2K     \u001b[91m━━━━━━━━━━━━━━━━━━━━━━━━━━━━━━━━━━━━━\u001b[0m\u001b[91m╸\u001b[0m \u001b[32m798.7/803.2 kB\u001b[0m \u001b[31m25.1 MB/s\u001b[0m eta \u001b[36m0:00:01\u001b[0m\r\u001b[2K     \u001b[90m━━━━━━━━━━━━━━━━━━━━━━━━━━━━━━━━━━━━━━\u001b[0m \u001b[32m803.2/803.2 kB\u001b[0m \u001b[31m18.4 MB/s\u001b[0m eta \u001b[36m0:00:00\u001b[0m\n",
            "\u001b[?25h  Installing build dependencies ... \u001b[?25l\u001b[?25hdone\n",
            "  Getting requirements to build wheel ... \u001b[?25l\u001b[?25hdone\n",
            "  Preparing metadata (pyproject.toml) ... \u001b[?25l\u001b[?25hdone\n",
            "Requirement already satisfied: more-itertools in /usr/local/lib/python3.12/dist-packages (from openai-whisper) (10.8.0)\n",
            "Requirement already satisfied: numba in /usr/local/lib/python3.12/dist-packages (from openai-whisper) (0.60.0)\n",
            "Requirement already satisfied: numpy in /usr/local/lib/python3.12/dist-packages (from openai-whisper) (2.0.2)\n",
            "Requirement already satisfied: tiktoken in /usr/local/lib/python3.12/dist-packages (from openai-whisper) (0.11.0)\n",
            "Requirement already satisfied: torch in /usr/local/lib/python3.12/dist-packages (from openai-whisper) (2.8.0+cu126)\n",
            "Requirement already satisfied: tqdm in /usr/local/lib/python3.12/dist-packages (from openai-whisper) (4.67.1)\n",
            "Requirement already satisfied: triton>=2 in /usr/local/lib/python3.12/dist-packages (from openai-whisper) (3.4.0)\n",
            "Requirement already satisfied: setuptools>=40.8.0 in /usr/local/lib/python3.12/dist-packages (from triton>=2->openai-whisper) (75.2.0)\n",
            "Requirement already satisfied: llvmlite<0.44,>=0.43.0dev0 in /usr/local/lib/python3.12/dist-packages (from numba->openai-whisper) (0.43.0)\n",
            "Requirement already satisfied: regex>=2022.1.18 in /usr/local/lib/python3.12/dist-packages (from tiktoken->openai-whisper) (2024.11.6)\n",
            "Requirement already satisfied: requests>=2.26.0 in /usr/local/lib/python3.12/dist-packages (from tiktoken->openai-whisper) (2.32.4)\n",
            "Requirement already satisfied: filelock in /usr/local/lib/python3.12/dist-packages (from torch->openai-whisper) (3.19.1)\n",
            "Requirement already satisfied: typing-extensions>=4.10.0 in /usr/local/lib/python3.12/dist-packages (from torch->openai-whisper) (4.15.0)\n",
            "Requirement already satisfied: sympy>=1.13.3 in /usr/local/lib/python3.12/dist-packages (from torch->openai-whisper) (1.13.3)\n",
            "Requirement already satisfied: networkx in /usr/local/lib/python3.12/dist-packages (from torch->openai-whisper) (3.5)\n",
            "Requirement already satisfied: jinja2 in /usr/local/lib/python3.12/dist-packages (from torch->openai-whisper) (3.1.6)\n",
            "Requirement already satisfied: fsspec in /usr/local/lib/python3.12/dist-packages (from torch->openai-whisper) (2025.3.0)\n",
            "Requirement already satisfied: nvidia-cuda-nvrtc-cu12==12.6.77 in /usr/local/lib/python3.12/dist-packages (from torch->openai-whisper) (12.6.77)\n",
            "Requirement already satisfied: nvidia-cuda-runtime-cu12==12.6.77 in /usr/local/lib/python3.12/dist-packages (from torch->openai-whisper) (12.6.77)\n",
            "Requirement already satisfied: nvidia-cuda-cupti-cu12==12.6.80 in /usr/local/lib/python3.12/dist-packages (from torch->openai-whisper) (12.6.80)\n",
            "Requirement already satisfied: nvidia-cudnn-cu12==9.10.2.21 in /usr/local/lib/python3.12/dist-packages (from torch->openai-whisper) (9.10.2.21)\n",
            "Requirement already satisfied: nvidia-cublas-cu12==12.6.4.1 in /usr/local/lib/python3.12/dist-packages (from torch->openai-whisper) (12.6.4.1)\n",
            "Requirement already satisfied: nvidia-cufft-cu12==11.3.0.4 in /usr/local/lib/python3.12/dist-packages (from torch->openai-whisper) (11.3.0.4)\n",
            "Requirement already satisfied: nvidia-curand-cu12==10.3.7.77 in /usr/local/lib/python3.12/dist-packages (from torch->openai-whisper) (10.3.7.77)\n",
            "Requirement already satisfied: nvidia-cusolver-cu12==11.7.1.2 in /usr/local/lib/python3.12/dist-packages (from torch->openai-whisper) (11.7.1.2)\n",
            "Requirement already satisfied: nvidia-cusparse-cu12==12.5.4.2 in /usr/local/lib/python3.12/dist-packages (from torch->openai-whisper) (12.5.4.2)\n",
            "Requirement already satisfied: nvidia-cusparselt-cu12==0.7.1 in /usr/local/lib/python3.12/dist-packages (from torch->openai-whisper) (0.7.1)\n",
            "Requirement already satisfied: nvidia-nccl-cu12==2.27.3 in /usr/local/lib/python3.12/dist-packages (from torch->openai-whisper) (2.27.3)\n",
            "Requirement already satisfied: nvidia-nvtx-cu12==12.6.77 in /usr/local/lib/python3.12/dist-packages (from torch->openai-whisper) (12.6.77)\n",
            "Requirement already satisfied: nvidia-nvjitlink-cu12==12.6.85 in /usr/local/lib/python3.12/dist-packages (from torch->openai-whisper) (12.6.85)\n",
            "Requirement already satisfied: nvidia-cufile-cu12==1.11.1.6 in /usr/local/lib/python3.12/dist-packages (from torch->openai-whisper) (1.11.1.6)\n",
            "Requirement already satisfied: charset_normalizer<4,>=2 in /usr/local/lib/python3.12/dist-packages (from requests>=2.26.0->tiktoken->openai-whisper) (3.4.3)\n",
            "Requirement already satisfied: idna<4,>=2.5 in /usr/local/lib/python3.12/dist-packages (from requests>=2.26.0->tiktoken->openai-whisper) (3.10)\n",
            "Requirement already satisfied: urllib3<3,>=1.21.1 in /usr/local/lib/python3.12/dist-packages (from requests>=2.26.0->tiktoken->openai-whisper) (2.5.0)\n",
            "Requirement already satisfied: certifi>=2017.4.17 in /usr/local/lib/python3.12/dist-packages (from requests>=2.26.0->tiktoken->openai-whisper) (2025.8.3)\n",
            "Requirement already satisfied: mpmath<1.4,>=1.1.0 in /usr/local/lib/python3.12/dist-packages (from sympy>=1.13.3->torch->openai-whisper) (1.3.0)\n",
            "Requirement already satisfied: MarkupSafe>=2.0 in /usr/local/lib/python3.12/dist-packages (from jinja2->torch->openai-whisper) (3.0.2)\n",
            "Building wheels for collected packages: openai-whisper\n",
            "  Building wheel for openai-whisper (pyproject.toml) ... \u001b[?25l\u001b[?25hdone\n",
            "  Created wheel for openai-whisper: filename=openai_whisper-20250625-py3-none-any.whl size=803979 sha256=150b535e91225faada66d0a9ed493227c35bfe7ce81e65cf235129a913080bb7\n",
            "  Stored in directory: /root/.cache/pip/wheels/61/d2/20/09ec9bef734d126cba375b15898010b6cc28578d8afdde5869\n",
            "Successfully built openai-whisper\n",
            "Installing collected packages: openai-whisper\n",
            "Successfully installed openai-whisper-20250625\n",
            "Requirement already satisfied: setuptools in /usr/local/lib/python3.12/dist-packages (75.2.0)\n",
            "Collecting setuptools\n",
            "  Using cached setuptools-80.9.0-py3-none-any.whl.metadata (6.6 kB)\n",
            "Requirement already satisfied: wheel in /usr/local/lib/python3.12/dist-packages (0.45.1)\n",
            "Using cached setuptools-80.9.0-py3-none-any.whl (1.2 MB)\n",
            "Installing collected packages: setuptools\n",
            "  Attempting uninstall: setuptools\n",
            "    Found existing installation: setuptools 75.2.0\n",
            "    Uninstalling setuptools-75.2.0:\n",
            "      Successfully uninstalled setuptools-75.2.0\n",
            "\u001b[31mERROR: pip's dependency resolver does not currently take into account all the packages that are installed. This behaviour is the source of the following dependency conflicts.\n",
            "ipython 7.34.0 requires jedi>=0.16, which is not installed.\u001b[0m\u001b[31m\n",
            "\u001b[0mSuccessfully installed setuptools-80.9.0\n"
          ]
        },
        {
          "output_type": "display_data",
          "data": {
            "application/vnd.colab-display-data+json": {
              "pip_warning": {
                "packages": [
                  "_distutils_hack"
                ]
              },
              "id": "5755686a2e5d48daba92c400d72be4a9"
            }
          },
          "metadata": {}
        }
      ]
    },
    {
      "cell_type": "code",
      "source": [
        "import whisper\n"
      ],
      "metadata": {
        "id": "QjP_oAURxGO-"
      },
      "execution_count": null,
      "outputs": []
    },
    {
      "cell_type": "code",
      "source": [
        "import os\n",
        "import shutil\n",
        "\n",
        "OUTPUT_FOLDER = \"/content/drive/mydrive/task_dhivehi/translated_txt/\"\n",
        "\n",
        "\n",
        "# ⚠️ Delete the folder and recreate it\n",
        "if os.path.exists(OUTPUT_FOLDER):\n",
        "    shutil.rmtree(OUTPUT_FOLDER)\n",
        "os.makedirs(OUTPUT_FOLDER, exist_ok=True)\n",
        "\n",
        "print(\"🧹 Translation folder cleared:\", OUTPUT_FOLDER)\n"
      ],
      "metadata": {
        "id": "qiICOC5HPOKT",
        "colab": {
          "base_uri": "https://localhost:8080/",
          "height": 269
        },
        "outputId": "9c70a366-66a2-46db-9837-0a1fd719d83c"
      },
      "execution_count": null,
      "outputs": [
        {
          "output_type": "error",
          "ename": "OSError",
          "evalue": "[Errno 95] Operation not supported: '/content/drive/mydrive'",
          "traceback": [
            "\u001b[0;31m---------------------------------------------------------------------------\u001b[0m",
            "\u001b[0;31mOSError\u001b[0m                                   Traceback (most recent call last)",
            "\u001b[0;32m/tmp/ipython-input-1456859848.py\u001b[0m in \u001b[0;36m<cell line: 0>\u001b[0;34m()\u001b[0m\n\u001b[1;32m      8\u001b[0m \u001b[0;32mif\u001b[0m \u001b[0mos\u001b[0m\u001b[0;34m.\u001b[0m\u001b[0mpath\u001b[0m\u001b[0;34m.\u001b[0m\u001b[0mexists\u001b[0m\u001b[0;34m(\u001b[0m\u001b[0mOUTPUT_FOLDER\u001b[0m\u001b[0;34m)\u001b[0m\u001b[0;34m:\u001b[0m\u001b[0;34m\u001b[0m\u001b[0;34m\u001b[0m\u001b[0m\n\u001b[1;32m      9\u001b[0m     \u001b[0mshutil\u001b[0m\u001b[0;34m.\u001b[0m\u001b[0mrmtree\u001b[0m\u001b[0;34m(\u001b[0m\u001b[0mOUTPUT_FOLDER\u001b[0m\u001b[0;34m)\u001b[0m\u001b[0;34m\u001b[0m\u001b[0;34m\u001b[0m\u001b[0m\n\u001b[0;32m---> 10\u001b[0;31m \u001b[0mos\u001b[0m\u001b[0;34m.\u001b[0m\u001b[0mmakedirs\u001b[0m\u001b[0;34m(\u001b[0m\u001b[0mOUTPUT_FOLDER\u001b[0m\u001b[0;34m,\u001b[0m \u001b[0mexist_ok\u001b[0m\u001b[0;34m=\u001b[0m\u001b[0;32mTrue\u001b[0m\u001b[0;34m)\u001b[0m\u001b[0;34m\u001b[0m\u001b[0;34m\u001b[0m\u001b[0m\n\u001b[0m\u001b[1;32m     11\u001b[0m \u001b[0;34m\u001b[0m\u001b[0m\n\u001b[1;32m     12\u001b[0m \u001b[0mprint\u001b[0m\u001b[0;34m(\u001b[0m\u001b[0;34m\"🧹 Translation folder cleared:\"\u001b[0m\u001b[0;34m,\u001b[0m \u001b[0mOUTPUT_FOLDER\u001b[0m\u001b[0;34m)\u001b[0m\u001b[0;34m\u001b[0m\u001b[0;34m\u001b[0m\u001b[0m\n",
            "\u001b[0;32m/usr/lib/python3.12/os.py\u001b[0m in \u001b[0;36mmakedirs\u001b[0;34m(name, mode, exist_ok)\u001b[0m\n",
            "\u001b[0;32m/usr/lib/python3.12/os.py\u001b[0m in \u001b[0;36mmakedirs\u001b[0;34m(name, mode, exist_ok)\u001b[0m\n",
            "\u001b[0;32m/usr/lib/python3.12/os.py\u001b[0m in \u001b[0;36mmakedirs\u001b[0;34m(name, mode, exist_ok)\u001b[0m\n",
            "\u001b[0;31mOSError\u001b[0m: [Errno 95] Operation not supported: '/content/drive/mydrive'"
          ]
        }
      ]
    },
    {
      "cell_type": "code",
      "source": [
        "import os\n",
        "import shutil\n",
        "import torch\n",
        "import whisper\n",
        "from tqdm import tqdm\n",
        "from google.colab import drive\n",
        "import time\n",
        "\n",
        "# ---------- 1. MOUNT GOOGLE DRIVE ----------\n",
        "drive.mount('/content/drive', force_remount=True)\n",
        "\n",
        "# ---------- 2. PATHS ----------\n",
        "DRIVE_BASE = \"/content/drive/MyDrive/task_dhivehi\"\n",
        "INPUT_FOLDER = os.path.join(DRIVE_BASE, \"chunks\")\n",
        "OUTPUT_FOLDER = os.path.join(DRIVE_BASE, \"translated_txt\")\n",
        "os.makedirs(OUTPUT_FOLDER, exist_ok=True)\n",
        "\n",
        "# ---------- 3. CHECK GPU ----------\n",
        "if not torch.cuda.is_available():\n",
        "    raise RuntimeError(\"⚠ GPU not detected! Please enable GPU in Runtime → Change runtime type.\")\n",
        "DEVICE = \"cuda\"\n",
        "print(f\"⚡ Using GPU: {torch.cuda.get_device_name(0)}\")\n",
        "\n",
        "# ---------- 4. LOAD WHISPER MODEL ----------\n",
        "MODEL_NAME = \"small.en\"  # fast and accurate for English\n",
        "print(\"⏳ Loading Whisper model on GPU...\")\n",
        "model = whisper.load_model(MODEL_NAME, device=DEVICE)\n",
        "print(\"✅ Model loaded:\", MODEL_NAME, \"on\", DEVICE)\n",
        "\n",
        "# ---------- 5. LIST AUDIO FILES ----------\n",
        "wav_files = sorted([f for f in os.listdir(INPUT_FOLDER) if f.endswith(\".wav\")])\n",
        "total_files = len(wav_files)\n",
        "print(f\"📂 Found {total_files} audio files in {INPUT_FOLDER}\")\n",
        "\n",
        "# ---------- 6. TRANSCRIBE WITH PROGRESS & ETA ----------\n",
        "start_time = time.time()\n",
        "\n",
        "for idx, filename in enumerate(tqdm(wav_files, desc=\"Translating audio\", unit=\"file\"), 1):\n",
        "    audio_path = os.path.join(INPUT_FOLDER, filename)\n",
        "    out_path = os.path.join(OUTPUT_FOLDER, filename.replace(\".wav\", \".txt\"))\n",
        "\n",
        "    # Retry mechanism\n",
        "    for attempt in range(2):\n",
        "        try:\n",
        "            result = model.transcribe(audio_path, task=\"translate\", fp16=True)\n",
        "            eng_text = result[\"text\"].strip()\n",
        "            with open(out_path, \"w\", encoding=\"utf-8\") as out:\n",
        "                out.write(eng_text)\n",
        "            break\n",
        "        except Exception as e:\n",
        "            if attempt == 0:\n",
        "                tqdm.write(f\"⚠ Retry for {filename} due to error: {e}\")\n",
        "            else:\n",
        "                tqdm.write(f\"❌ Failed {filename} after retry: {e}\")\n",
        "\n",
        "    # Dynamic ETA every 5 files\n",
        "    if idx % 5 == 0 or idx == total_files:\n",
        "        elapsed = time.time() - start_time\n",
        "        avg_time = elapsed / idx\n",
        "        remaining = (total_files - idx) * avg_time\n",
        "        tqdm.write(f\"✅ [{idx}/{total_files}] files done. ETA: {remaining/60:.1f} min\")\n",
        "\n",
        "# ---------- 7. SUMMARY ----------\n",
        "elapsed_total = time.time() - start_time\n",
        "print(f\"\\n✅ All files translated in {elapsed_total/60:.1f} minutes\")\n",
        "print(\"✅ Translations saved to:\", OUTPUT_FOLDER)\n"
      ],
      "metadata": {
        "id": "yxO3SAV3UbKC",
        "colab": {
          "base_uri": "https://localhost:8080/",
          "height": 550
        },
        "outputId": "5f28d494-2f4d-45b8-f52e-12eba16601b0"
      },
      "execution_count": null,
      "outputs": [
        {
          "output_type": "stream",
          "name": "stdout",
          "text": [
            "Mounted at /content/drive\n",
            "⚡ Using GPU: Tesla T4\n",
            "⏳ Loading Whisper model on GPU...\n",
            "✅ Model loaded: small.en on cuda\n",
            "📂 Found 962 audio files in /content/drive/MyDrive/task_dhivehi/chunks\n"
          ]
        },
        {
          "output_type": "stream",
          "name": "stderr",
          "text": [
            "Translating audio:   0%|          | 0/962 [00:11<?, ?file/s]"
          ]
        },
        {
          "output_type": "stream",
          "name": "stdout",
          "text": [
            "⚠ Retry for 23gRqCSWxTI_part10.wav due to error: Expected key.size(1) == value.size(1) to be true, but got false.  (Could this error message be improved?  If so, please report an enhancement request to PyTorch.)\n"
          ]
        },
        {
          "output_type": "stream",
          "name": "stderr",
          "text": [
            "Translating audio:   0%|          | 1/962 [00:41<11:08:01, 41.71s/file]"
          ]
        },
        {
          "output_type": "stream",
          "name": "stdout",
          "text": [
            "❌ Failed 23gRqCSWxTI_part10.wav after retry: Expected key.size(1) == value.size(1) to be true, but got false.  (Could this error message be improved?  If so, please report an enhancement request to PyTorch.)\n"
          ]
        },
        {
          "output_type": "stream",
          "name": "stderr",
          "text": [
            "Translating audio:   0%|          | 1/962 [00:51<11:08:01, 41.71s/file]"
          ]
        },
        {
          "output_type": "stream",
          "name": "stdout",
          "text": [
            "⚠ Retry for 23gRqCSWxTI_part11.wav due to error: Expected key.size(1) == value.size(1) to be true, but got false.  (Could this error message be improved?  If so, please report an enhancement request to PyTorch.)\n"
          ]
        },
        {
          "output_type": "stream",
          "name": "stderr",
          "text": [
            "Translating audio:   0%|          | 2/962 [00:58<7:11:25, 26.96s/file] "
          ]
        },
        {
          "output_type": "stream",
          "name": "stdout",
          "text": [
            "❌ Failed 23gRqCSWxTI_part11.wav after retry: Expected key.size(1) == value.size(1) to be true, but got false.  (Could this error message be improved?  If so, please report an enhancement request to PyTorch.)\n"
          ]
        },
        {
          "output_type": "stream",
          "name": "stderr",
          "text": [
            "\rTranslating audio:   0%|          | 2/962 [01:03<8:24:37, 31.54s/file]\n"
          ]
        },
        {
          "output_type": "error",
          "ename": "KeyboardInterrupt",
          "evalue": "",
          "traceback": [
            "\u001b[0;31m---------------------------------------------------------------------------\u001b[0m",
            "\u001b[0;31mKeyboardInterrupt\u001b[0m                         Traceback (most recent call last)",
            "\u001b[0;32m/tmp/ipython-input-3627655905.py\u001b[0m in \u001b[0;36m<cell line: 0>\u001b[0;34m()\u001b[0m\n\u001b[1;32m     43\u001b[0m     \u001b[0;32mfor\u001b[0m \u001b[0mattempt\u001b[0m \u001b[0;32min\u001b[0m \u001b[0mrange\u001b[0m\u001b[0;34m(\u001b[0m\u001b[0;36m2\u001b[0m\u001b[0;34m)\u001b[0m\u001b[0;34m:\u001b[0m\u001b[0;34m\u001b[0m\u001b[0;34m\u001b[0m\u001b[0m\n\u001b[1;32m     44\u001b[0m         \u001b[0;32mtry\u001b[0m\u001b[0;34m:\u001b[0m\u001b[0;34m\u001b[0m\u001b[0;34m\u001b[0m\u001b[0m\n\u001b[0;32m---> 45\u001b[0;31m             \u001b[0mresult\u001b[0m \u001b[0;34m=\u001b[0m \u001b[0mmodel\u001b[0m\u001b[0;34m.\u001b[0m\u001b[0mtranscribe\u001b[0m\u001b[0;34m(\u001b[0m\u001b[0maudio_path\u001b[0m\u001b[0;34m,\u001b[0m \u001b[0mtask\u001b[0m\u001b[0;34m=\u001b[0m\u001b[0;34m\"translate\"\u001b[0m\u001b[0;34m,\u001b[0m \u001b[0mfp16\u001b[0m\u001b[0;34m=\u001b[0m\u001b[0;32mTrue\u001b[0m\u001b[0;34m)\u001b[0m\u001b[0;34m\u001b[0m\u001b[0;34m\u001b[0m\u001b[0m\n\u001b[0m\u001b[1;32m     46\u001b[0m             \u001b[0meng_text\u001b[0m \u001b[0;34m=\u001b[0m \u001b[0mresult\u001b[0m\u001b[0;34m[\u001b[0m\u001b[0;34m\"text\"\u001b[0m\u001b[0;34m]\u001b[0m\u001b[0;34m.\u001b[0m\u001b[0mstrip\u001b[0m\u001b[0;34m(\u001b[0m\u001b[0;34m)\u001b[0m\u001b[0;34m\u001b[0m\u001b[0;34m\u001b[0m\u001b[0m\n\u001b[1;32m     47\u001b[0m             \u001b[0;32mwith\u001b[0m \u001b[0mopen\u001b[0m\u001b[0;34m(\u001b[0m\u001b[0mout_path\u001b[0m\u001b[0;34m,\u001b[0m \u001b[0;34m\"w\"\u001b[0m\u001b[0;34m,\u001b[0m \u001b[0mencoding\u001b[0m\u001b[0;34m=\u001b[0m\u001b[0;34m\"utf-8\"\u001b[0m\u001b[0;34m)\u001b[0m \u001b[0;32mas\u001b[0m \u001b[0mout\u001b[0m\u001b[0;34m:\u001b[0m\u001b[0;34m\u001b[0m\u001b[0;34m\u001b[0m\u001b[0m\n",
            "\u001b[0;32m/usr/local/lib/python3.12/dist-packages/whisper/transcribe.py\u001b[0m in \u001b[0;36mtranscribe\u001b[0;34m(model, audio, verbose, temperature, compression_ratio_threshold, logprob_threshold, no_speech_threshold, condition_on_previous_text, initial_prompt, carry_initial_prompt, word_timestamps, prepend_punctuations, append_punctuations, clip_timestamps, hallucination_silence_threshold, **decode_options)\u001b[0m\n\u001b[1;32m    137\u001b[0m \u001b[0;34m\u001b[0m\u001b[0m\n\u001b[1;32m    138\u001b[0m     \u001b[0;31m# Pad 30-seconds of silence to the input audio, for slicing\u001b[0m\u001b[0;34m\u001b[0m\u001b[0;34m\u001b[0m\u001b[0m\n\u001b[0;32m--> 139\u001b[0;31m     \u001b[0mmel\u001b[0m \u001b[0;34m=\u001b[0m \u001b[0mlog_mel_spectrogram\u001b[0m\u001b[0;34m(\u001b[0m\u001b[0maudio\u001b[0m\u001b[0;34m,\u001b[0m \u001b[0mmodel\u001b[0m\u001b[0;34m.\u001b[0m\u001b[0mdims\u001b[0m\u001b[0;34m.\u001b[0m\u001b[0mn_mels\u001b[0m\u001b[0;34m,\u001b[0m \u001b[0mpadding\u001b[0m\u001b[0;34m=\u001b[0m\u001b[0mN_SAMPLES\u001b[0m\u001b[0;34m)\u001b[0m\u001b[0;34m\u001b[0m\u001b[0;34m\u001b[0m\u001b[0m\n\u001b[0m\u001b[1;32m    140\u001b[0m     \u001b[0mcontent_frames\u001b[0m \u001b[0;34m=\u001b[0m \u001b[0mmel\u001b[0m\u001b[0;34m.\u001b[0m\u001b[0mshape\u001b[0m\u001b[0;34m[\u001b[0m\u001b[0;34m-\u001b[0m\u001b[0;36m1\u001b[0m\u001b[0;34m]\u001b[0m \u001b[0;34m-\u001b[0m \u001b[0mN_FRAMES\u001b[0m\u001b[0;34m\u001b[0m\u001b[0;34m\u001b[0m\u001b[0m\n\u001b[1;32m    141\u001b[0m     \u001b[0mcontent_duration\u001b[0m \u001b[0;34m=\u001b[0m \u001b[0mfloat\u001b[0m\u001b[0;34m(\u001b[0m\u001b[0mcontent_frames\u001b[0m \u001b[0;34m*\u001b[0m \u001b[0mHOP_LENGTH\u001b[0m \u001b[0;34m/\u001b[0m \u001b[0mSAMPLE_RATE\u001b[0m\u001b[0;34m)\u001b[0m\u001b[0;34m\u001b[0m\u001b[0;34m\u001b[0m\u001b[0m\n",
            "\u001b[0;32m/usr/local/lib/python3.12/dist-packages/whisper/audio.py\u001b[0m in \u001b[0;36mlog_mel_spectrogram\u001b[0;34m(audio, n_mels, padding, device)\u001b[0m\n\u001b[1;32m    138\u001b[0m     \u001b[0;32mif\u001b[0m \u001b[0;32mnot\u001b[0m \u001b[0mtorch\u001b[0m\u001b[0;34m.\u001b[0m\u001b[0mis_tensor\u001b[0m\u001b[0;34m(\u001b[0m\u001b[0maudio\u001b[0m\u001b[0;34m)\u001b[0m\u001b[0;34m:\u001b[0m\u001b[0;34m\u001b[0m\u001b[0;34m\u001b[0m\u001b[0m\n\u001b[1;32m    139\u001b[0m         \u001b[0;32mif\u001b[0m \u001b[0misinstance\u001b[0m\u001b[0;34m(\u001b[0m\u001b[0maudio\u001b[0m\u001b[0;34m,\u001b[0m \u001b[0mstr\u001b[0m\u001b[0;34m)\u001b[0m\u001b[0;34m:\u001b[0m\u001b[0;34m\u001b[0m\u001b[0;34m\u001b[0m\u001b[0m\n\u001b[0;32m--> 140\u001b[0;31m             \u001b[0maudio\u001b[0m \u001b[0;34m=\u001b[0m \u001b[0mload_audio\u001b[0m\u001b[0;34m(\u001b[0m\u001b[0maudio\u001b[0m\u001b[0;34m)\u001b[0m\u001b[0;34m\u001b[0m\u001b[0;34m\u001b[0m\u001b[0m\n\u001b[0m\u001b[1;32m    141\u001b[0m         \u001b[0maudio\u001b[0m \u001b[0;34m=\u001b[0m \u001b[0mtorch\u001b[0m\u001b[0;34m.\u001b[0m\u001b[0mfrom_numpy\u001b[0m\u001b[0;34m(\u001b[0m\u001b[0maudio\u001b[0m\u001b[0;34m)\u001b[0m\u001b[0;34m\u001b[0m\u001b[0;34m\u001b[0m\u001b[0m\n\u001b[1;32m    142\u001b[0m \u001b[0;34m\u001b[0m\u001b[0m\n",
            "\u001b[0;32m/usr/local/lib/python3.12/dist-packages/whisper/audio.py\u001b[0m in \u001b[0;36mload_audio\u001b[0;34m(file, sr)\u001b[0m\n\u001b[1;32m     56\u001b[0m     \u001b[0;31m# fmt: on\u001b[0m\u001b[0;34m\u001b[0m\u001b[0;34m\u001b[0m\u001b[0m\n\u001b[1;32m     57\u001b[0m     \u001b[0;32mtry\u001b[0m\u001b[0;34m:\u001b[0m\u001b[0;34m\u001b[0m\u001b[0;34m\u001b[0m\u001b[0m\n\u001b[0;32m---> 58\u001b[0;31m         \u001b[0mout\u001b[0m \u001b[0;34m=\u001b[0m \u001b[0mrun\u001b[0m\u001b[0;34m(\u001b[0m\u001b[0mcmd\u001b[0m\u001b[0;34m,\u001b[0m \u001b[0mcapture_output\u001b[0m\u001b[0;34m=\u001b[0m\u001b[0;32mTrue\u001b[0m\u001b[0;34m,\u001b[0m \u001b[0mcheck\u001b[0m\u001b[0;34m=\u001b[0m\u001b[0;32mTrue\u001b[0m\u001b[0;34m)\u001b[0m\u001b[0;34m.\u001b[0m\u001b[0mstdout\u001b[0m\u001b[0;34m\u001b[0m\u001b[0;34m\u001b[0m\u001b[0m\n\u001b[0m\u001b[1;32m     59\u001b[0m     \u001b[0;32mexcept\u001b[0m \u001b[0mCalledProcessError\u001b[0m \u001b[0;32mas\u001b[0m \u001b[0me\u001b[0m\u001b[0;34m:\u001b[0m\u001b[0;34m\u001b[0m\u001b[0;34m\u001b[0m\u001b[0m\n\u001b[1;32m     60\u001b[0m         \u001b[0;32mraise\u001b[0m \u001b[0mRuntimeError\u001b[0m\u001b[0;34m(\u001b[0m\u001b[0;34mf\"Failed to load audio: {e.stderr.decode()}\"\u001b[0m\u001b[0;34m)\u001b[0m \u001b[0;32mfrom\u001b[0m \u001b[0me\u001b[0m\u001b[0;34m\u001b[0m\u001b[0;34m\u001b[0m\u001b[0m\n",
            "\u001b[0;32m/usr/lib/python3.12/subprocess.py\u001b[0m in \u001b[0;36mrun\u001b[0;34m(input, capture_output, timeout, check, *popenargs, **kwargs)\u001b[0m\n\u001b[1;32m    548\u001b[0m     \u001b[0;32mwith\u001b[0m \u001b[0mPopen\u001b[0m\u001b[0;34m(\u001b[0m\u001b[0;34m*\u001b[0m\u001b[0mpopenargs\u001b[0m\u001b[0;34m,\u001b[0m \u001b[0;34m**\u001b[0m\u001b[0mkwargs\u001b[0m\u001b[0;34m)\u001b[0m \u001b[0;32mas\u001b[0m \u001b[0mprocess\u001b[0m\u001b[0;34m:\u001b[0m\u001b[0;34m\u001b[0m\u001b[0;34m\u001b[0m\u001b[0m\n\u001b[1;32m    549\u001b[0m         \u001b[0;32mtry\u001b[0m\u001b[0;34m:\u001b[0m\u001b[0;34m\u001b[0m\u001b[0;34m\u001b[0m\u001b[0m\n\u001b[0;32m--> 550\u001b[0;31m             \u001b[0mstdout\u001b[0m\u001b[0;34m,\u001b[0m \u001b[0mstderr\u001b[0m \u001b[0;34m=\u001b[0m \u001b[0mprocess\u001b[0m\u001b[0;34m.\u001b[0m\u001b[0mcommunicate\u001b[0m\u001b[0;34m(\u001b[0m\u001b[0minput\u001b[0m\u001b[0;34m,\u001b[0m \u001b[0mtimeout\u001b[0m\u001b[0;34m=\u001b[0m\u001b[0mtimeout\u001b[0m\u001b[0;34m)\u001b[0m\u001b[0;34m\u001b[0m\u001b[0;34m\u001b[0m\u001b[0m\n\u001b[0m\u001b[1;32m    551\u001b[0m         \u001b[0;32mexcept\u001b[0m \u001b[0mTimeoutExpired\u001b[0m \u001b[0;32mas\u001b[0m \u001b[0mexc\u001b[0m\u001b[0;34m:\u001b[0m\u001b[0;34m\u001b[0m\u001b[0;34m\u001b[0m\u001b[0m\n\u001b[1;32m    552\u001b[0m             \u001b[0mprocess\u001b[0m\u001b[0;34m.\u001b[0m\u001b[0mkill\u001b[0m\u001b[0;34m(\u001b[0m\u001b[0;34m)\u001b[0m\u001b[0;34m\u001b[0m\u001b[0;34m\u001b[0m\u001b[0m\n",
            "\u001b[0;32m/usr/lib/python3.12/subprocess.py\u001b[0m in \u001b[0;36mcommunicate\u001b[0;34m(self, input, timeout)\u001b[0m\n\u001b[1;32m   1207\u001b[0m \u001b[0;34m\u001b[0m\u001b[0m\n\u001b[1;32m   1208\u001b[0m             \u001b[0;32mtry\u001b[0m\u001b[0;34m:\u001b[0m\u001b[0;34m\u001b[0m\u001b[0;34m\u001b[0m\u001b[0m\n\u001b[0;32m-> 1209\u001b[0;31m                 \u001b[0mstdout\u001b[0m\u001b[0;34m,\u001b[0m \u001b[0mstderr\u001b[0m \u001b[0;34m=\u001b[0m \u001b[0mself\u001b[0m\u001b[0;34m.\u001b[0m\u001b[0m_communicate\u001b[0m\u001b[0;34m(\u001b[0m\u001b[0minput\u001b[0m\u001b[0;34m,\u001b[0m \u001b[0mendtime\u001b[0m\u001b[0;34m,\u001b[0m \u001b[0mtimeout\u001b[0m\u001b[0;34m)\u001b[0m\u001b[0;34m\u001b[0m\u001b[0;34m\u001b[0m\u001b[0m\n\u001b[0m\u001b[1;32m   1210\u001b[0m             \u001b[0;32mexcept\u001b[0m \u001b[0mKeyboardInterrupt\u001b[0m\u001b[0;34m:\u001b[0m\u001b[0;34m\u001b[0m\u001b[0;34m\u001b[0m\u001b[0m\n\u001b[1;32m   1211\u001b[0m                 \u001b[0;31m# https://bugs.python.org/issue25942\u001b[0m\u001b[0;34m\u001b[0m\u001b[0;34m\u001b[0m\u001b[0m\n",
            "\u001b[0;32m/usr/lib/python3.12/subprocess.py\u001b[0m in \u001b[0;36m_communicate\u001b[0;34m(self, input, endtime, orig_timeout)\u001b[0m\n\u001b[1;32m   2113\u001b[0m                             'failed to raise TimeoutExpired.')\n\u001b[1;32m   2114\u001b[0m \u001b[0;34m\u001b[0m\u001b[0m\n\u001b[0;32m-> 2115\u001b[0;31m                     \u001b[0mready\u001b[0m \u001b[0;34m=\u001b[0m \u001b[0mselector\u001b[0m\u001b[0;34m.\u001b[0m\u001b[0mselect\u001b[0m\u001b[0;34m(\u001b[0m\u001b[0mtimeout\u001b[0m\u001b[0;34m)\u001b[0m\u001b[0;34m\u001b[0m\u001b[0;34m\u001b[0m\u001b[0m\n\u001b[0m\u001b[1;32m   2116\u001b[0m                     \u001b[0mself\u001b[0m\u001b[0;34m.\u001b[0m\u001b[0m_check_timeout\u001b[0m\u001b[0;34m(\u001b[0m\u001b[0mendtime\u001b[0m\u001b[0;34m,\u001b[0m \u001b[0morig_timeout\u001b[0m\u001b[0;34m,\u001b[0m \u001b[0mstdout\u001b[0m\u001b[0;34m,\u001b[0m \u001b[0mstderr\u001b[0m\u001b[0;34m)\u001b[0m\u001b[0;34m\u001b[0m\u001b[0;34m\u001b[0m\u001b[0m\n\u001b[1;32m   2117\u001b[0m \u001b[0;34m\u001b[0m\u001b[0m\n",
            "\u001b[0;32m/usr/lib/python3.12/selectors.py\u001b[0m in \u001b[0;36mselect\u001b[0;34m(self, timeout)\u001b[0m\n\u001b[1;32m    413\u001b[0m         \u001b[0mready\u001b[0m \u001b[0;34m=\u001b[0m \u001b[0;34m[\u001b[0m\u001b[0;34m]\u001b[0m\u001b[0;34m\u001b[0m\u001b[0;34m\u001b[0m\u001b[0m\n\u001b[1;32m    414\u001b[0m         \u001b[0;32mtry\u001b[0m\u001b[0;34m:\u001b[0m\u001b[0;34m\u001b[0m\u001b[0;34m\u001b[0m\u001b[0m\n\u001b[0;32m--> 415\u001b[0;31m             \u001b[0mfd_event_list\u001b[0m \u001b[0;34m=\u001b[0m \u001b[0mself\u001b[0m\u001b[0;34m.\u001b[0m\u001b[0m_selector\u001b[0m\u001b[0;34m.\u001b[0m\u001b[0mpoll\u001b[0m\u001b[0;34m(\u001b[0m\u001b[0mtimeout\u001b[0m\u001b[0;34m)\u001b[0m\u001b[0;34m\u001b[0m\u001b[0;34m\u001b[0m\u001b[0m\n\u001b[0m\u001b[1;32m    416\u001b[0m         \u001b[0;32mexcept\u001b[0m \u001b[0mInterruptedError\u001b[0m\u001b[0;34m:\u001b[0m\u001b[0;34m\u001b[0m\u001b[0;34m\u001b[0m\u001b[0m\n\u001b[1;32m    417\u001b[0m             \u001b[0;32mreturn\u001b[0m \u001b[0mready\u001b[0m\u001b[0;34m\u001b[0m\u001b[0;34m\u001b[0m\u001b[0m\n",
            "\u001b[0;31mKeyboardInterrupt\u001b[0m: "
          ]
        }
      ]
    },
    {
      "cell_type": "code",
      "source": [
        "!fusermount -u /content/drive || true\n",
        "!umount -l /content/drive || true\n"
      ],
      "metadata": {
        "id": "pPDXvbun5pjy",
        "colab": {
          "base_uri": "https://localhost:8080/"
        },
        "outputId": "1d94078a-fc7c-4b97-eb1d-bbd512b9b68f"
      },
      "execution_count": null,
      "outputs": [
        {
          "output_type": "stream",
          "name": "stdout",
          "text": [
            "fusermount: failed to unmount /content/drive: No such file or directory\n",
            "umount: /content/drive: no mount point specified.\n"
          ]
        }
      ]
    },
    {
      "cell_type": "code",
      "source": [
        "!fusermount -u /content/drive 2>/dev/null || true\n",
        "!umount -l /content/drive 2>/dev/null || true\n",
        "!rm -rf /content/drive\n"
      ],
      "metadata": {
        "id": "pEqKkJcWLTmU"
      },
      "execution_count": null,
      "outputs": []
    },
    {
      "cell_type": "code",
      "source": [
        "!mkdir -p /content/drive\n"
      ],
      "metadata": {
        "id": "C78WUpmaLbFf"
      },
      "execution_count": null,
      "outputs": []
    },
    {
      "cell_type": "code",
      "source": [
        "from google.colab import drive\n",
        "drive.mount('/content/drive')\n"
      ],
      "metadata": {
        "colab": {
          "base_uri": "https://localhost:8080/"
        },
        "id": "MPLO7KObLdkQ",
        "outputId": "776a0cfa-3956-4492-9610-68c15f301805"
      },
      "execution_count": null,
      "outputs": [
        {
          "output_type": "stream",
          "name": "stdout",
          "text": [
            "Mounted at /content/drive\n"
          ]
        }
      ]
    },
    {
      "cell_type": "code",
      "source": [
        "# ===================== Install Dependencies =====================\n",
        "!pip install faster-whisper\n",
        "!pip install tqdm\n",
        "\n",
        "# ===================== Imports =====================\n",
        "import os\n",
        "from pathlib import Path\n",
        "from faster_whisper import WhisperModel\n",
        "from tqdm import tqdm\n",
        "from concurrent.futures import ThreadPoolExecutor, as_completed\n",
        "\n",
        "# ===================== Paths =====================\n",
        "DRIVE_BASE = \"/content/drive/MyDrive/task_dhivehi\"\n",
        "INPUT_FOLDER = os.path.join(DRIVE_BASE, \"chunks\")          # Your audio chunks (.wav)\n",
        "OUTPUT_FOLDER = os.path.join(DRIVE_BASE, \"translated_txt\") # English translations\n",
        "os.makedirs(OUTPUT_FOLDER, exist_ok=True)\n",
        "\n",
        "# ===================== Parameters =====================\n",
        "MODEL_NAME = \"tiny.en\"   # quantized small model\n",
        "DEVICE = \"cuda\"           # T4 GPU\n",
        "COMPUTE_TYPE = \"int8\"       # keep quantized for speed\n",
        "MAX_WORKERS = 3 or 4        # can increase parallelism if T4 memory allows\n",
        "CHUNK_LENGTH = 30           # keep 30s segments inside Whisper\n",
        "beam_size = 1               # smaller beam for faster translation\n",
        "\n",
        "# ===================== Load Model =====================\n",
        "print(\"⏳ Loading Whisper model (quantized)...\")\n",
        "model = WhisperModel(MODEL_NAME, device=DEVICE, compute_type=COMPUTE_TYPE)\n",
        "print(f\"✅ Model loaded: {MODEL_NAME}, compute_type={COMPUTE_TYPE}, device={DEVICE}\")\n",
        "\n",
        "# ===================== List Audio Files =====================\n",
        "wav_files = sorted([f for f in os.listdir(INPUT_FOLDER) if f.endswith(\".wav\")])\n",
        "print(f\"📂 Found {len(wav_files)} audio files in {INPUT_FOLDER}\")\n",
        "\n",
        "# ===================== Transcription Function =====================\n",
        "def transcribe_file(filename):\n",
        "    input_path = os.path.join(INPUT_FOLDER, filename)\n",
        "    output_path = os.path.join(OUTPUT_FOLDER, filename.replace(\".wav\", \".txt\"))\n",
        "\n",
        "    if os.path.exists(output_path):\n",
        "        return f\"⚡ Skipped {filename} (already processed)\"\n",
        "\n",
        "    segments, info = model.transcribe(input_path, task=\"translate\", beam_size=5)\n",
        "    full_text = \" \".join([segment.text.strip() for segment in segments])\n",
        "\n",
        "    with open(output_path, \"w\", encoding=\"utf-8\") as f:\n",
        "        f.write(full_text)\n",
        "\n",
        "    return f\"✅ Done {filename} ({info.duration/60:.1f} min audio)\"\n",
        "\n",
        "# ===================== Parallel Processing =====================\n",
        "results = []\n",
        "with ThreadPoolExecutor(max_workers=MAX_WORKERS) as executor:\n",
        "    future_to_file = {executor.submit(transcribe_file, f): f for f in wav_files}\n",
        "    for future in tqdm(as_completed(future_to_file), total=len(wav_files), desc=\"Processing audio\"):\n",
        "        results.append(future.result())\n",
        "        print(results[-1])\n",
        "\n",
        "# ===================== Summary =====================\n",
        "print(f\"\\n🎯 Completed {len(wav_files)} files.\")\n",
        "print(f\"✅ English transcripts saved in: {OUTPUT_FOLDER}\")\n"
      ],
      "metadata": {
        "colab": {
          "base_uri": "https://localhost:8080/",
          "height": 1000,
          "referenced_widgets": [
            "b2afc3bacece4ca497149720611fd459",
            "0837c16667df4eb88fca3ecabf741156",
            "9a93cd0047884017a801a9e677bf81dc",
            "322af553600f42778f3f59d9ad8026a2",
            "2f2b5344e87d40deb4e43d827b7c6237",
            "86419d2349c444d7837ad6a78b37fc5b",
            "74dec422b8414e3187f0bba447c77027",
            "3be21db98e3c49fcb68819af8bf63890",
            "fc345b3a4ef64d06a0c4f720315b7d80",
            "6915940f801542b8b88449de36ce060a",
            "96557fe975bc46a49ed4cd9c3fd0c7a9",
            "232ff74535714718b68e3746fb364928",
            "07d57e4277cc448984a50127b91874f9",
            "3817011238074a019de5a0020da81e95",
            "4386f971a31b46389eeb5eab08a9010c",
            "78b898f77d7d43c1b64625c1a3621598",
            "8a960af4879a474a94d30476d7dac067",
            "bbe15c0cccc64b619d36573e720d9e51",
            "d5bb3bb2aa8b4ba5afb208ee0fcc4dc9",
            "3f80c9df2bc74e46a087e6c5aa5fcd80",
            "8bba34d29aaa466bb603b6429e73ba58",
            "90f0ba3c87c84834a6a1eb7bef439ac2",
            "9fb1ee60a7f64da2b06e671fe3518659",
            "004aeb950b5d4c9b8298e761dbb72c59",
            "14b1d096e2b74f309e8b7e358c605c82",
            "f077a7e6b8d24d628d78a209f5a25ac6",
            "ef8270b937314b9494bddf9add7a2f6e",
            "d7550dc580cc4de189c62e3ced125749",
            "1bbd9d0536df4c67930dba179aa2c67a",
            "23e2fdf356c24916ad1243ce3f5dfcf2",
            "4bb5f6aa698a45eaa45c8eb01f9860f9",
            "b5e70ca5513449dc96ccc8029fd36ed8",
            "aa52b53c1b0d4b21b37c38b85c7965a3",
            "c04d275259d74c57974be6e03ff93dfc",
            "05917ba1e5834f7a86196560002501a9",
            "0ea0e2bdbd2146f890f9962ddc2d7118",
            "403ba94dab85446d8c28092770bed4d1",
            "6a946ec230c34387b36284d4be88054e",
            "1ebe7034ec2443bc91746bb6896d78b4",
            "8df27f247dbe41c6aa3c8580c3170ed5",
            "5f949e736662449ba18f996d47d72ba1",
            "38fc7b8d41394bdc995c3a0caf3c498c",
            "a378b884fcfb42bf83350a3ff6dfc693",
            "435e2415ea084bdeb068186acc954587"
          ]
        },
        "id": "BA7IvXjFLfoI",
        "outputId": "1936902c-d3ad-4376-b99f-ae05968c259f"
      },
      "execution_count": null,
      "outputs": [
        {
          "output_type": "stream",
          "name": "stdout",
          "text": [
            "Collecting faster-whisper\n",
            "  Downloading faster_whisper-1.2.0-py3-none-any.whl.metadata (16 kB)\n",
            "Collecting ctranslate2<5,>=4.0 (from faster-whisper)\n",
            "  Downloading ctranslate2-4.6.0-cp312-cp312-manylinux_2_17_x86_64.manylinux2014_x86_64.whl.metadata (10 kB)\n",
            "Requirement already satisfied: huggingface-hub>=0.13 in /usr/local/lib/python3.12/dist-packages (from faster-whisper) (0.34.4)\n",
            "Requirement already satisfied: tokenizers<1,>=0.13 in /usr/local/lib/python3.12/dist-packages (from faster-whisper) (0.22.0)\n",
            "Collecting onnxruntime<2,>=1.14 (from faster-whisper)\n",
            "  Downloading onnxruntime-1.22.1-cp312-cp312-manylinux_2_27_x86_64.manylinux_2_28_x86_64.whl.metadata (4.9 kB)\n",
            "Collecting av>=11 (from faster-whisper)\n",
            "  Downloading av-15.1.0-cp312-cp312-manylinux_2_28_x86_64.whl.metadata (4.6 kB)\n",
            "Requirement already satisfied: tqdm in /usr/local/lib/python3.12/dist-packages (from faster-whisper) (4.67.1)\n",
            "Requirement already satisfied: setuptools in /usr/local/lib/python3.12/dist-packages (from ctranslate2<5,>=4.0->faster-whisper) (75.2.0)\n",
            "Requirement already satisfied: numpy in /usr/local/lib/python3.12/dist-packages (from ctranslate2<5,>=4.0->faster-whisper) (2.0.2)\n",
            "Requirement already satisfied: pyyaml<7,>=5.3 in /usr/local/lib/python3.12/dist-packages (from ctranslate2<5,>=4.0->faster-whisper) (6.0.2)\n",
            "Requirement already satisfied: filelock in /usr/local/lib/python3.12/dist-packages (from huggingface-hub>=0.13->faster-whisper) (3.19.1)\n",
            "Requirement already satisfied: fsspec>=2023.5.0 in /usr/local/lib/python3.12/dist-packages (from huggingface-hub>=0.13->faster-whisper) (2025.3.0)\n",
            "Requirement already satisfied: packaging>=20.9 in /usr/local/lib/python3.12/dist-packages (from huggingface-hub>=0.13->faster-whisper) (25.0)\n",
            "Requirement already satisfied: requests in /usr/local/lib/python3.12/dist-packages (from huggingface-hub>=0.13->faster-whisper) (2.32.4)\n",
            "Requirement already satisfied: typing-extensions>=3.7.4.3 in /usr/local/lib/python3.12/dist-packages (from huggingface-hub>=0.13->faster-whisper) (4.15.0)\n",
            "Requirement already satisfied: hf-xet<2.0.0,>=1.1.3 in /usr/local/lib/python3.12/dist-packages (from huggingface-hub>=0.13->faster-whisper) (1.1.9)\n",
            "Collecting coloredlogs (from onnxruntime<2,>=1.14->faster-whisper)\n",
            "  Downloading coloredlogs-15.0.1-py2.py3-none-any.whl.metadata (12 kB)\n",
            "Requirement already satisfied: flatbuffers in /usr/local/lib/python3.12/dist-packages (from onnxruntime<2,>=1.14->faster-whisper) (25.2.10)\n",
            "Requirement already satisfied: protobuf in /usr/local/lib/python3.12/dist-packages (from onnxruntime<2,>=1.14->faster-whisper) (5.29.5)\n",
            "Requirement already satisfied: sympy in /usr/local/lib/python3.12/dist-packages (from onnxruntime<2,>=1.14->faster-whisper) (1.13.3)\n",
            "Collecting humanfriendly>=9.1 (from coloredlogs->onnxruntime<2,>=1.14->faster-whisper)\n",
            "  Downloading humanfriendly-10.0-py2.py3-none-any.whl.metadata (9.2 kB)\n",
            "Requirement already satisfied: charset_normalizer<4,>=2 in /usr/local/lib/python3.12/dist-packages (from requests->huggingface-hub>=0.13->faster-whisper) (3.4.3)\n",
            "Requirement already satisfied: idna<4,>=2.5 in /usr/local/lib/python3.12/dist-packages (from requests->huggingface-hub>=0.13->faster-whisper) (3.10)\n",
            "Requirement already satisfied: urllib3<3,>=1.21.1 in /usr/local/lib/python3.12/dist-packages (from requests->huggingface-hub>=0.13->faster-whisper) (2.5.0)\n",
            "Requirement already satisfied: certifi>=2017.4.17 in /usr/local/lib/python3.12/dist-packages (from requests->huggingface-hub>=0.13->faster-whisper) (2025.8.3)\n",
            "Requirement already satisfied: mpmath<1.4,>=1.1.0 in /usr/local/lib/python3.12/dist-packages (from sympy->onnxruntime<2,>=1.14->faster-whisper) (1.3.0)\n",
            "Downloading faster_whisper-1.2.0-py3-none-any.whl (1.1 MB)\n",
            "\u001b[2K   \u001b[90m━━━━━━━━━━━━━━━━━━━━━━━━━━━━━━━━━━━━━━━━\u001b[0m \u001b[32m1.1/1.1 MB\u001b[0m \u001b[31m21.0 MB/s\u001b[0m eta \u001b[36m0:00:00\u001b[0m\n",
            "\u001b[?25hDownloading av-15.1.0-cp312-cp312-manylinux_2_28_x86_64.whl (39.9 MB)\n",
            "\u001b[2K   \u001b[90m━━━━━━━━━━━━━━━━━━━━━━━━━━━━━━━━━━━━━━━━\u001b[0m \u001b[32m39.9/39.9 MB\u001b[0m \u001b[31m26.7 MB/s\u001b[0m eta \u001b[36m0:00:00\u001b[0m\n",
            "\u001b[?25hDownloading ctranslate2-4.6.0-cp312-cp312-manylinux_2_17_x86_64.manylinux2014_x86_64.whl (38.8 MB)\n",
            "\u001b[2K   \u001b[90m━━━━━━━━━━━━━━━━━━━━━━━━━━━━━━━━━━━━━━━━\u001b[0m \u001b[32m38.8/38.8 MB\u001b[0m \u001b[31m15.6 MB/s\u001b[0m eta \u001b[36m0:00:00\u001b[0m\n",
            "\u001b[?25hDownloading onnxruntime-1.22.1-cp312-cp312-manylinux_2_27_x86_64.manylinux_2_28_x86_64.whl (16.5 MB)\n",
            "\u001b[2K   \u001b[90m━━━━━━━━━━━━━━━━━━━━━━━━━━━━━━━━━━━━━━━━\u001b[0m \u001b[32m16.5/16.5 MB\u001b[0m \u001b[31m71.8 MB/s\u001b[0m eta \u001b[36m0:00:00\u001b[0m\n",
            "\u001b[?25hDownloading coloredlogs-15.0.1-py2.py3-none-any.whl (46 kB)\n",
            "\u001b[2K   \u001b[90m━━━━━━━━━━━━━━━━━━━━━━━━━━━━━━━━━━━━━━━━\u001b[0m \u001b[32m46.0/46.0 kB\u001b[0m \u001b[31m4.7 MB/s\u001b[0m eta \u001b[36m0:00:00\u001b[0m\n",
            "\u001b[?25hDownloading humanfriendly-10.0-py2.py3-none-any.whl (86 kB)\n",
            "\u001b[2K   \u001b[90m━━━━━━━━━━━━━━━━━━━━━━━━━━━━━━━━━━━━━━━━\u001b[0m \u001b[32m86.8/86.8 kB\u001b[0m \u001b[31m9.2 MB/s\u001b[0m eta \u001b[36m0:00:00\u001b[0m\n",
            "\u001b[?25hInstalling collected packages: humanfriendly, ctranslate2, av, coloredlogs, onnxruntime, faster-whisper\n",
            "Successfully installed av-15.1.0 coloredlogs-15.0.1 ctranslate2-4.6.0 faster-whisper-1.2.0 humanfriendly-10.0 onnxruntime-1.22.1\n",
            "Requirement already satisfied: tqdm in /usr/local/lib/python3.12/dist-packages (4.67.1)\n",
            "⏳ Loading Whisper model (quantized)...\n"
          ]
        },
        {
          "output_type": "stream",
          "name": "stderr",
          "text": [
            "/usr/local/lib/python3.12/dist-packages/huggingface_hub/utils/_auth.py:94: UserWarning: \n",
            "The secret `HF_TOKEN` does not exist in your Colab secrets.\n",
            "To authenticate with the Hugging Face Hub, create a token in your settings tab (https://huggingface.co/settings/tokens), set it as secret in your Google Colab and restart your session.\n",
            "You will be able to reuse this secret in all of your notebooks.\n",
            "Please note that authentication is recommended but still optional to access public models or datasets.\n",
            "  warnings.warn(\n"
          ]
        },
        {
          "output_type": "display_data",
          "data": {
            "text/plain": [
              "vocabulary.txt: 0.00B [00:00, ?B/s]"
            ],
            "application/vnd.jupyter.widget-view+json": {
              "version_major": 2,
              "version_minor": 0,
              "model_id": "b2afc3bacece4ca497149720611fd459"
            }
          },
          "metadata": {}
        },
        {
          "output_type": "display_data",
          "data": {
            "text/plain": [
              "config.json: 0.00B [00:00, ?B/s]"
            ],
            "application/vnd.jupyter.widget-view+json": {
              "version_major": 2,
              "version_minor": 0,
              "model_id": "232ff74535714718b68e3746fb364928"
            }
          },
          "metadata": {}
        },
        {
          "output_type": "display_data",
          "data": {
            "text/plain": [
              "tokenizer.json: 0.00B [00:00, ?B/s]"
            ],
            "application/vnd.jupyter.widget-view+json": {
              "version_major": 2,
              "version_minor": 0,
              "model_id": "9fb1ee60a7f64da2b06e671fe3518659"
            }
          },
          "metadata": {}
        },
        {
          "output_type": "display_data",
          "data": {
            "text/plain": [
              "model.bin:   0%|          | 0.00/75.5M [00:00<?, ?B/s]"
            ],
            "application/vnd.jupyter.widget-view+json": {
              "version_major": 2,
              "version_minor": 0,
              "model_id": "c04d275259d74c57974be6e03ff93dfc"
            }
          },
          "metadata": {}
        },
        {
          "output_type": "stream",
          "name": "stdout",
          "text": [
            "✅ Model loaded: tiny.en, compute_type=int8, device=cuda\n",
            "📂 Found 962 audio files in /content/drive/MyDrive/task_dhivehi/chunks\n"
          ]
        },
        {
          "output_type": "stream",
          "name": "stderr",
          "text": [
            "Processing audio:  45%|████▍     | 432/962 [00:00<00:00, 4313.51it/s]"
          ]
        },
        {
          "output_type": "stream",
          "name": "stdout",
          "text": [
            "⚡ Skipped 23gRqCSWxTI_part10.wav (already processed)\n",
            "⚡ Skipped 23gRqCSWxTI_part16.wav (already processed)\n",
            "⚡ Skipped 23gRqCSWxTI_part15.wav (already processed)\n",
            "⚡ Skipped 23gRqCSWxTI_part12.wav (already processed)\n",
            "⚡ Skipped 23gRqCSWxTI_part4.wav (already processed)\n",
            "⚡ Skipped 23gRqCSWxTI_part11.wav (already processed)\n",
            "⚡ Skipped 23gRqCSWxTI_part6.wav (already processed)\n",
            "⚡ Skipped 23gRqCSWxTI_part3.wav (already processed)\n",
            "⚡ Skipped 23gRqCSWxTI_part14.wav (already processed)\n",
            "⚡ Skipped 23gRqCSWxTI_part2.wav (already processed)\n",
            "⚡ Skipped 23gRqCSWxTI_part13.wav (already processed)\n",
            "⚡ Skipped 23gRqCSWxTI_part5.wav (already processed)\n",
            "⚡ Skipped 23gRqCSWxTI_part8.wav (already processed)\n",
            "⚡ Skipped 23gRqCSWxTI_part9.wav (already processed)\n",
            "⚡ Skipped 23gRqCSWxTI_part7.wav (already processed)\n",
            "⚡ Skipped AdtFTnhmIGM_part2.wav (already processed)\n",
            "⚡ Skipped AdtFTnhmIGM_part1.wav (already processed)\n",
            "⚡ Skipped 27hb50BWhFw_part1.wav (already processed)\n",
            "⚡ Skipped AdtFTnhmIGM_part5.wav (already processed)\n",
            "⚡ Skipped AdtFTnhmIGM_part6.wav (already processed)\n",
            "⚡ Skipped B4R04Hxs9m0_part1.wav (already processed)\n",
            "⚡ Skipped B4R04Hxs9m0_part10.wav (already processed)\n",
            "⚡ Skipped AdtFTnhmIGM_part3.wav (already processed)\n",
            "⚡ Skipped AdtFTnhmIGM_part4.wav (already processed)\n",
            "⚡ Skipped B4R04Hxs9m0_part11.wav (already processed)\n",
            "⚡ Skipped B4R04Hxs9m0_part13.wav (already processed)\n",
            "⚡ Skipped B4R04Hxs9m0_part12.wav (already processed)\n",
            "⚡ Skipped B4R04Hxs9m0_part14.wav (already processed)\n",
            "⚡ Skipped B4R04Hxs9m0_part16.wav (already processed)\n",
            "⚡ Skipped B4R04Hxs9m0_part15.wav (already processed)\n",
            "⚡ Skipped B4R04Hxs9m0_part17.wav (already processed)\n",
            "⚡ Skipped B4R04Hxs9m0_part18.wav (already processed)\n",
            "⚡ Skipped B4R04Hxs9m0_part2.wav (already processed)\n",
            "⚡ Skipped B4R04Hxs9m0_part3.wav (already processed)\n",
            "⚡ Skipped B4R04Hxs9m0_part4.wav (already processed)\n",
            "⚡ Skipped B4R04Hxs9m0_part5.wav (already processed)\n",
            "⚡ Skipped B4R04Hxs9m0_part6.wav (already processed)\n",
            "⚡ Skipped B4R04Hxs9m0_part7.wav (already processed)\n",
            "⚡ Skipped B4R04Hxs9m0_part8.wav (already processed)\n",
            "⚡ Skipped B4R04Hxs9m0_part9.wav (already processed)\n",
            "⚡ Skipped Bi5ZFMtQVVw_part1.wav (already processed)\n",
            "⚡ Skipped Bi5ZFMtQVVw_part10.wav (already processed)\n",
            "⚡ Skipped Bi5ZFMtQVVw_part11.wav (already processed)\n",
            "⚡ Skipped Bi5ZFMtQVVw_part12.wav (already processed)\n",
            "⚡ Skipped Bi5ZFMtQVVw_part13.wav (already processed)\n",
            "⚡ Skipped Bi5ZFMtQVVw_part2.wav (already processed)\n",
            "⚡ Skipped Bi5ZFMtQVVw_part3.wav (already processed)\n",
            "⚡ Skipped Bi5ZFMtQVVw_part4.wav (already processed)\n",
            "⚡ Skipped Bi5ZFMtQVVw_part5.wav (already processed)\n",
            "⚡ Skipped Bi5ZFMtQVVw_part6.wav (already processed)\n",
            "⚡ Skipped Bi5ZFMtQVVw_part7.wav (already processed)\n",
            "⚡ Skipped Bi5ZFMtQVVw_part8.wav (already processed)\n",
            "⚡ Skipped Bi5ZFMtQVVw_part9.wav (already processed)\n",
            "⚡ Skipped C2XMBCHPyeM_part1.wav (already processed)\n",
            "⚡ Skipped C2XMBCHPyeM_part2.wav (already processed)\n",
            "⚡ Skipped D2w7udtzrfs_part1.wav (already processed)\n",
            "⚡ Skipped D2w7udtzrfs_part10.wav (already processed)\n",
            "⚡ Skipped D2w7udtzrfs_part11.wav (already processed)\n",
            "⚡ Skipped D2w7udtzrfs_part12.wav (already processed)\n",
            "⚡ Skipped D2w7udtzrfs_part13.wav (already processed)\n",
            "⚡ Skipped D2w7udtzrfs_part14.wav (already processed)\n",
            "⚡ Skipped D2w7udtzrfs_part15.wav (already processed)\n",
            "⚡ Skipped D2w7udtzrfs_part16.wav (already processed)\n",
            "⚡ Skipped D2w7udtzrfs_part17.wav (already processed)\n",
            "⚡ Skipped D2w7udtzrfs_part18.wav (already processed)\n",
            "⚡ Skipped D2w7udtzrfs_part19.wav (already processed)\n",
            "⚡ Skipped D2w7udtzrfs_part2.wav (already processed)\n",
            "⚡ Skipped D2w7udtzrfs_part20.wav (already processed)\n",
            "⚡ Skipped D2w7udtzrfs_part21.wav (already processed)\n",
            "⚡ Skipped D2w7udtzrfs_part22.wav (already processed)\n",
            "⚡ Skipped D2w7udtzrfs_part23.wav (already processed)\n",
            "⚡ Skipped D2w7udtzrfs_part24.wav (already processed)\n",
            "⚡ Skipped D2w7udtzrfs_part25.wav (already processed)\n",
            "⚡ Skipped D2w7udtzrfs_part26.wav (already processed)\n",
            "⚡ Skipped D2w7udtzrfs_part27.wav (already processed)\n",
            "⚡ Skipped D2w7udtzrfs_part28.wav (already processed)\n",
            "⚡ Skipped D2w7udtzrfs_part29.wav (already processed)\n",
            "⚡ Skipped D2w7udtzrfs_part3.wav (already processed)\n",
            "⚡ Skipped D2w7udtzrfs_part30.wav (already processed)\n",
            "⚡ Skipped D2w7udtzrfs_part31.wav (already processed)\n",
            "⚡ Skipped D2w7udtzrfs_part32.wav (already processed)\n",
            "⚡ Skipped D2w7udtzrfs_part33.wav (already processed)\n",
            "⚡ Skipped D2w7udtzrfs_part34.wav (already processed)\n",
            "⚡ Skipped D2w7udtzrfs_part35.wav (already processed)\n",
            "⚡ Skipped D2w7udtzrfs_part5.wav (already processed)\n",
            "⚡ Skipped D2w7udtzrfs_part4.wav (already processed)\n",
            "⚡ Skipped D2w7udtzrfs_part6.wav (already processed)\n",
            "⚡ Skipped D2w7udtzrfs_part7.wav (already processed)\n",
            "⚡ Skipped D2w7udtzrfs_part8.wav (already processed)\n",
            "⚡ Skipped D2w7udtzrfs_part9.wav (already processed)\n",
            "⚡ Skipped DV9MdtGNbP8_part1.wav (already processed)\n",
            "⚡ Skipped DV9MdtGNbP8_part10.wav (already processed)\n",
            "⚡ Skipped DV9MdtGNbP8_part2.wav (already processed)\n",
            "⚡ Skipped DV9MdtGNbP8_part3.wav (already processed)\n",
            "⚡ Skipped DV9MdtGNbP8_part5.wav (already processed)\n",
            "⚡ Skipped DV9MdtGNbP8_part4.wav (already processed)\n",
            "⚡ Skipped DV9MdtGNbP8_part6.wav (already processed)\n",
            "⚡ Skipped DV9MdtGNbP8_part7.wav (already processed)\n",
            "⚡ Skipped DV9MdtGNbP8_part8.wav (already processed)\n",
            "⚡ Skipped DV9MdtGNbP8_part9.wav (already processed)\n",
            "⚡ Skipped EnTP06uXJUw_part1.wav (already processed)\n",
            "⚡ Skipped EnTP06uXJUw_part10.wav (already processed)\n",
            "⚡ Skipped EnTP06uXJUw_part11.wav (already processed)\n",
            "⚡ Skipped EnTP06uXJUw_part12.wav (already processed)\n",
            "⚡ Skipped EnTP06uXJUw_part13.wav (already processed)\n",
            "⚡ Skipped EnTP06uXJUw_part14.wav (already processed)\n",
            "⚡ Skipped EnTP06uXJUw_part2.wav (already processed)\n",
            "⚡ Skipped EnTP06uXJUw_part3.wav (already processed)\n",
            "⚡ Skipped EnTP06uXJUw_part4.wav (already processed)\n",
            "⚡ Skipped EnTP06uXJUw_part5.wav (already processed)\n",
            "⚡ Skipped EnTP06uXJUw_part6.wav (already processed)\n",
            "⚡ Skipped EnTP06uXJUw_part7.wav (already processed)\n",
            "⚡ Skipped EnTP06uXJUw_part8.wav (already processed)\n",
            "⚡ Skipped EnTP06uXJUw_part9.wav (already processed)\n",
            "⚡ Skipped FI5GcSNnrqg_part1.wav (already processed)\n",
            "⚡ Skipped FI5GcSNnrqg_part10.wav (already processed)\n",
            "⚡ Skipped FI5GcSNnrqg_part11.wav (already processed)\n",
            "⚡ Skipped FI5GcSNnrqg_part2.wav (already processed)\n",
            "⚡ Skipped FI5GcSNnrqg_part3.wav (already processed)\n",
            "⚡ Skipped FI5GcSNnrqg_part4.wav (already processed)\n",
            "⚡ Skipped FI5GcSNnrqg_part5.wav (already processed)\n",
            "⚡ Skipped FI5GcSNnrqg_part6.wav (already processed)\n",
            "⚡ Skipped FI5GcSNnrqg_part7.wav (already processed)\n",
            "⚡ Skipped FI5GcSNnrqg_part8.wav (already processed)\n",
            "⚡ Skipped FI5GcSNnrqg_part9.wav (already processed)\n",
            "⚡ Skipped Fo9YlPNIVcw_part1.wav (already processed)\n",
            "⚡ Skipped Fo9YlPNIVcw_part10.wav (already processed)\n",
            "⚡ Skipped Fo9YlPNIVcw_part11.wav (already processed)\n",
            "⚡ Skipped Fo9YlPNIVcw_part12.wav (already processed)\n",
            "⚡ Skipped Fo9YlPNIVcw_part13.wav (already processed)\n",
            "⚡ Skipped Fo9YlPNIVcw_part14.wav (already processed)\n",
            "⚡ Skipped Fo9YlPNIVcw_part15.wav (already processed)\n",
            "⚡ Skipped Fo9YlPNIVcw_part16.wav (already processed)\n",
            "⚡ Skipped Fo9YlPNIVcw_part17.wav (already processed)\n",
            "⚡ Skipped Fo9YlPNIVcw_part18.wav (already processed)\n",
            "⚡ Skipped Fo9YlPNIVcw_part19.wav (already processed)\n",
            "⚡ Skipped Fo9YlPNIVcw_part2.wav (already processed)\n",
            "⚡ Skipped Fo9YlPNIVcw_part20.wav (already processed)\n",
            "⚡ Skipped Fo9YlPNIVcw_part21.wav (already processed)\n",
            "⚡ Skipped Fo9YlPNIVcw_part22.wav (already processed)\n",
            "⚡ Skipped Fo9YlPNIVcw_part23.wav (already processed)\n",
            "⚡ Skipped Fo9YlPNIVcw_part24.wav (already processed)\n",
            "⚡ Skipped Fo9YlPNIVcw_part25.wav (already processed)\n",
            "⚡ Skipped Fo9YlPNIVcw_part26.wav (already processed)\n",
            "⚡ Skipped Fo9YlPNIVcw_part27.wav (already processed)\n",
            "⚡ Skipped Fo9YlPNIVcw_part28.wav (already processed)\n",
            "⚡ Skipped Fo9YlPNIVcw_part29.wav (already processed)\n",
            "⚡ Skipped Fo9YlPNIVcw_part3.wav (already processed)\n",
            "⚡ Skipped Fo9YlPNIVcw_part30.wav (already processed)\n",
            "⚡ Skipped Fo9YlPNIVcw_part31.wav (already processed)\n",
            "⚡ Skipped Fo9YlPNIVcw_part32.wav (already processed)\n",
            "⚡ Skipped Fo9YlPNIVcw_part33.wav (already processed)\n",
            "⚡ Skipped Fo9YlPNIVcw_part34.wav (already processed)\n",
            "⚡ Skipped Fo9YlPNIVcw_part35.wav (already processed)\n",
            "⚡ Skipped Fo9YlPNIVcw_part36.wav (already processed)\n",
            "⚡ Skipped Fo9YlPNIVcw_part4.wav (already processed)\n",
            "⚡ Skipped Fo9YlPNIVcw_part5.wav (already processed)\n",
            "⚡ Skipped Fo9YlPNIVcw_part6.wav (already processed)\n",
            "⚡ Skipped Fo9YlPNIVcw_part7.wav (already processed)\n",
            "⚡ Skipped Fo9YlPNIVcw_part8.wav (already processed)\n",
            "⚡ Skipped Fo9YlPNIVcw_part9.wav (already processed)\n",
            "⚡ Skipped G_aSnapci_I_part1.wav (already processed)\n",
            "⚡ Skipped G_aSnapci_I_part2.wav (already processed)\n",
            "⚡ Skipped G_aSnapci_I_part3.wav (already processed)\n",
            "⚡ Skipped G_aSnapci_I_part4.wav (already processed)\n",
            "⚡ Skipped G_aSnapci_I_part5.wav (already processed)\n",
            "⚡ Skipped G_aSnapci_I_part6.wav (already processed)\n",
            "⚡ Skipped G_aSnapci_I_part7.wav (already processed)\n",
            "⚡ Skipped G_aSnapci_I_part8.wav (already processed)\n",
            "⚡ Skipped GnpNwZon3qk_part1.wav (already processed)\n",
            "⚡ Skipped GnpNwZon3qk_part10.wav (already processed)\n",
            "⚡ Skipped GnpNwZon3qk_part2.wav (already processed)\n",
            "⚡ Skipped GnpNwZon3qk_part3.wav (already processed)\n",
            "⚡ Skipped GnpNwZon3qk_part4.wav (already processed)\n",
            "⚡ Skipped GnpNwZon3qk_part5.wav (already processed)\n",
            "⚡ Skipped GnpNwZon3qk_part6.wav (already processed)\n",
            "⚡ Skipped GnpNwZon3qk_part7.wav (already processed)\n",
            "⚡ Skipped GnpNwZon3qk_part8.wav (already processed)\n",
            "⚡ Skipped GnpNwZon3qk_part9.wav (already processed)\n",
            "⚡ Skipped HHu6YqZQjA4_part1.wav (already processed)\n",
            "⚡ Skipped HHu6YqZQjA4_part2.wav (already processed)\n",
            "⚡ Skipped HHu6YqZQjA4_part3.wav (already processed)\n",
            "⚡ Skipped HHu6YqZQjA4_part4.wav (already processed)\n",
            "⚡ Skipped HHu6YqZQjA4_part5.wav (already processed)\n",
            "⚡ Skipped Hq1HXHWlo6Q_part1.wav (already processed)\n",
            "⚡ Skipped Hq1HXHWlo6Q_part2.wav (already processed)\n",
            "⚡ Skipped HzYbLoCHtL8_part1.wav (already processed)\n",
            "⚡ Skipped HzYbLoCHtL8_part10.wav (already processed)\n",
            "⚡ Skipped HzYbLoCHtL8_part11.wav (already processed)\n",
            "⚡ Skipped HzYbLoCHtL8_part12.wav (already processed)\n",
            "⚡ Skipped HzYbLoCHtL8_part13.wav (already processed)\n",
            "⚡ Skipped HzYbLoCHtL8_part2.wav (already processed)\n",
            "⚡ Skipped HzYbLoCHtL8_part3.wav (already processed)\n",
            "⚡ Skipped HzYbLoCHtL8_part4.wav (already processed)\n",
            "⚡ Skipped HzYbLoCHtL8_part5.wav (already processed)\n",
            "⚡ Skipped HzYbLoCHtL8_part6.wav (already processed)\n",
            "⚡ Skipped HzYbLoCHtL8_part7.wav (already processed)\n",
            "⚡ Skipped HzYbLoCHtL8_part8.wav (already processed)\n",
            "⚡ Skipped HzYbLoCHtL8_part9.wav (already processed)\n",
            "⚡ Skipped IIX_T96_YlU_part1.wav (already processed)\n",
            "⚡ Skipped IIX_T96_YlU_part2.wav (already processed)\n",
            "⚡ Skipped J9PzdmswVMU_part1.wav (already processed)\n",
            "⚡ Skipped J9PzdmswVMU_part10.wav (already processed)\n",
            "⚡ Skipped J9PzdmswVMU_part11.wav (already processed)\n",
            "⚡ Skipped J9PzdmswVMU_part12.wav (already processed)\n",
            "⚡ Skipped J9PzdmswVMU_part13.wav (already processed)\n",
            "⚡ Skipped J9PzdmswVMU_part14.wav (already processed)\n",
            "⚡ Skipped J9PzdmswVMU_part15.wav (already processed)\n",
            "⚡ Skipped J9PzdmswVMU_part16.wav (already processed)\n",
            "⚡ Skipped J9PzdmswVMU_part17.wav (already processed)\n",
            "⚡ Skipped J9PzdmswVMU_part18.wav (already processed)\n",
            "⚡ Skipped J9PzdmswVMU_part19.wav (already processed)\n",
            "⚡ Skipped J9PzdmswVMU_part2.wav (already processed)\n",
            "⚡ Skipped J9PzdmswVMU_part20.wav (already processed)\n",
            "⚡ Skipped J9PzdmswVMU_part21.wav (already processed)\n",
            "⚡ Skipped J9PzdmswVMU_part22.wav (already processed)\n",
            "⚡ Skipped J9PzdmswVMU_part23.wav (already processed)\n",
            "⚡ Skipped J9PzdmswVMU_part24.wav (already processed)\n",
            "⚡ Skipped J9PzdmswVMU_part25.wav (already processed)\n",
            "⚡ Skipped J9PzdmswVMU_part26.wav (already processed)\n",
            "⚡ Skipped J9PzdmswVMU_part27.wav (already processed)\n",
            "⚡ Skipped J9PzdmswVMU_part28.wav (already processed)\n",
            "⚡ Skipped J9PzdmswVMU_part29.wav (already processed)\n",
            "⚡ Skipped J9PzdmswVMU_part3.wav (already processed)\n",
            "⚡ Skipped J9PzdmswVMU_part30.wav (already processed)\n",
            "⚡ Skipped J9PzdmswVMU_part4.wav (already processed)\n",
            "⚡ Skipped J9PzdmswVMU_part5.wav (already processed)\n",
            "⚡ Skipped J9PzdmswVMU_part6.wav (already processed)\n",
            "⚡ Skipped J9PzdmswVMU_part7.wav (already processed)\n",
            "⚡ Skipped J9PzdmswVMU_part8.wav (already processed)\n",
            "⚡ Skipped J9PzdmswVMU_part9.wav (already processed)\n",
            "⚡ Skipped JFR2WFm7Q4U_part1.wav (already processed)\n",
            "⚡ Skipped KjTNvsc4wYQ_part1.wav (already processed)\n",
            "⚡ Skipped KjTNvsc4wYQ_part2.wav (already processed)\n",
            "⚡ Skipped KjTNvsc4wYQ_part3.wav (already processed)\n",
            "⚡ Skipped KjTNvsc4wYQ_part4.wav (already processed)\n",
            "⚡ Skipped KjTNvsc4wYQ_part5.wav (already processed)\n",
            "⚡ Skipped KjTNvsc4wYQ_part6.wav (already processed)\n",
            "⚡ Skipped Le_a7ic_nDk_part1.wav (already processed)\n",
            "⚡ Skipped Le_a7ic_nDk_part2.wav (already processed)\n",
            "⚡ Skipped Le_a7ic_nDk_part3.wav (already processed)\n",
            "⚡ Skipped Le_a7ic_nDk_part4.wav (already processed)\n",
            "⚡ Skipped Le_a7ic_nDk_part5.wav (already processed)\n",
            "⚡ Skipped Mp9MhaDxf1I_part1.wav (already processed)\n",
            "⚡ Skipped Mp9MhaDxf1I_part10.wav (already processed)\n",
            "⚡ Skipped Mp9MhaDxf1I_part12.wav (already processed)\n",
            "⚡ Skipped Mp9MhaDxf1I_part11.wav (already processed)\n",
            "⚡ Skipped Mp9MhaDxf1I_part13.wav (already processed)\n",
            "⚡ Skipped Mp9MhaDxf1I_part14.wav (already processed)\n",
            "⚡ Skipped Mp9MhaDxf1I_part15.wav (already processed)\n",
            "⚡ Skipped Mp9MhaDxf1I_part16.wav (already processed)\n",
            "⚡ Skipped Mp9MhaDxf1I_part2.wav (already processed)\n",
            "⚡ Skipped Mp9MhaDxf1I_part3.wav (already processed)\n",
            "⚡ Skipped Mp9MhaDxf1I_part4.wav (already processed)\n",
            "⚡ Skipped Mp9MhaDxf1I_part5.wav (already processed)\n",
            "⚡ Skipped Mp9MhaDxf1I_part6.wav (already processed)\n",
            "⚡ Skipped Mp9MhaDxf1I_part7.wav (already processed)\n",
            "⚡ Skipped Mp9MhaDxf1I_part8.wav (already processed)\n",
            "⚡ Skipped Mp9MhaDxf1I_part9.wav (already processed)\n",
            "⚡ Skipped MrKQqneQ3TQ_part1.wav (already processed)\n",
            "⚡ Skipped MrKQqneQ3TQ_part10.wav (already processed)\n",
            "⚡ Skipped MrKQqneQ3TQ_part11.wav (already processed)\n",
            "⚡ Skipped MrKQqneQ3TQ_part12.wav (already processed)\n",
            "⚡ Skipped MrKQqneQ3TQ_part13.wav (already processed)\n",
            "⚡ Skipped MrKQqneQ3TQ_part14.wav (already processed)\n",
            "⚡ Skipped MrKQqneQ3TQ_part15.wav (already processed)\n",
            "⚡ Skipped MrKQqneQ3TQ_part16.wav (already processed)\n",
            "⚡ Skipped MrKQqneQ3TQ_part17.wav (already processed)\n",
            "⚡ Skipped MrKQqneQ3TQ_part18.wav (already processed)\n",
            "⚡ Skipped MrKQqneQ3TQ_part19.wav (already processed)\n",
            "⚡ Skipped MrKQqneQ3TQ_part2.wav (already processed)\n",
            "⚡ Skipped MrKQqneQ3TQ_part20.wav (already processed)\n",
            "⚡ Skipped MrKQqneQ3TQ_part21.wav (already processed)\n",
            "⚡ Skipped MrKQqneQ3TQ_part22.wav (already processed)\n",
            "⚡ Skipped MrKQqneQ3TQ_part23.wav (already processed)\n",
            "⚡ Skipped MrKQqneQ3TQ_part24.wav (already processed)\n",
            "⚡ Skipped MrKQqneQ3TQ_part25.wav (already processed)\n",
            "⚡ Skipped MrKQqneQ3TQ_part3.wav (already processed)\n",
            "⚡ Skipped MrKQqneQ3TQ_part4.wav (already processed)\n",
            "⚡ Skipped MrKQqneQ3TQ_part5.wav (already processed)\n",
            "⚡ Skipped MrKQqneQ3TQ_part6.wav (already processed)\n",
            "⚡ Skipped MrKQqneQ3TQ_part7.wav (already processed)\n",
            "⚡ Skipped MrKQqneQ3TQ_part8.wav (already processed)\n",
            "⚡ Skipped MrKQqneQ3TQ_part9.wav (already processed)\n",
            "⚡ Skipped OYV3JJ4Z7A4_part1.wav (already processed)\n",
            "⚡ Skipped OYV3JJ4Z7A4_part10.wav (already processed)\n",
            "⚡ Skipped OYV3JJ4Z7A4_part11.wav (already processed)\n",
            "⚡ Skipped OYV3JJ4Z7A4_part12.wav (already processed)\n",
            "⚡ Skipped OYV3JJ4Z7A4_part13.wav (already processed)\n",
            "⚡ Skipped OYV3JJ4Z7A4_part14.wav (already processed)\n",
            "⚡ Skipped OYV3JJ4Z7A4_part15.wav (already processed)\n",
            "⚡ Skipped OYV3JJ4Z7A4_part2.wav (already processed)\n",
            "⚡ Skipped OYV3JJ4Z7A4_part3.wav (already processed)\n",
            "⚡ Skipped OYV3JJ4Z7A4_part4.wav (already processed)\n",
            "⚡ Skipped OYV3JJ4Z7A4_part5.wav (already processed)\n",
            "⚡ Skipped OYV3JJ4Z7A4_part6.wav (already processed)\n",
            "⚡ Skipped OYV3JJ4Z7A4_part7.wav (already processed)\n",
            "⚡ Skipped OYV3JJ4Z7A4_part8.wav (already processed)\n",
            "⚡ Skipped OYV3JJ4Z7A4_part9.wav (already processed)\n",
            "⚡ Skipped Pcni2vi_ZJw_part1.wav (already processed)\n",
            "⚡ Skipped Pcni2vi_ZJw_part2.wav (already processed)\n",
            "⚡ Skipped Pcni2vi_ZJw_part4.wav (already processed)\n",
            "⚡ Skipped Pcni2vi_ZJw_part3.wav (already processed)\n",
            "⚡ Skipped Pcni2vi_ZJw_part5.wav (already processed)\n",
            "⚡ Skipped Pfx_3cz2-Uo_part1.wav (already processed)\n",
            "⚡ Skipped Pfx_3cz2-Uo_part10.wav (already processed)\n",
            "⚡ Skipped Pfx_3cz2-Uo_part11.wav (already processed)\n",
            "⚡ Skipped Pfx_3cz2-Uo_part12.wav (already processed)\n",
            "⚡ Skipped Pfx_3cz2-Uo_part13.wav (already processed)\n",
            "⚡ Skipped Pfx_3cz2-Uo_part15.wav (already processed)\n",
            "⚡ Skipped Pfx_3cz2-Uo_part2.wav (already processed)\n",
            "⚡ Skipped Pfx_3cz2-Uo_part14.wav (already processed)\n",
            "⚡ Skipped Pfx_3cz2-Uo_part3.wav (already processed)\n",
            "⚡ Skipped Pfx_3cz2-Uo_part4.wav (already processed)\n",
            "⚡ Skipped Pfx_3cz2-Uo_part5.wav (already processed)\n",
            "⚡ Skipped Pfx_3cz2-Uo_part6.wav (already processed)\n",
            "⚡ Skipped Pfx_3cz2-Uo_part7.wav (already processed)\n",
            "⚡ Skipped Pfx_3cz2-Uo_part8.wav (already processed)\n",
            "⚡ Skipped Pfx_3cz2-Uo_part9.wav (already processed)\n",
            "⚡ Skipped PmQ3XfsOQSM_part1.wav (already processed)\n",
            "⚡ Skipped RLnOC44E8Lo_part1.wav (already processed)\n",
            "⚡ Skipped RLnOC44E8Lo_part10.wav (already processed)\n",
            "⚡ Skipped RLnOC44E8Lo_part11.wav (already processed)\n",
            "⚡ Skipped RLnOC44E8Lo_part12.wav (already processed)\n",
            "⚡ Skipped RLnOC44E8Lo_part14.wav (already processed)\n",
            "⚡ Skipped RLnOC44E8Lo_part13.wav (already processed)\n",
            "⚡ Skipped RLnOC44E8Lo_part15.wav (already processed)\n",
            "⚡ Skipped RLnOC44E8Lo_part2.wav (already processed)\n",
            "⚡ Skipped RLnOC44E8Lo_part3.wav (already processed)\n",
            "⚡ Skipped RLnOC44E8Lo_part4.wav (already processed)\n",
            "⚡ Skipped RLnOC44E8Lo_part5.wav (already processed)\n",
            "⚡ Skipped RLnOC44E8Lo_part6.wav (already processed)\n",
            "⚡ Skipped RLnOC44E8Lo_part7.wav (already processed)\n",
            "⚡ Skipped RLnOC44E8Lo_part8.wav (already processed)\n",
            "⚡ Skipped RLnOC44E8Lo_part9.wav (already processed)\n",
            "⚡ Skipped Sc0ilLhXcbc_part1.wav (already processed)\n",
            "⚡ Skipped Sc0ilLhXcbc_part2.wav (already processed)\n",
            "⚡ Skipped Shdn58IKK3o_part1.wav (already processed)\n",
            "⚡ Skipped Shdn58IKK3o_part10.wav (already processed)\n",
            "⚡ Skipped Shdn58IKK3o_part11.wav (already processed)\n",
            "⚡ Skipped Shdn58IKK3o_part2.wav (already processed)\n",
            "⚡ Skipped Shdn58IKK3o_part3.wav (already processed)\n",
            "⚡ Skipped Shdn58IKK3o_part4.wav (already processed)\n",
            "⚡ Skipped Shdn58IKK3o_part5.wav (already processed)\n",
            "⚡ Skipped Shdn58IKK3o_part6.wav (already processed)\n",
            "⚡ Skipped Shdn58IKK3o_part8.wav (already processed)\n",
            "⚡ Skipped Shdn58IKK3o_part7.wav (already processed)\n",
            "⚡ Skipped Shdn58IKK3o_part9.wav (already processed)\n",
            "⚡ Skipped T1SG3Q22u6E_part1.wav (already processed)\n",
            "⚡ Skipped T1SG3Q22u6E_part10.wav (already processed)\n",
            "⚡ Skipped T1SG3Q22u6E_part11.wav (already processed)\n",
            "⚡ Skipped T1SG3Q22u6E_part13.wav (already processed)\n",
            "⚡ Skipped T1SG3Q22u6E_part12.wav (already processed)\n",
            "⚡ Skipped T1SG3Q22u6E_part14.wav (already processed)\n",
            "⚡ Skipped T1SG3Q22u6E_part16.wav (already processed)\n",
            "⚡ Skipped T1SG3Q22u6E_part15.wav (already processed)\n",
            "⚡ Skipped T1SG3Q22u6E_part17.wav (already processed)\n",
            "⚡ Skipped T1SG3Q22u6E_part19.wav (already processed)\n",
            "⚡ Skipped T1SG3Q22u6E_part18.wav (already processed)\n",
            "⚡ Skipped T1SG3Q22u6E_part2.wav (already processed)\n",
            "⚡ Skipped T1SG3Q22u6E_part21.wav (already processed)\n",
            "⚡ Skipped T1SG3Q22u6E_part20.wav (already processed)\n",
            "⚡ Skipped T1SG3Q22u6E_part22.wav (already processed)\n",
            "⚡ Skipped T1SG3Q22u6E_part24.wav (already processed)\n",
            "⚡ Skipped T1SG3Q22u6E_part23.wav (already processed)\n",
            "⚡ Skipped T1SG3Q22u6E_part25.wav (already processed)\n",
            "⚡ Skipped T1SG3Q22u6E_part26.wav (already processed)\n",
            "⚡ Skipped T1SG3Q22u6E_part27.wav (already processed)\n",
            "⚡ Skipped T1SG3Q22u6E_part28.wav (already processed)\n",
            "⚡ Skipped T1SG3Q22u6E_part3.wav (already processed)\n",
            "⚡ Skipped T1SG3Q22u6E_part29.wav (already processed)\n",
            "⚡ Skipped T1SG3Q22u6E_part31.wav (already processed)\n",
            "⚡ Skipped T1SG3Q22u6E_part32.wav (already processed)\n",
            "⚡ Skipped T1SG3Q22u6E_part30.wav (already processed)\n",
            "⚡ Skipped T1SG3Q22u6E_part33.wav (already processed)\n",
            "⚡ Skipped T1SG3Q22u6E_part4.wav (already processed)\n",
            "⚡ Skipped T1SG3Q22u6E_part5.wav (already processed)\n",
            "⚡ Skipped T1SG3Q22u6E_part6.wav (already processed)\n",
            "⚡ Skipped T1SG3Q22u6E_part7.wav (already processed)\n",
            "⚡ Skipped T1SG3Q22u6E_part8.wav (already processed)\n",
            "⚡ Skipped T1SG3Q22u6E_part9.wav (already processed)\n",
            "⚡ Skipped TqaR_u4Xle4_part1.wav (already processed)\n",
            "⚡ Skipped TqaR_u4Xle4_part2.wav (already processed)\n",
            "⚡ Skipped TqaR_u4Xle4_part3.wav (already processed)\n",
            "⚡ Skipped TqaR_u4Xle4_part4.wav (already processed)\n",
            "⚡ Skipped TqaR_u4Xle4_part5.wav (already processed)\n",
            "⚡ Skipped TqaR_u4Xle4_part6.wav (already processed)\n",
            "⚡ Skipped TyKxarCPprU_part1.wav (already processed)\n",
            "⚡ Skipped TyKxarCPprU_part10.wav (already processed)\n",
            "⚡ Skipped TyKxarCPprU_part2.wav (already processed)\n",
            "⚡ Skipped TyKxarCPprU_part3.wav (already processed)\n",
            "⚡ Skipped TyKxarCPprU_part4.wav (already processed)\n",
            "⚡ Skipped TyKxarCPprU_part5.wav (already processed)\n",
            "⚡ Skipped TyKxarCPprU_part6.wav (already processed)\n",
            "⚡ Skipped TyKxarCPprU_part7.wav (already processed)\n",
            "⚡ Skipped TyKxarCPprU_part8.wav (already processed)\n",
            "⚡ Skipped TyKxarCPprU_part9.wav (already processed)\n",
            "⚡ Skipped UcNDA5Btn_A_part1.wav (already processed)\n",
            "⚡ Skipped UcNDA5Btn_A_part10.wav (already processed)\n",
            "⚡ Skipped UcNDA5Btn_A_part11.wav (already processed)\n",
            "⚡ Skipped UcNDA5Btn_A_part12.wav (already processed)\n",
            "⚡ Skipped UcNDA5Btn_A_part13.wav (already processed)\n",
            "⚡ Skipped UcNDA5Btn_A_part14.wav (already processed)\n",
            "⚡ Skipped UcNDA5Btn_A_part15.wav (already processed)\n",
            "⚡ Skipped UcNDA5Btn_A_part16.wav (already processed)\n",
            "⚡ Skipped UcNDA5Btn_A_part17.wav (already processed)\n",
            "⚡ Skipped UcNDA5Btn_A_part18.wav (already processed)\n",
            "⚡ Skipped UcNDA5Btn_A_part19.wav (already processed)\n",
            "⚡ Skipped UcNDA5Btn_A_part2.wav (already processed)\n",
            "⚡ Skipped UcNDA5Btn_A_part20.wav (already processed)\n",
            "⚡ Skipped UcNDA5Btn_A_part21.wav (already processed)\n",
            "⚡ Skipped UcNDA5Btn_A_part22.wav (already processed)\n",
            "⚡ Skipped UcNDA5Btn_A_part23.wav (already processed)\n",
            "⚡ Skipped UcNDA5Btn_A_part24.wav (already processed)\n",
            "⚡ Skipped UcNDA5Btn_A_part25.wav (already processed)\n",
            "⚡ Skipped UcNDA5Btn_A_part26.wav (already processed)\n",
            "⚡ Skipped UcNDA5Btn_A_part27.wav (already processed)\n",
            "⚡ Skipped UcNDA5Btn_A_part28.wav (already processed)\n",
            "⚡ Skipped UcNDA5Btn_A_part29.wav (already processed)\n",
            "⚡ Skipped UcNDA5Btn_A_part3.wav (already processed)\n",
            "⚡ Skipped UcNDA5Btn_A_part30.wav (already processed)\n",
            "⚡ Skipped UcNDA5Btn_A_part31.wav (already processed)\n",
            "⚡ Skipped UcNDA5Btn_A_part32.wav (already processed)\n",
            "⚡ Skipped UcNDA5Btn_A_part4.wav (already processed)\n",
            "⚡ Skipped UcNDA5Btn_A_part5.wav (already processed)\n",
            "⚡ Skipped UcNDA5Btn_A_part6.wav (already processed)\n",
            "⚡ Skipped UcNDA5Btn_A_part7.wav (already processed)\n",
            "⚡ Skipped UcNDA5Btn_A_part8.wav (already processed)\n",
            "⚡ Skipped UcNDA5Btn_A_part9.wav (already processed)\n",
            "⚡ Skipped VKEIG3a8URw_part1.wav (already processed)\n",
            "⚡ Skipped VKEIG3a8URw_part10.wav (already processed)\n",
            "⚡ Skipped VKEIG3a8URw_part11.wav (already processed)\n",
            "⚡ Skipped VKEIG3a8URw_part12.wav (already processed)\n",
            "⚡ Skipped VKEIG3a8URw_part13.wav (already processed)\n",
            "⚡ Skipped VKEIG3a8URw_part15.wav (already processed)\n",
            "⚡ Skipped VKEIG3a8URw_part14.wav (already processed)\n",
            "⚡ Skipped VKEIG3a8URw_part16.wav (already processed)\n",
            "⚡ Skipped VKEIG3a8URw_part17.wav (already processed)\n",
            "⚡ Skipped VKEIG3a8URw_part18.wav (already processed)\n",
            "⚡ Skipped VKEIG3a8URw_part19.wav (already processed)\n",
            "⚡ Skipped VKEIG3a8URw_part2.wav (already processed)\n",
            "⚡ Skipped VKEIG3a8URw_part20.wav (already processed)\n",
            "⚡ Skipped VKEIG3a8URw_part21.wav (already processed)\n",
            "⚡ Skipped VKEIG3a8URw_part22.wav (already processed)\n",
            "⚡ Skipped VKEIG3a8URw_part3.wav (already processed)\n",
            "⚡ Skipped VKEIG3a8URw_part4.wav (already processed)\n",
            "⚡ Skipped VKEIG3a8URw_part5.wav (already processed)\n",
            "⚡ Skipped VKEIG3a8URw_part6.wav (already processed)\n",
            "⚡ Skipped VKEIG3a8URw_part7.wav (already processed)\n",
            "⚡ Skipped VKEIG3a8URw_part8.wav (already processed)\n",
            "⚡ Skipped VKEIG3a8URw_part9.wav (already processed)\n",
            "⚡ Skipped WsDPnAtPDRo_part1.wav (already processed)\n",
            "⚡ Skipped WsDPnAtPDRo_part10.wav (already processed)\n",
            "⚡ Skipped WsDPnAtPDRo_part11.wav (already processed)\n",
            "⚡ Skipped WsDPnAtPDRo_part12.wav (already processed)\n",
            "⚡ Skipped WsDPnAtPDRo_part13.wav (already processed)\n",
            "⚡ Skipped WsDPnAtPDRo_part14.wav (already processed)\n",
            "⚡ Skipped WsDPnAtPDRo_part15.wav (already processed)\n",
            "⚡ Skipped WsDPnAtPDRo_part16.wav (already processed)\n",
            "⚡ Skipped WsDPnAtPDRo_part17.wav (already processed)\n",
            "⚡ Skipped WsDPnAtPDRo_part18.wav (already processed)\n",
            "⚡ Skipped WsDPnAtPDRo_part19.wav (already processed)\n",
            "⚡ Skipped WsDPnAtPDRo_part2.wav (already processed)\n",
            "⚡ Skipped WsDPnAtPDRo_part20.wav (already processed)\n",
            "⚡ Skipped WsDPnAtPDRo_part3.wav (already processed)\n",
            "⚡ Skipped WsDPnAtPDRo_part4.wav (already processed)\n",
            "⚡ Skipped WsDPnAtPDRo_part5.wav (already processed)\n",
            "⚡ Skipped WsDPnAtPDRo_part6.wav (already processed)\n",
            "⚡ Skipped WsDPnAtPDRo_part7.wav (already processed)\n",
            "⚡ Skipped WsDPnAtPDRo_part8.wav (already processed)\n",
            "⚡ Skipped WsDPnAtPDRo_part9.wav (already processed)\n",
            "⚡ Skipped WuAMNLEZmI8_part1.wav (already processed)\n",
            "⚡ Skipped XGU7oD9JVhU_part1.wav (already processed)\n",
            "⚡ Skipped XGU7oD9JVhU_part10.wav (already processed)\n",
            "⚡ Skipped XGU7oD9JVhU_part11.wav (already processed)\n",
            "⚡ Skipped XGU7oD9JVhU_part12.wav (already processed)\n",
            "⚡ Skipped XGU7oD9JVhU_part13.wav (already processed)\n",
            "⚡ Skipped XGU7oD9JVhU_part2.wav (already processed)\n",
            "⚡ Skipped XGU7oD9JVhU_part3.wav (already processed)\n",
            "⚡ Skipped XGU7oD9JVhU_part4.wav (already processed)\n",
            "⚡ Skipped XGU7oD9JVhU_part5.wav (already processed)\n",
            "⚡ Skipped XGU7oD9JVhU_part6.wav (already processed)\n",
            "⚡ Skipped XGU7oD9JVhU_part7.wav (already processed)\n",
            "⚡ Skipped XGU7oD9JVhU_part8.wav (already processed)\n",
            "⚡ Skipped XGU7oD9JVhU_part9.wav (already processed)\n",
            "⚡ Skipped YSM7tuP9vGw_part1.wav (already processed)\n",
            "⚡ Skipped YSM7tuP9vGw_part10.wav (already processed)\n",
            "⚡ Skipped YSM7tuP9vGw_part11.wav (already processed)\n",
            "⚡ Skipped YSM7tuP9vGw_part12.wav (already processed)\n",
            "⚡ Skipped YSM7tuP9vGw_part13.wav (already processed)\n",
            "⚡ Skipped YSM7tuP9vGw_part14.wav (already processed)\n",
            "⚡ Skipped YSM7tuP9vGw_part15.wav (already processed)\n",
            "⚡ Skipped YSM7tuP9vGw_part16.wav (already processed)\n",
            "⚡ Skipped YSM7tuP9vGw_part17.wav (already processed)\n",
            "⚡ Skipped YSM7tuP9vGw_part18.wav (already processed)\n",
            "⚡ Skipped YSM7tuP9vGw_part19.wav (already processed)\n",
            "⚡ Skipped YSM7tuP9vGw_part2.wav (already processed)\n",
            "⚡ Skipped YSM7tuP9vGw_part20.wav (already processed)\n",
            "⚡ Skipped YSM7tuP9vGw_part21.wav (already processed)\n",
            "⚡ Skipped YSM7tuP9vGw_part22.wav (already processed)\n",
            "⚡ Skipped YSM7tuP9vGw_part23.wav (already processed)\n",
            "⚡ Skipped YSM7tuP9vGw_part24.wav (already processed)\n",
            "⚡ Skipped YSM7tuP9vGw_part26.wav (already processed)\n",
            "⚡ Skipped YSM7tuP9vGw_part25.wav (already processed)\n",
            "⚡ Skipped YSM7tuP9vGw_part27.wav (already processed)\n",
            "⚡ Skipped YSM7tuP9vGw_part28.wav (already processed)\n",
            "⚡ Skipped YSM7tuP9vGw_part29.wav (already processed)\n",
            "⚡ Skipped YSM7tuP9vGw_part3.wav (already processed)\n",
            "⚡ Skipped YSM7tuP9vGw_part30.wav (already processed)\n",
            "⚡ Skipped YSM7tuP9vGw_part31.wav (already processed)\n",
            "⚡ Skipped YSM7tuP9vGw_part4.wav (already processed)\n",
            "⚡ Skipped YSM7tuP9vGw_part5.wav (already processed)\n",
            "⚡ Skipped YSM7tuP9vGw_part6.wav (already processed)\n",
            "⚡ Skipped YSM7tuP9vGw_part7.wav (already processed)\n",
            "⚡ Skipped YSM7tuP9vGw_part8.wav (already processed)\n",
            "⚡ Skipped YSM7tuP9vGw_part9.wav (already processed)\n",
            "⚡ Skipped Y_Dc1Ro0M6g_part1.wav (already processed)\n",
            "⚡ Skipped Y_Dc1Ro0M6g_part2.wav (already processed)\n",
            "⚡ Skipped Y_Dc1Ro0M6g_part3.wav (already processed)\n",
            "⚡ Skipped Y_Dc1Ro0M6g_part4.wav (already processed)\n",
            "⚡ Skipped Y_Dc1Ro0M6g_part5.wav (already processed)\n",
            "⚡ Skipped Y_Dc1Ro0M6g_part6.wav (already processed)\n",
            "⚡ Skipped Y_Dc1Ro0M6g_part8.wav (already processed)\n",
            "⚡ Skipped YbIFrPCJWNM_part1.wav (already processed)\n",
            "⚡ Skipped Y_Dc1Ro0M6g_part7.wav (already processed)\n",
            "⚡ Skipped YbIFrPCJWNM_part10.wav (already processed)\n",
            "⚡ Skipped YbIFrPCJWNM_part11.wav (already processed)\n",
            "⚡ Skipped YbIFrPCJWNM_part12.wav (already processed)\n",
            "⚡ Skipped YbIFrPCJWNM_part13.wav (already processed)\n",
            "⚡ Skipped YbIFrPCJWNM_part14.wav (already processed)\n",
            "⚡ Skipped YbIFrPCJWNM_part15.wav (already processed)\n",
            "⚡ Skipped YbIFrPCJWNM_part16.wav (already processed)\n",
            "⚡ Skipped YbIFrPCJWNM_part17.wav (already processed)\n",
            "⚡ Skipped YbIFrPCJWNM_part18.wav (already processed)\n",
            "⚡ Skipped YbIFrPCJWNM_part19.wav (already processed)\n",
            "⚡ Skipped YbIFrPCJWNM_part20.wav (already processed)\n",
            "⚡ Skipped YbIFrPCJWNM_part2.wav (already processed)\n",
            "⚡ Skipped YbIFrPCJWNM_part21.wav (already processed)\n",
            "⚡ Skipped YbIFrPCJWNM_part22.wav (already processed)\n",
            "⚡ Skipped YbIFrPCJWNM_part23.wav (already processed)\n",
            "⚡ Skipped YbIFrPCJWNM_part24.wav (already processed)\n",
            "⚡ Skipped YbIFrPCJWNM_part26.wav (already processed)\n",
            "⚡ Skipped YbIFrPCJWNM_part25.wav (already processed)\n",
            "⚡ Skipped YbIFrPCJWNM_part27.wav (already processed)\n",
            "⚡ Skipped YbIFrPCJWNM_part29.wav (already processed)\n",
            "⚡ Skipped YbIFrPCJWNM_part28.wav (already processed)\n",
            "⚡ Skipped YbIFrPCJWNM_part3.wav (already processed)\n",
            "⚡ Skipped YbIFrPCJWNM_part31.wav (already processed)\n",
            "⚡ Skipped YbIFrPCJWNM_part30.wav (already processed)\n",
            "⚡ Skipped YbIFrPCJWNM_part4.wav (already processed)\n",
            "⚡ Skipped YbIFrPCJWNM_part5.wav (already processed)\n",
            "⚡ Skipped YbIFrPCJWNM_part6.wav (already processed)\n",
            "⚡ Skipped YbIFrPCJWNM_part7.wav (already processed)\n",
            "⚡ Skipped YbIFrPCJWNM_part8.wav (already processed)\n",
            "⚡ Skipped YbIFrPCJWNM_part9.wav (already processed)\n",
            "⚡ Skipped ZdtQhM2kWi4_part1.wav (already processed)\n",
            "⚡ Skipped ZdtQhM2kWi4_part10.wav (already processed)\n",
            "⚡ Skipped ZdtQhM2kWi4_part11.wav (already processed)\n",
            "⚡ Skipped ZdtQhM2kWi4_part12.wav (already processed)\n",
            "⚡ Skipped ZdtQhM2kWi4_part13.wav (already processed)\n",
            "⚡ Skipped ZdtQhM2kWi4_part14.wav (already processed)\n",
            "⚡ Skipped ZdtQhM2kWi4_part15.wav (already processed)\n",
            "⚡ Skipped ZdtQhM2kWi4_part16.wav (already processed)\n",
            "⚡ Skipped ZdtQhM2kWi4_part17.wav (already processed)\n",
            "⚡ Skipped ZdtQhM2kWi4_part18.wav (already processed)\n",
            "⚡ Skipped ZdtQhM2kWi4_part19.wav (already processed)\n",
            "⚡ Skipped ZdtQhM2kWi4_part2.wav (already processed)\n",
            "⚡ Skipped ZdtQhM2kWi4_part20.wav (already processed)\n",
            "⚡ Skipped ZdtQhM2kWi4_part21.wav (already processed)\n",
            "⚡ Skipped ZdtQhM2kWi4_part22.wav (already processed)\n",
            "⚡ Skipped ZdtQhM2kWi4_part23.wav (already processed)\n",
            "⚡ Skipped ZdtQhM2kWi4_part24.wav (already processed)\n",
            "⚡ Skipped ZdtQhM2kWi4_part25.wav (already processed)\n",
            "⚡ Skipped ZdtQhM2kWi4_part3.wav (already processed)\n",
            "⚡ Skipped ZdtQhM2kWi4_part4.wav (already processed)\n",
            "⚡ Skipped ZdtQhM2kWi4_part5.wav (already processed)\n",
            "⚡ Skipped ZdtQhM2kWi4_part6.wav (already processed)\n",
            "⚡ Skipped ZdtQhM2kWi4_part7.wav (already processed)\n",
            "⚡ Skipped ZdtQhM2kWi4_part8.wav (already processed)\n",
            "⚡ Skipped ZdtQhM2kWi4_part9.wav (already processed)\n",
            "⚡ Skipped aHF7nsMAv1Y_part1.wav (already processed)\n",
            "⚡ Skipped bAoWnQyBIWA_part1.wav (already processed)\n",
            "⚡ Skipped bAoWnQyBIWA_part10.wav (already processed)\n",
            "⚡ Skipped bAoWnQyBIWA_part11.wav (already processed)\n",
            "⚡ Skipped bAoWnQyBIWA_part12.wav (already processed)\n",
            "⚡ Skipped bAoWnQyBIWA_part2.wav (already processed)\n",
            "⚡ Skipped bAoWnQyBIWA_part3.wav (already processed)\n",
            "⚡ Skipped bAoWnQyBIWA_part4.wav (already processed)\n",
            "⚡ Skipped bAoWnQyBIWA_part5.wav (already processed)\n",
            "⚡ Skipped bAoWnQyBIWA_part6.wav (already processed)\n",
            "⚡ Skipped bAoWnQyBIWA_part7.wav (already processed)\n",
            "⚡ Skipped bAoWnQyBIWA_part8.wav (already processed)\n",
            "⚡ Skipped bAoWnQyBIWA_part9.wav (already processed)\n",
            "⚡ Skipped bbRAvMERnPI_part1.wav (already processed)\n",
            "⚡ Skipped bbRAvMERnPI_part10.wav (already processed)\n",
            "⚡ Skipped bbRAvMERnPI_part11.wav (already processed)\n",
            "⚡ Skipped bbRAvMERnPI_part12.wav (already processed)\n",
            "⚡ Skipped bbRAvMERnPI_part13.wav (already processed)\n",
            "⚡ Skipped bbRAvMERnPI_part14.wav (already processed)\n",
            "⚡ Skipped bbRAvMERnPI_part15.wav (already processed)\n",
            "⚡ Skipped bbRAvMERnPI_part16.wav (already processed)\n",
            "⚡ Skipped bbRAvMERnPI_part17.wav (already processed)\n",
            "⚡ Skipped bbRAvMERnPI_part18.wav (already processed)\n",
            "⚡ Skipped bbRAvMERnPI_part19.wav (already processed)\n",
            "⚡ Skipped bbRAvMERnPI_part2.wav (already processed)\n",
            "⚡ Skipped bbRAvMERnPI_part20.wav (already processed)\n",
            "⚡ Skipped bbRAvMERnPI_part21.wav (already processed)\n",
            "⚡ Skipped bbRAvMERnPI_part22.wav (already processed)\n",
            "⚡ Skipped bbRAvMERnPI_part23.wav (already processed)\n",
            "⚡ Skipped bbRAvMERnPI_part24.wav (already processed)\n",
            "⚡ Skipped bbRAvMERnPI_part25.wav (already processed)\n",
            "⚡ Skipped bbRAvMERnPI_part26.wav (already processed)\n",
            "⚡ Skipped bbRAvMERnPI_part27.wav (already processed)\n",
            "⚡ Skipped bbRAvMERnPI_part28.wav (already processed)\n",
            "⚡ Skipped bbRAvMERnPI_part29.wav (already processed)\n",
            "⚡ Skipped bbRAvMERnPI_part3.wav (already processed)\n",
            "⚡ Skipped bbRAvMERnPI_part4.wav (already processed)\n",
            "⚡ Skipped bbRAvMERnPI_part5.wav (already processed)\n",
            "⚡ Skipped bbRAvMERnPI_part6.wav (already processed)\n",
            "⚡ Skipped bbRAvMERnPI_part7.wav (already processed)\n",
            "⚡ Skipped bbRAvMERnPI_part8.wav (already processed)\n",
            "⚡ Skipped bbRAvMERnPI_part9.wav (already processed)\n",
            "⚡ Skipped cSjvfspUaT4_part1.wav (already processed)\n",
            "⚡ Skipped cSjvfspUaT4_part10.wav (already processed)\n",
            "⚡ Skipped cSjvfspUaT4_part11.wav (already processed)\n",
            "⚡ Skipped cSjvfspUaT4_part12.wav (already processed)\n",
            "⚡ Skipped cSjvfspUaT4_part13.wav (already processed)\n",
            "⚡ Skipped cSjvfspUaT4_part14.wav (already processed)\n",
            "⚡ Skipped cSjvfspUaT4_part15.wav (already processed)\n",
            "⚡ Skipped cSjvfspUaT4_part16.wav (already processed)\n",
            "⚡ Skipped cSjvfspUaT4_part17.wav (already processed)\n",
            "⚡ Skipped cSjvfspUaT4_part18.wav (already processed)\n",
            "⚡ Skipped cSjvfspUaT4_part19.wav (already processed)\n",
            "⚡ Skipped cSjvfspUaT4_part2.wav (already processed)\n",
            "⚡ Skipped cSjvfspUaT4_part20.wav (already processed)\n",
            "⚡ Skipped cSjvfspUaT4_part3.wav (already processed)\n",
            "⚡ Skipped cSjvfspUaT4_part4.wav (already processed)\n",
            "⚡ Skipped cSjvfspUaT4_part5.wav (already processed)\n",
            "⚡ Skipped cSjvfspUaT4_part6.wav (already processed)\n",
            "⚡ Skipped cSjvfspUaT4_part7.wav (already processed)\n",
            "⚡ Skipped cSjvfspUaT4_part8.wav (already processed)\n",
            "⚡ Skipped cSjvfspUaT4_part9.wav (already processed)\n",
            "⚡ Skipped cn8UM26fBwA_part1.wav (already processed)\n",
            "⚡ Skipped cn8UM26fBwA_part2.wav (already processed)\n",
            "⚡ Skipped d1vg3Y0KIuI_part1.wav (already processed)\n",
            "⚡ Skipped d1vg3Y0KIuI_part2.wav (already processed)\n",
            "⚡ Skipped d1vg3Y0KIuI_part3.wav (already processed)\n",
            "⚡ Skipped d1vg3Y0KIuI_part4.wav (already processed)\n",
            "⚡ Skipped d1vg3Y0KIuI_part5.wav (already processed)\n",
            "⚡ Skipped f405jlvKc_8_part1.wav (already processed)\n",
            "⚡ Skipped fOWVHQsFQ3E_part1.wav (already processed)\n",
            "⚡ Skipped fOWVHQsFQ3E_part10.wav (already processed)\n",
            "⚡ Skipped fOWVHQsFQ3E_part11.wav (already processed)\n",
            "⚡ Skipped fOWVHQsFQ3E_part2.wav (already processed)\n",
            "⚡ Skipped fOWVHQsFQ3E_part3.wav (already processed)\n",
            "⚡ Skipped fOWVHQsFQ3E_part4.wav (already processed)\n",
            "⚡ Skipped fOWVHQsFQ3E_part5.wav (already processed)\n",
            "⚡ Skipped fOWVHQsFQ3E_part6.wav (already processed)\n",
            "⚡ Skipped fOWVHQsFQ3E_part7.wav (already processed)\n",
            "⚡ Skipped fOWVHQsFQ3E_part8.wav (already processed)\n",
            "⚡ Skipped fOWVHQsFQ3E_part9.wav (already processed)\n",
            "⚡ Skipped g40745pRP-8_part1.wav (already processed)\n",
            "⚡ Skipped g40745pRP-8_part10.wav (already processed)\n",
            "⚡ Skipped g40745pRP-8_part11.wav (already processed)\n",
            "⚡ Skipped g40745pRP-8_part12.wav (already processed)\n",
            "⚡ Skipped g40745pRP-8_part13.wav (already processed)\n",
            "⚡ Skipped g40745pRP-8_part14.wav (already processed)\n",
            "⚡ Skipped g40745pRP-8_part15.wav (already processed)\n",
            "⚡ Skipped g40745pRP-8_part16.wav (already processed)\n",
            "⚡ Skipped g40745pRP-8_part17.wav (already processed)\n",
            "⚡ Skipped g40745pRP-8_part18.wav (already processed)\n",
            "⚡ Skipped g40745pRP-8_part19.wav (already processed)\n",
            "⚡ Skipped g40745pRP-8_part2.wav (already processed)\n",
            "⚡ Skipped g40745pRP-8_part20.wav (already processed)\n",
            "⚡ Skipped g40745pRP-8_part21.wav (already processed)\n",
            "⚡ Skipped g40745pRP-8_part3.wav (already processed)\n",
            "⚡ Skipped g40745pRP-8_part4.wav (already processed)\n",
            "⚡ Skipped g40745pRP-8_part5.wav (already processed)\n",
            "⚡ Skipped g40745pRP-8_part7.wav (already processed)\n",
            "⚡ Skipped g40745pRP-8_part6.wav (already processed)\n",
            "⚡ Skipped g40745pRP-8_part8.wav (already processed)\n",
            "⚡ Skipped g40745pRP-8_part9.wav (already processed)\n",
            "⚡ Skipped g7j4satykWU_part1.wav (already processed)\n",
            "⚡ Skipped g7j4satykWU_part11.wav (already processed)\n",
            "⚡ Skipped g7j4satykWU_part10.wav (already processed)\n",
            "⚡ Skipped g7j4satykWU_part12.wav (already processed)\n",
            "⚡ Skipped g7j4satykWU_part2.wav (already processed)\n",
            "⚡ Skipped g7j4satykWU_part4.wav (already processed)\n",
            "⚡ Skipped g7j4satykWU_part3.wav (already processed)\n",
            "⚡ Skipped g7j4satykWU_part5.wav (already processed)\n",
            "⚡ Skipped g7j4satykWU_part7.wav (already processed)\n",
            "⚡ Skipped g7j4satykWU_part6.wav (already processed)\n",
            "⚡ Skipped g7j4satykWU_part8.wav (already processed)\n",
            "⚡ Skipped gho6tzNLsDg_part1.wav (already processed)\n",
            "⚡ Skipped g7j4satykWU_part9.wav (already processed)\n",
            "⚡ Skipped gho6tzNLsDg_part10.wav (already processed)\n",
            "⚡ Skipped gho6tzNLsDg_part12.wav (already processed)\n",
            "⚡ Skipped gho6tzNLsDg_part11.wav (already processed)\n",
            "⚡ Skipped gho6tzNLsDg_part13.wav (already processed)\n",
            "⚡ Skipped gho6tzNLsDg_part15.wav (already processed)\n",
            "⚡ Skipped gho6tzNLsDg_part14.wav (already processed)\n"
          ]
        },
        {
          "output_type": "stream",
          "name": "stderr",
          "text": [
            "Processing audio:  73%|███████▎  | 702/962 [00:41<00:18, 13.95it/s]  "
          ]
        },
        {
          "output_type": "stream",
          "name": "stdout",
          "text": [
            "✅ Done gho6tzNLsDg_part18.wav (3.7 min audio)\n"
          ]
        },
        {
          "output_type": "stream",
          "name": "stderr",
          "text": [
            "\rProcessing audio:  73%|███████▎  | 703/962 [01:00<00:31,  8.29it/s]"
          ]
        },
        {
          "output_type": "stream",
          "name": "stdout",
          "text": [
            "✅ Done gho6tzNLsDg_part16.wav (5.0 min audio)\n"
          ]
        },
        {
          "output_type": "stream",
          "name": "stderr",
          "text": [
            "\rProcessing audio:  73%|███████▎  | 704/962 [01:37<01:04,  3.97it/s]"
          ]
        },
        {
          "output_type": "stream",
          "name": "stdout",
          "text": [
            "✅ Done gho6tzNLsDg_part17.wav (5.0 min audio)\n"
          ]
        },
        {
          "output_type": "stream",
          "name": "stderr",
          "text": [
            "\rProcessing audio:  73%|███████▎  | 705/962 [01:53<01:24,  3.06it/s]"
          ]
        },
        {
          "output_type": "stream",
          "name": "stdout",
          "text": [
            "✅ Done gho6tzNLsDg_part2.wav (5.0 min audio)\n"
          ]
        },
        {
          "output_type": "stream",
          "name": "stderr",
          "text": [
            "\rProcessing audio:  73%|███████▎  | 706/962 [02:15<02:03,  2.07it/s]"
          ]
        },
        {
          "output_type": "stream",
          "name": "stdout",
          "text": [
            "✅ Done gho6tzNLsDg_part3.wav (5.0 min audio)\n"
          ]
        },
        {
          "output_type": "stream",
          "name": "stderr",
          "text": [
            "Processing audio:  74%|███████▎  | 708/962 [02:40<03:04,  1.38it/s]"
          ]
        },
        {
          "output_type": "stream",
          "name": "stdout",
          "text": [
            "✅ Done gho6tzNLsDg_part4.wav (5.0 min audio)\n",
            "✅ Done gho6tzNLsDg_part6.wav (5.0 min audio)\n",
            "✅ Done gho6tzNLsDg_part5.wav (5.0 min audio)\n"
          ]
        },
        {
          "output_type": "stream",
          "name": "stderr",
          "text": [
            "Processing audio:  74%|███████▍  | 710/962 [03:51<08:41,  2.07s/it]"
          ]
        },
        {
          "output_type": "stream",
          "name": "stdout",
          "text": [
            "✅ Done gho6tzNLsDg_part7.wav (5.0 min audio)\n"
          ]
        },
        {
          "output_type": "stream",
          "name": "stderr",
          "text": [
            "\rProcessing audio:  74%|███████▍  | 711/962 [03:52<08:33,  2.05s/it]"
          ]
        },
        {
          "output_type": "stream",
          "name": "stdout",
          "text": [
            "✅ Done gho6tzNLsDg_part8.wav (5.0 min audio)\n",
            "✅ Done gho6tzNLsDg_part9.wav (5.0 min audio)\n"
          ]
        },
        {
          "output_type": "stream",
          "name": "stderr",
          "text": [
            "Processing audio:  74%|███████▍  | 713/962 [04:07<10:06,  2.44s/it]"
          ]
        },
        {
          "output_type": "stream",
          "name": "stdout",
          "text": [
            "✅ Done ibaiMau81Ts_part1.wav (5.0 min audio)\n",
            "✅ Done ibaiMau81Ts_part11.wav (5.0 min audio)\n"
          ]
        },
        {
          "output_type": "stream",
          "name": "stderr",
          "text": [
            "\rProcessing audio:  74%|███████▍  | 715/962 [04:07<09:10,  2.23s/it]"
          ]
        },
        {
          "output_type": "stream",
          "name": "stdout",
          "text": [
            "✅ Done ibaiMau81Ts_part10.wav (5.0 min audio)\n"
          ]
        },
        {
          "output_type": "stream",
          "name": "stderr",
          "text": [
            "Processing audio:  75%|███████▍  | 718/962 [04:21<10:18,  2.54s/it]"
          ]
        },
        {
          "output_type": "stream",
          "name": "stdout",
          "text": [
            "✅ Done ibaiMau81Ts_part13.wav (5.0 min audio)\n",
            "✅ Done ibaiMau81Ts_part12.wav (5.0 min audio)\n",
            "✅ Done ibaiMau81Ts_part14.wav (5.0 min audio)\n"
          ]
        },
        {
          "output_type": "stream",
          "name": "stderr",
          "text": [
            "Processing audio:  75%|███████▍  | 719/962 [04:43<17:35,  4.34s/it]"
          ]
        },
        {
          "output_type": "stream",
          "name": "stdout",
          "text": [
            "✅ Done ibaiMau81Ts_part17.wav (5.0 min audio)\n"
          ]
        },
        {
          "output_type": "stream",
          "name": "stderr",
          "text": [
            "\rProcessing audio:  75%|███████▍  | 720/962 [04:43<15:33,  3.86s/it]"
          ]
        },
        {
          "output_type": "stream",
          "name": "stdout",
          "text": [
            "✅ Done ibaiMau81Ts_part16.wav (5.0 min audio)\n",
            "✅ Done ibaiMau81Ts_part15.wav (5.0 min audio)\n"
          ]
        },
        {
          "output_type": "stream",
          "name": "stderr",
          "text": [
            "\rProcessing audio:  75%|███████▍  | 720/962 [04:54<15:33,  3.86s/it]"
          ]
        },
        {
          "output_type": "stream",
          "name": "stdout",
          "text": [
            "✅ Done ibaiMau81Ts_part18.wav (4.0 min audio)\n"
          ]
        },
        {
          "output_type": "stream",
          "name": "stderr",
          "text": [
            "\rProcessing audio:  75%|███████▌  | 723/962 [04:56<15:58,  4.01s/it]"
          ]
        },
        {
          "output_type": "stream",
          "name": "stdout",
          "text": [
            "✅ Done ibaiMau81Ts_part2.wav (5.0 min audio)\n"
          ]
        },
        {
          "output_type": "stream",
          "name": "stderr",
          "text": [
            "\rProcessing audio:  75%|███████▌  | 724/962 [04:56<13:59,  3.53s/it]"
          ]
        },
        {
          "output_type": "stream",
          "name": "stdout",
          "text": [
            "✅ Done ibaiMau81Ts_part3.wav (5.0 min audio)\n",
            "✅ Done ibaiMau81Ts_part4.wav (5.0 min audio)\n",
            "✅ Done ibaiMau81Ts_part5.wav (5.0 min audio)\n",
            "✅ Done ibaiMau81Ts_part6.wav (5.0 min audio)\n"
          ]
        },
        {
          "output_type": "stream",
          "name": "stderr",
          "text": [
            "Processing audio:  76%|███████▌  | 728/962 [05:21<18:31,  4.75s/it]"
          ]
        },
        {
          "output_type": "stream",
          "name": "stdout",
          "text": [
            "✅ Done ibaiMau81Ts_part7.wav (5.0 min audio)\n"
          ]
        },
        {
          "output_type": "stream",
          "name": "stderr",
          "text": [
            "\rProcessing audio:  76%|███████▌  | 729/962 [05:22<16:17,  4.20s/it]"
          ]
        },
        {
          "output_type": "stream",
          "name": "stdout",
          "text": [
            "✅ Done ibaiMau81Ts_part8.wav (5.0 min audio)\n",
            "✅ Done ibaiMau81Ts_part9.wav (5.0 min audio)\n"
          ]
        },
        {
          "output_type": "stream",
          "name": "stderr",
          "text": [
            "Processing audio:  76%|███████▌  | 731/962 [05:45<23:59,  6.23s/it]"
          ]
        },
        {
          "output_type": "stream",
          "name": "stdout",
          "text": [
            "✅ Done jPWyEAc05Q8_part1.wav (4.6 min audio)\n"
          ]
        },
        {
          "output_type": "stream",
          "name": "stderr",
          "text": [
            "\rProcessing audio:  76%|███████▌  | 732/962 [06:21<43:11, 11.27s/it]"
          ]
        },
        {
          "output_type": "stream",
          "name": "stdout",
          "text": [
            "✅ Done juuIQuoNFgA_part1.wav (5.0 min audio)\n"
          ]
        },
        {
          "output_type": "stream",
          "name": "stderr",
          "text": [
            "\rProcessing audio:  76%|███████▌  | 733/962 [06:23<35:59,  9.43s/it]"
          ]
        },
        {
          "output_type": "stream",
          "name": "stdout",
          "text": [
            "✅ Done juuIQuoNFgA_part2.wav (5.0 min audio)\n"
          ]
        },
        {
          "output_type": "stream",
          "name": "stderr",
          "text": [
            "Processing audio:  76%|███████▋  | 734/962 [06:56<54:56, 14.46s/it]"
          ]
        },
        {
          "output_type": "stream",
          "name": "stdout",
          "text": [
            "✅ Done juuIQuoNFgA_part3.wav (5.0 min audio)\n"
          ]
        },
        {
          "output_type": "stream",
          "name": "stderr",
          "text": [
            "\rProcessing audio:  76%|███████▋  | 735/962 [07:22<1:05:40, 17.36s/it]"
          ]
        },
        {
          "output_type": "stream",
          "name": "stdout",
          "text": [
            "✅ Done juuIQuoNFgA_part5.wav (5.0 min audio)\n"
          ]
        },
        {
          "output_type": "stream",
          "name": "stderr",
          "text": [
            "\rProcessing audio:  77%|███████▋  | 736/962 [07:29<54:55, 14.58s/it]  "
          ]
        },
        {
          "output_type": "stream",
          "name": "stdout",
          "text": [
            "✅ Done juuIQuoNFgA_part4.wav (5.0 min audio)\n"
          ]
        },
        {
          "output_type": "stream",
          "name": "stderr",
          "text": [
            "Processing audio:  77%|███████▋  | 737/962 [08:02<1:13:13, 19.53s/it]"
          ]
        },
        {
          "output_type": "stream",
          "name": "stdout",
          "text": [
            "✅ Done juuIQuoNFgA_part6.wav (5.0 min audio)\n"
          ]
        },
        {
          "output_type": "stream",
          "name": "stderr",
          "text": [
            "\rProcessing audio:  77%|███████▋  | 738/962 [08:05<55:24, 14.84s/it]  "
          ]
        },
        {
          "output_type": "stream",
          "name": "stdout",
          "text": [
            "✅ Done juuIQuoNFgA_part9.wav (0.0 min audio)\n"
          ]
        },
        {
          "output_type": "stream",
          "name": "stderr",
          "text": [
            "Processing audio:  77%|███████▋  | 739/962 [08:19<54:57, 14.79s/it]"
          ]
        },
        {
          "output_type": "stream",
          "name": "stdout",
          "text": [
            "✅ Done juuIQuoNFgA_part7.wav (5.0 min audio)\n"
          ]
        },
        {
          "output_type": "stream",
          "name": "stderr",
          "text": [
            "\rProcessing audio:  77%|███████▋  | 740/962 [08:42<1:02:53, 17.00s/it]"
          ]
        },
        {
          "output_type": "stream",
          "name": "stdout",
          "text": [
            "✅ Done juuIQuoNFgA_part8.wav (5.0 min audio)\n"
          ]
        },
        {
          "output_type": "stream",
          "name": "stderr",
          "text": [
            "\rProcessing audio:  77%|███████▋  | 741/962 [09:18<1:23:30, 22.67s/it]"
          ]
        },
        {
          "output_type": "stream",
          "name": "stdout",
          "text": [
            "✅ Done kPf670uH0m4_part1.wav (5.0 min audio)\n"
          ]
        },
        {
          "output_type": "stream",
          "name": "stderr",
          "text": [
            "\rProcessing audio:  77%|███████▋  | 742/962 [09:34<1:15:53, 20.70s/it]"
          ]
        },
        {
          "output_type": "stream",
          "name": "stdout",
          "text": [
            "✅ Done kPf670uH0m4_part10.wav (5.0 min audio)\n"
          ]
        },
        {
          "output_type": "stream",
          "name": "stderr",
          "text": [
            "\rProcessing audio:  77%|███████▋  | 743/962 [09:56<1:17:05, 21.12s/it]"
          ]
        },
        {
          "output_type": "stream",
          "name": "stdout",
          "text": [
            "✅ Done kPf670uH0m4_part11.wav (5.0 min audio)\n"
          ]
        },
        {
          "output_type": "stream",
          "name": "stderr",
          "text": [
            "\rProcessing audio:  77%|███████▋  | 744/962 [10:12<1:10:27, 19.39s/it]"
          ]
        },
        {
          "output_type": "stream",
          "name": "stdout",
          "text": [
            "✅ Done kPf670uH0m4_part13.wav (2.0 min audio)\n"
          ]
        },
        {
          "output_type": "stream",
          "name": "stderr",
          "text": [
            "\rProcessing audio:  77%|███████▋  | 745/962 [10:31<1:10:04, 19.38s/it]"
          ]
        },
        {
          "output_type": "stream",
          "name": "stdout",
          "text": [
            "✅ Done kPf670uH0m4_part12.wav (5.0 min audio)\n"
          ]
        },
        {
          "output_type": "stream",
          "name": "stderr",
          "text": [
            "\rProcessing audio:  78%|███████▊  | 746/962 [11:18<1:39:29, 27.64s/it]"
          ]
        },
        {
          "output_type": "stream",
          "name": "stdout",
          "text": [
            "✅ Done kPf670uH0m4_part2.wav (5.0 min audio)\n"
          ]
        },
        {
          "output_type": "stream",
          "name": "stderr",
          "text": [
            "\rProcessing audio:  78%|███████▊  | 747/962 [11:31<1:23:47, 23.38s/it]"
          ]
        },
        {
          "output_type": "stream",
          "name": "stdout",
          "text": [
            "✅ Done kPf670uH0m4_part3.wav (5.0 min audio)\n"
          ]
        },
        {
          "output_type": "stream",
          "name": "stderr",
          "text": [
            "\rProcessing audio:  78%|███████▊  | 748/962 [11:39<1:06:30, 18.65s/it]"
          ]
        },
        {
          "output_type": "stream",
          "name": "stdout",
          "text": [
            "✅ Done kPf670uH0m4_part4.wav (5.0 min audio)\n"
          ]
        },
        {
          "output_type": "stream",
          "name": "stderr",
          "text": [
            "Processing audio:  78%|███████▊  | 749/962 [12:42<1:53:15, 31.90s/it]"
          ]
        },
        {
          "output_type": "stream",
          "name": "stdout",
          "text": [
            "✅ Done kPf670uH0m4_part5.wav (5.0 min audio)\n"
          ]
        },
        {
          "output_type": "stream",
          "name": "stderr",
          "text": [
            "\rProcessing audio:  78%|███████▊  | 750/962 [12:46<1:23:35, 23.66s/it]"
          ]
        },
        {
          "output_type": "stream",
          "name": "stdout",
          "text": [
            "✅ Done kPf670uH0m4_part6.wav (5.0 min audio)\n",
            "✅ Done kPf670uH0m4_part7.wav (5.0 min audio)\n"
          ]
        },
        {
          "output_type": "stream",
          "name": "stderr",
          "text": [
            "Processing audio:  78%|███████▊  | 752/962 [14:01<1:45:05, 30.03s/it]"
          ]
        },
        {
          "output_type": "stream",
          "name": "stdout",
          "text": [
            "✅ Done kPf670uH0m4_part8.wav (5.0 min audio)\n"
          ]
        },
        {
          "output_type": "stream",
          "name": "stderr",
          "text": [
            "\rProcessing audio:  78%|███████▊  | 753/962 [14:07<1:23:30, 23.97s/it]"
          ]
        },
        {
          "output_type": "stream",
          "name": "stdout",
          "text": [
            "✅ Done kPf670uH0m4_part9.wav (5.0 min audio)\n",
            "✅ Done km7OJpIrx1M_part1.wav (5.0 min audio)\n"
          ]
        },
        {
          "output_type": "stream",
          "name": "stderr",
          "text": [
            "Processing audio:  78%|███████▊  | 755/962 [14:59<1:25:48, 24.87s/it]"
          ]
        },
        {
          "output_type": "stream",
          "name": "stdout",
          "text": [
            "✅ Done km7OJpIrx1M_part12.wav (2.2 min audio)\n"
          ]
        },
        {
          "output_type": "stream",
          "name": "stderr",
          "text": [
            "\rProcessing audio:  79%|███████▊  | 756/962 [15:23<1:24:36, 24.64s/it]"
          ]
        },
        {
          "output_type": "stream",
          "name": "stdout",
          "text": [
            "✅ Done km7OJpIrx1M_part10.wav (5.0 min audio)\n"
          ]
        },
        {
          "output_type": "stream",
          "name": "stderr",
          "text": [
            "\rProcessing audio:  79%|███████▊  | 757/962 [15:48<1:24:34, 24.75s/it]"
          ]
        },
        {
          "output_type": "stream",
          "name": "stdout",
          "text": [
            "✅ Done km7OJpIrx1M_part11.wav (5.0 min audio)\n"
          ]
        },
        {
          "output_type": "stream",
          "name": "stderr",
          "text": [
            "\rProcessing audio:  79%|███████▉  | 758/962 [16:18<1:28:52, 26.14s/it]"
          ]
        },
        {
          "output_type": "stream",
          "name": "stdout",
          "text": [
            "✅ Done km7OJpIrx1M_part2.wav (5.0 min audio)\n"
          ]
        },
        {
          "output_type": "stream",
          "name": "stderr",
          "text": [
            "\rProcessing audio:  79%|███████▉  | 759/962 [16:52<1:35:29, 28.23s/it]"
          ]
        },
        {
          "output_type": "stream",
          "name": "stdout",
          "text": [
            "✅ Done km7OJpIrx1M_part3.wav (5.0 min audio)\n"
          ]
        },
        {
          "output_type": "stream",
          "name": "stderr",
          "text": [
            "\rProcessing audio:  79%|███████▉  | 760/962 [17:04<1:19:35, 23.64s/it]"
          ]
        },
        {
          "output_type": "stream",
          "name": "stdout",
          "text": [
            "✅ Done km7OJpIrx1M_part4.wav (5.0 min audio)\n"
          ]
        },
        {
          "output_type": "stream",
          "name": "stderr",
          "text": [
            "\rProcessing audio:  79%|███████▉  | 761/962 [17:36<1:27:34, 26.14s/it]"
          ]
        },
        {
          "output_type": "stream",
          "name": "stdout",
          "text": [
            "✅ Done km7OJpIrx1M_part5.wav (5.0 min audio)\n"
          ]
        },
        {
          "output_type": "stream",
          "name": "stderr",
          "text": [
            "\rProcessing audio:  79%|███████▉  | 762/962 [18:19<1:43:19, 31.00s/it]"
          ]
        },
        {
          "output_type": "stream",
          "name": "stdout",
          "text": [
            "✅ Done km7OJpIrx1M_part6.wav (5.0 min audio)\n"
          ]
        },
        {
          "output_type": "stream",
          "name": "stderr",
          "text": [
            "\rProcessing audio:  79%|███████▉  | 763/962 [18:21<1:14:28, 22.46s/it]"
          ]
        },
        {
          "output_type": "stream",
          "name": "stdout",
          "text": [
            "✅ Done km7OJpIrx1M_part7.wav (5.0 min audio)\n"
          ]
        },
        {
          "output_type": "stream",
          "name": "stderr",
          "text": [
            "\rProcessing audio:  79%|███████▉  | 764/962 [19:00<1:30:23, 27.39s/it]"
          ]
        },
        {
          "output_type": "stream",
          "name": "stdout",
          "text": [
            "✅ Done km7OJpIrx1M_part8.wav (5.0 min audio)\n"
          ]
        },
        {
          "output_type": "stream",
          "name": "stderr",
          "text": [
            "\rProcessing audio:  80%|███████▉  | 765/962 [19:16<1:19:16, 24.15s/it]"
          ]
        },
        {
          "output_type": "stream",
          "name": "stdout",
          "text": [
            "✅ Done km7OJpIrx1M_part9.wav (5.0 min audio)\n"
          ]
        },
        {
          "output_type": "stream",
          "name": "stderr",
          "text": [
            "\rProcessing audio:  80%|███████▉  | 766/962 [19:21<59:24, 18.19s/it]  "
          ]
        },
        {
          "output_type": "stream",
          "name": "stdout",
          "text": [
            "✅ Done lOyAb433RgI_part1.wav (5.0 min audio)\n"
          ]
        },
        {
          "output_type": "stream",
          "name": "stderr",
          "text": [
            "\rProcessing audio:  80%|███████▉  | 767/962 [20:04<1:23:58, 25.84s/it]"
          ]
        },
        {
          "output_type": "stream",
          "name": "stdout",
          "text": [
            "✅ Done lOyAb433RgI_part10.wav (5.0 min audio)\n"
          ]
        },
        {
          "output_type": "stream",
          "name": "stderr",
          "text": [
            "\rProcessing audio:  80%|███████▉  | 768/962 [20:39<1:32:02, 28.47s/it]"
          ]
        },
        {
          "output_type": "stream",
          "name": "stdout",
          "text": [
            "✅ Done lOyAb433RgI_part11.wav (5.0 min audio)\n"
          ]
        },
        {
          "output_type": "stream",
          "name": "stderr",
          "text": [
            "\rProcessing audio:  80%|███████▉  | 769/962 [20:40<1:05:18, 20.30s/it]"
          ]
        },
        {
          "output_type": "stream",
          "name": "stdout",
          "text": [
            "✅ Done lOyAb433RgI_part12.wav (5.0 min audio)\n"
          ]
        },
        {
          "output_type": "stream",
          "name": "stderr",
          "text": [
            "\rProcessing audio:  80%|████████  | 770/962 [21:11<1:14:50, 23.39s/it]"
          ]
        },
        {
          "output_type": "stream",
          "name": "stdout",
          "text": [
            "✅ Done lOyAb433RgI_part13.wav (5.0 min audio)\n"
          ]
        },
        {
          "output_type": "stream",
          "name": "stderr",
          "text": [
            "\rProcessing audio:  80%|████████  | 771/962 [21:39<1:19:05, 24.84s/it]"
          ]
        },
        {
          "output_type": "stream",
          "name": "stdout",
          "text": [
            "✅ Done lOyAb433RgI_part14.wav (5.0 min audio)\n"
          ]
        },
        {
          "output_type": "stream",
          "name": "stderr",
          "text": [
            "\rProcessing audio:  80%|████████  | 772/962 [21:55<1:10:25, 22.24s/it]"
          ]
        },
        {
          "output_type": "stream",
          "name": "stdout",
          "text": [
            "✅ Done lOyAb433RgI_part15.wav (5.0 min audio)\n"
          ]
        },
        {
          "output_type": "stream",
          "name": "stderr",
          "text": [
            "\rProcessing audio:  80%|████████  | 773/962 [22:28<1:19:38, 25.28s/it]"
          ]
        },
        {
          "output_type": "stream",
          "name": "stdout",
          "text": [
            "✅ Done lOyAb433RgI_part17.wav (5.0 min audio)\n"
          ]
        },
        {
          "output_type": "stream",
          "name": "stderr",
          "text": [
            "\rProcessing audio:  80%|████████  | 774/962 [22:47<1:13:36, 23.49s/it]"
          ]
        },
        {
          "output_type": "stream",
          "name": "stdout",
          "text": [
            "✅ Done lOyAb433RgI_part16.wav (5.0 min audio)\n"
          ]
        },
        {
          "output_type": "stream",
          "name": "stderr",
          "text": [
            "\rProcessing audio:  81%|████████  | 775/962 [23:02<1:05:22, 20.98s/it]"
          ]
        },
        {
          "output_type": "stream",
          "name": "stdout",
          "text": [
            "✅ Done lOyAb433RgI_part19.wav (2.2 min audio)\n"
          ]
        },
        {
          "output_type": "stream",
          "name": "stderr",
          "text": [
            "\rProcessing audio:  81%|████████  | 776/962 [23:10<52:49, 17.04s/it]  "
          ]
        },
        {
          "output_type": "stream",
          "name": "stdout",
          "text": [
            "✅ Done lOyAb433RgI_part18.wav (5.0 min audio)\n"
          ]
        },
        {
          "output_type": "stream",
          "name": "stderr",
          "text": [
            "\rProcessing audio:  81%|████████  | 777/962 [24:00<1:23:25, 27.06s/it]"
          ]
        },
        {
          "output_type": "stream",
          "name": "stdout",
          "text": [
            "✅ Done lOyAb433RgI_part2.wav (5.0 min audio)\n"
          ]
        },
        {
          "output_type": "stream",
          "name": "stderr",
          "text": [
            "\rProcessing audio:  81%|████████  | 778/962 [24:16<1:12:34, 23.67s/it]"
          ]
        },
        {
          "output_type": "stream",
          "name": "stdout",
          "text": [
            "✅ Done lOyAb433RgI_part4.wav (5.0 min audio)\n",
            "✅ Done lOyAb433RgI_part3.wav (5.0 min audio)\n"
          ]
        },
        {
          "output_type": "stream",
          "name": "stderr",
          "text": [
            "\rProcessing audio:  81%|████████  | 780/962 [25:09<1:15:58, 25.05s/it]"
          ]
        },
        {
          "output_type": "stream",
          "name": "stdout",
          "text": [
            "✅ Done lOyAb433RgI_part6.wav (5.0 min audio)\n"
          ]
        },
        {
          "output_type": "stream",
          "name": "stderr",
          "text": [
            "\rProcessing audio:  81%|████████  | 781/962 [25:23<1:07:12, 22.28s/it]"
          ]
        },
        {
          "output_type": "stream",
          "name": "stdout",
          "text": [
            "✅ Done lOyAb433RgI_part5.wav (5.0 min audio)\n"
          ]
        },
        {
          "output_type": "stream",
          "name": "stderr",
          "text": [
            "\rProcessing audio:  81%|████████▏ | 782/962 [25:38<1:00:37, 20.21s/it]"
          ]
        },
        {
          "output_type": "stream",
          "name": "stdout",
          "text": [
            "✅ Done lOyAb433RgI_part7.wav (5.0 min audio)\n"
          ]
        },
        {
          "output_type": "stream",
          "name": "stderr",
          "text": [
            "\rProcessing audio:  81%|████████▏ | 783/962 [26:15<1:14:23, 24.94s/it]"
          ]
        },
        {
          "output_type": "stream",
          "name": "stdout",
          "text": [
            "✅ Done lOyAb433RgI_part8.wav (5.0 min audio)\n"
          ]
        },
        {
          "output_type": "stream",
          "name": "stderr",
          "text": [
            "\rProcessing audio:  81%|████████▏ | 784/962 [26:25<1:01:34, 20.75s/it]"
          ]
        },
        {
          "output_type": "stream",
          "name": "stdout",
          "text": [
            "✅ Done lOyAb433RgI_part9.wav (5.0 min audio)\n"
          ]
        },
        {
          "output_type": "stream",
          "name": "stderr",
          "text": [
            "\rProcessing audio:  82%|████████▏ | 785/962 [26:40<56:10, 19.04s/it]  "
          ]
        },
        {
          "output_type": "stream",
          "name": "stdout",
          "text": [
            "✅ Done l_F3ZyQDNxA_part1.wav (5.0 min audio)\n"
          ]
        },
        {
          "output_type": "stream",
          "name": "stderr",
          "text": [
            "\rProcessing audio:  82%|████████▏ | 786/962 [27:06<1:01:58, 21.13s/it]"
          ]
        },
        {
          "output_type": "stream",
          "name": "stdout",
          "text": [
            "✅ Done l_F3ZyQDNxA_part10.wav (5.0 min audio)\n"
          ]
        },
        {
          "output_type": "stream",
          "name": "stderr",
          "text": [
            "\rProcessing audio:  82%|████████▏ | 787/962 [27:22<57:05, 19.57s/it]  "
          ]
        },
        {
          "output_type": "stream",
          "name": "stdout",
          "text": [
            "✅ Done l_F3ZyQDNxA_part11.wav (5.0 min audio)\n"
          ]
        },
        {
          "output_type": "stream",
          "name": "stderr",
          "text": [
            "\rProcessing audio:  82%|████████▏ | 788/962 [28:09<1:20:30, 27.76s/it]"
          ]
        },
        {
          "output_type": "stream",
          "name": "stdout",
          "text": [
            "✅ Done l_F3ZyQDNxA_part12.wav (5.0 min audio)\n"
          ]
        },
        {
          "output_type": "stream",
          "name": "stderr",
          "text": [
            "\rProcessing audio:  82%|████████▏ | 789/962 [28:23<1:08:06, 23.62s/it]"
          ]
        },
        {
          "output_type": "stream",
          "name": "stdout",
          "text": [
            "✅ Done l_F3ZyQDNxA_part13.wav (5.0 min audio)\n"
          ]
        },
        {
          "output_type": "stream",
          "name": "stderr",
          "text": [
            "\rProcessing audio:  82%|████████▏ | 790/962 [28:50<1:10:33, 24.62s/it]"
          ]
        },
        {
          "output_type": "stream",
          "name": "stdout",
          "text": [
            "✅ Done l_F3ZyQDNxA_part14.wav (5.0 min audio)\n"
          ]
        },
        {
          "output_type": "stream",
          "name": "stderr",
          "text": [
            "\rProcessing audio:  82%|████████▏ | 791/962 [29:17<1:11:55, 25.24s/it]"
          ]
        },
        {
          "output_type": "stream",
          "name": "stdout",
          "text": [
            "✅ Done l_F3ZyQDNxA_part15.wav (5.0 min audio)\n"
          ]
        },
        {
          "output_type": "stream",
          "name": "stderr",
          "text": [
            "\rProcessing audio:  82%|████████▏ | 792/962 [29:21<53:32, 18.90s/it]  "
          ]
        },
        {
          "output_type": "stream",
          "name": "stdout",
          "text": [
            "✅ Done l_F3ZyQDNxA_part17.wav (2.7 min audio)\n"
          ]
        },
        {
          "output_type": "stream",
          "name": "stderr",
          "text": [
            "\rProcessing audio:  82%|████████▏ | 793/962 [29:45<57:17, 20.34s/it]"
          ]
        },
        {
          "output_type": "stream",
          "name": "stdout",
          "text": [
            "✅ Done l_F3ZyQDNxA_part16.wav (5.0 min audio)\n"
          ]
        },
        {
          "output_type": "stream",
          "name": "stderr",
          "text": [
            "\rProcessing audio:  83%|████████▎ | 794/962 [30:22<1:11:07, 25.40s/it]"
          ]
        },
        {
          "output_type": "stream",
          "name": "stdout",
          "text": [
            "✅ Done l_F3ZyQDNxA_part2.wav (5.0 min audio)\n"
          ]
        },
        {
          "output_type": "stream",
          "name": "stderr",
          "text": [
            "\rProcessing audio:  83%|████████▎ | 795/962 [30:24<51:18, 18.43s/it]  "
          ]
        },
        {
          "output_type": "stream",
          "name": "stdout",
          "text": [
            "✅ Done l_F3ZyQDNxA_part3.wav (5.0 min audio)\n"
          ]
        },
        {
          "output_type": "stream",
          "name": "stderr",
          "text": [
            "\rProcessing audio:  83%|████████▎ | 796/962 [30:53<59:47, 21.61s/it]"
          ]
        },
        {
          "output_type": "stream",
          "name": "stdout",
          "text": [
            "✅ Done l_F3ZyQDNxA_part4.wav (5.0 min audio)\n"
          ]
        },
        {
          "output_type": "stream",
          "name": "stderr",
          "text": [
            "\rProcessing audio:  83%|████████▎ | 797/962 [31:33<1:14:40, 27.15s/it]"
          ]
        },
        {
          "output_type": "stream",
          "name": "stdout",
          "text": [
            "✅ Done l_F3ZyQDNxA_part7.wav (5.0 min audio)\n"
          ]
        },
        {
          "output_type": "stream",
          "name": "stderr",
          "text": [
            "\rProcessing audio:  83%|████████▎ | 798/962 [31:44<1:00:55, 22.29s/it]"
          ]
        },
        {
          "output_type": "stream",
          "name": "stdout",
          "text": [
            "✅ Done l_F3ZyQDNxA_part5.wav (5.0 min audio)\n"
          ]
        },
        {
          "output_type": "stream",
          "name": "stderr",
          "text": [
            "\rProcessing audio:  83%|████████▎ | 799/962 [31:45<42:46, 15.74s/it]  "
          ]
        },
        {
          "output_type": "stream",
          "name": "stdout",
          "text": [
            "✅ Done l_F3ZyQDNxA_part6.wav (5.0 min audio)\n"
          ]
        },
        {
          "output_type": "stream",
          "name": "stderr",
          "text": [
            "\rProcessing audio:  83%|████████▎ | 800/962 [32:35<1:10:37, 26.16s/it]"
          ]
        },
        {
          "output_type": "stream",
          "name": "stdout",
          "text": [
            "✅ Done l_F3ZyQDNxA_part9.wav (5.0 min audio)\n"
          ]
        },
        {
          "output_type": "stream",
          "name": "stderr",
          "text": [
            "\rProcessing audio:  83%|████████▎ | 801/962 [32:45<57:15, 21.34s/it]  "
          ]
        },
        {
          "output_type": "stream",
          "name": "stdout",
          "text": [
            "✅ Done l_F3ZyQDNxA_part8.wav (5.0 min audio)\n"
          ]
        },
        {
          "output_type": "stream",
          "name": "stderr",
          "text": [
            "\rProcessing audio:  83%|████████▎ | 802/962 [32:46<40:36, 15.23s/it]"
          ]
        },
        {
          "output_type": "stream",
          "name": "stdout",
          "text": [
            "✅ Done lwhyn1ZQsZw_part1.wav (5.0 min audio)\n"
          ]
        },
        {
          "output_type": "stream",
          "name": "stderr",
          "text": [
            "\rProcessing audio:  83%|████████▎ | 803/962 [34:05<1:30:45, 34.25s/it]"
          ]
        },
        {
          "output_type": "stream",
          "name": "stdout",
          "text": [
            "✅ Done lwhyn1ZQsZw_part11.wav (5.0 min audio)\n"
          ]
        },
        {
          "output_type": "stream",
          "name": "stderr",
          "text": [
            "\rProcessing audio:  84%|████████▎ | 804/962 [34:07<1:04:50, 24.62s/it]"
          ]
        },
        {
          "output_type": "stream",
          "name": "stdout",
          "text": [
            "✅ Done lwhyn1ZQsZw_part10.wav (5.0 min audio)\n"
          ]
        },
        {
          "output_type": "stream",
          "name": "stderr",
          "text": [
            "\rProcessing audio:  84%|████████▎ | 805/962 [34:11<48:45, 18.63s/it]  "
          ]
        },
        {
          "output_type": "stream",
          "name": "stdout",
          "text": [
            "✅ Done lwhyn1ZQsZw_part12.wav (5.0 min audio)\n"
          ]
        },
        {
          "output_type": "stream",
          "name": "stderr",
          "text": [
            "\rProcessing audio:  84%|████████▍ | 806/962 [35:00<1:11:49, 27.63s/it]"
          ]
        },
        {
          "output_type": "stream",
          "name": "stdout",
          "text": [
            "✅ Done lwhyn1ZQsZw_part13.wav (5.0 min audio)\n"
          ]
        },
        {
          "output_type": "stream",
          "name": "stderr",
          "text": [
            "\rProcessing audio:  84%|████████▍ | 807/962 [35:19<1:04:23, 24.93s/it]"
          ]
        },
        {
          "output_type": "stream",
          "name": "stdout",
          "text": [
            "✅ Done lwhyn1ZQsZw_part15.wav (5.0 min audio)\n"
          ]
        },
        {
          "output_type": "stream",
          "name": "stderr",
          "text": [
            "\rProcessing audio:  84%|████████▍ | 808/962 [35:24<48:28, 18.89s/it]  "
          ]
        },
        {
          "output_type": "stream",
          "name": "stdout",
          "text": [
            "✅ Done lwhyn1ZQsZw_part14.wav (5.0 min audio)\n"
          ]
        },
        {
          "output_type": "stream",
          "name": "stderr",
          "text": [
            "\rProcessing audio:  84%|████████▍ | 809/962 [35:43<48:18, 18.95s/it]"
          ]
        },
        {
          "output_type": "stream",
          "name": "stdout",
          "text": [
            "✅ Done lwhyn1ZQsZw_part16.wav (3.7 min audio)\n"
          ]
        },
        {
          "output_type": "stream",
          "name": "stderr",
          "text": [
            "\rProcessing audio:  84%|████████▍ | 810/962 [36:14<57:11, 22.57s/it]"
          ]
        },
        {
          "output_type": "stream",
          "name": "stdout",
          "text": [
            "✅ Done lwhyn1ZQsZw_part3.wav (5.0 min audio)\n"
          ]
        },
        {
          "output_type": "stream",
          "name": "stderr",
          "text": [
            "\rProcessing audio:  84%|████████▍ | 811/962 [36:56<1:11:53, 28.57s/it]"
          ]
        },
        {
          "output_type": "stream",
          "name": "stdout",
          "text": [
            "✅ Done lwhyn1ZQsZw_part2.wav (5.0 min audio)\n"
          ]
        },
        {
          "output_type": "stream",
          "name": "stderr",
          "text": [
            "\rProcessing audio:  84%|████████▍ | 812/962 [37:25<1:11:17, 28.52s/it]"
          ]
        },
        {
          "output_type": "stream",
          "name": "stdout",
          "text": [
            "✅ Done lwhyn1ZQsZw_part4.wav (5.0 min audio)\n"
          ]
        },
        {
          "output_type": "stream",
          "name": "stderr",
          "text": [
            "\rProcessing audio:  85%|████████▍ | 813/962 [37:30<53:23, 21.50s/it]  "
          ]
        },
        {
          "output_type": "stream",
          "name": "stdout",
          "text": [
            "✅ Done lwhyn1ZQsZw_part5.wav (5.0 min audio)\n"
          ]
        },
        {
          "output_type": "stream",
          "name": "stderr",
          "text": [
            "\rProcessing audio:  85%|████████▍ | 814/962 [38:09<1:06:03, 26.78s/it]"
          ]
        },
        {
          "output_type": "stream",
          "name": "stdout",
          "text": [
            "✅ Done lwhyn1ZQsZw_part6.wav (5.0 min audio)\n"
          ]
        },
        {
          "output_type": "stream",
          "name": "stderr",
          "text": [
            "\rProcessing audio:  85%|████████▍ | 815/962 [38:35<1:05:28, 26.73s/it]"
          ]
        },
        {
          "output_type": "stream",
          "name": "stdout",
          "text": [
            "✅ Done lwhyn1ZQsZw_part8.wav (5.0 min audio)\n"
          ]
        },
        {
          "output_type": "stream",
          "name": "stderr",
          "text": [
            "\rProcessing audio:  85%|████████▍ | 816/962 [38:42<50:25, 20.72s/it]  "
          ]
        },
        {
          "output_type": "stream",
          "name": "stdout",
          "text": [
            "✅ Done lwhyn1ZQsZw_part7.wav (5.0 min audio)\n"
          ]
        },
        {
          "output_type": "stream",
          "name": "stderr",
          "text": [
            "\rProcessing audio:  85%|████████▍ | 817/962 [39:13<57:04, 23.62s/it]"
          ]
        },
        {
          "output_type": "stream",
          "name": "stdout",
          "text": [
            "✅ Done lwhyn1ZQsZw_part9.wav (5.0 min audio)\n"
          ]
        },
        {
          "output_type": "stream",
          "name": "stderr",
          "text": [
            "\rProcessing audio:  85%|████████▌ | 818/962 [39:26<49:04, 20.45s/it]"
          ]
        },
        {
          "output_type": "stream",
          "name": "stdout",
          "text": [
            "✅ Done moaU_TnQDac_part1.wav (5.0 min audio)\n"
          ]
        },
        {
          "output_type": "stream",
          "name": "stderr",
          "text": [
            "\rProcessing audio:  85%|████████▌ | 819/962 [39:41<45:04, 18.92s/it]"
          ]
        },
        {
          "output_type": "stream",
          "name": "stdout",
          "text": [
            "✅ Done moaU_TnQDac_part10.wav (5.0 min audio)\n"
          ]
        },
        {
          "output_type": "stream",
          "name": "stderr",
          "text": [
            "\rProcessing audio:  85%|████████▌ | 820/962 [40:17<57:16, 24.20s/it]"
          ]
        },
        {
          "output_type": "stream",
          "name": "stdout",
          "text": [
            "✅ Done moaU_TnQDac_part11.wav (5.0 min audio)\n"
          ]
        },
        {
          "output_type": "stream",
          "name": "stderr",
          "text": [
            "\rProcessing audio:  85%|████████▌ | 821/962 [40:41<56:42, 24.13s/it]"
          ]
        },
        {
          "output_type": "stream",
          "name": "stdout",
          "text": [
            "✅ Done moaU_TnQDac_part12.wav (5.0 min audio)\n"
          ]
        },
        {
          "output_type": "stream",
          "name": "stderr",
          "text": [
            "\rProcessing audio:  85%|████████▌ | 822/962 [40:44<41:27, 17.77s/it]"
          ]
        },
        {
          "output_type": "stream",
          "name": "stdout",
          "text": [
            "✅ Done moaU_TnQDac_part13.wav (5.0 min audio)\n"
          ]
        },
        {
          "output_type": "stream",
          "name": "stderr",
          "text": [
            "\rProcessing audio:  86%|████████▌ | 823/962 [41:13<49:05, 21.19s/it]"
          ]
        },
        {
          "output_type": "stream",
          "name": "stdout",
          "text": [
            "✅ Done moaU_TnQDac_part16.wav (3.6 min audio)\n"
          ]
        },
        {
          "output_type": "stream",
          "name": "stderr",
          "text": [
            "\rProcessing audio:  86%|████████▌ | 824/962 [41:24<41:09, 17.90s/it]"
          ]
        },
        {
          "output_type": "stream",
          "name": "stdout",
          "text": [
            "✅ Done moaU_TnQDac_part14.wav (5.0 min audio)\n"
          ]
        },
        {
          "output_type": "stream",
          "name": "stderr",
          "text": [
            "\rProcessing audio:  86%|████████▌ | 825/962 [41:24<28:55, 12.67s/it]"
          ]
        },
        {
          "output_type": "stream",
          "name": "stdout",
          "text": [
            "✅ Done moaU_TnQDac_part15.wav (5.0 min audio)\n"
          ]
        },
        {
          "output_type": "stream",
          "name": "stderr",
          "text": [
            "\rProcessing audio:  86%|████████▌ | 826/962 [42:22<59:40, 26.32s/it]"
          ]
        },
        {
          "output_type": "stream",
          "name": "stdout",
          "text": [
            "✅ Done moaU_TnQDac_part2.wav (5.0 min audio)\n"
          ]
        },
        {
          "output_type": "stream",
          "name": "stderr",
          "text": [
            "\rProcessing audio:  86%|████████▌ | 827/962 [42:26<43:52, 19.50s/it]"
          ]
        },
        {
          "output_type": "stream",
          "name": "stdout",
          "text": [
            "✅ Done moaU_TnQDac_part3.wav (5.0 min audio)\n"
          ]
        },
        {
          "output_type": "stream",
          "name": "stderr",
          "text": [
            "\rProcessing audio:  86%|████████▌ | 828/962 [42:29<32:38, 14.61s/it]"
          ]
        },
        {
          "output_type": "stream",
          "name": "stdout",
          "text": [
            "✅ Done moaU_TnQDac_part4.wav (5.0 min audio)\n"
          ]
        },
        {
          "output_type": "stream",
          "name": "stderr",
          "text": [
            "\rProcessing audio:  86%|████████▌ | 829/962 [42:54<39:00, 17.60s/it]"
          ]
        },
        {
          "output_type": "stream",
          "name": "stdout",
          "text": [
            "✅ Done moaU_TnQDac_part5.wav (5.0 min audio)\n"
          ]
        },
        {
          "output_type": "stream",
          "name": "stderr",
          "text": [
            "\rProcessing audio:  86%|████████▋ | 830/962 [42:59<30:36, 13.91s/it]"
          ]
        },
        {
          "output_type": "stream",
          "name": "stdout",
          "text": [
            "✅ Done moaU_TnQDac_part6.wav (5.0 min audio)\n"
          ]
        },
        {
          "output_type": "stream",
          "name": "stderr",
          "text": [
            "\rProcessing audio:  86%|████████▋ | 831/962 [43:33<43:17, 19.83s/it]"
          ]
        },
        {
          "output_type": "stream",
          "name": "stdout",
          "text": [
            "✅ Done moaU_TnQDac_part7.wav (5.0 min audio)\n"
          ]
        },
        {
          "output_type": "stream",
          "name": "stderr",
          "text": [
            "\rProcessing audio:  86%|████████▋ | 832/962 [44:00<47:31, 21.94s/it]"
          ]
        },
        {
          "output_type": "stream",
          "name": "stdout",
          "text": [
            "✅ Done moaU_TnQDac_part8.wav (5.0 min audio)\n"
          ]
        },
        {
          "output_type": "stream",
          "name": "stderr",
          "text": [
            "\rProcessing audio:  87%|████████▋ | 833/962 [44:10<39:43, 18.47s/it]"
          ]
        },
        {
          "output_type": "stream",
          "name": "stdout",
          "text": [
            "✅ Done moaU_TnQDac_part9.wav (5.0 min audio)\n"
          ]
        },
        {
          "output_type": "stream",
          "name": "stderr",
          "text": [
            "\rProcessing audio:  87%|████████▋ | 834/962 [44:49<52:20, 24.53s/it]"
          ]
        },
        {
          "output_type": "stream",
          "name": "stdout",
          "text": [
            "✅ Done nnolovZdT6E_part1.wav (5.0 min audio)\n"
          ]
        },
        {
          "output_type": "stream",
          "name": "stderr",
          "text": [
            "\rProcessing audio:  87%|████████▋ | 835/962 [45:07<47:53, 22.63s/it]"
          ]
        },
        {
          "output_type": "stream",
          "name": "stdout",
          "text": [
            "✅ Done nnolovZdT6E_part2.wav (5.0 min audio)\n"
          ]
        },
        {
          "output_type": "stream",
          "name": "stderr",
          "text": [
            "\rProcessing audio:  87%|████████▋ | 836/962 [45:37<52:31, 25.01s/it]"
          ]
        },
        {
          "output_type": "stream",
          "name": "stdout",
          "text": [
            "✅ Done nnolovZdT6E_part3.wav (5.0 min audio)\n"
          ]
        },
        {
          "output_type": "stream",
          "name": "stderr",
          "text": [
            "\rProcessing audio:  87%|████████▋ | 837/962 [46:12<58:13, 27.95s/it]"
          ]
        },
        {
          "output_type": "stream",
          "name": "stdout",
          "text": [
            "✅ Done nnolovZdT6E_part4.wav (5.0 min audio)\n"
          ]
        },
        {
          "output_type": "stream",
          "name": "stderr",
          "text": [
            "\rProcessing audio:  87%|████████▋ | 838/962 [46:29<50:49, 24.59s/it]"
          ]
        },
        {
          "output_type": "stream",
          "name": "stdout",
          "text": [
            "✅ Done nnolovZdT6E_part5.wav (5.0 min audio)\n"
          ]
        },
        {
          "output_type": "stream",
          "name": "stderr",
          "text": [
            "\rProcessing audio:  87%|████████▋ | 839/962 [46:51<49:09, 23.98s/it]"
          ]
        },
        {
          "output_type": "stream",
          "name": "stdout",
          "text": [
            "✅ Done nnolovZdT6E_part6.wav (5.0 min audio)\n"
          ]
        },
        {
          "output_type": "stream",
          "name": "stderr",
          "text": [
            "\rProcessing audio:  87%|████████▋ | 840/962 [47:25<54:23, 26.75s/it]"
          ]
        },
        {
          "output_type": "stream",
          "name": "stdout",
          "text": [
            "✅ Done nnolovZdT6E_part9.wav (1.6 min audio)\n"
          ]
        },
        {
          "output_type": "stream",
          "name": "stderr",
          "text": [
            "\rProcessing audio:  87%|████████▋ | 841/962 [47:46<50:24, 24.99s/it]"
          ]
        },
        {
          "output_type": "stream",
          "name": "stdout",
          "text": [
            "✅ Done nnolovZdT6E_part7.wav (5.0 min audio)\n"
          ]
        },
        {
          "output_type": "stream",
          "name": "stderr",
          "text": [
            "\rProcessing audio:  88%|████████▊ | 842/962 [47:57<42:00, 21.00s/it]"
          ]
        },
        {
          "output_type": "stream",
          "name": "stdout",
          "text": [
            "✅ Done nypKj9nbsUI_part1.wav (5.0 min audio)\n"
          ]
        },
        {
          "output_type": "stream",
          "name": "stderr",
          "text": [
            "\rProcessing audio:  88%|████████▊ | 843/962 [48:09<36:02, 18.17s/it]"
          ]
        },
        {
          "output_type": "stream",
          "name": "stdout",
          "text": [
            "✅ Done nypKj9nbsUI_part10.wav (5.0 min audio)\n"
          ]
        },
        {
          "output_type": "stream",
          "name": "stderr",
          "text": [
            "\rProcessing audio:  88%|████████▊ | 844/962 [48:09<25:19, 12.88s/it]"
          ]
        },
        {
          "output_type": "stream",
          "name": "stdout",
          "text": [
            "✅ Done nnolovZdT6E_part8.wav (5.0 min audio)\n"
          ]
        },
        {
          "output_type": "stream",
          "name": "stderr",
          "text": [
            "\rProcessing audio:  88%|████████▊ | 845/962 [48:15<20:39, 10.60s/it]"
          ]
        },
        {
          "output_type": "stream",
          "name": "stdout",
          "text": [
            "✅ Done nypKj9nbsUI_part11.wav (5.0 min audio)\n"
          ]
        },
        {
          "output_type": "stream",
          "name": "stderr",
          "text": [
            "\rProcessing audio:  88%|████████▊ | 846/962 [48:17<15:35,  8.06s/it]"
          ]
        },
        {
          "output_type": "stream",
          "name": "stdout",
          "text": [
            "✅ Done nypKj9nbsUI_part13.wav (2.0 min audio)\n"
          ]
        },
        {
          "output_type": "stream",
          "name": "stderr",
          "text": [
            "\rProcessing audio:  88%|████████▊ | 847/962 [48:25<15:46,  8.23s/it]"
          ]
        },
        {
          "output_type": "stream",
          "name": "stdout",
          "text": [
            "✅ Done nypKj9nbsUI_part12.wav (5.0 min audio)\n"
          ]
        },
        {
          "output_type": "stream",
          "name": "stderr",
          "text": [
            "\rProcessing audio:  88%|████████▊ | 848/962 [48:29<12:45,  6.72s/it]"
          ]
        },
        {
          "output_type": "stream",
          "name": "stdout",
          "text": [
            "✅ Done nypKj9nbsUI_part2.wav (5.0 min audio)\n"
          ]
        },
        {
          "output_type": "stream",
          "name": "stderr",
          "text": [
            "\rProcessing audio:  88%|████████▊ | 849/962 [48:31<10:09,  5.39s/it]"
          ]
        },
        {
          "output_type": "stream",
          "name": "stdout",
          "text": [
            "✅ Done nypKj9nbsUI_part3.wav (5.0 min audio)\n"
          ]
        },
        {
          "output_type": "stream",
          "name": "stderr",
          "text": [
            "\rProcessing audio:  88%|████████▊ | 850/962 [48:42<13:02,  6.99s/it]"
          ]
        },
        {
          "output_type": "stream",
          "name": "stdout",
          "text": [
            "✅ Done nypKj9nbsUI_part4.wav (5.0 min audio)\n"
          ]
        },
        {
          "output_type": "stream",
          "name": "stderr",
          "text": [
            "\rProcessing audio:  88%|████████▊ | 851/962 [48:44<10:35,  5.72s/it]"
          ]
        },
        {
          "output_type": "stream",
          "name": "stdout",
          "text": [
            "✅ Done nypKj9nbsUI_part5.wav (5.0 min audio)\n"
          ]
        },
        {
          "output_type": "stream",
          "name": "stderr",
          "text": [
            "\rProcessing audio:  89%|████████▊ | 852/962 [48:48<09:25,  5.14s/it]"
          ]
        },
        {
          "output_type": "stream",
          "name": "stdout",
          "text": [
            "✅ Done nypKj9nbsUI_part6.wav (5.0 min audio)\n"
          ]
        },
        {
          "output_type": "stream",
          "name": "stderr",
          "text": [
            "\rProcessing audio:  89%|████████▊ | 853/962 [49:00<12:47,  7.04s/it]"
          ]
        },
        {
          "output_type": "stream",
          "name": "stdout",
          "text": [
            "✅ Done nypKj9nbsUI_part7.wav (5.0 min audio)\n"
          ]
        },
        {
          "output_type": "stream",
          "name": "stderr",
          "text": [
            "\rProcessing audio:  89%|████████▉ | 854/962 [49:02<10:08,  5.63s/it]"
          ]
        },
        {
          "output_type": "stream",
          "name": "stdout",
          "text": [
            "✅ Done nypKj9nbsUI_part8.wav (5.0 min audio)\n"
          ]
        },
        {
          "output_type": "stream",
          "name": "stderr",
          "text": [
            "\rProcessing audio:  89%|████████▉ | 855/962 [49:06<09:19,  5.23s/it]"
          ]
        },
        {
          "output_type": "stream",
          "name": "stdout",
          "text": [
            "✅ Done nypKj9nbsUI_part9.wav (5.0 min audio)\n"
          ]
        },
        {
          "output_type": "stream",
          "name": "stderr",
          "text": [
            "\rProcessing audio:  89%|████████▉ | 856/962 [49:34<21:08, 11.97s/it]"
          ]
        },
        {
          "output_type": "stream",
          "name": "stdout",
          "text": [
            "✅ Done oMV1_7a4_mc_part1.wav (4.1 min audio)\n"
          ]
        },
        {
          "output_type": "stream",
          "name": "stderr",
          "text": [
            "\rProcessing audio:  89%|████████▉ | 857/962 [50:12<34:39, 19.80s/it]"
          ]
        },
        {
          "output_type": "stream",
          "name": "stdout",
          "text": [
            "✅ Done oVVzkQKDHKk_part1.wav (4.9 min audio)\n"
          ]
        },
        {
          "output_type": "stream",
          "name": "stderr",
          "text": [
            "\rProcessing audio:  89%|████████▉ | 858/962 [50:16<26:21, 15.20s/it]"
          ]
        },
        {
          "output_type": "stream",
          "name": "stdout",
          "text": [
            "✅ Done ovbNW9Ws0bE_part1.wav (5.0 min audio)\n"
          ]
        },
        {
          "output_type": "stream",
          "name": "stderr",
          "text": [
            "\rProcessing audio:  89%|████████▉ | 859/962 [50:25<22:50, 13.30s/it]"
          ]
        },
        {
          "output_type": "stream",
          "name": "stdout",
          "text": [
            "✅ Done ovbNW9Ws0bE_part2.wav (5.0 min audio)\n"
          ]
        },
        {
          "output_type": "stream",
          "name": "stderr",
          "text": [
            "\rProcessing audio:  89%|████████▉ | 860/962 [51:14<40:42, 23.95s/it]"
          ]
        },
        {
          "output_type": "stream",
          "name": "stdout",
          "text": [
            "✅ Done ovbNW9Ws0bE_part4.wav (5.0 min audio)\n"
          ]
        },
        {
          "output_type": "stream",
          "name": "stderr",
          "text": [
            "Processing audio:  90%|████████▉ | 862/962 [51:27<24:13, 14.53s/it]"
          ]
        },
        {
          "output_type": "stream",
          "name": "stdout",
          "text": [
            "✅ Done ovbNW9Ws0bE_part5.wav (5.0 min audio)\n",
            "✅ Done ovbNW9Ws0bE_part3.wav (5.0 min audio)\n"
          ]
        },
        {
          "output_type": "stream",
          "name": "stderr",
          "text": [
            "\rProcessing audio:  90%|████████▉ | 863/962 [52:21<43:26, 26.32s/it]"
          ]
        },
        {
          "output_type": "stream",
          "name": "stdout",
          "text": [
            "✅ Done ovbNW9Ws0bE_part6.wav (5.0 min audio)\n"
          ]
        },
        {
          "output_type": "stream",
          "name": "stderr",
          "text": [
            "\rProcessing audio:  90%|████████▉ | 864/962 [52:26<32:14, 19.74s/it]"
          ]
        },
        {
          "output_type": "stream",
          "name": "stdout",
          "text": [
            "✅ Done ovbNW9Ws0bE_part7.wav (5.0 min audio)\n"
          ]
        },
        {
          "output_type": "stream",
          "name": "stderr",
          "text": [
            "\rProcessing audio:  90%|████████▉ | 865/962 [52:29<23:45, 14.70s/it]"
          ]
        },
        {
          "output_type": "stream",
          "name": "stdout",
          "text": [
            "✅ Done ovbNW9Ws0bE_part9.wav (1.1 min audio)\n",
            "✅ Done ovbNW9Ws0bE_part8.wav (5.0 min audio)\n"
          ]
        },
        {
          "output_type": "stream",
          "name": "stderr",
          "text": [
            "\rProcessing audio:  90%|█████████ | 867/962 [53:37<37:29, 23.68s/it]"
          ]
        },
        {
          "output_type": "stream",
          "name": "stdout",
          "text": [
            "✅ Done pzVYZDrw0EM_part3.wav (5.0 min audio)\n"
          ]
        },
        {
          "output_type": "stream",
          "name": "stderr",
          "text": [
            "\rProcessing audio:  90%|█████████ | 868/962 [53:43<30:14, 19.31s/it]"
          ]
        },
        {
          "output_type": "stream",
          "name": "stdout",
          "text": [
            "✅ Done pzVYZDrw0EM_part1.wav (5.0 min audio)\n"
          ]
        },
        {
          "output_type": "stream",
          "name": "stderr",
          "text": [
            "\rProcessing audio:  90%|█████████ | 869/962 [53:53<26:12, 16.91s/it]"
          ]
        },
        {
          "output_type": "stream",
          "name": "stdout",
          "text": [
            "✅ Done pzVYZDrw0EM_part2.wav (5.0 min audio)\n"
          ]
        },
        {
          "output_type": "stream",
          "name": "stderr",
          "text": [
            "\rProcessing audio:  90%|█████████ | 870/962 [54:51<43:07, 28.12s/it]"
          ]
        },
        {
          "output_type": "stream",
          "name": "stdout",
          "text": [
            "✅ Done pzVYZDrw0EM_part4.wav (5.0 min audio)\n"
          ]
        },
        {
          "output_type": "stream",
          "name": "stderr",
          "text": [
            "\rProcessing audio:  91%|█████████ | 871/962 [55:00<34:22, 22.66s/it]"
          ]
        },
        {
          "output_type": "stream",
          "name": "stdout",
          "text": [
            "✅ Done pzVYZDrw0EM_part5.wav (5.0 min audio)\n"
          ]
        },
        {
          "output_type": "stream",
          "name": "stderr",
          "text": [
            "\rProcessing audio:  91%|█████████ | 872/962 [55:13<29:45, 19.84s/it]"
          ]
        },
        {
          "output_type": "stream",
          "name": "stdout",
          "text": [
            "✅ Done pzVYZDrw0EM_part6.wav (5.0 min audio)\n"
          ]
        },
        {
          "output_type": "stream",
          "name": "stderr",
          "text": [
            "\rProcessing audio:  91%|█████████ | 873/962 [56:13<47:02, 31.72s/it]"
          ]
        },
        {
          "output_type": "stream",
          "name": "stdout",
          "text": [
            "✅ Done pzVYZDrw0EM_part7.wav (5.0 min audio)\n"
          ]
        },
        {
          "output_type": "stream",
          "name": "stderr",
          "text": [
            "\rProcessing audio:  91%|█████████ | 874/962 [56:14<33:08, 22.60s/it]"
          ]
        },
        {
          "output_type": "stream",
          "name": "stdout",
          "text": [
            "✅ Done pzVYZDrw0EM_part9.wav (3.6 min audio)\n"
          ]
        },
        {
          "output_type": "stream",
          "name": "stderr",
          "text": [
            "\rProcessing audio:  91%|█████████ | 875/962 [56:26<28:18, 19.52s/it]"
          ]
        },
        {
          "output_type": "stream",
          "name": "stdout",
          "text": [
            "✅ Done pzVYZDrw0EM_part8.wav (5.0 min audio)\n"
          ]
        },
        {
          "output_type": "stream",
          "name": "stderr",
          "text": [
            "\rProcessing audio:  91%|█████████ | 876/962 [57:18<41:51, 29.21s/it]"
          ]
        },
        {
          "output_type": "stream",
          "name": "stdout",
          "text": [
            "✅ Done qJOXSFOp3Jk_part2.wav (5.0 min audio)\n"
          ]
        },
        {
          "output_type": "stream",
          "name": "stderr",
          "text": [
            "\rProcessing audio:  91%|█████████ | 877/962 [57:28<33:12, 23.44s/it]"
          ]
        },
        {
          "output_type": "stream",
          "name": "stdout",
          "text": [
            "✅ Done qJOXSFOp3Jk_part1.wav (5.0 min audio)\n"
          ]
        },
        {
          "output_type": "stream",
          "name": "stderr",
          "text": [
            "\rProcessing audio:  91%|█████████▏| 878/962 [57:31<24:14, 17.32s/it]"
          ]
        },
        {
          "output_type": "stream",
          "name": "stdout",
          "text": [
            "✅ Done qJOXSFOp3Jk_part3.wav (5.0 min audio)\n"
          ]
        },
        {
          "output_type": "stream",
          "name": "stderr",
          "text": [
            "\rProcessing audio:  91%|█████████▏| 879/962 [58:21<37:16, 26.94s/it]"
          ]
        },
        {
          "output_type": "stream",
          "name": "stdout",
          "text": [
            "✅ Done qJOXSFOp3Jk_part4.wav (5.0 min audio)\n"
          ]
        },
        {
          "output_type": "stream",
          "name": "stderr",
          "text": [
            "\rProcessing audio:  91%|█████████▏| 880/962 [58:39<33:22, 24.43s/it]"
          ]
        },
        {
          "output_type": "stream",
          "name": "stdout",
          "text": [
            "✅ Done qJOXSFOp3Jk_part5.wav (5.0 min audio)\n"
          ]
        },
        {
          "output_type": "stream",
          "name": "stderr",
          "text": [
            "\rProcessing audio:  92%|█████████▏| 881/962 [58:50<27:30, 20.38s/it]"
          ]
        },
        {
          "output_type": "stream",
          "name": "stdout",
          "text": [
            "✅ Done qJOXSFOp3Jk_part6.wav (5.0 min audio)\n"
          ]
        },
        {
          "output_type": "stream",
          "name": "stderr",
          "text": [
            "\rProcessing audio:  92%|█████████▏| 882/962 [59:27<33:47, 25.34s/it]"
          ]
        },
        {
          "output_type": "stream",
          "name": "stdout",
          "text": [
            "✅ Done qJOXSFOp3Jk_part7.wav (5.0 min audio)\n"
          ]
        },
        {
          "output_type": "stream",
          "name": "stderr",
          "text": [
            "\rProcessing audio:  92%|█████████▏| 883/962 [59:32<25:18, 19.22s/it]"
          ]
        },
        {
          "output_type": "stream",
          "name": "stdout",
          "text": [
            "✅ Done qJOXSFOp3Jk_part9.wav (2.7 min audio)\n"
          ]
        },
        {
          "output_type": "stream",
          "name": "stderr",
          "text": [
            "\rProcessing audio:  92%|█████████▏| 884/962 [59:44<22:14, 17.11s/it]"
          ]
        },
        {
          "output_type": "stream",
          "name": "stdout",
          "text": [
            "✅ Done qQRqJqeUYTU_part2.wav (0.6 min audio)\n"
          ]
        },
        {
          "output_type": "stream",
          "name": "stderr",
          "text": [
            "\rProcessing audio:  92%|█████████▏| 885/962 [59:45<15:39, 12.20s/it]"
          ]
        },
        {
          "output_type": "stream",
          "name": "stdout",
          "text": [
            "✅ Done qJOXSFOp3Jk_part8.wav (5.0 min audio)\n"
          ]
        },
        {
          "output_type": "stream",
          "name": "stderr",
          "text": [
            "\rProcessing audio:  92%|█████████▏| 886/962 [1:00:25<26:05, 20.60s/it]"
          ]
        },
        {
          "output_type": "stream",
          "name": "stdout",
          "text": [
            "✅ Done qQRqJqeUYTU_part1.wav (5.0 min audio)\n"
          ]
        },
        {
          "output_type": "stream",
          "name": "stderr",
          "text": [
            "\rProcessing audio:  92%|█████████▏| 887/962 [1:00:33<20:50, 16.67s/it]"
          ]
        },
        {
          "output_type": "stream",
          "name": "stdout",
          "text": [
            "✅ Done s2TDVUmfJO8_part11.wav (0.4 min audio)\n"
          ]
        },
        {
          "output_type": "stream",
          "name": "stderr",
          "text": [
            "\rProcessing audio:  92%|█████████▏| 888/962 [1:00:49<20:20, 16.50s/it]"
          ]
        },
        {
          "output_type": "stream",
          "name": "stdout",
          "text": [
            "✅ Done s2TDVUmfJO8_part10.wav (5.0 min audio)\n"
          ]
        },
        {
          "output_type": "stream",
          "name": "stderr",
          "text": [
            "\rProcessing audio:  92%|█████████▏| 889/962 [1:01:05<20:01, 16.46s/it]"
          ]
        },
        {
          "output_type": "stream",
          "name": "stdout",
          "text": [
            "✅ Done s2TDVUmfJO8_part1.wav (5.0 min audio)\n"
          ]
        },
        {
          "output_type": "stream",
          "name": "stderr",
          "text": [
            "\rProcessing audio:  93%|█████████▎| 890/962 [1:01:52<30:52, 25.73s/it]"
          ]
        },
        {
          "output_type": "stream",
          "name": "stdout",
          "text": [
            "✅ Done s2TDVUmfJO8_part2.wav (5.0 min audio)\n"
          ]
        },
        {
          "output_type": "stream",
          "name": "stderr",
          "text": [
            "\rProcessing audio:  93%|█████████▎| 891/962 [1:02:02<24:52, 21.03s/it]"
          ]
        },
        {
          "output_type": "stream",
          "name": "stdout",
          "text": [
            "✅ Done s2TDVUmfJO8_part3.wav (5.0 min audio)\n"
          ]
        },
        {
          "output_type": "stream",
          "name": "stderr",
          "text": [
            "\rProcessing audio:  93%|█████████▎| 892/962 [1:02:09<19:34, 16.78s/it]"
          ]
        },
        {
          "output_type": "stream",
          "name": "stdout",
          "text": [
            "✅ Done s2TDVUmfJO8_part4.wav (5.0 min audio)\n"
          ]
        },
        {
          "output_type": "stream",
          "name": "stderr",
          "text": [
            "\rProcessing audio:  93%|█████████▎| 893/962 [1:03:08<33:50, 29.43s/it]"
          ]
        },
        {
          "output_type": "stream",
          "name": "stdout",
          "text": [
            "✅ Done s2TDVUmfJO8_part5.wav (5.0 min audio)\n"
          ]
        },
        {
          "output_type": "stream",
          "name": "stderr",
          "text": [
            "\rProcessing audio:  93%|█████████▎| 894/962 [1:03:12<24:38, 21.74s/it]"
          ]
        },
        {
          "output_type": "stream",
          "name": "stdout",
          "text": [
            "✅ Done s2TDVUmfJO8_part7.wav (5.0 min audio)\n"
          ]
        },
        {
          "output_type": "stream",
          "name": "stderr",
          "text": [
            "\rProcessing audio:  93%|█████████▎| 895/962 [1:03:17<18:34, 16.63s/it]"
          ]
        },
        {
          "output_type": "stream",
          "name": "stdout",
          "text": [
            "✅ Done s2TDVUmfJO8_part6.wav (5.0 min audio)\n"
          ]
        },
        {
          "output_type": "stream",
          "name": "stderr",
          "text": [
            "\rProcessing audio:  93%|█████████▎| 896/962 [1:03:28<16:31, 15.03s/it]"
          ]
        },
        {
          "output_type": "stream",
          "name": "stdout",
          "text": [
            "✅ Done uRPrHIs8D44_part1.wav (0.8 min audio)\n"
          ]
        },
        {
          "output_type": "stream",
          "name": "stderr",
          "text": [
            "\rProcessing audio:  93%|█████████▎| 897/962 [1:04:21<28:34, 26.37s/it]"
          ]
        },
        {
          "output_type": "stream",
          "name": "stdout",
          "text": [
            "✅ Done s2TDVUmfJO8_part9.wav (5.0 min audio)\n"
          ]
        },
        {
          "output_type": "stream",
          "name": "stderr",
          "text": [
            "\rProcessing audio:  93%|█████████▎| 898/962 [1:04:22<20:08, 18.89s/it]"
          ]
        },
        {
          "output_type": "stream",
          "name": "stdout",
          "text": [
            "✅ Done s2TDVUmfJO8_part8.wav (5.0 min audio)\n"
          ]
        },
        {
          "output_type": "stream",
          "name": "stderr",
          "text": [
            "\rProcessing audio:  93%|█████████▎| 899/962 [1:05:02<26:17, 25.04s/it]"
          ]
        },
        {
          "output_type": "stream",
          "name": "stdout",
          "text": [
            "✅ Done ugeyCBEFzZs_part1.wav (5.0 min audio)\n"
          ]
        },
        {
          "output_type": "stream",
          "name": "stderr",
          "text": [
            "\rProcessing audio:  94%|█████████▎| 900/962 [1:05:48<32:27, 31.41s/it]"
          ]
        },
        {
          "output_type": "stream",
          "name": "stdout",
          "text": [
            "✅ Done ugeyCBEFzZs_part11.wav (5.0 min audio)\n"
          ]
        },
        {
          "output_type": "stream",
          "name": "stderr",
          "text": [
            "\rProcessing audio:  94%|█████████▎| 901/962 [1:05:53<23:50, 23.45s/it]"
          ]
        },
        {
          "output_type": "stream",
          "name": "stdout",
          "text": [
            "✅ Done ugeyCBEFzZs_part10.wav (5.0 min audio)\n"
          ]
        },
        {
          "output_type": "stream",
          "name": "stderr",
          "text": [
            "\rProcessing audio:  94%|█████████▍| 902/962 [1:06:32<28:17, 28.29s/it]"
          ]
        },
        {
          "output_type": "stream",
          "name": "stdout",
          "text": [
            "✅ Done ugeyCBEFzZs_part12.wav (5.0 min audio)\n"
          ]
        },
        {
          "output_type": "stream",
          "name": "stderr",
          "text": [
            "\rProcessing audio:  94%|█████████▍| 903/962 [1:07:10<30:31, 31.05s/it]"
          ]
        },
        {
          "output_type": "stream",
          "name": "stdout",
          "text": [
            "✅ Done ugeyCBEFzZs_part14.wav (5.0 min audio)\n"
          ]
        },
        {
          "output_type": "stream",
          "name": "stderr",
          "text": [
            "\rProcessing audio:  94%|█████████▍| 904/962 [1:07:20<23:58, 24.80s/it]"
          ]
        },
        {
          "output_type": "stream",
          "name": "stdout",
          "text": [
            "✅ Done ugeyCBEFzZs_part13.wav (5.0 min audio)\n"
          ]
        },
        {
          "output_type": "stream",
          "name": "stderr",
          "text": [
            "\rProcessing audio:  94%|█████████▍| 905/962 [1:07:51<25:21, 26.69s/it]"
          ]
        },
        {
          "output_type": "stream",
          "name": "stdout",
          "text": [
            "✅ Done ugeyCBEFzZs_part15.wav (5.0 min audio)\n"
          ]
        },
        {
          "output_type": "stream",
          "name": "stderr",
          "text": [
            "\rProcessing audio:  94%|█████████▍| 906/962 [1:07:52<17:37, 18.88s/it]"
          ]
        },
        {
          "output_type": "stream",
          "name": "stdout",
          "text": [
            "✅ Done ugeyCBEFzZs_part16.wav (3.3 min audio)\n"
          ]
        },
        {
          "output_type": "stream",
          "name": "stderr",
          "text": [
            "\rProcessing audio:  94%|█████████▍| 907/962 [1:08:18<19:14, 20.99s/it]"
          ]
        },
        {
          "output_type": "stream",
          "name": "stdout",
          "text": [
            "✅ Done ugeyCBEFzZs_part2.wav (5.0 min audio)\n"
          ]
        },
        {
          "output_type": "stream",
          "name": "stderr",
          "text": [
            "\rProcessing audio:  94%|█████████▍| 908/962 [1:08:59<24:23, 27.10s/it]"
          ]
        },
        {
          "output_type": "stream",
          "name": "stdout",
          "text": [
            "✅ Done ugeyCBEFzZs_part4.wav (5.0 min audio)\n"
          ]
        },
        {
          "output_type": "stream",
          "name": "stderr",
          "text": [
            "\rProcessing audio:  94%|█████████▍| 909/962 [1:09:18<21:48, 24.68s/it]"
          ]
        },
        {
          "output_type": "stream",
          "name": "stdout",
          "text": [
            "✅ Done ugeyCBEFzZs_part3.wav (5.0 min audio)\n"
          ]
        },
        {
          "output_type": "stream",
          "name": "stderr",
          "text": [
            "\rProcessing audio:  95%|█████████▍| 910/962 [1:09:49<22:53, 26.42s/it]"
          ]
        },
        {
          "output_type": "stream",
          "name": "stdout",
          "text": [
            "✅ Done ugeyCBEFzZs_part5.wav (5.0 min audio)\n"
          ]
        },
        {
          "output_type": "stream",
          "name": "stderr",
          "text": [
            "\rProcessing audio:  95%|█████████▍| 911/962 [1:10:10<21:06, 24.83s/it]"
          ]
        },
        {
          "output_type": "stream",
          "name": "stdout",
          "text": [
            "✅ Done ugeyCBEFzZs_part6.wav (5.0 min audio)\n"
          ]
        },
        {
          "output_type": "stream",
          "name": "stderr",
          "text": [
            "\rProcessing audio:  95%|█████████▍| 912/962 [1:10:33<20:21, 24.44s/it]"
          ]
        },
        {
          "output_type": "stream",
          "name": "stdout",
          "text": [
            "✅ Done ugeyCBEFzZs_part7.wav (5.0 min audio)\n"
          ]
        },
        {
          "output_type": "stream",
          "name": "stderr",
          "text": [
            "\rProcessing audio:  95%|█████████▍| 913/962 [1:11:20<25:26, 31.15s/it]"
          ]
        },
        {
          "output_type": "stream",
          "name": "stdout",
          "text": [
            "✅ Done ugeyCBEFzZs_part8.wav (5.0 min audio)\n"
          ]
        },
        {
          "output_type": "stream",
          "name": "stderr",
          "text": [
            "\rProcessing audio:  95%|█████████▌| 914/962 [1:11:31<20:04, 25.09s/it]"
          ]
        },
        {
          "output_type": "stream",
          "name": "stdout",
          "text": [
            "✅ Done ugeyCBEFzZs_part9.wav (5.0 min audio)\n"
          ]
        },
        {
          "output_type": "stream",
          "name": "stderr",
          "text": [
            "\rProcessing audio:  95%|█████████▌| 915/962 [1:11:33<14:11, 18.13s/it]"
          ]
        },
        {
          "output_type": "stream",
          "name": "stdout",
          "text": [
            "✅ Done uyxv9W4HShU_part1.wav (3.6 min audio)\n"
          ]
        },
        {
          "output_type": "stream",
          "name": "stderr",
          "text": [
            "\rProcessing audio:  95%|█████████▌| 916/962 [1:12:36<24:13, 31.60s/it]"
          ]
        },
        {
          "output_type": "stream",
          "name": "stdout",
          "text": [
            "✅ Done vMYsIBi3ueo_part1.wav (5.0 min audio)\n"
          ]
        },
        {
          "output_type": "stream",
          "name": "stderr",
          "text": [
            "\rProcessing audio:  95%|█████████▌| 917/962 [1:12:52<20:12, 26.94s/it]"
          ]
        },
        {
          "output_type": "stream",
          "name": "stdout",
          "text": [
            "✅ Done vMYsIBi3ueo_part10.wav (5.0 min audio)\n"
          ]
        },
        {
          "output_type": "stream",
          "name": "stderr",
          "text": [
            "\rProcessing audio:  95%|█████████▌| 918/962 [1:12:56<14:39, 19.98s/it]"
          ]
        },
        {
          "output_type": "stream",
          "name": "stdout",
          "text": [
            "✅ Done vMYsIBi3ueo_part11.wav (5.0 min audio)\n",
            "⚡ Skipped vMYsIBi3ueo_part14.wav (already processed)\n"
          ]
        },
        {
          "output_type": "stream",
          "name": "stderr",
          "text": [
            "\rProcessing audio:  96%|█████████▌| 920/962 [1:14:08<19:11, 27.42s/it]"
          ]
        },
        {
          "output_type": "stream",
          "name": "stdout",
          "text": [
            "✅ Done vMYsIBi3ueo_part13.wav (5.0 min audio)\n"
          ]
        },
        {
          "output_type": "stream",
          "name": "stderr",
          "text": [
            "\rProcessing audio:  96%|█████████▌| 921/962 [1:14:09<14:14, 20.83s/it]"
          ]
        },
        {
          "output_type": "stream",
          "name": "stdout",
          "text": [
            "✅ Done vMYsIBi3ueo_part12.wav (5.0 min audio)\n"
          ]
        },
        {
          "output_type": "stream",
          "name": "stderr",
          "text": [
            "\rProcessing audio:  96%|█████████▌| 922/962 [1:14:16<11:34, 17.37s/it]"
          ]
        },
        {
          "output_type": "stream",
          "name": "stdout",
          "text": [
            "✅ Done vMYsIBi3ueo_part2.wav (5.0 min audio)\n"
          ]
        },
        {
          "output_type": "stream",
          "name": "stderr",
          "text": [
            "\rProcessing audio:  96%|█████████▌| 923/962 [1:15:31<21:21, 32.85s/it]"
          ]
        },
        {
          "output_type": "stream",
          "name": "stdout",
          "text": [
            "✅ Done vMYsIBi3ueo_part4.wav (5.0 min audio)\n"
          ]
        },
        {
          "output_type": "stream",
          "name": "stderr",
          "text": [
            "\rProcessing audio:  96%|█████████▌| 924/962 [1:15:31<15:01, 23.72s/it]"
          ]
        },
        {
          "output_type": "stream",
          "name": "stdout",
          "text": [
            "✅ Done vMYsIBi3ueo_part5.wav (5.0 min audio)\n"
          ]
        },
        {
          "output_type": "stream",
          "name": "stderr",
          "text": [
            "\rProcessing audio:  96%|█████████▌| 925/962 [1:15:31<10:29, 17.03s/it]"
          ]
        },
        {
          "output_type": "stream",
          "name": "stdout",
          "text": [
            "✅ Done vMYsIBi3ueo_part3.wav (5.0 min audio)\n"
          ]
        },
        {
          "output_type": "stream",
          "name": "stderr",
          "text": [
            "\rProcessing audio:  96%|█████████▋| 926/962 [1:16:23<16:20, 27.22s/it]"
          ]
        },
        {
          "output_type": "stream",
          "name": "stdout",
          "text": [
            "✅ Done vMYsIBi3ueo_part6.wav (5.0 min audio)\n"
          ]
        },
        {
          "output_type": "stream",
          "name": "stderr",
          "text": [
            "\rProcessing audio:  96%|█████████▋| 927/962 [1:16:27<11:46, 20.18s/it]"
          ]
        },
        {
          "output_type": "stream",
          "name": "stdout",
          "text": [
            "✅ Done vMYsIBi3ueo_part7.wav (5.0 min audio)\n"
          ]
        },
        {
          "output_type": "stream",
          "name": "stderr",
          "text": [
            "\rProcessing audio:  96%|█████████▋| 928/962 [1:16:40<10:14, 18.06s/it]"
          ]
        },
        {
          "output_type": "stream",
          "name": "stdout",
          "text": [
            "✅ Done vMYsIBi3ueo_part8.wav (5.0 min audio)\n"
          ]
        },
        {
          "output_type": "stream",
          "name": "stderr",
          "text": [
            "\rProcessing audio:  97%|█████████▋| 929/962 [1:17:38<16:26, 29.88s/it]"
          ]
        },
        {
          "output_type": "stream",
          "name": "stdout",
          "text": [
            "✅ Done vMYsIBi3ueo_part9.wav (5.0 min audio)\n"
          ]
        },
        {
          "output_type": "stream",
          "name": "stderr",
          "text": [
            "\rProcessing audio:  97%|█████████▋| 930/962 [1:17:56<14:08, 26.51s/it]"
          ]
        },
        {
          "output_type": "stream",
          "name": "stdout",
          "text": [
            "✅ Done xXmPFVGlbJM_part1.wav (5.0 min audio)\n"
          ]
        },
        {
          "output_type": "stream",
          "name": "stderr",
          "text": [
            "\rProcessing audio:  97%|█████████▋| 931/962 [1:18:14<12:22, 23.94s/it]"
          ]
        },
        {
          "output_type": "stream",
          "name": "stdout",
          "text": [
            "✅ Done x1hAqF7-RBo_part1.wav (4.7 min audio)\n"
          ]
        },
        {
          "output_type": "stream",
          "name": "stderr",
          "text": [
            "\rProcessing audio:  97%|█████████▋| 932/962 [1:19:11<16:56, 33.88s/it]"
          ]
        },
        {
          "output_type": "stream",
          "name": "stdout",
          "text": [
            "✅ Done xXmPFVGlbJM_part10.wav (5.0 min audio)\n"
          ]
        },
        {
          "output_type": "stream",
          "name": "stderr",
          "text": [
            "\rProcessing audio:  97%|█████████▋| 933/962 [1:19:23<13:07, 27.16s/it]"
          ]
        },
        {
          "output_type": "stream",
          "name": "stdout",
          "text": [
            "✅ Done xXmPFVGlbJM_part11.wav (5.0 min audio)\n"
          ]
        },
        {
          "output_type": "stream",
          "name": "stderr",
          "text": [
            "\rProcessing audio:  97%|█████████▋| 934/962 [1:19:42<11:36, 24.86s/it]"
          ]
        },
        {
          "output_type": "stream",
          "name": "stdout",
          "text": [
            "✅ Done xXmPFVGlbJM_part12.wav (5.0 min audio)\n"
          ]
        },
        {
          "output_type": "stream",
          "name": "stderr",
          "text": [
            "\rProcessing audio:  97%|█████████▋| 935/962 [1:19:47<08:34, 19.04s/it]"
          ]
        },
        {
          "output_type": "stream",
          "name": "stdout",
          "text": [
            "✅ Done xXmPFVGlbJM_part13.wav (1.9 min audio)\n"
          ]
        },
        {
          "output_type": "stream",
          "name": "stderr",
          "text": [
            "\rProcessing audio:  97%|█████████▋| 936/962 [1:20:44<13:03, 30.13s/it]"
          ]
        },
        {
          "output_type": "stream",
          "name": "stdout",
          "text": [
            "✅ Done xXmPFVGlbJM_part2.wav (5.0 min audio)\n"
          ]
        },
        {
          "output_type": "stream",
          "name": "stderr",
          "text": [
            "\rProcessing audio:  97%|█████████▋| 937/962 [1:20:51<09:43, 23.33s/it]"
          ]
        },
        {
          "output_type": "stream",
          "name": "stdout",
          "text": [
            "✅ Done xXmPFVGlbJM_part3.wav (5.0 min audio)\n"
          ]
        },
        {
          "output_type": "stream",
          "name": "stderr",
          "text": [
            "\rProcessing audio:  98%|█████████▊| 938/962 [1:21:04<08:08, 20.36s/it]"
          ]
        },
        {
          "output_type": "stream",
          "name": "stdout",
          "text": [
            "✅ Done xXmPFVGlbJM_part4.wav (5.0 min audio)\n"
          ]
        },
        {
          "output_type": "stream",
          "name": "stderr",
          "text": [
            "\rProcessing audio:  98%|█████████▊| 939/962 [1:22:16<13:39, 35.64s/it]"
          ]
        },
        {
          "output_type": "stream",
          "name": "stdout",
          "text": [
            "✅ Done xXmPFVGlbJM_part5.wav (5.0 min audio)\n"
          ]
        },
        {
          "output_type": "stream",
          "name": "stderr",
          "text": [
            "\rProcessing audio:  98%|█████████▊| 940/962 [1:22:18<09:25, 25.69s/it]"
          ]
        },
        {
          "output_type": "stream",
          "name": "stdout",
          "text": [
            "✅ Done xXmPFVGlbJM_part6.wav (5.0 min audio)\n"
          ]
        },
        {
          "output_type": "stream",
          "name": "stderr",
          "text": [
            "\rProcessing audio:  98%|█████████▊| 941/962 [1:22:21<06:35, 18.85s/it]"
          ]
        },
        {
          "output_type": "stream",
          "name": "stdout",
          "text": [
            "✅ Done xXmPFVGlbJM_part7.wav (5.0 min audio)\n"
          ]
        },
        {
          "output_type": "stream",
          "name": "stderr",
          "text": [
            "\rProcessing audio:  98%|█████████▊| 942/962 [1:23:23<10:34, 31.71s/it]"
          ]
        },
        {
          "output_type": "stream",
          "name": "stdout",
          "text": [
            "✅ Done xXmPFVGlbJM_part9.wav (5.0 min audio)\n"
          ]
        },
        {
          "output_type": "stream",
          "name": "stderr",
          "text": [
            "\rProcessing audio:  98%|█████████▊| 943/962 [1:23:30<07:45, 24.51s/it]"
          ]
        },
        {
          "output_type": "stream",
          "name": "stdout",
          "text": [
            "✅ Done xx6uCpYeyF0_part1.wav (5.0 min audio)\n"
          ]
        },
        {
          "output_type": "stream",
          "name": "stderr",
          "text": [
            "\rProcessing audio:  98%|█████████▊| 944/962 [1:23:36<05:37, 18.74s/it]"
          ]
        },
        {
          "output_type": "stream",
          "name": "stdout",
          "text": [
            "✅ Done xXmPFVGlbJM_part8.wav (5.0 min audio)\n"
          ]
        },
        {
          "output_type": "stream",
          "name": "stderr",
          "text": [
            "\rProcessing audio:  98%|█████████▊| 945/962 [1:24:18<07:18, 25.82s/it]"
          ]
        },
        {
          "output_type": "stream",
          "name": "stdout",
          "text": [
            "✅ Done xx6uCpYeyF0_part10.wav (3.9 min audio)\n"
          ]
        },
        {
          "output_type": "stream",
          "name": "stderr",
          "text": [
            "\rProcessing audio:  98%|█████████▊| 946/962 [1:24:42<06:46, 25.38s/it]"
          ]
        },
        {
          "output_type": "stream",
          "name": "stdout",
          "text": [
            "✅ Done xx6uCpYeyF0_part3.wav (5.0 min audio)\n"
          ]
        },
        {
          "output_type": "stream",
          "name": "stderr",
          "text": [
            "\rProcessing audio:  98%|█████████▊| 947/962 [1:24:43<04:29, 17.99s/it]"
          ]
        },
        {
          "output_type": "stream",
          "name": "stdout",
          "text": [
            "✅ Done xx6uCpYeyF0_part2.wav (5.0 min audio)\n"
          ]
        },
        {
          "output_type": "stream",
          "name": "stderr",
          "text": [
            "\rProcessing audio:  99%|█████████▊| 948/962 [1:25:34<06:28, 27.75s/it]"
          ]
        },
        {
          "output_type": "stream",
          "name": "stdout",
          "text": [
            "✅ Done xx6uCpYeyF0_part4.wav (5.0 min audio)\n"
          ]
        },
        {
          "output_type": "stream",
          "name": "stderr",
          "text": [
            "\rProcessing audio:  99%|█████████▊| 949/962 [1:25:52<05:23, 24.89s/it]"
          ]
        },
        {
          "output_type": "stream",
          "name": "stdout",
          "text": [
            "✅ Done xx6uCpYeyF0_part5.wav (5.0 min audio)\n"
          ]
        },
        {
          "output_type": "stream",
          "name": "stderr",
          "text": [
            "\rProcessing audio:  99%|█████████▉| 950/962 [1:26:01<04:01, 20.11s/it]"
          ]
        },
        {
          "output_type": "stream",
          "name": "stdout",
          "text": [
            "✅ Done xx6uCpYeyF0_part6.wav (5.0 min audio)\n"
          ]
        },
        {
          "output_type": "stream",
          "name": "stderr",
          "text": [
            "\rProcessing audio:  99%|█████████▉| 951/962 [1:26:50<05:16, 28.80s/it]"
          ]
        },
        {
          "output_type": "stream",
          "name": "stdout",
          "text": [
            "✅ Done xx6uCpYeyF0_part7.wav (5.0 min audio)\n"
          ]
        },
        {
          "output_type": "stream",
          "name": "stderr",
          "text": [
            "\rProcessing audio:  99%|█████████▉| 952/962 [1:26:57<03:43, 22.36s/it]"
          ]
        },
        {
          "output_type": "stream",
          "name": "stdout",
          "text": [
            "✅ Done xx6uCpYeyF0_part8.wav (5.0 min audio)\n"
          ]
        },
        {
          "output_type": "stream",
          "name": "stderr",
          "text": [
            "\rProcessing audio:  99%|█████████▉| 953/962 [1:27:03<02:36, 17.34s/it]"
          ]
        },
        {
          "output_type": "stream",
          "name": "stdout",
          "text": [
            "✅ Done xx6uCpYeyF0_part9.wav (5.0 min audio)\n"
          ]
        },
        {
          "output_type": "stream",
          "name": "stderr",
          "text": [
            "\rProcessing audio:  99%|█████████▉| 954/962 [1:27:07<01:46, 13.36s/it]"
          ]
        },
        {
          "output_type": "stream",
          "name": "stdout",
          "text": [
            "✅ Done zFYLu8NhVdw_part1.wav (5.0 min audio)\n"
          ]
        },
        {
          "output_type": "stream",
          "name": "stderr",
          "text": [
            "\rProcessing audio:  99%|█████████▉| 955/962 [1:27:10<01:11, 10.17s/it]"
          ]
        },
        {
          "output_type": "stream",
          "name": "stdout",
          "text": [
            "✅ Done zFYLu8NhVdw_part2.wav (5.0 min audio)\n"
          ]
        },
        {
          "output_type": "stream",
          "name": "stderr",
          "text": [
            "\rProcessing audio:  99%|█████████▉| 956/962 [1:27:15<00:53,  8.83s/it]"
          ]
        },
        {
          "output_type": "stream",
          "name": "stdout",
          "text": [
            "✅ Done zFYLu8NhVdw_part3.wav (5.0 min audio)\n"
          ]
        },
        {
          "output_type": "stream",
          "name": "stderr",
          "text": [
            "\rProcessing audio:  99%|█████████▉| 957/962 [1:27:20<00:37,  7.51s/it]"
          ]
        },
        {
          "output_type": "stream",
          "name": "stdout",
          "text": [
            "✅ Done zFYLu8NhVdw_part4.wav (5.0 min audio)\n"
          ]
        },
        {
          "output_type": "stream",
          "name": "stderr",
          "text": [
            "\rProcessing audio: 100%|█████████▉| 958/962 [1:27:22<00:23,  5.98s/it]"
          ]
        },
        {
          "output_type": "stream",
          "name": "stdout",
          "text": [
            "✅ Done zFYLu8NhVdw_part5.wav (5.0 min audio)\n"
          ]
        },
        {
          "output_type": "stream",
          "name": "stderr",
          "text": [
            "\rProcessing audio: 100%|█████████▉| 959/962 [1:27:24<00:13,  4.60s/it]"
          ]
        },
        {
          "output_type": "stream",
          "name": "stdout",
          "text": [
            "✅ Done zFYLu8NhVdw_part6.wav (5.0 min audio)\n"
          ]
        },
        {
          "output_type": "stream",
          "name": "stderr",
          "text": [
            "\rProcessing audio: 100%|█████████▉| 960/962 [1:27:30<00:10,  5.13s/it]"
          ]
        },
        {
          "output_type": "stream",
          "name": "stdout",
          "text": [
            "✅ Done zFYLu8NhVdw_part7.wav (5.0 min audio)\n"
          ]
        },
        {
          "output_type": "stream",
          "name": "stderr",
          "text": [
            "\rProcessing audio: 100%|█████████▉| 961/962 [1:27:31<00:03,  3.94s/it]"
          ]
        },
        {
          "output_type": "stream",
          "name": "stdout",
          "text": [
            "✅ Done zFYLu8NhVdw_part9.wav (3.2 min audio)\n"
          ]
        },
        {
          "output_type": "stream",
          "name": "stderr",
          "text": [
            "Processing audio: 100%|██████████| 962/962 [1:27:32<00:00,  5.46s/it]"
          ]
        },
        {
          "output_type": "stream",
          "name": "stdout",
          "text": [
            "✅ Done zFYLu8NhVdw_part8.wav (5.0 min audio)\n",
            "\n",
            "🎯 Completed 962 files.\n",
            "✅ English transcripts saved in: /content/drive/MyDrive/task_dhivehi/translated_txt\n"
          ]
        },
        {
          "output_type": "stream",
          "name": "stderr",
          "text": [
            "\n"
          ]
        }
      ]
    },
    {
      "cell_type": "code",
      "source": [
        "import os\n",
        "from google.colab import drive\n",
        "\n",
        "# ---------- 1. MOUNT GOOGLE DRIVE ----------\n",
        "drive.mount('/content/drive', force_remount=True)\n",
        "\n",
        "# ---------- 2. BASE PATH ----------\n",
        "BASE_FOLDER = \"/content/drive/MyDrive/task_dhivehi\"\n",
        "\n",
        "# ---------- 3. WALK THROUGH FOLDERS WITH FILE COUNTS ----------\n",
        "for root, dirs, files in os.walk(BASE_FOLDER):\n",
        "    rel_path = os.path.relpath(root, BASE_FOLDER)\n",
        "    if rel_path == \".\":\n",
        "        folder_name = BASE_FOLDER\n",
        "    else:\n",
        "        folder_name = rel_path\n",
        "\n",
        "    file_count = len([f for f in files if os.path.isfile(os.path.join(root, f))])\n",
        "    print(f\"📂 {folder_name} → {file_count} files\")\n"
      ],
      "metadata": {
        "colab": {
          "base_uri": "https://localhost:8080/"
        },
        "id": "010jEP7NLnth",
        "outputId": "cdd51af6-5745-4320-c29b-94f03c59b67c"
      },
      "execution_count": null,
      "outputs": [
        {
          "output_type": "stream",
          "name": "stdout",
          "text": [
            "Mounted at /content/drive\n",
            "📂 /content/drive/MyDrive/task_dhivehi → 0 files\n",
            "📂 audios → 99 files\n",
            "📂 chunks → 962 files\n",
            "📂 transcriptions → 2 files\n",
            "📂 transcriptions_cleaned → 2 files\n",
            "📂 translated_txt → 962 files\n",
            "📂 translations_google → 0 files\n",
            "📂 backup_extras → 0 files\n",
            "📂 backup_extras_final → 962 files\n"
          ]
        }
      ]
    },
    {
      "cell_type": "code",
      "source": [
        "import os\n",
        "\n",
        "BASE = \"/content/drive/MyDrive/task_dhivehi\"\n",
        "BACKUP = os.path.join(BASE, \"backup_extras\")\n",
        "\n",
        "print(\"📂 Backup folder path:\", BACKUP)\n",
        "print(\"📦 Total files in backup:\", len(os.listdir(BACKUP)) )\n",
        "\n",
        "# Show first 10 files to confirm\n",
        "os.listdir(BACKUP)[:10]\n"
      ],
      "metadata": {
        "id": "k6RlbO1ygHW-",
        "colab": {
          "base_uri": "https://localhost:8080/"
        },
        "outputId": "ce3153a3-6275-4bfe-8940-618689720e4a"
      },
      "execution_count": null,
      "outputs": [
        {
          "output_type": "stream",
          "name": "stdout",
          "text": [
            "📂 Backup folder path: /content/drive/MyDrive/task_dhivehi/backup_extras\n",
            "📦 Total files in backup: 0\n"
          ]
        },
        {
          "output_type": "execute_result",
          "data": {
            "text/plain": [
              "[]"
            ]
          },
          "metadata": {},
          "execution_count": 12
        }
      ]
    },
    {
      "cell_type": "code",
      "source": [
        "import os\n",
        "\n",
        "BASE = \"/content/drive/MyDrive/task_dhivehi\"\n",
        "BACKUP = os.path.join(BASE, \"backup_extras_final\")\n",
        "\n",
        "if os.path.exists(BACKUP):\n",
        "    print(\"📦 Backup folder exists\")\n",
        "    print(\"🔢 Files inside backup:\", len(os.listdir(BACKUP)))\n",
        "    print(\"📂 Sample:\", os.listdir(BACKUP)[:5])\n",
        "else:\n",
        "    print(\"❌ Backup folder missing\")\n"
      ],
      "metadata": {
        "colab": {
          "base_uri": "https://localhost:8080/"
        },
        "id": "Gmrt-Nx5WVDf",
        "outputId": "cfa42732-8b42-47b4-958d-f74960f115e9"
      },
      "execution_count": null,
      "outputs": [
        {
          "output_type": "stream",
          "name": "stdout",
          "text": [
            "📦 Backup folder exists\n",
            "🔢 Files inside backup: 962\n",
            "📂 Sample: ['23gRqCSWxTI_part10.wav.json', '23gRqCSWxTI_part11.wav.json', '23gRqCSWxTI_part12.wav.json', '23gRqCSWxTI_part13.wav.json', '23gRqCSWxTI_part14.wav.json']\n"
          ]
        }
      ]
    },
    {
      "cell_type": "code",
      "source": [
        "import shutil\n",
        "\n",
        "TRANS = os.path.join(BASE, \"transcriptions\")\n",
        "TRANS_CLEAN = os.path.join(BASE, \"transcriptions_cleaned\")\n",
        "\n",
        "os.makedirs(TRANS, exist_ok=True)\n",
        "os.makedirs(TRANS_CLEAN, exist_ok=True)\n",
        "\n",
        "restored = 0\n",
        "for f in os.listdir(BACKUP):\n",
        "    src = os.path.join(BACKUP, f)\n",
        "    if f.endswith(\".json\"):\n",
        "        if \"cleaned\" in f.lower():\n",
        "            dst = os.path.join(TRANS_CLEAN, f)\n",
        "        else:\n",
        "            dst = os.path.join(TRANS, f)\n",
        "        shutil.move(src, dst)\n",
        "        restored += 1\n",
        "\n",
        "print(f\"✅ Restored {restored} files\")\n",
        "print(\"📂 audios:\", len(os.listdir(os.path.join(BASE, 'audios'))))\n",
        "print(\"📂 chunks:\", len(os.listdir(os.path.join(BASE, 'chunks'))))\n",
        "print(\"📂 transcriptions:\", len(os.listdir(TRANS)))\n",
        "print(\"📂 transcriptions_cleaned:\", len(os.listdir(TRANS_CLEAN)))\n",
        "print(\"📂 translated_txt:\", len(os.listdir(os.path.join(BASE, 'translated_txt'))))\n",
        "print(\"📂 translated_txt:\", len(os.listdir(os.path.join(BASE, 'translated_txt'))))\n",
        "\n"
      ],
      "metadata": {
        "colab": {
          "base_uri": "https://localhost:8080/",
          "height": 211
        },
        "id": "UYzBXfBsaiQy",
        "outputId": "b0786443-b3c4-4f42-8888-44504ee9db9d"
      },
      "execution_count": null,
      "outputs": [
        {
          "output_type": "error",
          "ename": "NameError",
          "evalue": "name 'BACKUP' is not defined",
          "traceback": [
            "\u001b[0;31m---------------------------------------------------------------------------\u001b[0m",
            "\u001b[0;31mNameError\u001b[0m                                 Traceback (most recent call last)",
            "\u001b[0;32m/tmp/ipython-input-616898980.py\u001b[0m in \u001b[0;36m<cell line: 0>\u001b[0;34m()\u001b[0m\n\u001b[1;32m      8\u001b[0m \u001b[0;34m\u001b[0m\u001b[0m\n\u001b[1;32m      9\u001b[0m \u001b[0mrestored\u001b[0m \u001b[0;34m=\u001b[0m \u001b[0;36m0\u001b[0m\u001b[0;34m\u001b[0m\u001b[0;34m\u001b[0m\u001b[0m\n\u001b[0;32m---> 10\u001b[0;31m \u001b[0;32mfor\u001b[0m \u001b[0mf\u001b[0m \u001b[0;32min\u001b[0m \u001b[0mos\u001b[0m\u001b[0;34m.\u001b[0m\u001b[0mlistdir\u001b[0m\u001b[0;34m(\u001b[0m\u001b[0mBACKUP\u001b[0m\u001b[0;34m)\u001b[0m\u001b[0;34m:\u001b[0m\u001b[0;34m\u001b[0m\u001b[0;34m\u001b[0m\u001b[0m\n\u001b[0m\u001b[1;32m     11\u001b[0m     \u001b[0msrc\u001b[0m \u001b[0;34m=\u001b[0m \u001b[0mos\u001b[0m\u001b[0;34m.\u001b[0m\u001b[0mpath\u001b[0m\u001b[0;34m.\u001b[0m\u001b[0mjoin\u001b[0m\u001b[0;34m(\u001b[0m\u001b[0mBACKUP\u001b[0m\u001b[0;34m,\u001b[0m \u001b[0mf\u001b[0m\u001b[0;34m)\u001b[0m\u001b[0;34m\u001b[0m\u001b[0;34m\u001b[0m\u001b[0m\n\u001b[1;32m     12\u001b[0m     \u001b[0;32mif\u001b[0m \u001b[0mf\u001b[0m\u001b[0;34m.\u001b[0m\u001b[0mendswith\u001b[0m\u001b[0;34m(\u001b[0m\u001b[0;34m\".json\"\u001b[0m\u001b[0;34m)\u001b[0m\u001b[0;34m:\u001b[0m\u001b[0;34m\u001b[0m\u001b[0;34m\u001b[0m\u001b[0m\n",
            "\u001b[0;31mNameError\u001b[0m: name 'BACKUP' is not defined"
          ]
        }
      ]
    },
    {
      "cell_type": "code",
      "source": [
        "import shutil\n",
        "\n",
        "TRANS = os.path.join(BASE, \"transcriptions\")\n",
        "TRANS_CLEAN = os.path.join(BASE, \"transcriptions_cleaned\")\n",
        "\n",
        "os.makedirs(TRANS, exist_ok=True)\n",
        "os.makedirs(TRANS_CLEAN, exist_ok=True)\n",
        "\n",
        "restored = 0\n",
        "for f in os.listdir(BACKUP):\n",
        "    src = os.path.join(BACKUP, f)\n",
        "    if f.endswith(\".json\"):\n",
        "        if \"cleaned\" in f.lower():\n",
        "            dst = os.path.join(TRANS_CLEAN, f)\n",
        "        else:\n",
        "            dst = os.path.join(TRANS, f)\n",
        "        shutil.move(src, dst)\n",
        "        restored += 1\n",
        "\n",
        "print(f\"✅ Restored {restored} files\")\n",
        "print(\"📂 audios:\", len(os.listdir(os.path.join(BASE, 'audios'))))\n",
        "print(\"📂 chunks:\", len(os.listdir(os.path.join(BASE, 'chunks'))))\n",
        "print(\"📂 transcriptions:\", len(os.listdir(TRANS)))\n",
        "print(\"📂 transcriptions_cleaned:\", len(os.listdir(TRANS_CLEAN)))\n",
        "print(\"📂 translated_txt:\", len(os.listdir(os.path.join(BASE, 'translated_txt'))))\n",
        "print(\"📂 translated_txt_cleaned:\", len(os.listdir(os.path.join(BASE, 'translated_txt_cleaned'))))\n",
        "\n"
      ],
      "metadata": {
        "colab": {
          "base_uri": "https://localhost:8080/",
          "height": 211
        },
        "id": "J61ObTLnbYZ9",
        "outputId": "9dda35c0-5d40-4f1a-a5d5-cbc39b9c3059"
      },
      "execution_count": null,
      "outputs": [
        {
          "output_type": "error",
          "ename": "NameError",
          "evalue": "name 'BACKUP' is not defined",
          "traceback": [
            "\u001b[0;31m---------------------------------------------------------------------------\u001b[0m",
            "\u001b[0;31mNameError\u001b[0m                                 Traceback (most recent call last)",
            "\u001b[0;32m/tmp/ipython-input-3962977068.py\u001b[0m in \u001b[0;36m<cell line: 0>\u001b[0;34m()\u001b[0m\n\u001b[1;32m      8\u001b[0m \u001b[0;34m\u001b[0m\u001b[0m\n\u001b[1;32m      9\u001b[0m \u001b[0mrestored\u001b[0m \u001b[0;34m=\u001b[0m \u001b[0;36m0\u001b[0m\u001b[0;34m\u001b[0m\u001b[0;34m\u001b[0m\u001b[0m\n\u001b[0;32m---> 10\u001b[0;31m \u001b[0;32mfor\u001b[0m \u001b[0mf\u001b[0m \u001b[0;32min\u001b[0m \u001b[0mos\u001b[0m\u001b[0;34m.\u001b[0m\u001b[0mlistdir\u001b[0m\u001b[0;34m(\u001b[0m\u001b[0mBACKUP\u001b[0m\u001b[0;34m)\u001b[0m\u001b[0;34m:\u001b[0m\u001b[0;34m\u001b[0m\u001b[0;34m\u001b[0m\u001b[0m\n\u001b[0m\u001b[1;32m     11\u001b[0m     \u001b[0msrc\u001b[0m \u001b[0;34m=\u001b[0m \u001b[0mos\u001b[0m\u001b[0;34m.\u001b[0m\u001b[0mpath\u001b[0m\u001b[0;34m.\u001b[0m\u001b[0mjoin\u001b[0m\u001b[0;34m(\u001b[0m\u001b[0mBACKUP\u001b[0m\u001b[0;34m,\u001b[0m \u001b[0mf\u001b[0m\u001b[0;34m)\u001b[0m\u001b[0;34m\u001b[0m\u001b[0;34m\u001b[0m\u001b[0m\n\u001b[1;32m     12\u001b[0m     \u001b[0;32mif\u001b[0m \u001b[0mf\u001b[0m\u001b[0;34m.\u001b[0m\u001b[0mendswith\u001b[0m\u001b[0;34m(\u001b[0m\u001b[0;34m\".json\"\u001b[0m\u001b[0;34m)\u001b[0m\u001b[0;34m:\u001b[0m\u001b[0;34m\u001b[0m\u001b[0;34m\u001b[0m\u001b[0m\n",
            "\u001b[0;31mNameError\u001b[0m: name 'BACKUP' is not defined"
          ]
        }
      ]
    },
    {
      "cell_type": "code",
      "source": [
        "import os\n",
        "import re\n",
        "from tqdm import tqdm\n",
        "\n",
        "# Paths\n",
        "DRIVE_BASE = \"/content/drive/MyDrive/task_dhivehi\"\n",
        "INPUT_FOLDER = os.path.join(DRIVE_BASE, \"translated_txt\")\n",
        "OUTPUT_FOLDER = os.path.join(DRIVE_BASE, \"translated_txt_cleaned\")\n",
        "os.makedirs(OUTPUT_FOLDER, exist_ok=True)\n",
        "\n",
        "def clean_text(text):\n",
        "    # Remove filler tags\n",
        "    text = re.sub(r\"\\[(Music|Applause|Laughter|Noise)\\]\", \"\", text, flags=re.IGNORECASE)\n",
        "\n",
        "    # Remove duplicate spaces/newlines\n",
        "    text = re.sub(r\"\\s+\", \" \", text)\n",
        "\n",
        "    # Fix spacing around punctuation\n",
        "    text = re.sub(r\"\\s+([,.!?;:])\", r\"\\1\", text)\n",
        "\n",
        "    # Ensure sentence capitalization\n",
        "    sentences = re.split(r'(?<=[.!?]) +', text.strip())\n",
        "    sentences = [s.capitalize() for s in sentences if s]\n",
        "\n",
        "    # Rejoin sentences\n",
        "    cleaned = \" \".join(sentences)\n",
        "    return cleaned.strip()\n",
        "\n",
        "# Process all TXT files\n",
        "txt_files = sorted([f for f in os.listdir(INPUT_FOLDER) if f.endswith(\".txt\")])\n",
        "print(f\"📂 Found {len(txt_files)} TXT files to clean\")\n",
        "\n",
        "for filename in tqdm(txt_files, desc=\"Cleaning transcripts\"):\n",
        "    input_path = os.path.join(INPUT_FOLDER, filename)\n",
        "    output_path = os.path.join(OUTPUT_FOLDER, filename)\n",
        "\n",
        "    with open(input_path, \"r\", encoding=\"utf-8\") as f:\n",
        "        text = f.read()\n",
        "\n",
        "    cleaned_text = clean_text(text)\n",
        "\n",
        "    with open(output_path, \"w\", encoding=\"utf-8\") as f:\n",
        "        f.write(cleaned_text)\n",
        "\n",
        "print(f\"\\n✅ Cleaning completed. Cleaned files saved in: {OUTPUT_FOLDER}\")\n"
      ],
      "metadata": {
        "colab": {
          "base_uri": "https://localhost:8080/"
        },
        "id": "IWwhm_hrcglX",
        "outputId": "7fdd6519-b0c6-4f80-b691-afa044b34643"
      },
      "execution_count": null,
      "outputs": [
        {
          "output_type": "stream",
          "name": "stdout",
          "text": [
            "📂 Found 962 TXT files to clean\n"
          ]
        },
        {
          "output_type": "stream",
          "name": "stderr",
          "text": [
            "Cleaning transcripts: 100%|██████████| 962/962 [00:53<00:00, 17.88it/s]"
          ]
        },
        {
          "output_type": "stream",
          "name": "stdout",
          "text": [
            "\n",
            "✅ Cleaning completed. Cleaned files saved in: /content/drive/MyDrive/task_dhivehi/translated_txt_cleaned\n"
          ]
        },
        {
          "output_type": "stream",
          "name": "stderr",
          "text": [
            "\n"
          ]
        }
      ]
    },
    {
      "cell_type": "code",
      "source": [
        "import os\n",
        "from pathlib import Path\n",
        "\n",
        "# ===================== Paths =====================\n",
        "BASE = Path(\"/content/drive/MyDrive/task_dhivehi\")\n",
        "CHUNKS = BASE / \"chunks\"\n",
        "TRANSCRIPTIONS = BASE / \"transcriptions\"\n",
        "TRANSCRIPTIONS_CLEANED = BASE / \"transcriptions_cleaned\"\n",
        "TRANSLATED = BASE / \"translated_txt\"\n",
        "CLEANED = BASE / \"translated_txt_cleaned\"\n",
        "\n",
        "# ===================== Helper =====================\n",
        "def count_nonempty_txt(folder):\n",
        "    txt_files = [f for f in os.listdir(folder) if f.endswith(\".txt\")]\n",
        "    empty_files = []\n",
        "    for f in txt_files:\n",
        "        path = folder / f\n",
        "        try:\n",
        "            content = Path(path).read_text(encoding=\"utf-8\").strip()\n",
        "            if not content:\n",
        "                empty_files.append(f)\n",
        "        except Exception:\n",
        "            empty_files.append(f)\n",
        "    return len(txt_files), empty_files\n",
        "\n",
        "# ===================== 1. Count .wav chunks =====================\n",
        "wav_files = [f for f in os.listdir(CHUNKS) if f.endswith(\".wav\")]\n",
        "print(f\"🎵 Audio chunks: {len(wav_files)} found\")\n",
        "\n",
        "# ===================== 2. Count JSON transcriptions =====================\n",
        "json_files = [f for f in os.listdir(TRANSCRIPTIONS) if f.endswith(\".json\")]\n",
        "print(f\"📝 Transcriptions (JSON): {len(json_files)} found\")\n",
        "\n",
        "# ===================== 3. Count translated TXT files =====================\n",
        "txt_count, empty_translations = count_nonempty_txt(TRANSLATED)\n",
        "print(f\"🌍 Translated TXT: {txt_count} found, {len(empty_translations)} empty\")\n",
        "\n",
        "# ===================== 4. Count cleaned TXT files =====================\n",
        "clean_count, empty_cleaned = count_nonempty_txt(CLEANED)\n",
        "print(f\"🧹 Cleaned TXT: {clean_count} found, {len(empty_cleaned)} empty\")\n",
        "\n",
        "# ===================== 5. Preview few files =====================\n",
        "if txt_count > 0:\n",
        "    sample_file = next((TRANSLATED / f for f in os.listdir(TRANSLATED) if f.endswith(\".txt\")), None)\n",
        "    if sample_file:\n",
        "        print(f\"\\n🔍 Preview sample translation ({sample_file.name}):\")\n",
        "        print(Path(sample_file).read_text(encoding=\"utf-8\")[:300], \"...\")\n"
      ],
      "metadata": {
        "colab": {
          "base_uri": "https://localhost:8080/"
        },
        "id": "TM9Yah6kdErP",
        "outputId": "d35dac8d-2ac8-4f3a-e1d1-bfa441042cf3"
      },
      "execution_count": null,
      "outputs": [
        {
          "output_type": "stream",
          "name": "stdout",
          "text": [
            "🎵 Audio chunks: 962 found\n",
            "📝 Transcriptions (JSON): 962 found\n",
            "🌍 Translated TXT: 962 found, 65 empty\n",
            "🧹 Cleaned TXT: 962 found, 65 empty\n",
            "\n",
            "🔍 Preview sample translation (vMYsIBi3ueo_part14.txt):\n",
            " ...\n"
          ]
        }
      ]
    },
    {
      "cell_type": "code",
      "source": [
        "import os\n",
        "import json\n",
        "import pandas as pd\n",
        "from pathlib import Path\n",
        "\n",
        "# ================== Paths ==================\n",
        "BASE = \"/content/drive/MyDrive/task_dhivehi\"\n",
        "CHUNKS = Path(BASE, \"chunks\")\n",
        "TRANSCRIPTIONS = Path(BASE, \"transcriptions\")\n",
        "TRANSLATIONS = Path(BASE, \"translated_txt_cleaned\")\n",
        "\n",
        "OUTPUT_CSV = Path(BASE, \"metadata_simple.csv\")\n",
        "\n",
        "# ================== Collect Data ==================\n",
        "rows = []\n",
        "\n",
        "for wav_file in sorted(CHUNKS.glob(\"*.wav\")):\n",
        "    fname = wav_file.stem\n",
        "\n",
        "    # --- audio file ---\n",
        "    audio_file = wav_file.name\n",
        "\n",
        "    # --- transcription (.json) ---\n",
        "    transcription_text = \"\"\n",
        "    json_path = TRANSCRIPTIONS / f\"{fname}.json\"\n",
        "    if json_path.exists():\n",
        "        try:\n",
        "            data = json.loads(json_path.read_text(encoding=\"utf-8\"))\n",
        "            transcription_text = data.get(\"transcript\", \"\").strip()\n",
        "        except Exception:\n",
        "            transcription_text = \"\"  # leave blank if error\n",
        "\n",
        "    # --- translation (.txt) ---\n",
        "    translation_text = \"\"\n",
        "    txt_path = TRANSLATIONS / f\"{fname}.txt\"\n",
        "    if txt_path.exists():\n",
        "        try:\n",
        "            translation_text = txt_path.read_text(encoding=\"utf-8\").strip()\n",
        "        except Exception:\n",
        "            translation_text = \"\"  # leave blank if error\n",
        "\n",
        "    rows.append({\n",
        "        \"audio files\": audio_file,\n",
        "        \"transcription\": transcription_text,\n",
        "        \"translation\": translation_text\n",
        "    })\n",
        "\n",
        "# ================== Save ==================\n",
        "df = pd.DataFrame(rows)\n",
        "df.to_csv(OUTPUT_CSV, index=False, encoding=\"utf-8\")\n",
        "\n",
        "print(f\"✅ Simple CSV saved at: {OUTPUT_CSV}\")\n",
        "print(f\"📊 Rows: {len(df)}\")\n"
      ],
      "metadata": {
        "id": "juJxipX2i1Uk",
        "colab": {
          "base_uri": "https://localhost:8080/"
        },
        "outputId": "7d809a85-55ef-4159-ccd0-79155117ac87"
      },
      "execution_count": null,
      "outputs": [
        {
          "output_type": "stream",
          "name": "stdout",
          "text": [
            "✅ Simple CSV saved at: /content/drive/MyDrive/task_dhivehi/metadata_simple.csv\n",
            "📊 Rows: 962\n"
          ]
        }
      ]
    },
    {
      "cell_type": "code",
      "source": [
        "import os\n",
        "\n",
        "BASE_FOLDER = \"/content/drive/MyDrive/task_dhivehi\"\n",
        "\n",
        "print(f\"📂 Base folder: {BASE_FOLDER}\\n\")\n",
        "\n",
        "folder_count = 0\n",
        "for root, dirs, files in os.walk(BASE_FOLDER):\n",
        "    rel_path = os.path.relpath(root, BASE_FOLDER)\n",
        "    if rel_path == \".\":\n",
        "        folder_name = BASE_FOLDER\n",
        "    else:\n",
        "        folder_name = rel_path\n",
        "        folder_count += 1\n",
        "\n",
        "    file_count = len([f for f in files if os.path.isfile(os.path.join(root, f))])\n",
        "    print(f\"📁 {folder_name} → {file_count} files\")\n",
        "\n",
        "print(f\"\\n📊 Total subfolders: {folder_count}\")\n"
      ],
      "metadata": {
        "id": "SGydac31k9ZR",
        "colab": {
          "base_uri": "https://localhost:8080/"
        },
        "outputId": "6308ef8f-8c23-41f7-9237-971d8deef056"
      },
      "execution_count": null,
      "outputs": [
        {
          "output_type": "stream",
          "name": "stdout",
          "text": [
            "📂 Base folder: /content/drive/MyDrive/task_dhivehi\n",
            "\n",
            "📁 /content/drive/MyDrive/task_dhivehi → 1 files\n",
            "📁 audios → 99 files\n",
            "📁 chunks → 962 files\n",
            "📁 transcriptions → 964 files\n",
            "📁 translated_txt → 962 files\n",
            "📁 backup_extras_final → 0 files\n",
            "📁 transcriptions_cleaned → 0 files\n",
            "📁 translated_txt_cleaned → 962 files\n",
            "\n",
            "📊 Total subfolders: 7\n"
          ]
        }
      ]
    },
    {
      "cell_type": "code",
      "source": [],
      "metadata": {
        "id": "33BLpITssK8j"
      },
      "execution_count": null,
      "outputs": []
    },
    {
      "cell_type": "code",
      "source": [
        "import os\n",
        "import json\n",
        "import pandas as pd\n",
        "from pathlib import Path\n",
        "\n",
        "# ================== Define Paths ==================\n",
        "BASE_DIR = \"/content/drive/MyDrive/task_dhivehi\"\n",
        "CHUNKS_DIR = Path(BASE_DIR, \"chunks\")\n",
        "TRANSCRIPTIONS_DIR = Path(BASE_DIR, \"transcriptions\")\n",
        "TRANSLATIONS_DIR = Path(BASE_DIR, \"translated_txt_cleaned\")\n",
        "\n",
        "OUTPUT_CSV_PATH = Path(BASE_DIR, \"metadata_simple.csv\")\n",
        "\n",
        "# ================== Collect Data ==================\n",
        "data_rows = []\n",
        "\n",
        "for wav_file in sorted(CHUNKS_DIR.glob(\"*.wav\")):\n",
        "    fname = wav_file.stem  # File name without extension\n",
        "\n",
        "    # audio file name\n",
        "    audio_filename = wav_file.name\n",
        "\n",
        "    # transcription file name (.json)\n",
        "    transcription_filename = f\"{fname}.json\"\n",
        "    transcription_path = TRANSCRIPTIONS_DIR / transcription_filename\n",
        "\n",
        "    # translation text from .txt\n",
        "    translation_text = \"\"\n",
        "    translation_path = TRANSLATIONS_DIR / f\"{fname}.txt\"\n",
        "    if translation_path.exists():\n",
        "        try:\n",
        "            translation_text = translation_path.read_text(encoding=\"utf-8\").strip()\n",
        "        except Exception as e:\n",
        "            translation_text = f\"[Error reading TXT: {e}]\"\n",
        "\n",
        "    data_rows.append({\n",
        "        \"audio files\": audio_filename,\n",
        "        \"transcription\": transcription_filename,\n",
        "        \"translation\": translation_text\n",
        "    })\n",
        "\n",
        "# ================== Save to CSV ==================\n",
        "df = pd.DataFrame(data_rows)\n",
        "df.to_csv(OUTPUT_CSV_PATH, index=False, encoding=\"utf-8\")\n",
        "\n",
        "print(f\"✅ CSV saved at: {OUTPUT_CSV_PATH}\")\n",
        "print(f\"📊 Total Rows: {len(df)}\")\n"
      ],
      "metadata": {
        "colab": {
          "base_uri": "https://localhost:8080/"
        },
        "id": "YJ4Q7T6QrRP1",
        "outputId": "3ea88cf6-bc0a-4643-e706-2ffaac72e92e"
      },
      "execution_count": null,
      "outputs": [
        {
          "output_type": "stream",
          "name": "stdout",
          "text": [
            "✅ CSV saved at: /content/drive/MyDrive/task_dhivehi/metadata_simple.csv\n",
            "📊 Total Rows: 962\n"
          ]
        }
      ]
    },
    {
      "cell_type": "code",
      "source": [
        "import os\n",
        "\n",
        "BASE_FOLDER = \"/content/drive/MyDrive/task_dhivehi\"\n",
        "\n",
        "print(f\"📂 Base folder: {BASE_FOLDER}\\n\")\n",
        "\n",
        "folder_count = 0\n",
        "for root, dirs, files in os.walk(BASE_FOLDER):\n",
        "    rel_path = os.path.relpath(root, BASE_FOLDER)\n",
        "    if rel_path == \".\":\n",
        "        folder_name = BASE_FOLDER\n",
        "    else:\n",
        "        folder_name = rel_path\n",
        "        folder_count += 1\n",
        "\n",
        "    file_count = len([f for f in files if os.path.isfile(os.path.join(root, f))])\n",
        "    print(f\"📁 {folder_name} → {file_count} files\")\n",
        "\n",
        "print(f\"\\n📊 Total subfolders: {folder_count}\")\n"
      ],
      "metadata": {
        "colab": {
          "base_uri": "https://localhost:8080/"
        },
        "id": "0I4wc_clsS1L",
        "outputId": "50c10f71-6535-4495-96c4-9de7ff0f33a8"
      },
      "execution_count": null,
      "outputs": [
        {
          "output_type": "stream",
          "name": "stdout",
          "text": [
            "📂 Base folder: /content/drive/MyDrive/task_dhivehi\n",
            "\n",
            "📁 /content/drive/MyDrive/task_dhivehi → 1 files\n",
            "📁 audios → 99 files\n",
            "📁 chunks → 962 files\n",
            "📁 transcriptions → 964 files\n",
            "📁 translated_txt → 962 files\n",
            "📁 backup_extras_final → 0 files\n",
            "📁 transcriptions_cleaned → 0 files\n",
            "📁 translated_txt_cleaned → 962 files\n",
            "\n",
            "📊 Total subfolders: 7\n"
          ]
        }
      ]
    },
    {
      "cell_type": "code",
      "source": [
        "# ================== Data Cleaning ==================\n",
        "# Remove rows with missing or error-filled translations\n",
        "df = df[df[\"translation\"].str.strip() != \"\"]\n",
        "df = df[~df[\"translation\"].str.startswith(\"[Error reading TXT:\")]\n",
        "\n",
        "# Strip whitespace\n",
        "df[\"audio files\"] = df[\"audio files\"].str.strip()\n",
        "df[\"transcription\"] = df[\"transcription\"].str.strip()\n",
        "df[\"translation\"] = df[\"translation\"].str.strip()\n",
        "\n",
        "# Drop duplicate rows (optional)\n",
        "df.drop_duplicates(inplace=True)\n",
        "\n",
        "# Optional: Remove very short translations (e.g., < 3 characters)\n",
        "df = df[df[\"translation\"].str.len() >= 3]\n"
      ],
      "metadata": {
        "id": "XBmSM2wqzhx8"
      },
      "execution_count": null,
      "outputs": []
    },
    {
      "cell_type": "code",
      "source": [
        "import nltk\n",
        "nltk.download('punkt')\n"
      ],
      "metadata": {
        "colab": {
          "base_uri": "https://localhost:8080/"
        },
        "id": "KSOMRYbj0cJn",
        "outputId": "0eac319c-f45d-4e7d-8db3-ff3805726ac9"
      },
      "execution_count": null,
      "outputs": [
        {
          "output_type": "stream",
          "name": "stderr",
          "text": [
            "[nltk_data] Downloading package punkt to /root/nltk_data...\n",
            "[nltk_data]   Unzipping tokenizers/punkt.zip.\n"
          ]
        },
        {
          "output_type": "execute_result",
          "data": {
            "text/plain": [
              "True"
            ]
          },
          "metadata": {},
          "execution_count": 13
        }
      ]
    },
    {
      "cell_type": "code",
      "source": [
        "import shutil\n",
        "import os\n",
        "\n",
        "# Delete punkt if it exists\n",
        "punkt_path = \"/root/nltk_data/tokenizers/punkt\"\n",
        "if os.path.exists(punkt_path):\n",
        "    shutil.rmtree(punkt_path)\n",
        "    print(\"✅ Removed old 'punkt' data\")\n",
        "else:\n",
        "    print(\"ℹ️ 'punkt' data not found, skipping deletion\")\n"
      ],
      "metadata": {
        "colab": {
          "base_uri": "https://localhost:8080/"
        },
        "id": "XYFgrhEZ1Ved",
        "outputId": "140cff73-9368-40fb-c652-d47459b0341e"
      },
      "execution_count": null,
      "outputs": [
        {
          "output_type": "stream",
          "name": "stdout",
          "text": [
            "✅ Removed old 'punkt' data\n"
          ]
        }
      ]
    },
    {
      "cell_type": "code",
      "source": [
        "import nltk\n",
        "nltk.download(\"punkt\")\n"
      ],
      "metadata": {
        "colab": {
          "base_uri": "https://localhost:8080/"
        },
        "id": "jwuwjBdk2Ae2",
        "outputId": "10d6fb04-9b3f-4c33-b11e-7d0df06232f8"
      },
      "execution_count": null,
      "outputs": [
        {
          "output_type": "stream",
          "name": "stderr",
          "text": [
            "[nltk_data] Downloading package punkt to /root/nltk_data...\n",
            "[nltk_data]   Package punkt is already up-to-date!\n"
          ]
        },
        {
          "output_type": "execute_result",
          "data": {
            "text/plain": [
              "True"
            ]
          },
          "metadata": {},
          "execution_count": 16
        }
      ]
    },
    {
      "cell_type": "code",
      "source": [
        "!pip install jiwer\n"
      ],
      "metadata": {
        "colab": {
          "base_uri": "https://localhost:8080/"
        },
        "id": "1gLmbhUU7yx6",
        "outputId": "7ea6e094-7ba7-4a96-b4ad-a11b064ae09e"
      },
      "execution_count": null,
      "outputs": [
        {
          "output_type": "stream",
          "name": "stdout",
          "text": [
            "Collecting jiwer\n",
            "  Downloading jiwer-4.0.0-py3-none-any.whl.metadata (3.3 kB)\n",
            "Requirement already satisfied: click>=8.1.8 in /usr/local/lib/python3.12/dist-packages (from jiwer) (8.2.1)\n",
            "Collecting rapidfuzz>=3.9.7 (from jiwer)\n",
            "  Downloading rapidfuzz-3.14.1-cp312-cp312-manylinux_2_27_x86_64.manylinux_2_28_x86_64.whl.metadata (12 kB)\n",
            "Downloading jiwer-4.0.0-py3-none-any.whl (23 kB)\n",
            "Downloading rapidfuzz-3.14.1-cp312-cp312-manylinux_2_27_x86_64.manylinux_2_28_x86_64.whl (3.2 MB)\n",
            "\u001b[2K   \u001b[90m━━━━━━━━━━━━━━━━━━━━━━━━━━━━━━━━━━━━━━━━\u001b[0m \u001b[32m3.2/3.2 MB\u001b[0m \u001b[31m23.6 MB/s\u001b[0m eta \u001b[36m0:00:00\u001b[0m\n",
            "\u001b[?25hInstalling collected packages: rapidfuzz, jiwer\n",
            "Successfully installed jiwer-4.0.0 rapidfuzz-3.14.1\n"
          ]
        }
      ]
    },
    {
      "cell_type": "code",
      "source": [
        "import json\n",
        "from pathlib import Path\n",
        "from jiwer import wer\n",
        "import pandas as pd\n",
        "\n",
        "# Paths\n",
        "BASE_DIR = \"/content/drive/MyDrive/task_dhivehi\"\n",
        "TRANSCRIPTIONS_DIR = Path(BASE_DIR, \"transcriptions\")\n",
        "\n",
        "# Load your CSV with translations/hypotheses\n",
        "df = pd.read_csv(Path(BASE_DIR, \"metadata_simple.csv\"))\n",
        "\n",
        "total_wer = 0\n",
        "count = 0\n",
        "\n",
        "for idx, row in df.iterrows():\n",
        "    audio_stem = Path(row[\"audio files\"]).stem\n",
        "    transcription_file = TRANSCRIPTIONS_DIR / f\"{audio_stem}.json\"\n",
        "\n",
        "    if not transcription_file.exists():\n",
        "        print(f\"⚠️ Missing transcription file for {audio_stem}\")\n",
        "        continue\n",
        "\n",
        "    with open(transcription_file, \"r\", encoding=\"utf-8\") as f:\n",
        "        data = json.load(f)\n",
        "        # Adjust this if your json structure is different\n",
        "        ground_truth = data.get(\"text\", \"\").strip()\n",
        "\n",
        "    hypothesis = row[\"translation\"].strip()  # or row[\"transcription\"] depending on your use case\n",
        "\n",
        "    if ground_truth and hypothesis:\n",
        "        error = wer(ground_truth, hypothesis)\n",
        "        total_wer += error\n",
        "        count += 1\n",
        "    else:\n",
        "        print(f\"⚠️ Empty ground truth or hypothesis for {audio_stem}\")\n",
        "\n",
        "if count > 0:\n",
        "    avg_wer = total_wer / count\n",
        "    print(f\"📝 Average WER: {avg_wer:.2%} over {count} samples\")\n",
        "else:\n",
        "    print(\"⚠️ No valid pairs found to calculate WER.\")\n"
      ],
      "metadata": {
        "colab": {
          "base_uri": "https://localhost:8080/"
        },
        "id": "nDDVbt_f6-RR",
        "outputId": "dc1ed81f-3df9-40da-8003-ab4a6f5bb986"
      },
      "execution_count": null,
      "outputs": [
        {
          "output_type": "stream",
          "name": "stdout",
          "text": [
            "⚠️ Missing transcription file for 23gRqCSWxTI_part10\n",
            "⚠️ Missing transcription file for 23gRqCSWxTI_part11\n",
            "⚠️ Missing transcription file for 23gRqCSWxTI_part12\n",
            "⚠️ Missing transcription file for 23gRqCSWxTI_part13\n",
            "⚠️ Missing transcription file for 23gRqCSWxTI_part14\n",
            "⚠️ Missing transcription file for 23gRqCSWxTI_part15\n",
            "⚠️ Missing transcription file for 23gRqCSWxTI_part16\n",
            "⚠️ Missing transcription file for 23gRqCSWxTI_part2\n",
            "⚠️ Missing transcription file for 23gRqCSWxTI_part3\n",
            "⚠️ Missing transcription file for 23gRqCSWxTI_part4\n",
            "⚠️ Missing transcription file for 23gRqCSWxTI_part5\n",
            "⚠️ Missing transcription file for 23gRqCSWxTI_part6\n",
            "⚠️ Missing transcription file for 23gRqCSWxTI_part7\n",
            "⚠️ Missing transcription file for 23gRqCSWxTI_part8\n",
            "⚠️ Missing transcription file for 23gRqCSWxTI_part9\n",
            "⚠️ Missing transcription file for 27hb50BWhFw_part1\n",
            "⚠️ Missing transcription file for AdtFTnhmIGM_part1\n",
            "⚠️ Missing transcription file for AdtFTnhmIGM_part2\n",
            "⚠️ Missing transcription file for AdtFTnhmIGM_part3\n",
            "⚠️ Missing transcription file for AdtFTnhmIGM_part4\n",
            "⚠️ Missing transcription file for AdtFTnhmIGM_part5\n",
            "⚠️ Missing transcription file for AdtFTnhmIGM_part6\n",
            "⚠️ Missing transcription file for B4R04Hxs9m0_part1\n",
            "⚠️ Missing transcription file for B4R04Hxs9m0_part10\n",
            "⚠️ Missing transcription file for B4R04Hxs9m0_part11\n",
            "⚠️ Missing transcription file for B4R04Hxs9m0_part12\n",
            "⚠️ Missing transcription file for B4R04Hxs9m0_part13\n",
            "⚠️ Missing transcription file for B4R04Hxs9m0_part14\n",
            "⚠️ Missing transcription file for B4R04Hxs9m0_part15\n",
            "⚠️ Missing transcription file for B4R04Hxs9m0_part16\n",
            "⚠️ Missing transcription file for B4R04Hxs9m0_part17\n",
            "⚠️ Missing transcription file for B4R04Hxs9m0_part18\n",
            "⚠️ Missing transcription file for B4R04Hxs9m0_part2\n",
            "⚠️ Missing transcription file for B4R04Hxs9m0_part3\n",
            "⚠️ Missing transcription file for B4R04Hxs9m0_part4\n",
            "⚠️ Missing transcription file for B4R04Hxs9m0_part5\n",
            "⚠️ Missing transcription file for B4R04Hxs9m0_part6\n",
            "⚠️ Missing transcription file for B4R04Hxs9m0_part7\n",
            "⚠️ Missing transcription file for B4R04Hxs9m0_part8\n",
            "⚠️ Missing transcription file for B4R04Hxs9m0_part9\n",
            "⚠️ Missing transcription file for Bi5ZFMtQVVw_part1\n",
            "⚠️ Missing transcription file for Bi5ZFMtQVVw_part10\n",
            "⚠️ Missing transcription file for Bi5ZFMtQVVw_part11\n",
            "⚠️ Missing transcription file for Bi5ZFMtQVVw_part12\n",
            "⚠️ Missing transcription file for Bi5ZFMtQVVw_part13\n",
            "⚠️ Missing transcription file for Bi5ZFMtQVVw_part2\n",
            "⚠️ Missing transcription file for Bi5ZFMtQVVw_part3\n",
            "⚠️ Missing transcription file for Bi5ZFMtQVVw_part4\n",
            "⚠️ Missing transcription file for Bi5ZFMtQVVw_part5\n",
            "⚠️ Missing transcription file for Bi5ZFMtQVVw_part6\n",
            "⚠️ Missing transcription file for Bi5ZFMtQVVw_part7\n",
            "⚠️ Missing transcription file for Bi5ZFMtQVVw_part8\n",
            "⚠️ Missing transcription file for Bi5ZFMtQVVw_part9\n",
            "⚠️ Missing transcription file for C2XMBCHPyeM_part1\n",
            "⚠️ Missing transcription file for C2XMBCHPyeM_part2\n",
            "⚠️ Missing transcription file for D2w7udtzrfs_part1\n",
            "⚠️ Missing transcription file for D2w7udtzrfs_part10\n",
            "⚠️ Missing transcription file for D2w7udtzrfs_part11\n",
            "⚠️ Missing transcription file for D2w7udtzrfs_part12\n",
            "⚠️ Missing transcription file for D2w7udtzrfs_part13\n",
            "⚠️ Missing transcription file for D2w7udtzrfs_part14\n",
            "⚠️ Missing transcription file for D2w7udtzrfs_part15\n",
            "⚠️ Missing transcription file for D2w7udtzrfs_part16\n",
            "⚠️ Missing transcription file for D2w7udtzrfs_part17\n",
            "⚠️ Missing transcription file for D2w7udtzrfs_part18\n",
            "⚠️ Missing transcription file for D2w7udtzrfs_part19\n",
            "⚠️ Missing transcription file for D2w7udtzrfs_part2\n",
            "⚠️ Missing transcription file for D2w7udtzrfs_part20\n",
            "⚠️ Missing transcription file for D2w7udtzrfs_part21\n",
            "⚠️ Missing transcription file for D2w7udtzrfs_part22\n",
            "⚠️ Missing transcription file for D2w7udtzrfs_part23\n",
            "⚠️ Missing transcription file for D2w7udtzrfs_part24\n",
            "⚠️ Missing transcription file for D2w7udtzrfs_part25\n",
            "⚠️ Missing transcription file for D2w7udtzrfs_part26\n",
            "⚠️ Missing transcription file for D2w7udtzrfs_part27\n",
            "⚠️ Missing transcription file for D2w7udtzrfs_part28\n",
            "⚠️ Missing transcription file for D2w7udtzrfs_part29\n",
            "⚠️ Missing transcription file for D2w7udtzrfs_part3\n",
            "⚠️ Missing transcription file for D2w7udtzrfs_part30\n",
            "⚠️ Missing transcription file for D2w7udtzrfs_part31\n",
            "⚠️ Missing transcription file for D2w7udtzrfs_part32\n",
            "⚠️ Missing transcription file for D2w7udtzrfs_part33\n",
            "⚠️ Missing transcription file for D2w7udtzrfs_part34\n",
            "⚠️ Missing transcription file for D2w7udtzrfs_part35\n",
            "⚠️ Missing transcription file for D2w7udtzrfs_part4\n",
            "⚠️ Missing transcription file for D2w7udtzrfs_part5\n",
            "⚠️ Missing transcription file for D2w7udtzrfs_part6\n",
            "⚠️ Missing transcription file for D2w7udtzrfs_part7\n",
            "⚠️ Missing transcription file for D2w7udtzrfs_part8\n",
            "⚠️ Missing transcription file for D2w7udtzrfs_part9\n",
            "⚠️ Missing transcription file for DV9MdtGNbP8_part1\n",
            "⚠️ Missing transcription file for DV9MdtGNbP8_part10\n",
            "⚠️ Missing transcription file for DV9MdtGNbP8_part2\n",
            "⚠️ Missing transcription file for DV9MdtGNbP8_part3\n",
            "⚠️ Missing transcription file for DV9MdtGNbP8_part4\n",
            "⚠️ Missing transcription file for DV9MdtGNbP8_part5\n",
            "⚠️ Missing transcription file for DV9MdtGNbP8_part6\n",
            "⚠️ Missing transcription file for DV9MdtGNbP8_part7\n",
            "⚠️ Missing transcription file for DV9MdtGNbP8_part8\n",
            "⚠️ Missing transcription file for DV9MdtGNbP8_part9\n",
            "⚠️ Missing transcription file for EnTP06uXJUw_part1\n",
            "⚠️ Missing transcription file for EnTP06uXJUw_part10\n",
            "⚠️ Missing transcription file for EnTP06uXJUw_part11\n",
            "⚠️ Missing transcription file for EnTP06uXJUw_part12\n",
            "⚠️ Missing transcription file for EnTP06uXJUw_part13\n",
            "⚠️ Missing transcription file for EnTP06uXJUw_part14\n",
            "⚠️ Missing transcription file for EnTP06uXJUw_part2\n",
            "⚠️ Missing transcription file for EnTP06uXJUw_part3\n",
            "⚠️ Missing transcription file for EnTP06uXJUw_part4\n",
            "⚠️ Missing transcription file for EnTP06uXJUw_part5\n",
            "⚠️ Missing transcription file for EnTP06uXJUw_part6\n",
            "⚠️ Missing transcription file for EnTP06uXJUw_part7\n",
            "⚠️ Missing transcription file for EnTP06uXJUw_part8\n",
            "⚠️ Missing transcription file for EnTP06uXJUw_part9\n",
            "⚠️ Missing transcription file for FI5GcSNnrqg_part1\n",
            "⚠️ Missing transcription file for FI5GcSNnrqg_part10\n",
            "⚠️ Missing transcription file for FI5GcSNnrqg_part11\n",
            "⚠️ Missing transcription file for FI5GcSNnrqg_part2\n",
            "⚠️ Missing transcription file for FI5GcSNnrqg_part3\n",
            "⚠️ Missing transcription file for FI5GcSNnrqg_part4\n",
            "⚠️ Missing transcription file for FI5GcSNnrqg_part5\n",
            "⚠️ Missing transcription file for FI5GcSNnrqg_part6\n",
            "⚠️ Missing transcription file for FI5GcSNnrqg_part7\n",
            "⚠️ Missing transcription file for FI5GcSNnrqg_part8\n",
            "⚠️ Missing transcription file for FI5GcSNnrqg_part9\n",
            "⚠️ Missing transcription file for Fo9YlPNIVcw_part1\n",
            "⚠️ Missing transcription file for Fo9YlPNIVcw_part10\n",
            "⚠️ Missing transcription file for Fo9YlPNIVcw_part11\n",
            "⚠️ Missing transcription file for Fo9YlPNIVcw_part12\n",
            "⚠️ Missing transcription file for Fo9YlPNIVcw_part13\n",
            "⚠️ Missing transcription file for Fo9YlPNIVcw_part14\n",
            "⚠️ Missing transcription file for Fo9YlPNIVcw_part15\n",
            "⚠️ Missing transcription file for Fo9YlPNIVcw_part16\n",
            "⚠️ Missing transcription file for Fo9YlPNIVcw_part17\n",
            "⚠️ Missing transcription file for Fo9YlPNIVcw_part18\n",
            "⚠️ Missing transcription file for Fo9YlPNIVcw_part19\n",
            "⚠️ Missing transcription file for Fo9YlPNIVcw_part2\n",
            "⚠️ Missing transcription file for Fo9YlPNIVcw_part20\n",
            "⚠️ Missing transcription file for Fo9YlPNIVcw_part21\n",
            "⚠️ Missing transcription file for Fo9YlPNIVcw_part22\n",
            "⚠️ Missing transcription file for Fo9YlPNIVcw_part23\n",
            "⚠️ Missing transcription file for Fo9YlPNIVcw_part24\n",
            "⚠️ Missing transcription file for Fo9YlPNIVcw_part25\n",
            "⚠️ Missing transcription file for Fo9YlPNIVcw_part26\n",
            "⚠️ Missing transcription file for Fo9YlPNIVcw_part27\n",
            "⚠️ Missing transcription file for Fo9YlPNIVcw_part28\n",
            "⚠️ Missing transcription file for Fo9YlPNIVcw_part29\n",
            "⚠️ Missing transcription file for Fo9YlPNIVcw_part3\n",
            "⚠️ Missing transcription file for Fo9YlPNIVcw_part30\n",
            "⚠️ Missing transcription file for Fo9YlPNIVcw_part31\n",
            "⚠️ Missing transcription file for Fo9YlPNIVcw_part32\n",
            "⚠️ Missing transcription file for Fo9YlPNIVcw_part33\n",
            "⚠️ Missing transcription file for Fo9YlPNIVcw_part34\n",
            "⚠️ Missing transcription file for Fo9YlPNIVcw_part35\n",
            "⚠️ Missing transcription file for Fo9YlPNIVcw_part36\n",
            "⚠️ Missing transcription file for Fo9YlPNIVcw_part4\n",
            "⚠️ Missing transcription file for Fo9YlPNIVcw_part5\n",
            "⚠️ Missing transcription file for Fo9YlPNIVcw_part6\n",
            "⚠️ Missing transcription file for Fo9YlPNIVcw_part7\n",
            "⚠️ Missing transcription file for Fo9YlPNIVcw_part8\n",
            "⚠️ Missing transcription file for Fo9YlPNIVcw_part9\n",
            "⚠️ Missing transcription file for G_aSnapci_I_part1\n",
            "⚠️ Missing transcription file for G_aSnapci_I_part2\n",
            "⚠️ Missing transcription file for G_aSnapci_I_part3\n",
            "⚠️ Missing transcription file for G_aSnapci_I_part4\n",
            "⚠️ Missing transcription file for G_aSnapci_I_part5\n",
            "⚠️ Missing transcription file for G_aSnapci_I_part6\n",
            "⚠️ Missing transcription file for G_aSnapci_I_part7\n",
            "⚠️ Missing transcription file for G_aSnapci_I_part8\n",
            "⚠️ Missing transcription file for GnpNwZon3qk_part1\n",
            "⚠️ Missing transcription file for GnpNwZon3qk_part10\n",
            "⚠️ Missing transcription file for GnpNwZon3qk_part2\n",
            "⚠️ Missing transcription file for GnpNwZon3qk_part3\n",
            "⚠️ Missing transcription file for GnpNwZon3qk_part4\n",
            "⚠️ Missing transcription file for GnpNwZon3qk_part5\n",
            "⚠️ Missing transcription file for GnpNwZon3qk_part6\n",
            "⚠️ Missing transcription file for GnpNwZon3qk_part7\n",
            "⚠️ Missing transcription file for GnpNwZon3qk_part8\n",
            "⚠️ Missing transcription file for GnpNwZon3qk_part9\n",
            "⚠️ Missing transcription file for HHu6YqZQjA4_part1\n",
            "⚠️ Missing transcription file for HHu6YqZQjA4_part2\n",
            "⚠️ Missing transcription file for HHu6YqZQjA4_part3\n",
            "⚠️ Missing transcription file for HHu6YqZQjA4_part4\n",
            "⚠️ Missing transcription file for HHu6YqZQjA4_part5\n",
            "⚠️ Missing transcription file for Hq1HXHWlo6Q_part1\n",
            "⚠️ Missing transcription file for Hq1HXHWlo6Q_part2\n",
            "⚠️ Missing transcription file for HzYbLoCHtL8_part1\n",
            "⚠️ Missing transcription file for HzYbLoCHtL8_part10\n",
            "⚠️ Missing transcription file for HzYbLoCHtL8_part11\n",
            "⚠️ Missing transcription file for HzYbLoCHtL8_part12\n",
            "⚠️ Missing transcription file for HzYbLoCHtL8_part13\n",
            "⚠️ Missing transcription file for HzYbLoCHtL8_part2\n",
            "⚠️ Missing transcription file for HzYbLoCHtL8_part3\n",
            "⚠️ Missing transcription file for HzYbLoCHtL8_part4\n",
            "⚠️ Missing transcription file for HzYbLoCHtL8_part5\n",
            "⚠️ Missing transcription file for HzYbLoCHtL8_part6\n",
            "⚠️ Missing transcription file for HzYbLoCHtL8_part7\n",
            "⚠️ Missing transcription file for HzYbLoCHtL8_part8\n",
            "⚠️ Missing transcription file for HzYbLoCHtL8_part9\n",
            "⚠️ Missing transcription file for IIX_T96_YlU_part1\n",
            "⚠️ Missing transcription file for IIX_T96_YlU_part2\n",
            "⚠️ Missing transcription file for J9PzdmswVMU_part1\n",
            "⚠️ Missing transcription file for J9PzdmswVMU_part10\n",
            "⚠️ Missing transcription file for J9PzdmswVMU_part11\n",
            "⚠️ Missing transcription file for J9PzdmswVMU_part12\n",
            "⚠️ Missing transcription file for J9PzdmswVMU_part13\n",
            "⚠️ Missing transcription file for J9PzdmswVMU_part14\n",
            "⚠️ Missing transcription file for J9PzdmswVMU_part15\n",
            "⚠️ Missing transcription file for J9PzdmswVMU_part16\n",
            "⚠️ Missing transcription file for J9PzdmswVMU_part17\n",
            "⚠️ Missing transcription file for J9PzdmswVMU_part18\n",
            "⚠️ Missing transcription file for J9PzdmswVMU_part19\n",
            "⚠️ Missing transcription file for J9PzdmswVMU_part2\n",
            "⚠️ Missing transcription file for J9PzdmswVMU_part20\n",
            "⚠️ Missing transcription file for J9PzdmswVMU_part21\n",
            "⚠️ Missing transcription file for J9PzdmswVMU_part22\n",
            "⚠️ Missing transcription file for J9PzdmswVMU_part23\n",
            "⚠️ Missing transcription file for J9PzdmswVMU_part24\n",
            "⚠️ Missing transcription file for J9PzdmswVMU_part25\n",
            "⚠️ Missing transcription file for J9PzdmswVMU_part26\n",
            "⚠️ Missing transcription file for J9PzdmswVMU_part27\n",
            "⚠️ Missing transcription file for J9PzdmswVMU_part28\n",
            "⚠️ Missing transcription file for J9PzdmswVMU_part29\n",
            "⚠️ Missing transcription file for J9PzdmswVMU_part3\n",
            "⚠️ Missing transcription file for J9PzdmswVMU_part30\n",
            "⚠️ Missing transcription file for J9PzdmswVMU_part4\n",
            "⚠️ Missing transcription file for J9PzdmswVMU_part5\n",
            "⚠️ Missing transcription file for J9PzdmswVMU_part6\n",
            "⚠️ Missing transcription file for J9PzdmswVMU_part7\n",
            "⚠️ Missing transcription file for J9PzdmswVMU_part8\n",
            "⚠️ Missing transcription file for J9PzdmswVMU_part9\n",
            "⚠️ Missing transcription file for JFR2WFm7Q4U_part1\n",
            "⚠️ Missing transcription file for KjTNvsc4wYQ_part1\n",
            "⚠️ Missing transcription file for KjTNvsc4wYQ_part2\n",
            "⚠️ Missing transcription file for KjTNvsc4wYQ_part3\n",
            "⚠️ Missing transcription file for KjTNvsc4wYQ_part4\n",
            "⚠️ Missing transcription file for KjTNvsc4wYQ_part5\n",
            "⚠️ Missing transcription file for KjTNvsc4wYQ_part6\n",
            "⚠️ Missing transcription file for Le_a7ic_nDk_part1\n",
            "⚠️ Missing transcription file for Le_a7ic_nDk_part2\n",
            "⚠️ Missing transcription file for Le_a7ic_nDk_part3\n",
            "⚠️ Missing transcription file for Le_a7ic_nDk_part4\n",
            "⚠️ Missing transcription file for Le_a7ic_nDk_part5\n",
            "⚠️ Missing transcription file for Mp9MhaDxf1I_part1\n",
            "⚠️ Missing transcription file for Mp9MhaDxf1I_part10\n",
            "⚠️ Missing transcription file for Mp9MhaDxf1I_part11\n",
            "⚠️ Missing transcription file for Mp9MhaDxf1I_part12\n",
            "⚠️ Missing transcription file for Mp9MhaDxf1I_part13\n",
            "⚠️ Missing transcription file for Mp9MhaDxf1I_part14\n",
            "⚠️ Missing transcription file for Mp9MhaDxf1I_part15\n",
            "⚠️ Missing transcription file for Mp9MhaDxf1I_part16\n",
            "⚠️ Missing transcription file for Mp9MhaDxf1I_part2\n",
            "⚠️ Missing transcription file for Mp9MhaDxf1I_part3\n",
            "⚠️ Missing transcription file for Mp9MhaDxf1I_part4\n",
            "⚠️ Missing transcription file for Mp9MhaDxf1I_part5\n",
            "⚠️ Missing transcription file for Mp9MhaDxf1I_part6\n",
            "⚠️ Missing transcription file for Mp9MhaDxf1I_part7\n",
            "⚠️ Missing transcription file for Mp9MhaDxf1I_part8\n",
            "⚠️ Missing transcription file for Mp9MhaDxf1I_part9\n",
            "⚠️ Missing transcription file for MrKQqneQ3TQ_part1\n",
            "⚠️ Missing transcription file for MrKQqneQ3TQ_part10\n",
            "⚠️ Missing transcription file for MrKQqneQ3TQ_part11\n",
            "⚠️ Missing transcription file for MrKQqneQ3TQ_part12\n",
            "⚠️ Missing transcription file for MrKQqneQ3TQ_part13\n",
            "⚠️ Missing transcription file for MrKQqneQ3TQ_part14\n",
            "⚠️ Missing transcription file for MrKQqneQ3TQ_part15\n",
            "⚠️ Missing transcription file for MrKQqneQ3TQ_part16\n",
            "⚠️ Missing transcription file for MrKQqneQ3TQ_part17\n",
            "⚠️ Missing transcription file for MrKQqneQ3TQ_part18\n",
            "⚠️ Missing transcription file for MrKQqneQ3TQ_part19\n",
            "⚠️ Missing transcription file for MrKQqneQ3TQ_part2\n",
            "⚠️ Missing transcription file for MrKQqneQ3TQ_part20\n",
            "⚠️ Missing transcription file for MrKQqneQ3TQ_part21\n",
            "⚠️ Missing transcription file for MrKQqneQ3TQ_part22\n",
            "⚠️ Missing transcription file for MrKQqneQ3TQ_part23\n",
            "⚠️ Missing transcription file for MrKQqneQ3TQ_part24\n",
            "⚠️ Missing transcription file for MrKQqneQ3TQ_part25\n",
            "⚠️ Missing transcription file for MrKQqneQ3TQ_part3\n",
            "⚠️ Missing transcription file for MrKQqneQ3TQ_part4\n",
            "⚠️ Missing transcription file for MrKQqneQ3TQ_part5\n",
            "⚠️ Missing transcription file for MrKQqneQ3TQ_part6\n",
            "⚠️ Missing transcription file for MrKQqneQ3TQ_part7\n",
            "⚠️ Missing transcription file for MrKQqneQ3TQ_part8\n",
            "⚠️ Missing transcription file for MrKQqneQ3TQ_part9\n",
            "⚠️ Missing transcription file for OYV3JJ4Z7A4_part1\n",
            "⚠️ Missing transcription file for OYV3JJ4Z7A4_part10\n",
            "⚠️ Missing transcription file for OYV3JJ4Z7A4_part11\n",
            "⚠️ Missing transcription file for OYV3JJ4Z7A4_part12\n",
            "⚠️ Missing transcription file for OYV3JJ4Z7A4_part13\n",
            "⚠️ Missing transcription file for OYV3JJ4Z7A4_part14\n",
            "⚠️ Missing transcription file for OYV3JJ4Z7A4_part15\n",
            "⚠️ Missing transcription file for OYV3JJ4Z7A4_part2\n",
            "⚠️ Missing transcription file for OYV3JJ4Z7A4_part3\n",
            "⚠️ Missing transcription file for OYV3JJ4Z7A4_part4\n",
            "⚠️ Missing transcription file for OYV3JJ4Z7A4_part5\n",
            "⚠️ Missing transcription file for OYV3JJ4Z7A4_part6\n",
            "⚠️ Missing transcription file for OYV3JJ4Z7A4_part7\n",
            "⚠️ Missing transcription file for OYV3JJ4Z7A4_part8\n",
            "⚠️ Missing transcription file for OYV3JJ4Z7A4_part9\n",
            "⚠️ Missing transcription file for Pcni2vi_ZJw_part1\n",
            "⚠️ Missing transcription file for Pcni2vi_ZJw_part2\n",
            "⚠️ Missing transcription file for Pcni2vi_ZJw_part3\n",
            "⚠️ Missing transcription file for Pcni2vi_ZJw_part4\n",
            "⚠️ Missing transcription file for Pcni2vi_ZJw_part5\n",
            "⚠️ Missing transcription file for Pfx_3cz2-Uo_part1\n",
            "⚠️ Missing transcription file for Pfx_3cz2-Uo_part10\n",
            "⚠️ Missing transcription file for Pfx_3cz2-Uo_part11\n",
            "⚠️ Missing transcription file for Pfx_3cz2-Uo_part12\n",
            "⚠️ Missing transcription file for Pfx_3cz2-Uo_part13\n",
            "⚠️ Missing transcription file for Pfx_3cz2-Uo_part14\n",
            "⚠️ Missing transcription file for Pfx_3cz2-Uo_part15\n",
            "⚠️ Missing transcription file for Pfx_3cz2-Uo_part2\n",
            "⚠️ Missing transcription file for Pfx_3cz2-Uo_part3\n",
            "⚠️ Missing transcription file for Pfx_3cz2-Uo_part4\n",
            "⚠️ Missing transcription file for Pfx_3cz2-Uo_part5\n",
            "⚠️ Missing transcription file for Pfx_3cz2-Uo_part6\n",
            "⚠️ Missing transcription file for Pfx_3cz2-Uo_part7\n",
            "⚠️ Missing transcription file for Pfx_3cz2-Uo_part8\n",
            "⚠️ Missing transcription file for Pfx_3cz2-Uo_part9\n",
            "⚠️ Missing transcription file for PmQ3XfsOQSM_part1\n",
            "⚠️ Missing transcription file for RLnOC44E8Lo_part1\n",
            "⚠️ Missing transcription file for RLnOC44E8Lo_part10\n",
            "⚠️ Missing transcription file for RLnOC44E8Lo_part11\n",
            "⚠️ Missing transcription file for RLnOC44E8Lo_part12\n",
            "⚠️ Missing transcription file for RLnOC44E8Lo_part13\n",
            "⚠️ Missing transcription file for RLnOC44E8Lo_part14\n",
            "⚠️ Missing transcription file for RLnOC44E8Lo_part15\n",
            "⚠️ Missing transcription file for RLnOC44E8Lo_part2\n",
            "⚠️ Missing transcription file for RLnOC44E8Lo_part3\n",
            "⚠️ Missing transcription file for RLnOC44E8Lo_part4\n",
            "⚠️ Missing transcription file for RLnOC44E8Lo_part5\n",
            "⚠️ Missing transcription file for RLnOC44E8Lo_part6\n",
            "⚠️ Missing transcription file for RLnOC44E8Lo_part7\n",
            "⚠️ Missing transcription file for RLnOC44E8Lo_part8\n",
            "⚠️ Missing transcription file for RLnOC44E8Lo_part9\n",
            "⚠️ Missing transcription file for Sc0ilLhXcbc_part1\n",
            "⚠️ Missing transcription file for Sc0ilLhXcbc_part2\n",
            "⚠️ Missing transcription file for Shdn58IKK3o_part1\n",
            "⚠️ Missing transcription file for Shdn58IKK3o_part10\n",
            "⚠️ Missing transcription file for Shdn58IKK3o_part11\n",
            "⚠️ Missing transcription file for Shdn58IKK3o_part2\n",
            "⚠️ Missing transcription file for Shdn58IKK3o_part3\n",
            "⚠️ Missing transcription file for Shdn58IKK3o_part4\n",
            "⚠️ Missing transcription file for Shdn58IKK3o_part5\n",
            "⚠️ Missing transcription file for Shdn58IKK3o_part6\n",
            "⚠️ Missing transcription file for Shdn58IKK3o_part7\n",
            "⚠️ Missing transcription file for Shdn58IKK3o_part8\n",
            "⚠️ Missing transcription file for Shdn58IKK3o_part9\n",
            "⚠️ Missing transcription file for T1SG3Q22u6E_part1\n",
            "⚠️ Missing transcription file for T1SG3Q22u6E_part10\n",
            "⚠️ Missing transcription file for T1SG3Q22u6E_part11\n",
            "⚠️ Missing transcription file for T1SG3Q22u6E_part12\n",
            "⚠️ Missing transcription file for T1SG3Q22u6E_part13\n",
            "⚠️ Missing transcription file for T1SG3Q22u6E_part14\n",
            "⚠️ Missing transcription file for T1SG3Q22u6E_part15\n",
            "⚠️ Missing transcription file for T1SG3Q22u6E_part16\n",
            "⚠️ Missing transcription file for T1SG3Q22u6E_part17\n",
            "⚠️ Missing transcription file for T1SG3Q22u6E_part18\n",
            "⚠️ Missing transcription file for T1SG3Q22u6E_part19\n",
            "⚠️ Missing transcription file for T1SG3Q22u6E_part2\n",
            "⚠️ Missing transcription file for T1SG3Q22u6E_part20\n",
            "⚠️ Missing transcription file for T1SG3Q22u6E_part21\n",
            "⚠️ Missing transcription file for T1SG3Q22u6E_part22\n",
            "⚠️ Missing transcription file for T1SG3Q22u6E_part23\n",
            "⚠️ Missing transcription file for T1SG3Q22u6E_part24\n",
            "⚠️ Missing transcription file for T1SG3Q22u6E_part25\n",
            "⚠️ Missing transcription file for T1SG3Q22u6E_part26\n",
            "⚠️ Missing transcription file for T1SG3Q22u6E_part27\n",
            "⚠️ Missing transcription file for T1SG3Q22u6E_part28\n",
            "⚠️ Missing transcription file for T1SG3Q22u6E_part29\n",
            "⚠️ Missing transcription file for T1SG3Q22u6E_part3\n",
            "⚠️ Missing transcription file for T1SG3Q22u6E_part30\n",
            "⚠️ Missing transcription file for T1SG3Q22u6E_part31\n",
            "⚠️ Missing transcription file for T1SG3Q22u6E_part32\n",
            "⚠️ Missing transcription file for T1SG3Q22u6E_part33\n",
            "⚠️ Missing transcription file for T1SG3Q22u6E_part4\n",
            "⚠️ Missing transcription file for T1SG3Q22u6E_part5\n",
            "⚠️ Missing transcription file for T1SG3Q22u6E_part6\n",
            "⚠️ Missing transcription file for T1SG3Q22u6E_part7\n",
            "⚠️ Missing transcription file for T1SG3Q22u6E_part8\n",
            "⚠️ Missing transcription file for T1SG3Q22u6E_part9\n",
            "⚠️ Missing transcription file for TqaR_u4Xle4_part1\n",
            "⚠️ Missing transcription file for TqaR_u4Xle4_part2\n",
            "⚠️ Missing transcription file for TqaR_u4Xle4_part3\n",
            "⚠️ Missing transcription file for TqaR_u4Xle4_part4\n",
            "⚠️ Missing transcription file for TqaR_u4Xle4_part5\n",
            "⚠️ Missing transcription file for TqaR_u4Xle4_part6\n",
            "⚠️ Missing transcription file for TyKxarCPprU_part1\n",
            "⚠️ Missing transcription file for TyKxarCPprU_part10\n",
            "⚠️ Missing transcription file for TyKxarCPprU_part2\n",
            "⚠️ Missing transcription file for TyKxarCPprU_part3\n",
            "⚠️ Missing transcription file for TyKxarCPprU_part4\n",
            "⚠️ Missing transcription file for TyKxarCPprU_part5\n",
            "⚠️ Missing transcription file for TyKxarCPprU_part6\n",
            "⚠️ Missing transcription file for TyKxarCPprU_part7\n",
            "⚠️ Missing transcription file for TyKxarCPprU_part8\n",
            "⚠️ Missing transcription file for TyKxarCPprU_part9\n",
            "⚠️ Missing transcription file for UcNDA5Btn_A_part1\n",
            "⚠️ Missing transcription file for UcNDA5Btn_A_part10\n",
            "⚠️ Missing transcription file for UcNDA5Btn_A_part11\n",
            "⚠️ Missing transcription file for UcNDA5Btn_A_part12\n",
            "⚠️ Missing transcription file for UcNDA5Btn_A_part13\n",
            "⚠️ Missing transcription file for UcNDA5Btn_A_part14\n",
            "⚠️ Missing transcription file for UcNDA5Btn_A_part15\n",
            "⚠️ Missing transcription file for UcNDA5Btn_A_part16\n",
            "⚠️ Missing transcription file for UcNDA5Btn_A_part17\n",
            "⚠️ Missing transcription file for UcNDA5Btn_A_part18\n",
            "⚠️ Missing transcription file for UcNDA5Btn_A_part19\n",
            "⚠️ Missing transcription file for UcNDA5Btn_A_part2\n",
            "⚠️ Missing transcription file for UcNDA5Btn_A_part20\n",
            "⚠️ Missing transcription file for UcNDA5Btn_A_part21\n",
            "⚠️ Missing transcription file for UcNDA5Btn_A_part22\n",
            "⚠️ Missing transcription file for UcNDA5Btn_A_part23\n",
            "⚠️ Missing transcription file for UcNDA5Btn_A_part24\n",
            "⚠️ Missing transcription file for UcNDA5Btn_A_part25\n",
            "⚠️ Missing transcription file for UcNDA5Btn_A_part26\n",
            "⚠️ Missing transcription file for UcNDA5Btn_A_part27\n",
            "⚠️ Missing transcription file for UcNDA5Btn_A_part28\n",
            "⚠️ Missing transcription file for UcNDA5Btn_A_part29\n",
            "⚠️ Missing transcription file for UcNDA5Btn_A_part3\n",
            "⚠️ Missing transcription file for UcNDA5Btn_A_part30\n",
            "⚠️ Missing transcription file for UcNDA5Btn_A_part31\n",
            "⚠️ Missing transcription file for UcNDA5Btn_A_part32\n",
            "⚠️ Missing transcription file for UcNDA5Btn_A_part4\n",
            "⚠️ Missing transcription file for UcNDA5Btn_A_part5\n",
            "⚠️ Missing transcription file for UcNDA5Btn_A_part6\n",
            "⚠️ Missing transcription file for UcNDA5Btn_A_part7\n",
            "⚠️ Missing transcription file for UcNDA5Btn_A_part8\n",
            "⚠️ Missing transcription file for UcNDA5Btn_A_part9\n",
            "⚠️ Missing transcription file for VKEIG3a8URw_part1\n",
            "⚠️ Missing transcription file for VKEIG3a8URw_part10\n",
            "⚠️ Missing transcription file for VKEIG3a8URw_part11\n",
            "⚠️ Missing transcription file for VKEIG3a8URw_part12\n",
            "⚠️ Missing transcription file for VKEIG3a8URw_part13\n",
            "⚠️ Missing transcription file for VKEIG3a8URw_part14\n",
            "⚠️ Missing transcription file for VKEIG3a8URw_part15\n",
            "⚠️ Missing transcription file for VKEIG3a8URw_part16\n",
            "⚠️ Missing transcription file for VKEIG3a8URw_part17\n",
            "⚠️ Missing transcription file for VKEIG3a8URw_part18\n",
            "⚠️ Missing transcription file for VKEIG3a8URw_part19\n",
            "⚠️ Missing transcription file for VKEIG3a8URw_part2\n",
            "⚠️ Missing transcription file for VKEIG3a8URw_part20\n",
            "⚠️ Missing transcription file for VKEIG3a8URw_part21\n",
            "⚠️ Missing transcription file for VKEIG3a8URw_part22\n",
            "⚠️ Missing transcription file for VKEIG3a8URw_part3\n",
            "⚠️ Missing transcription file for VKEIG3a8URw_part4\n",
            "⚠️ Missing transcription file for VKEIG3a8URw_part5\n",
            "⚠️ Missing transcription file for VKEIG3a8URw_part6\n",
            "⚠️ Missing transcription file for VKEIG3a8URw_part7\n",
            "⚠️ Missing transcription file for VKEIG3a8URw_part8\n",
            "⚠️ Missing transcription file for VKEIG3a8URw_part9\n",
            "⚠️ Missing transcription file for WsDPnAtPDRo_part1\n",
            "⚠️ Missing transcription file for WsDPnAtPDRo_part10\n",
            "⚠️ Missing transcription file for WsDPnAtPDRo_part11\n",
            "⚠️ Missing transcription file for WsDPnAtPDRo_part12\n",
            "⚠️ Missing transcription file for WsDPnAtPDRo_part13\n",
            "⚠️ Missing transcription file for WsDPnAtPDRo_part14\n",
            "⚠️ Missing transcription file for WsDPnAtPDRo_part15\n",
            "⚠️ Missing transcription file for WsDPnAtPDRo_part16\n",
            "⚠️ Missing transcription file for WsDPnAtPDRo_part17\n",
            "⚠️ Missing transcription file for WsDPnAtPDRo_part18\n",
            "⚠️ Missing transcription file for WsDPnAtPDRo_part19\n",
            "⚠️ Missing transcription file for WsDPnAtPDRo_part2\n",
            "⚠️ Missing transcription file for WsDPnAtPDRo_part20\n",
            "⚠️ Missing transcription file for WsDPnAtPDRo_part3\n",
            "⚠️ Missing transcription file for WsDPnAtPDRo_part4\n",
            "⚠️ Missing transcription file for WsDPnAtPDRo_part5\n",
            "⚠️ Missing transcription file for WsDPnAtPDRo_part6\n",
            "⚠️ Missing transcription file for WsDPnAtPDRo_part7\n",
            "⚠️ Missing transcription file for WsDPnAtPDRo_part8\n",
            "⚠️ Missing transcription file for WsDPnAtPDRo_part9\n",
            "⚠️ Missing transcription file for WuAMNLEZmI8_part1\n",
            "⚠️ Missing transcription file for XGU7oD9JVhU_part1\n",
            "⚠️ Missing transcription file for XGU7oD9JVhU_part10\n",
            "⚠️ Missing transcription file for XGU7oD9JVhU_part11\n",
            "⚠️ Missing transcription file for XGU7oD9JVhU_part12\n",
            "⚠️ Missing transcription file for XGU7oD9JVhU_part13\n",
            "⚠️ Missing transcription file for XGU7oD9JVhU_part2\n",
            "⚠️ Missing transcription file for XGU7oD9JVhU_part3\n",
            "⚠️ Missing transcription file for XGU7oD9JVhU_part4\n",
            "⚠️ Missing transcription file for XGU7oD9JVhU_part5\n",
            "⚠️ Missing transcription file for XGU7oD9JVhU_part6\n",
            "⚠️ Missing transcription file for XGU7oD9JVhU_part7\n",
            "⚠️ Missing transcription file for XGU7oD9JVhU_part8\n",
            "⚠️ Missing transcription file for XGU7oD9JVhU_part9\n",
            "⚠️ Missing transcription file for YSM7tuP9vGw_part1\n",
            "⚠️ Missing transcription file for YSM7tuP9vGw_part10\n",
            "⚠️ Missing transcription file for YSM7tuP9vGw_part11\n",
            "⚠️ Missing transcription file for YSM7tuP9vGw_part12\n",
            "⚠️ Missing transcription file for YSM7tuP9vGw_part13\n",
            "⚠️ Missing transcription file for YSM7tuP9vGw_part14\n",
            "⚠️ Missing transcription file for YSM7tuP9vGw_part15\n",
            "⚠️ Missing transcription file for YSM7tuP9vGw_part16\n",
            "⚠️ Missing transcription file for YSM7tuP9vGw_part17\n",
            "⚠️ Missing transcription file for YSM7tuP9vGw_part18\n",
            "⚠️ Missing transcription file for YSM7tuP9vGw_part19\n",
            "⚠️ Missing transcription file for YSM7tuP9vGw_part2\n",
            "⚠️ Missing transcription file for YSM7tuP9vGw_part20\n",
            "⚠️ Missing transcription file for YSM7tuP9vGw_part21\n",
            "⚠️ Missing transcription file for YSM7tuP9vGw_part22\n",
            "⚠️ Missing transcription file for YSM7tuP9vGw_part23\n",
            "⚠️ Missing transcription file for YSM7tuP9vGw_part24\n",
            "⚠️ Missing transcription file for YSM7tuP9vGw_part25\n",
            "⚠️ Missing transcription file for YSM7tuP9vGw_part26\n",
            "⚠️ Missing transcription file for YSM7tuP9vGw_part27\n",
            "⚠️ Missing transcription file for YSM7tuP9vGw_part28\n",
            "⚠️ Missing transcription file for YSM7tuP9vGw_part29\n",
            "⚠️ Missing transcription file for YSM7tuP9vGw_part3\n",
            "⚠️ Missing transcription file for YSM7tuP9vGw_part30\n",
            "⚠️ Missing transcription file for YSM7tuP9vGw_part31\n",
            "⚠️ Missing transcription file for YSM7tuP9vGw_part4\n",
            "⚠️ Missing transcription file for YSM7tuP9vGw_part5\n",
            "⚠️ Missing transcription file for YSM7tuP9vGw_part6\n",
            "⚠️ Missing transcription file for YSM7tuP9vGw_part7\n",
            "⚠️ Missing transcription file for YSM7tuP9vGw_part8\n",
            "⚠️ Missing transcription file for YSM7tuP9vGw_part9\n",
            "⚠️ Missing transcription file for Y_Dc1Ro0M6g_part1\n",
            "⚠️ Missing transcription file for Y_Dc1Ro0M6g_part2\n",
            "⚠️ Missing transcription file for Y_Dc1Ro0M6g_part3\n",
            "⚠️ Missing transcription file for Y_Dc1Ro0M6g_part4\n",
            "⚠️ Missing transcription file for Y_Dc1Ro0M6g_part5\n",
            "⚠️ Missing transcription file for Y_Dc1Ro0M6g_part6\n",
            "⚠️ Missing transcription file for Y_Dc1Ro0M6g_part7\n",
            "⚠️ Missing transcription file for Y_Dc1Ro0M6g_part8\n",
            "⚠️ Missing transcription file for YbIFrPCJWNM_part1\n",
            "⚠️ Missing transcription file for YbIFrPCJWNM_part10\n",
            "⚠️ Missing transcription file for YbIFrPCJWNM_part11\n",
            "⚠️ Missing transcription file for YbIFrPCJWNM_part12\n",
            "⚠️ Missing transcription file for YbIFrPCJWNM_part13\n",
            "⚠️ Missing transcription file for YbIFrPCJWNM_part14\n",
            "⚠️ Missing transcription file for YbIFrPCJWNM_part15\n",
            "⚠️ Missing transcription file for YbIFrPCJWNM_part16\n",
            "⚠️ Missing transcription file for YbIFrPCJWNM_part17\n",
            "⚠️ Missing transcription file for YbIFrPCJWNM_part18\n",
            "⚠️ Missing transcription file for YbIFrPCJWNM_part19\n",
            "⚠️ Missing transcription file for YbIFrPCJWNM_part2\n",
            "⚠️ Missing transcription file for YbIFrPCJWNM_part20\n",
            "⚠️ Missing transcription file for YbIFrPCJWNM_part21\n",
            "⚠️ Missing transcription file for YbIFrPCJWNM_part22\n",
            "⚠️ Missing transcription file for YbIFrPCJWNM_part23\n",
            "⚠️ Missing transcription file for YbIFrPCJWNM_part24\n",
            "⚠️ Missing transcription file for YbIFrPCJWNM_part25\n",
            "⚠️ Missing transcription file for YbIFrPCJWNM_part26\n",
            "⚠️ Missing transcription file for YbIFrPCJWNM_part27\n",
            "⚠️ Missing transcription file for YbIFrPCJWNM_part28\n",
            "⚠️ Missing transcription file for YbIFrPCJWNM_part29\n",
            "⚠️ Missing transcription file for YbIFrPCJWNM_part3\n",
            "⚠️ Missing transcription file for YbIFrPCJWNM_part30\n",
            "⚠️ Missing transcription file for YbIFrPCJWNM_part31\n",
            "⚠️ Missing transcription file for YbIFrPCJWNM_part4\n",
            "⚠️ Missing transcription file for YbIFrPCJWNM_part5\n",
            "⚠️ Missing transcription file for YbIFrPCJWNM_part6\n",
            "⚠️ Missing transcription file for YbIFrPCJWNM_part7\n",
            "⚠️ Missing transcription file for YbIFrPCJWNM_part8\n",
            "⚠️ Missing transcription file for YbIFrPCJWNM_part9\n",
            "⚠️ Missing transcription file for ZdtQhM2kWi4_part1\n",
            "⚠️ Missing transcription file for ZdtQhM2kWi4_part10\n",
            "⚠️ Missing transcription file for ZdtQhM2kWi4_part11\n",
            "⚠️ Missing transcription file for ZdtQhM2kWi4_part12\n",
            "⚠️ Missing transcription file for ZdtQhM2kWi4_part13\n",
            "⚠️ Missing transcription file for ZdtQhM2kWi4_part14\n",
            "⚠️ Missing transcription file for ZdtQhM2kWi4_part15\n",
            "⚠️ Missing transcription file for ZdtQhM2kWi4_part16\n",
            "⚠️ Missing transcription file for ZdtQhM2kWi4_part17\n",
            "⚠️ Missing transcription file for ZdtQhM2kWi4_part18\n",
            "⚠️ Missing transcription file for ZdtQhM2kWi4_part19\n",
            "⚠️ Missing transcription file for ZdtQhM2kWi4_part2\n",
            "⚠️ Missing transcription file for ZdtQhM2kWi4_part20\n",
            "⚠️ Missing transcription file for ZdtQhM2kWi4_part21\n",
            "⚠️ Missing transcription file for ZdtQhM2kWi4_part22\n",
            "⚠️ Missing transcription file for ZdtQhM2kWi4_part23\n",
            "⚠️ Missing transcription file for ZdtQhM2kWi4_part24\n",
            "⚠️ Missing transcription file for ZdtQhM2kWi4_part25\n",
            "⚠️ Missing transcription file for ZdtQhM2kWi4_part3\n",
            "⚠️ Missing transcription file for ZdtQhM2kWi4_part4\n",
            "⚠️ Missing transcription file for ZdtQhM2kWi4_part5\n",
            "⚠️ Missing transcription file for ZdtQhM2kWi4_part6\n",
            "⚠️ Missing transcription file for ZdtQhM2kWi4_part7\n",
            "⚠️ Missing transcription file for ZdtQhM2kWi4_part8\n",
            "⚠️ Missing transcription file for ZdtQhM2kWi4_part9\n",
            "⚠️ Missing transcription file for aHF7nsMAv1Y_part1\n",
            "⚠️ Missing transcription file for bAoWnQyBIWA_part1\n",
            "⚠️ Missing transcription file for bAoWnQyBIWA_part10\n",
            "⚠️ Missing transcription file for bAoWnQyBIWA_part11\n",
            "⚠️ Missing transcription file for bAoWnQyBIWA_part12\n",
            "⚠️ Missing transcription file for bAoWnQyBIWA_part2\n",
            "⚠️ Missing transcription file for bAoWnQyBIWA_part3\n",
            "⚠️ Missing transcription file for bAoWnQyBIWA_part4\n",
            "⚠️ Missing transcription file for bAoWnQyBIWA_part5\n",
            "⚠️ Missing transcription file for bAoWnQyBIWA_part6\n",
            "⚠️ Missing transcription file for bAoWnQyBIWA_part7\n",
            "⚠️ Missing transcription file for bAoWnQyBIWA_part8\n",
            "⚠️ Missing transcription file for bAoWnQyBIWA_part9\n",
            "⚠️ Missing transcription file for bbRAvMERnPI_part1\n",
            "⚠️ Missing transcription file for bbRAvMERnPI_part10\n",
            "⚠️ Missing transcription file for bbRAvMERnPI_part11\n",
            "⚠️ Missing transcription file for bbRAvMERnPI_part12\n",
            "⚠️ Missing transcription file for bbRAvMERnPI_part13\n",
            "⚠️ Missing transcription file for bbRAvMERnPI_part14\n",
            "⚠️ Missing transcription file for bbRAvMERnPI_part15\n",
            "⚠️ Missing transcription file for bbRAvMERnPI_part16\n",
            "⚠️ Missing transcription file for bbRAvMERnPI_part17\n",
            "⚠️ Missing transcription file for bbRAvMERnPI_part18\n",
            "⚠️ Missing transcription file for bbRAvMERnPI_part19\n",
            "⚠️ Missing transcription file for bbRAvMERnPI_part2\n",
            "⚠️ Missing transcription file for bbRAvMERnPI_part20\n",
            "⚠️ Missing transcription file for bbRAvMERnPI_part21\n",
            "⚠️ Missing transcription file for bbRAvMERnPI_part22\n",
            "⚠️ Missing transcription file for bbRAvMERnPI_part23\n",
            "⚠️ Missing transcription file for bbRAvMERnPI_part24\n",
            "⚠️ Missing transcription file for bbRAvMERnPI_part25\n",
            "⚠️ Missing transcription file for bbRAvMERnPI_part26\n",
            "⚠️ Missing transcription file for bbRAvMERnPI_part27\n",
            "⚠️ Missing transcription file for bbRAvMERnPI_part28\n",
            "⚠️ Missing transcription file for bbRAvMERnPI_part29\n",
            "⚠️ Missing transcription file for bbRAvMERnPI_part3\n",
            "⚠️ Missing transcription file for bbRAvMERnPI_part4\n",
            "⚠️ Missing transcription file for bbRAvMERnPI_part5\n",
            "⚠️ Missing transcription file for bbRAvMERnPI_part6\n",
            "⚠️ Missing transcription file for bbRAvMERnPI_part7\n",
            "⚠️ Missing transcription file for bbRAvMERnPI_part8\n",
            "⚠️ Missing transcription file for bbRAvMERnPI_part9\n",
            "⚠️ Missing transcription file for cSjvfspUaT4_part1\n",
            "⚠️ Missing transcription file for cSjvfspUaT4_part10\n",
            "⚠️ Missing transcription file for cSjvfspUaT4_part11\n",
            "⚠️ Missing transcription file for cSjvfspUaT4_part12\n",
            "⚠️ Missing transcription file for cSjvfspUaT4_part13\n",
            "⚠️ Missing transcription file for cSjvfspUaT4_part14\n",
            "⚠️ Missing transcription file for cSjvfspUaT4_part15\n",
            "⚠️ Missing transcription file for cSjvfspUaT4_part16\n",
            "⚠️ Missing transcription file for cSjvfspUaT4_part17\n",
            "⚠️ Missing transcription file for cSjvfspUaT4_part18\n",
            "⚠️ Missing transcription file for cSjvfspUaT4_part19\n",
            "⚠️ Missing transcription file for cSjvfspUaT4_part2\n",
            "⚠️ Missing transcription file for cSjvfspUaT4_part20\n",
            "⚠️ Missing transcription file for cSjvfspUaT4_part3\n",
            "⚠️ Missing transcription file for cSjvfspUaT4_part4\n",
            "⚠️ Missing transcription file for cSjvfspUaT4_part5\n",
            "⚠️ Missing transcription file for cSjvfspUaT4_part6\n",
            "⚠️ Missing transcription file for cSjvfspUaT4_part7\n",
            "⚠️ Missing transcription file for cSjvfspUaT4_part8\n",
            "⚠️ Missing transcription file for cSjvfspUaT4_part9\n",
            "⚠️ Missing transcription file for cn8UM26fBwA_part1\n",
            "⚠️ Missing transcription file for cn8UM26fBwA_part2\n",
            "⚠️ Missing transcription file for d1vg3Y0KIuI_part1\n",
            "⚠️ Missing transcription file for d1vg3Y0KIuI_part2\n",
            "⚠️ Missing transcription file for d1vg3Y0KIuI_part3\n",
            "⚠️ Missing transcription file for d1vg3Y0KIuI_part4\n",
            "⚠️ Missing transcription file for d1vg3Y0KIuI_part5\n",
            "⚠️ Missing transcription file for f405jlvKc_8_part1\n",
            "⚠️ Missing transcription file for fOWVHQsFQ3E_part1\n",
            "⚠️ Missing transcription file for fOWVHQsFQ3E_part10\n",
            "⚠️ Missing transcription file for fOWVHQsFQ3E_part11\n",
            "⚠️ Missing transcription file for fOWVHQsFQ3E_part2\n",
            "⚠️ Missing transcription file for fOWVHQsFQ3E_part3\n",
            "⚠️ Missing transcription file for fOWVHQsFQ3E_part4\n",
            "⚠️ Missing transcription file for fOWVHQsFQ3E_part5\n",
            "⚠️ Missing transcription file for fOWVHQsFQ3E_part6\n",
            "⚠️ Missing transcription file for fOWVHQsFQ3E_part7\n",
            "⚠️ Missing transcription file for fOWVHQsFQ3E_part8\n",
            "⚠️ Missing transcription file for fOWVHQsFQ3E_part9\n",
            "⚠️ Missing transcription file for g40745pRP-8_part1\n",
            "⚠️ Missing transcription file for g40745pRP-8_part10\n",
            "⚠️ Missing transcription file for g40745pRP-8_part11\n",
            "⚠️ Missing transcription file for g40745pRP-8_part12\n",
            "⚠️ Missing transcription file for g40745pRP-8_part13\n",
            "⚠️ Missing transcription file for g40745pRP-8_part14\n",
            "⚠️ Missing transcription file for g40745pRP-8_part15\n",
            "⚠️ Missing transcription file for g40745pRP-8_part16\n",
            "⚠️ Missing transcription file for g40745pRP-8_part17\n",
            "⚠️ Missing transcription file for g40745pRP-8_part18\n",
            "⚠️ Missing transcription file for g40745pRP-8_part19\n",
            "⚠️ Missing transcription file for g40745pRP-8_part2\n",
            "⚠️ Missing transcription file for g40745pRP-8_part20\n",
            "⚠️ Missing transcription file for g40745pRP-8_part21\n",
            "⚠️ Missing transcription file for g40745pRP-8_part3\n",
            "⚠️ Missing transcription file for g40745pRP-8_part4\n",
            "⚠️ Missing transcription file for g40745pRP-8_part5\n",
            "⚠️ Missing transcription file for g40745pRP-8_part6\n",
            "⚠️ Missing transcription file for g40745pRP-8_part7\n",
            "⚠️ Missing transcription file for g40745pRP-8_part8\n",
            "⚠️ Missing transcription file for g40745pRP-8_part9\n",
            "⚠️ Missing transcription file for g7j4satykWU_part1\n",
            "⚠️ Missing transcription file for g7j4satykWU_part10\n",
            "⚠️ Missing transcription file for g7j4satykWU_part11\n",
            "⚠️ Missing transcription file for g7j4satykWU_part12\n",
            "⚠️ Missing transcription file for g7j4satykWU_part2\n",
            "⚠️ Missing transcription file for g7j4satykWU_part3\n",
            "⚠️ Missing transcription file for g7j4satykWU_part4\n",
            "⚠️ Missing transcription file for g7j4satykWU_part5\n",
            "⚠️ Missing transcription file for g7j4satykWU_part6\n",
            "⚠️ Missing transcription file for g7j4satykWU_part7\n",
            "⚠️ Missing transcription file for g7j4satykWU_part8\n",
            "⚠️ Missing transcription file for g7j4satykWU_part9\n",
            "⚠️ Missing transcription file for gho6tzNLsDg_part1\n",
            "⚠️ Missing transcription file for gho6tzNLsDg_part10\n",
            "⚠️ Missing transcription file for gho6tzNLsDg_part11\n",
            "⚠️ Missing transcription file for gho6tzNLsDg_part12\n",
            "⚠️ Missing transcription file for gho6tzNLsDg_part13\n",
            "⚠️ Missing transcription file for gho6tzNLsDg_part14\n",
            "⚠️ Missing transcription file for gho6tzNLsDg_part15\n",
            "⚠️ Missing transcription file for gho6tzNLsDg_part16\n",
            "⚠️ Missing transcription file for gho6tzNLsDg_part17\n",
            "⚠️ Missing transcription file for gho6tzNLsDg_part18\n",
            "⚠️ Missing transcription file for gho6tzNLsDg_part2\n",
            "⚠️ Missing transcription file for gho6tzNLsDg_part3\n",
            "⚠️ Missing transcription file for gho6tzNLsDg_part4\n",
            "⚠️ Missing transcription file for gho6tzNLsDg_part5\n",
            "⚠️ Missing transcription file for gho6tzNLsDg_part6\n",
            "⚠️ Missing transcription file for gho6tzNLsDg_part7\n",
            "⚠️ Missing transcription file for gho6tzNLsDg_part8\n",
            "⚠️ Missing transcription file for gho6tzNLsDg_part9\n",
            "⚠️ Missing transcription file for ibaiMau81Ts_part1\n",
            "⚠️ Missing transcription file for ibaiMau81Ts_part10\n",
            "⚠️ Missing transcription file for ibaiMau81Ts_part11\n",
            "⚠️ Missing transcription file for ibaiMau81Ts_part12\n",
            "⚠️ Missing transcription file for ibaiMau81Ts_part13\n",
            "⚠️ Missing transcription file for ibaiMau81Ts_part14\n",
            "⚠️ Missing transcription file for ibaiMau81Ts_part15\n",
            "⚠️ Missing transcription file for ibaiMau81Ts_part16\n",
            "⚠️ Missing transcription file for ibaiMau81Ts_part17\n",
            "⚠️ Missing transcription file for ibaiMau81Ts_part18\n",
            "⚠️ Missing transcription file for ibaiMau81Ts_part2\n",
            "⚠️ Missing transcription file for ibaiMau81Ts_part3\n",
            "⚠️ Missing transcription file for ibaiMau81Ts_part4\n",
            "⚠️ Missing transcription file for ibaiMau81Ts_part5\n",
            "⚠️ Missing transcription file for ibaiMau81Ts_part6\n",
            "⚠️ Missing transcription file for ibaiMau81Ts_part7\n",
            "⚠️ Missing transcription file for ibaiMau81Ts_part8\n",
            "⚠️ Missing transcription file for ibaiMau81Ts_part9\n",
            "⚠️ Missing transcription file for jPWyEAc05Q8_part1\n",
            "⚠️ Missing transcription file for juuIQuoNFgA_part1\n",
            "⚠️ Missing transcription file for juuIQuoNFgA_part2\n",
            "⚠️ Missing transcription file for juuIQuoNFgA_part3\n",
            "⚠️ Missing transcription file for juuIQuoNFgA_part4\n",
            "⚠️ Missing transcription file for juuIQuoNFgA_part5\n",
            "⚠️ Missing transcription file for juuIQuoNFgA_part6\n",
            "⚠️ Missing transcription file for juuIQuoNFgA_part7\n",
            "⚠️ Missing transcription file for juuIQuoNFgA_part8\n",
            "⚠️ Missing transcription file for juuIQuoNFgA_part9\n",
            "⚠️ Missing transcription file for kPf670uH0m4_part1\n",
            "⚠️ Missing transcription file for kPf670uH0m4_part10\n",
            "⚠️ Missing transcription file for kPf670uH0m4_part11\n",
            "⚠️ Missing transcription file for kPf670uH0m4_part12\n",
            "⚠️ Missing transcription file for kPf670uH0m4_part13\n",
            "⚠️ Missing transcription file for kPf670uH0m4_part2\n",
            "⚠️ Missing transcription file for kPf670uH0m4_part3\n",
            "⚠️ Missing transcription file for kPf670uH0m4_part4\n",
            "⚠️ Missing transcription file for kPf670uH0m4_part5\n",
            "⚠️ Missing transcription file for kPf670uH0m4_part6\n",
            "⚠️ Missing transcription file for kPf670uH0m4_part7\n",
            "⚠️ Missing transcription file for kPf670uH0m4_part8\n",
            "⚠️ Missing transcription file for kPf670uH0m4_part9\n",
            "⚠️ Missing transcription file for km7OJpIrx1M_part1\n",
            "⚠️ Missing transcription file for km7OJpIrx1M_part10\n",
            "⚠️ Missing transcription file for km7OJpIrx1M_part11\n",
            "⚠️ Missing transcription file for km7OJpIrx1M_part12\n",
            "⚠️ Missing transcription file for km7OJpIrx1M_part2\n",
            "⚠️ Missing transcription file for km7OJpIrx1M_part3\n",
            "⚠️ Missing transcription file for km7OJpIrx1M_part4\n",
            "⚠️ Missing transcription file for km7OJpIrx1M_part5\n",
            "⚠️ Missing transcription file for km7OJpIrx1M_part6\n",
            "⚠️ Missing transcription file for km7OJpIrx1M_part7\n",
            "⚠️ Missing transcription file for km7OJpIrx1M_part8\n",
            "⚠️ Missing transcription file for km7OJpIrx1M_part9\n",
            "⚠️ Missing transcription file for lOyAb433RgI_part1\n",
            "⚠️ Missing transcription file for lOyAb433RgI_part10\n",
            "⚠️ Missing transcription file for lOyAb433RgI_part11\n",
            "⚠️ Missing transcription file for lOyAb433RgI_part12\n",
            "⚠️ Missing transcription file for lOyAb433RgI_part13\n",
            "⚠️ Missing transcription file for lOyAb433RgI_part14\n",
            "⚠️ Missing transcription file for lOyAb433RgI_part15\n",
            "⚠️ Missing transcription file for lOyAb433RgI_part16\n",
            "⚠️ Missing transcription file for lOyAb433RgI_part17\n",
            "⚠️ Missing transcription file for lOyAb433RgI_part18\n",
            "⚠️ Missing transcription file for lOyAb433RgI_part19\n",
            "⚠️ Missing transcription file for lOyAb433RgI_part2\n",
            "⚠️ Missing transcription file for lOyAb433RgI_part3\n",
            "⚠️ Missing transcription file for lOyAb433RgI_part4\n",
            "⚠️ Missing transcription file for lOyAb433RgI_part5\n",
            "⚠️ Missing transcription file for lOyAb433RgI_part6\n",
            "⚠️ Missing transcription file for lOyAb433RgI_part7\n",
            "⚠️ Missing transcription file for lOyAb433RgI_part8\n",
            "⚠️ Missing transcription file for lOyAb433RgI_part9\n",
            "⚠️ Missing transcription file for l_F3ZyQDNxA_part1\n",
            "⚠️ Missing transcription file for l_F3ZyQDNxA_part10\n",
            "⚠️ Missing transcription file for l_F3ZyQDNxA_part11\n",
            "⚠️ Missing transcription file for l_F3ZyQDNxA_part12\n",
            "⚠️ Missing transcription file for l_F3ZyQDNxA_part13\n",
            "⚠️ Missing transcription file for l_F3ZyQDNxA_part14\n",
            "⚠️ Missing transcription file for l_F3ZyQDNxA_part15\n",
            "⚠️ Missing transcription file for l_F3ZyQDNxA_part16\n",
            "⚠️ Missing transcription file for l_F3ZyQDNxA_part17\n",
            "⚠️ Missing transcription file for l_F3ZyQDNxA_part2\n",
            "⚠️ Missing transcription file for l_F3ZyQDNxA_part3\n",
            "⚠️ Missing transcription file for l_F3ZyQDNxA_part4\n",
            "⚠️ Missing transcription file for l_F3ZyQDNxA_part5\n",
            "⚠️ Missing transcription file for l_F3ZyQDNxA_part6\n",
            "⚠️ Missing transcription file for l_F3ZyQDNxA_part7\n",
            "⚠️ Missing transcription file for l_F3ZyQDNxA_part8\n",
            "⚠️ Missing transcription file for l_F3ZyQDNxA_part9\n",
            "⚠️ Missing transcription file for lwhyn1ZQsZw_part1\n",
            "⚠️ Missing transcription file for lwhyn1ZQsZw_part10\n",
            "⚠️ Missing transcription file for lwhyn1ZQsZw_part11\n",
            "⚠️ Missing transcription file for lwhyn1ZQsZw_part12\n",
            "⚠️ Missing transcription file for lwhyn1ZQsZw_part13\n",
            "⚠️ Missing transcription file for lwhyn1ZQsZw_part14\n",
            "⚠️ Missing transcription file for lwhyn1ZQsZw_part15\n",
            "⚠️ Missing transcription file for lwhyn1ZQsZw_part16\n",
            "⚠️ Missing transcription file for lwhyn1ZQsZw_part2\n",
            "⚠️ Missing transcription file for lwhyn1ZQsZw_part3\n",
            "⚠️ Missing transcription file for lwhyn1ZQsZw_part4\n",
            "⚠️ Missing transcription file for lwhyn1ZQsZw_part5\n",
            "⚠️ Missing transcription file for lwhyn1ZQsZw_part6\n",
            "⚠️ Missing transcription file for lwhyn1ZQsZw_part7\n",
            "⚠️ Missing transcription file for lwhyn1ZQsZw_part8\n",
            "⚠️ Missing transcription file for lwhyn1ZQsZw_part9\n",
            "⚠️ Missing transcription file for moaU_TnQDac_part1\n",
            "⚠️ Missing transcription file for moaU_TnQDac_part10\n",
            "⚠️ Missing transcription file for moaU_TnQDac_part11\n",
            "⚠️ Missing transcription file for moaU_TnQDac_part12\n",
            "⚠️ Missing transcription file for moaU_TnQDac_part13\n",
            "⚠️ Missing transcription file for moaU_TnQDac_part14\n",
            "⚠️ Missing transcription file for moaU_TnQDac_part15\n",
            "⚠️ Missing transcription file for moaU_TnQDac_part16\n",
            "⚠️ Missing transcription file for moaU_TnQDac_part2\n",
            "⚠️ Missing transcription file for moaU_TnQDac_part3\n",
            "⚠️ Missing transcription file for moaU_TnQDac_part4\n",
            "⚠️ Missing transcription file for moaU_TnQDac_part5\n",
            "⚠️ Missing transcription file for moaU_TnQDac_part6\n",
            "⚠️ Missing transcription file for moaU_TnQDac_part7\n",
            "⚠️ Missing transcription file for moaU_TnQDac_part8\n",
            "⚠️ Missing transcription file for moaU_TnQDac_part9\n",
            "⚠️ Missing transcription file for nnolovZdT6E_part1\n",
            "⚠️ Missing transcription file for nnolovZdT6E_part2\n",
            "⚠️ Missing transcription file for nnolovZdT6E_part3\n",
            "⚠️ Missing transcription file for nnolovZdT6E_part4\n",
            "⚠️ Missing transcription file for nnolovZdT6E_part5\n",
            "⚠️ Missing transcription file for nnolovZdT6E_part6\n",
            "⚠️ Missing transcription file for nnolovZdT6E_part7\n",
            "⚠️ Missing transcription file for nnolovZdT6E_part8\n",
            "⚠️ Missing transcription file for nnolovZdT6E_part9\n",
            "⚠️ Missing transcription file for nypKj9nbsUI_part1\n",
            "⚠️ Missing transcription file for nypKj9nbsUI_part10\n",
            "⚠️ Missing transcription file for nypKj9nbsUI_part11\n",
            "⚠️ Missing transcription file for nypKj9nbsUI_part12\n",
            "⚠️ Missing transcription file for nypKj9nbsUI_part13\n",
            "⚠️ Missing transcription file for nypKj9nbsUI_part2\n",
            "⚠️ Missing transcription file for nypKj9nbsUI_part3\n",
            "⚠️ Missing transcription file for nypKj9nbsUI_part4\n",
            "⚠️ Missing transcription file for nypKj9nbsUI_part5\n",
            "⚠️ Missing transcription file for nypKj9nbsUI_part6\n",
            "⚠️ Missing transcription file for nypKj9nbsUI_part7\n",
            "⚠️ Missing transcription file for nypKj9nbsUI_part8\n",
            "⚠️ Missing transcription file for nypKj9nbsUI_part9\n",
            "⚠️ Missing transcription file for oMV1_7a4_mc_part1\n",
            "⚠️ Missing transcription file for oVVzkQKDHKk_part1\n",
            "⚠️ Missing transcription file for ovbNW9Ws0bE_part1\n",
            "⚠️ Missing transcription file for ovbNW9Ws0bE_part2\n",
            "⚠️ Missing transcription file for ovbNW9Ws0bE_part3\n",
            "⚠️ Missing transcription file for ovbNW9Ws0bE_part4\n",
            "⚠️ Missing transcription file for ovbNW9Ws0bE_part5\n",
            "⚠️ Missing transcription file for ovbNW9Ws0bE_part6\n",
            "⚠️ Missing transcription file for ovbNW9Ws0bE_part7\n",
            "⚠️ Missing transcription file for ovbNW9Ws0bE_part8\n",
            "⚠️ Missing transcription file for ovbNW9Ws0bE_part9\n",
            "⚠️ Missing transcription file for pzVYZDrw0EM_part1\n",
            "⚠️ Missing transcription file for pzVYZDrw0EM_part2\n",
            "⚠️ Missing transcription file for pzVYZDrw0EM_part3\n",
            "⚠️ Missing transcription file for pzVYZDrw0EM_part4\n",
            "⚠️ Missing transcription file for pzVYZDrw0EM_part5\n",
            "⚠️ Missing transcription file for pzVYZDrw0EM_part6\n",
            "⚠️ Missing transcription file for pzVYZDrw0EM_part7\n",
            "⚠️ Missing transcription file for pzVYZDrw0EM_part8\n",
            "⚠️ Missing transcription file for pzVYZDrw0EM_part9\n",
            "⚠️ Missing transcription file for qJOXSFOp3Jk_part1\n",
            "⚠️ Missing transcription file for qJOXSFOp3Jk_part2\n",
            "⚠️ Missing transcription file for qJOXSFOp3Jk_part3\n",
            "⚠️ Missing transcription file for qJOXSFOp3Jk_part4\n",
            "⚠️ Missing transcription file for qJOXSFOp3Jk_part5\n",
            "⚠️ Missing transcription file for qJOXSFOp3Jk_part6\n",
            "⚠️ Missing transcription file for qJOXSFOp3Jk_part7\n",
            "⚠️ Missing transcription file for qJOXSFOp3Jk_part8\n",
            "⚠️ Missing transcription file for qJOXSFOp3Jk_part9\n",
            "⚠️ Missing transcription file for qQRqJqeUYTU_part1\n",
            "⚠️ Missing transcription file for qQRqJqeUYTU_part2\n",
            "⚠️ Missing transcription file for s2TDVUmfJO8_part1\n",
            "⚠️ Missing transcription file for s2TDVUmfJO8_part10\n",
            "⚠️ Missing transcription file for s2TDVUmfJO8_part11\n",
            "⚠️ Missing transcription file for s2TDVUmfJO8_part2\n",
            "⚠️ Missing transcription file for s2TDVUmfJO8_part3\n",
            "⚠️ Missing transcription file for s2TDVUmfJO8_part4\n",
            "⚠️ Missing transcription file for s2TDVUmfJO8_part5\n",
            "⚠️ Missing transcription file for s2TDVUmfJO8_part6\n",
            "⚠️ Missing transcription file for s2TDVUmfJO8_part7\n",
            "⚠️ Missing transcription file for s2TDVUmfJO8_part8\n",
            "⚠️ Missing transcription file for s2TDVUmfJO8_part9\n",
            "⚠️ Missing transcription file for uRPrHIs8D44_part1\n",
            "⚠️ Missing transcription file for ugeyCBEFzZs_part1\n",
            "⚠️ Missing transcription file for ugeyCBEFzZs_part10\n",
            "⚠️ Missing transcription file for ugeyCBEFzZs_part11\n",
            "⚠️ Missing transcription file for ugeyCBEFzZs_part12\n",
            "⚠️ Missing transcription file for ugeyCBEFzZs_part13\n",
            "⚠️ Missing transcription file for ugeyCBEFzZs_part14\n",
            "⚠️ Missing transcription file for ugeyCBEFzZs_part15\n",
            "⚠️ Missing transcription file for ugeyCBEFzZs_part16\n",
            "⚠️ Missing transcription file for ugeyCBEFzZs_part2\n",
            "⚠️ Missing transcription file for ugeyCBEFzZs_part3\n",
            "⚠️ Missing transcription file for ugeyCBEFzZs_part4\n",
            "⚠️ Missing transcription file for ugeyCBEFzZs_part5\n",
            "⚠️ Missing transcription file for ugeyCBEFzZs_part6\n",
            "⚠️ Missing transcription file for ugeyCBEFzZs_part7\n",
            "⚠️ Missing transcription file for ugeyCBEFzZs_part8\n",
            "⚠️ Missing transcription file for ugeyCBEFzZs_part9\n",
            "⚠️ Missing transcription file for uyxv9W4HShU_part1\n",
            "⚠️ Missing transcription file for vMYsIBi3ueo_part1\n",
            "⚠️ Missing transcription file for vMYsIBi3ueo_part10\n",
            "⚠️ Missing transcription file for vMYsIBi3ueo_part11\n",
            "⚠️ Missing transcription file for vMYsIBi3ueo_part12\n",
            "⚠️ Missing transcription file for vMYsIBi3ueo_part13\n",
            "⚠️ Missing transcription file for vMYsIBi3ueo_part14\n",
            "⚠️ Missing transcription file for vMYsIBi3ueo_part2\n",
            "⚠️ Missing transcription file for vMYsIBi3ueo_part3\n",
            "⚠️ Missing transcription file for vMYsIBi3ueo_part4\n",
            "⚠️ Missing transcription file for vMYsIBi3ueo_part5\n",
            "⚠️ Missing transcription file for vMYsIBi3ueo_part6\n",
            "⚠️ Missing transcription file for vMYsIBi3ueo_part7\n",
            "⚠️ Missing transcription file for vMYsIBi3ueo_part8\n",
            "⚠️ Missing transcription file for vMYsIBi3ueo_part9\n",
            "⚠️ Missing transcription file for x1hAqF7-RBo_part1\n",
            "⚠️ Missing transcription file for xXmPFVGlbJM_part1\n",
            "⚠️ Missing transcription file for xXmPFVGlbJM_part10\n",
            "⚠️ Missing transcription file for xXmPFVGlbJM_part11\n",
            "⚠️ Missing transcription file for xXmPFVGlbJM_part12\n",
            "⚠️ Missing transcription file for xXmPFVGlbJM_part13\n",
            "⚠️ Missing transcription file for xXmPFVGlbJM_part2\n",
            "⚠️ Missing transcription file for xXmPFVGlbJM_part3\n",
            "⚠️ Missing transcription file for xXmPFVGlbJM_part4\n",
            "⚠️ Missing transcription file for xXmPFVGlbJM_part5\n",
            "⚠️ Missing transcription file for xXmPFVGlbJM_part6\n",
            "⚠️ Missing transcription file for xXmPFVGlbJM_part7\n",
            "⚠️ Missing transcription file for xXmPFVGlbJM_part8\n",
            "⚠️ Missing transcription file for xXmPFVGlbJM_part9\n",
            "⚠️ Missing transcription file for xx6uCpYeyF0_part1\n",
            "⚠️ Missing transcription file for xx6uCpYeyF0_part10\n",
            "⚠️ Missing transcription file for xx6uCpYeyF0_part2\n",
            "⚠️ Missing transcription file for xx6uCpYeyF0_part3\n",
            "⚠️ Missing transcription file for xx6uCpYeyF0_part4\n",
            "⚠️ Missing transcription file for xx6uCpYeyF0_part5\n",
            "⚠️ Missing transcription file for xx6uCpYeyF0_part6\n",
            "⚠️ Missing transcription file for xx6uCpYeyF0_part7\n",
            "⚠️ Missing transcription file for xx6uCpYeyF0_part8\n",
            "⚠️ Missing transcription file for xx6uCpYeyF0_part9\n",
            "⚠️ Missing transcription file for zFYLu8NhVdw_part1\n",
            "⚠️ Missing transcription file for zFYLu8NhVdw_part2\n",
            "⚠️ Missing transcription file for zFYLu8NhVdw_part3\n",
            "⚠️ Missing transcription file for zFYLu8NhVdw_part4\n",
            "⚠️ Missing transcription file for zFYLu8NhVdw_part5\n",
            "⚠️ Missing transcription file for zFYLu8NhVdw_part6\n",
            "⚠️ Missing transcription file for zFYLu8NhVdw_part7\n",
            "⚠️ Missing transcription file for zFYLu8NhVdw_part8\n",
            "⚠️ Missing transcription file for zFYLu8NhVdw_part9\n",
            "⚠️ No valid pairs found to calculate WER.\n"
          ]
        }
      ]
    },
    {
      "cell_type": "code",
      "source": [],
      "metadata": {
        "id": "-dFIS5rI7Ckx"
      },
      "execution_count": null,
      "outputs": []
    }
  ]
}