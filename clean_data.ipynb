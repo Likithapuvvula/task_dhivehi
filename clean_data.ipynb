{
  "cells": [
    {
      "cell_type": "markdown",
      "metadata": {
        "id": "view-in-github",
        "colab_type": "text"
      },
      "source": [
        "<a href=\"https://colab.research.google.com/github/Likithapuvvula/task_dhivehi/blob/main/clean_data.ipynb\" target=\"_parent\"><img src=\"https://colab.research.google.com/assets/colab-badge.svg\" alt=\"Open In Colab\"/></a>"
      ]
    },
    {
      "cell_type": "code",
      "execution_count": null,
      "metadata": {
        "colab": {
          "base_uri": "https://localhost:8080/"
        },
        "id": "1Sabw5Eniok4",
        "outputId": "c5f3456a-cb00-4e52-f385-e067b376e9c1"
      },
      "outputs": [
        {
          "name": "stdout",
          "output_type": "stream",
          "text": [
            "Mounted at /content/drive\n"
          ]
        }
      ],
      "source": [
        "from google.colab import drive\n",
        "drive.mount('/content/drive')\n"
      ]
    },
    {
      "cell_type": "code",
      "execution_count": null,
      "metadata": {
        "colab": {
          "base_uri": "https://localhost:8080/"
        },
        "id": "eA1MdL3dws8Q",
        "outputId": "7ff75e50-6319-4787-db4d-67464d3458b9"
      },
      "outputs": [
        {
          "name": "stdout",
          "output_type": "stream",
          "text": [
            "\u001b[?25l     \u001b[90m━━━━━━━━━━━━━━━━━━━━━━━━━━━━━━━━━━━━━━━━\u001b[0m \u001b[32m0.0/803.2 kB\u001b[0m \u001b[31m?\u001b[0m eta \u001b[36m-:--:--\u001b[0m\r",
            "\u001b[2K     \u001b[91m━━━━━━━━━━━━━━━━━━━━━━━━━━━━━━━━━━━━━\u001b[0m\u001b[91m╸\u001b[0m \u001b[32m798.7/803.2 kB\u001b[0m \u001b[31m26.3 MB/s\u001b[0m eta \u001b[36m0:00:01\u001b[0m\r",
            "\u001b[2K     \u001b[90m━━━━━━━━━━━━━━━━━━━━━━━━━━━━━━━━━━━━━━\u001b[0m \u001b[32m803.2/803.2 kB\u001b[0m \u001b[31m18.0 MB/s\u001b[0m eta \u001b[36m0:00:00\u001b[0m\n",
            "\u001b[?25h  Installing build dependencies ... \u001b[?25l\u001b[?25hdone\n",
            "  Getting requirements to build wheel ... \u001b[?25l\u001b[?25hdone\n",
            "  Preparing metadata (pyproject.toml) ... \u001b[?25l\u001b[?25hdone\n",
            "  Building wheel for openai-whisper (pyproject.toml) ... \u001b[?25l\u001b[?25hdone\n",
            "Reading package lists... Done\n",
            "Building dependency tree... Done\n",
            "Reading state information... Done\n",
            "ffmpeg is already the newest version (7:4.4.2-0ubuntu0.22.04.1).\n",
            "0 upgraded, 0 newly installed, 0 to remove and 35 not upgraded.\n"
          ]
        }
      ],
      "source": [
        "!pip install -q openai-whisper\n",
        "!sudo apt-get install -y ffmpeg\n"
      ]
    },
    {
      "cell_type": "code",
      "execution_count": null,
      "metadata": {
        "colab": {
          "base_uri": "https://localhost:8080/"
        },
        "id": "yADzsj7Pi4WL",
        "outputId": "c1d57287-081b-4f81-9f2f-0fac12cd6ae0"
      },
      "outputs": [
        {
          "name": "stdout",
          "output_type": "stream",
          "text": [
            "Collecting yt-dlp\n",
            "  Downloading yt_dlp-2025.9.5-py3-none-any.whl.metadata (177 kB)\n",
            "\u001b[2K     \u001b[90m━━━━━━━━━━━━━━━━━━━━━━━━━━━━━━━━━━━━━━━\u001b[0m \u001b[32m177.1/177.1 kB\u001b[0m \u001b[31m3.0 MB/s\u001b[0m eta \u001b[36m0:00:00\u001b[0m\n",
            "\u001b[?25hDownloading yt_dlp-2025.9.5-py3-none-any.whl (3.3 MB)\n",
            "\u001b[2K   \u001b[90m━━━━━━━━━━━━━━━━━━━━━━━━━━━━━━━━━━━━━━━━\u001b[0m \u001b[32m3.3/3.3 MB\u001b[0m \u001b[31m47.8 MB/s\u001b[0m eta \u001b[36m0:00:00\u001b[0m\n",
            "\u001b[?25hInstalling collected packages: yt-dlp\n",
            "Successfully installed yt-dlp-2025.9.5\n"
          ]
        }
      ],
      "source": [
        "!pip install yt-dlp\n"
      ]
    },
    {
      "cell_type": "code",
      "execution_count": null,
      "metadata": {
        "colab": {
          "base_uri": "https://localhost:8080/"
        },
        "id": "5mQaHal-jFYB",
        "outputId": "0a562e3c-d6e5-4e07-c507-06edc95101af"
      },
      "outputs": [
        {
          "name": "stdout",
          "output_type": "stream",
          "text": [
            "✅ Audio folder created at: /content/drive/MyDrive/dhivehi_audios\n"
          ]
        }
      ],
      "source": [
        "import os\n",
        "\n",
        "audio_folder = \"/content/drive/MyDrive/dhivehi_audios\"\n",
        "os.makedirs(audio_folder, exist_ok=True)\n",
        "\n",
        "print(\"✅ Audio folder created at:\", audio_folder)\n"
      ]
    },
    {
      "cell_type": "code",
      "execution_count": null,
      "metadata": {
        "id": "oIXQxsA4jJlP"
      },
      "outputs": [],
      "source": [
        "raw_links = [\n",
        "    \"https://www.youtube.com/watch?v=km7OJpIrx1M&t=187s\",\n",
        "    \"https://www.youtube.com/watch?v=GnpNwZon3qk\",\n",
        "    \"https://www.youtube.com/watch?v=6JAsFZeE2W8\",\n",
        "    \"https://www.youtube.com/watch?v=xXmPFVGlbJM\",\n",
        "    \"https://www.youtube.com/watch?v=nnolovZdT6E\",\n",
        "    \"https://www.youtube.com/watch?v=XGU7oD9JVhU\",\n",
        "    \"https://www.youtube.com/watch?v=7cIklqoQz7E\",\n",
        "    \"https://www.youtube.com/watch?v=g7j4satykWU\",\n",
        "    \"https://www.youtube.com/watch?v=s2TDVUmfJO8\",\n",
        "    \"https://www.youtube.com/watch?v=xx6uCpYeyF0\",\n",
        "    \"https://www.youtube.com/watch?v=ovbNW9Ws0bE\",\n",
        "    \"https://www.youtube.com/watch?v=qJOXSFOp3Jk\",\n",
        "    \"https://www.youtube.com/watch?v=fOWVHQsFQ3E\",\n",
        "    \"https://www.youtube.com/watch?v=TyKxarCPprU\",\n",
        "    \"https://www.youtube.com/watch?v=YSM7tuP9vGw\",\n",
        "    \"https://www.youtube.com/watch?v=YbIFrPCJWNM\",\n",
        "    \"https://www.youtube.com/watch?v=9-k9kDANUmk\",\n",
        "    \"https://www.youtube.com/watch?v=UcNDA5Btn_A\",\n",
        "    \"https://www.youtube.com/watch?v=1FZ9llN5ZZE\",\n",
        "    \"https://www.youtube.com/watch?v=UcNDA5Btn_A&t=30s\",\n",
        "    \"https://www.youtube.com/watch?v=bbRAvMERnPI\",\n",
        "    \"https://www.youtube.com/watch?v=MrKQqneQ3TQ\",\n",
        "    \"https://www.youtube.com/watch?v=vMYsIBi3ueo\",\n",
        "    \"https://www.youtube.com/watch?v=bAoWnQyBIWA\",\n",
        "    \"https://www.youtube.com/watch?v=HzYbLoCHtL8\",\n",
        "    \"https://www.youtube.com/watch?v=Fo9YlPNIVcw\",\n",
        "    \"https://www.youtube.com/watch?v=lOyAb433RgI\",\n",
        "    \"https://www.youtube.com/watch?v=ugeyCBEFzZs\",\n",
        "    \"https://www.youtube.com/watch?v=5xL0H7kdWGM\",\n",
        "    \"https://www.youtube.com/watch?v=aDZ7k9_yKbI\",\n",
        "    \"https://www.youtube.com/watch?v=l_F3ZyQDNxA\",\n",
        "    \"https://www.youtube.com/watch?v=g40745pRP-8\",\n",
        "    \"https://www.youtube.com/watch?v=0kGhQr7_23c\",\n",
        "    \"https://www.youtube.com/watch?v=TqaR_u4Xle4\",\n",
        "    \"https://www.youtube.com/watch?v=5eV9Mm5jaeE\",\n",
        "    \"https://www.youtube.com/watch?v=Y_Dc1Ro0M6g\",\n",
        "    \"https://www.youtube.com/watch?v=d1vg3Y0KIuI\",\n",
        "    \"https://www.youtube.com/watch?v=2VV6NCzqdgo\",\n",
        "    \"https://www.youtube.com/watch?v=juuIQuoNFgA\",\n",
        "    \"https://www.youtube.com/watch?v=oVVzkQKDHKk\",\n",
        "    \"https://www.youtube.com/watch?v=6-748dE3RZ0\",\n",
        "    \"https://www.youtube.com/watch?v=3pMQWB4-ek4\",\n",
        "    \"https://www.youtube.com/watch?v=8Vzoxz8b2as\",\n",
        "    \"https://www.youtube.com/watch?v=pzVYZDrw0EM\",\n",
        "    \"https://www.youtube.com/watch?v=kPf670uH0m4\",\n",
        "    \"https://www.youtube.com/watch?v=1IQDbny8nPE\",\n",
        "    \"https://www.youtube.com/watch?v=AdtFTnhmIGM\",\n",
        "    \"https://www.youtube.com/watch?v=G_aSnapci_I\",\n",
        "    \"https://www.youtube.com/watch?v=DV9MdtGNbP8\",\n",
        "    \"https://www.youtube.com/watch?v=zFYLu8NhVdw\",\n",
        "    \"https://www.youtube.com/watch?v=0pG7xOICpr4\",\n",
        "    \"https://www.youtube.com/watch?v=Shdn58IKK3o\",\n",
        "    \"https://www.youtube.com/watch?v=7_jvCwNVp68\",\n",
        "    \"https://www.youtube.com/watch?v=HHu6YqZQjA4\",\n",
        "    \"https://www.youtube.com/watch?v=Hq1HXHWlo6Q\",\n",
        "    \"https://www.youtube.com/watch?v=Pcni2vi_ZJw\",\n",
        "    \"https://www.youtube.com/watch?v=8gCC9xhAL8U\",\n",
        "    \"https://www.youtube.com/watch?v=JFR2WFm7Q4U\",\n",
        "    \"https://www.youtube.com/watch?v=JvGLOma4jeQ\",\n",
        "    \"https://www.youtube.com/watch?v=C2XMBCHPyeM\",\n",
        "    \"https://www.youtube.com/watch?v=3pD7aB0x8Jg\",\n",
        "    \"https://www.youtube.com/watch?v=jPWyEAc05Q8\",\n",
        "    \"https://www.youtube.com/watch?v=aHF7nsMAv1Y\",\n",
        "    \"https://www.youtube.com/watch?v=oMV1_7a4_mc\",\n",
        "    \"https://www.youtube.com/watch?v=WuAMNLEZmI8\",\n",
        "    \"https://www.youtube.com/watch?v=cn8UM26fBwA\",\n",
        "    \"https://www.youtube.com/watch?v=Sc0ilLhXcbc\",\n",
        "    \"https://www.youtube.com/watch?v=qQRqJqeUYTU\",\n",
        "    \"https://www.youtube.com/watch?v=f405jlvKc_8\",\n",
        "    \"https://www.youtube.com/watch?v=uyxv9W4HShU\",\n",
        "    \"https://www.youtube.com/watch?v=PmQ3XfsOQSM\",\n",
        "    \"https://www.youtube.com/watch?v=27hb50BWhFw\",\n",
        "    \"https://www.youtube.com/watch?v=x1hAqF7-RBo\",\n",
        "    \"https://www.youtube.com/watch?v=KjTNvsc4wYQ\",\n",
        "    \"https://www.youtube.com/watch?v=IIX_T96_YlU\",\n",
        "    \"https://www.youtube.com/watch?v=Le_a7ic_nDk\",\n",
        "    \"https://www.youtube.com/watch?v=23gRqCSWxTI\",\n",
        "    \"https://www.youtube.com/watch?v=T1SG3Q22u6E\",\n",
        "    \"https://www.youtube.com/watch?v=J9PzdmswVMU\",\n",
        "    \"https://www.youtube.com/watch?v=4BGogU5ZUl8\",\n",
        "    \"https://www.youtube.com/watch?v=moaU_TnQDac\",\n",
        "    \"https://www.youtube.com/watch?v=Pfx_3cz2-Uo\",\n",
        "    \"https://www.youtube.com/watch?v=_lze10rTZVQ\",\n",
        "    \"https://www.youtube.com/watch?v=WsDPnAtPDRo\",\n",
        "    \"https://www.youtube.com/watch?v=OYV3JJ4Z7A4\",\n",
        "    \"https://www.youtube.com/watch?v=Bi5ZFMtQVVw\",\n",
        "    \"https://www.youtube.com/watch?v=gho6tzNLsDg\",\n",
        "    \"https://www.youtube.com/watch?v=lwhyn1ZQsZw\",\n",
        "    \"https://www.youtube.com/watch?v=8QQsboZgJJk\",\n",
        "    \"https://www.youtube.com/watch?v=D2w7udtzrfs\",\n",
        "    \"https://www.youtube.com/watch?v=VKEIG3a8URw\",\n",
        "    \"https://www.youtube.com/watch?v=9swQy86Z-Bs\",\n",
        "    \"https://www.youtube.com/watch?v=ibaiMau81Ts\",\n",
        "    \"https://www.youtube.com/watch?v=nypKj9nbsUI\",\n",
        "    \"https://www.youtube.com/watch?v=FI5GcSNnrqg\",\n",
        "    \"https://www.youtube.com/watch?v=cSjvfspUaT4\",\n",
        "    \"https://www.youtube.com/watch?v=Mp9MhaDxf1I\",\n",
        "    \"https://www.youtube.com/watch?v=ZdtQhM2kWi4\",\n",
        "    \"https://www.youtube.com/watch?v=RLnOC44E8Lo\",\n",
        "    \"https://www.youtube.com/watch?v=B4R04Hxs9m0\",\n",
        "    \"https://www.youtube.com/watch?v=IXCcK1OegFU\",\n",
        "    \"https://www.youtube.com/watch?v=uRPrHIs8D44\",\n",
        "    \"https://www.youtube.com/watch?v=EnTP06uXJUw\"\n",
        "]\n"
      ]
    },
    {
      "cell_type": "code",
      "execution_count": null,
      "metadata": {
        "colab": {
          "base_uri": "https://localhost:8080/"
        },
        "id": "ONtuia1njzZR",
        "outputId": "6e5f9a89-17f6-4a57-c62d-0b86e9c04c10"
      },
      "outputs": [
        {
          "name": "stdout",
          "output_type": "stream",
          "text": [
            "✅ Total unique links: 102\n",
            "[youtube] Extracting URL: https://www.youtube.com/watch?v=8Vzoxz8b2as\n",
            "[youtube] 8Vzoxz8b2as: Downloading webpage\n",
            "[youtube] 8Vzoxz8b2as: Downloading tv simply player API JSON\n",
            "[youtube] 8Vzoxz8b2as: Downloading tv client config\n",
            "[youtube] 8Vzoxz8b2as: Downloading player 72dd8066-main\n",
            "[youtube] 8Vzoxz8b2as: Downloading tv player API JSON\n",
            "[info] 8Vzoxz8b2as: Downloading 1 format(s): 251\n",
            "[download] Destination: /content/drive/MyDrive/dhivehi_audios/8Vzoxz8b2as.webm\n",
            "\u001b[K[download] 100% of   19.50MiB in \u001b[1;37m00:00:05\u001b[0m at \u001b[0;32m3.59MiB/s\u001b[0m\n",
            "[ExtractAudio] Destination: /content/drive/MyDrive/dhivehi_audios/8Vzoxz8b2as.wav\n",
            "Deleting original file /content/drive/MyDrive/dhivehi_audios/8Vzoxz8b2as.webm (pass -k to keep)\n",
            "[youtube] Extracting URL: https://www.youtube.com/watch?v=AdtFTnhmIGM\n",
            "[youtube] AdtFTnhmIGM: Downloading webpage\n",
            "[youtube] AdtFTnhmIGM: Downloading tv simply player API JSON\n",
            "[youtube] AdtFTnhmIGM: Downloading tv client config\n",
            "[youtube] AdtFTnhmIGM: Downloading player 9bae1a63-main\n",
            "[youtube] AdtFTnhmIGM: Downloading tv player API JSON\n",
            "[info] AdtFTnhmIGM: Downloading 1 format(s): 251\n",
            "[download] Sleeping 3.00 seconds as required by the site...\n",
            "[download] Destination: /content/drive/MyDrive/dhivehi_audios/AdtFTnhmIGM.webm\n",
            "\u001b[K[download] 100% of   22.90MiB in \u001b[1;37m00:00:06\u001b[0m at \u001b[0;32m3.75MiB/s\u001b[0m\n",
            "[ExtractAudio] Destination: /content/drive/MyDrive/dhivehi_audios/AdtFTnhmIGM.wav\n",
            "Deleting original file /content/drive/MyDrive/dhivehi_audios/AdtFTnhmIGM.webm (pass -k to keep)\n",
            "[youtube] Extracting URL: https://www.youtube.com/watch?v=Pfx_3cz2-Uo\n",
            "[youtube] Pfx_3cz2-Uo: Downloading webpage\n",
            "[youtube] Pfx_3cz2-Uo: Downloading tv simply player API JSON\n",
            "[youtube] Pfx_3cz2-Uo: Downloading tv client config\n",
            "[youtube] Pfx_3cz2-Uo: Downloading tv player API JSON\n",
            "[youtube] Pfx_3cz2-Uo: Downloading player 9bae1a63-main\n",
            "[info] Pfx_3cz2-Uo: Downloading 1 format(s): 251\n",
            "[download] Sleeping 3.00 seconds as required by the site...\n",
            "[download] Destination: /content/drive/MyDrive/dhivehi_audios/Pfx_3cz2-Uo.webm\n",
            "\u001b[K[download] 100% of   65.30MiB in \u001b[1;37m00:01:05\u001b[0m at \u001b[0;32m1015.24KiB/s\u001b[0m\n",
            "[ExtractAudio] Destination: /content/drive/MyDrive/dhivehi_audios/Pfx_3cz2-Uo.wav\n",
            "Deleting original file /content/drive/MyDrive/dhivehi_audios/Pfx_3cz2-Uo.webm (pass -k to keep)\n",
            "[youtube] Extracting URL: https://www.youtube.com/watch?v=PmQ3XfsOQSM\n",
            "[youtube] PmQ3XfsOQSM: Downloading webpage\n",
            "[youtube] PmQ3XfsOQSM: Downloading tv simply player API JSON\n",
            "[youtube] PmQ3XfsOQSM: Downloading tv client config\n",
            "[youtube] PmQ3XfsOQSM: Downloading tv player API JSON\n",
            "[info] PmQ3XfsOQSM: Downloading 1 format(s): 251\n",
            "[download] Sleeping 3.00 seconds as required by the site...\n",
            "[download] Destination: /content/drive/MyDrive/dhivehi_audios/PmQ3XfsOQSM.webm\n",
            "\u001b[K[download] 100% of  961.73KiB in \u001b[1;37m00:00:00\u001b[0m at \u001b[0;32m1.13MiB/s\u001b[0m\n",
            "[ExtractAudio] Destination: /content/drive/MyDrive/dhivehi_audios/PmQ3XfsOQSM.wav\n",
            "Deleting original file /content/drive/MyDrive/dhivehi_audios/PmQ3XfsOQSM.webm (pass -k to keep)\n",
            "[youtube] Extracting URL: https://www.youtube.com/watch?v=_lze10rTZVQ\n",
            "[youtube] _lze10rTZVQ: Downloading webpage\n",
            "[youtube] _lze10rTZVQ: Downloading tv simply player API JSON\n",
            "[youtube] _lze10rTZVQ: Downloading tv client config\n",
            "[youtube] _lze10rTZVQ: Downloading tv player API JSON\n",
            "[info] _lze10rTZVQ: Downloading 1 format(s): 251\n",
            "[download] Sleeping 1.00 seconds as required by the site...\n",
            "[download] Destination: /content/drive/MyDrive/dhivehi_audios/_lze10rTZVQ.webm\n",
            "\u001b[K[download] 100% of   24.72MiB in \u001b[1;37m00:00:03\u001b[0m at \u001b[0;32m7.39MiB/s\u001b[0m\n",
            "[ExtractAudio] Destination: /content/drive/MyDrive/dhivehi_audios/_lze10rTZVQ.wav\n",
            "Deleting original file /content/drive/MyDrive/dhivehi_audios/_lze10rTZVQ.webm (pass -k to keep)\n",
            "[youtube] Extracting URL: https://www.youtube.com/watch?v=WsDPnAtPDRo\n",
            "[youtube] WsDPnAtPDRo: Downloading webpage\n",
            "[youtube] WsDPnAtPDRo: Downloading tv simply player API JSON\n",
            "[youtube] WsDPnAtPDRo: Downloading tv client config\n",
            "[youtube] WsDPnAtPDRo: Downloading tv player API JSON\n",
            "[info] WsDPnAtPDRo: Downloading 1 format(s): 251\n",
            "[download] Sleeping 4.00 seconds as required by the site...\n",
            "[download] Destination: /content/drive/MyDrive/dhivehi_audios/WsDPnAtPDRo.webm\n",
            "\u001b[K[download] 100% of   75.55MiB in \u001b[1;37m00:00:12\u001b[0m at \u001b[0;32m5.83MiB/s\u001b[0m\n",
            "[ExtractAudio] Destination: /content/drive/MyDrive/dhivehi_audios/WsDPnAtPDRo.wav\n",
            "Deleting original file /content/drive/MyDrive/dhivehi_audios/WsDPnAtPDRo.webm (pass -k to keep)\n",
            "[youtube] Extracting URL: https://www.youtube.com/watch?v=ibaiMau81Ts\n",
            "[youtube] ibaiMau81Ts: Downloading webpage\n",
            "[youtube] ibaiMau81Ts: Downloading tv simply player API JSON\n",
            "[youtube] ibaiMau81Ts: Downloading tv client config\n",
            "[youtube] ibaiMau81Ts: Downloading tv player API JSON\n",
            "[info] ibaiMau81Ts: Downloading 1 format(s): 251\n",
            "[download] Sleeping 3.00 seconds as required by the site...\n",
            "[download] Destination: /content/drive/MyDrive/dhivehi_audios/ibaiMau81Ts.webm\n",
            "\u001b[K[download] 100% of   71.60MiB in \u001b[1;37m00:00:01\u001b[0m at \u001b[0;32m51.58MiB/s\u001b[0m\n",
            "[ExtractAudio] Destination: /content/drive/MyDrive/dhivehi_audios/ibaiMau81Ts.wav\n",
            "Deleting original file /content/drive/MyDrive/dhivehi_audios/ibaiMau81Ts.webm (pass -k to keep)\n",
            "[youtube] Extracting URL: https://www.youtube.com/watch?v=vMYsIBi3ueo\n",
            "[youtube] vMYsIBi3ueo: Downloading webpage\n",
            "[youtube] vMYsIBi3ueo: Downloading tv simply player API JSON\n",
            "[youtube] vMYsIBi3ueo: Downloading tv client config\n",
            "[youtube] vMYsIBi3ueo: Downloading tv player API JSON\n",
            "[info] vMYsIBi3ueo: Downloading 1 format(s): 251\n",
            "[download] Sleeping 3.00 seconds as required by the site...\n",
            "[download] Destination: /content/drive/MyDrive/dhivehi_audios/vMYsIBi3ueo.webm\n",
            "\u001b[K[download] 100% of   54.51MiB in \u001b[1;37m00:00:01\u001b[0m at \u001b[0;32m44.68MiB/s\u001b[0m\n",
            "[ExtractAudio] Destination: /content/drive/MyDrive/dhivehi_audios/vMYsIBi3ueo.wav\n",
            "Deleting original file /content/drive/MyDrive/dhivehi_audios/vMYsIBi3ueo.webm (pass -k to keep)\n",
            "[youtube] Extracting URL: https://www.youtube.com/watch?v=6-748dE3RZ0\n",
            "[youtube] 6-748dE3RZ0: Downloading webpage\n",
            "[youtube] 6-748dE3RZ0: Downloading tv simply player API JSON\n",
            "[youtube] 6-748dE3RZ0: Downloading tv client config\n",
            "[youtube] 6-748dE3RZ0: Downloading tv player API JSON\n",
            "[info] 6-748dE3RZ0: Downloading 1 format(s): 251\n",
            "[download] Sleeping 3.00 seconds as required by the site...\n",
            "[download] Destination: /content/drive/MyDrive/dhivehi_audios/6-748dE3RZ0.webm\n",
            "\u001b[K[download] 100% of   17.45MiB in \u001b[1;37m00:00:01\u001b[0m at \u001b[0;32m10.73MiB/s\u001b[0m\n",
            "[ExtractAudio] Destination: /content/drive/MyDrive/dhivehi_audios/6-748dE3RZ0.wav\n",
            "Deleting original file /content/drive/MyDrive/dhivehi_audios/6-748dE3RZ0.webm (pass -k to keep)\n",
            "[youtube] Extracting URL: https://www.youtube.com/watch?v=gho6tzNLsDg\n",
            "[youtube] gho6tzNLsDg: Downloading webpage\n",
            "[youtube] gho6tzNLsDg: Downloading tv simply player API JSON\n",
            "[youtube] gho6tzNLsDg: Downloading tv client config\n",
            "[youtube] gho6tzNLsDg: Downloading tv player API JSON\n",
            "[info] gho6tzNLsDg: Downloading 1 format(s): 251\n",
            "[download] Sleeping 3.00 seconds as required by the site...\n",
            "[download] Destination: /content/drive/MyDrive/dhivehi_audios/gho6tzNLsDg.webm\n",
            "\u001b[K[download] 100% of   66.75MiB in \u001b[1;37m00:00:16\u001b[0m at \u001b[0;32m4.05MiB/s\u001b[0m\n",
            "[ExtractAudio] Destination: /content/drive/MyDrive/dhivehi_audios/gho6tzNLsDg.wav\n",
            "Deleting original file /content/drive/MyDrive/dhivehi_audios/gho6tzNLsDg.webm (pass -k to keep)\n",
            "[youtube] Extracting URL: https://www.youtube.com/watch?v=RLnOC44E8Lo\n",
            "[youtube] RLnOC44E8Lo: Downloading webpage\n",
            "[youtube] RLnOC44E8Lo: Downloading tv simply player API JSON\n",
            "[youtube] RLnOC44E8Lo: Downloading tv client config\n",
            "[youtube] RLnOC44E8Lo: Downloading tv player API JSON\n",
            "[info] RLnOC44E8Lo: Downloading 1 format(s): 251\n",
            "[download] Sleeping 2.00 seconds as required by the site...\n",
            "[download] Destination: /content/drive/MyDrive/dhivehi_audios/RLnOC44E8Lo.webm\n",
            "\u001b[K[download] 100% of   57.92MiB in \u001b[1;37m00:00:01\u001b[0m at \u001b[0;32m43.30MiB/s\u001b[0m\n",
            "[ExtractAudio] Destination: /content/drive/MyDrive/dhivehi_audios/RLnOC44E8Lo.wav\n",
            "Deleting original file /content/drive/MyDrive/dhivehi_audios/RLnOC44E8Lo.webm (pass -k to keep)\n",
            "[youtube] Extracting URL: https://www.youtube.com/watch?v=xXmPFVGlbJM\n",
            "[youtube] xXmPFVGlbJM: Downloading webpage\n",
            "[youtube] xXmPFVGlbJM: Downloading tv simply player API JSON\n",
            "[youtube] xXmPFVGlbJM: Downloading tv client config\n",
            "[youtube] xXmPFVGlbJM: Downloading tv player API JSON\n",
            "[info] xXmPFVGlbJM: Downloading 1 format(s): 251\n",
            "[download] Sleeping 4.00 seconds as required by the site...\n",
            "[download] Destination: /content/drive/MyDrive/dhivehi_audios/xXmPFVGlbJM.webm\n",
            "\u001b[K[download] 100% of   54.27MiB in \u001b[1;37m00:00:19\u001b[0m at \u001b[0;32m2.74MiB/s\u001b[0m\n",
            "[ExtractAudio] Destination: /content/drive/MyDrive/dhivehi_audios/xXmPFVGlbJM.wav\n",
            "Deleting original file /content/drive/MyDrive/dhivehi_audios/xXmPFVGlbJM.webm (pass -k to keep)\n",
            "[youtube] Extracting URL: https://www.youtube.com/watch?v=Hq1HXHWlo6Q\n",
            "[youtube] Hq1HXHWlo6Q: Downloading webpage\n",
            "[youtube] Hq1HXHWlo6Q: Downloading tv simply player API JSON\n",
            "[youtube] Hq1HXHWlo6Q: Downloading tv client config\n",
            "[youtube] Hq1HXHWlo6Q: Downloading tv player API JSON\n",
            "[info] Hq1HXHWlo6Q: Downloading 1 format(s): 251\n",
            "[download] Sleeping 3.00 seconds as required by the site...\n",
            "[download] Destination: /content/drive/MyDrive/dhivehi_audios/Hq1HXHWlo6Q.webm\n",
            "\u001b[K[download] 100% of    5.50MiB in \u001b[1;37m00:00:00\u001b[0m at \u001b[0;32m5.77MiB/s\u001b[0m\n",
            "[ExtractAudio] Destination: /content/drive/MyDrive/dhivehi_audios/Hq1HXHWlo6Q.wav\n",
            "Deleting original file /content/drive/MyDrive/dhivehi_audios/Hq1HXHWlo6Q.webm (pass -k to keep)\n",
            "[youtube] Extracting URL: https://www.youtube.com/watch?v=3pMQWB4-ek4\n",
            "[youtube] 3pMQWB4-ek4: Downloading webpage\n",
            "[youtube] 3pMQWB4-ek4: Downloading tv simply player API JSON\n",
            "[youtube] 3pMQWB4-ek4: Downloading tv client config\n",
            "[youtube] 3pMQWB4-ek4: Downloading tv player API JSON\n",
            "[info] 3pMQWB4-ek4: Downloading 1 format(s): 251\n",
            "[download] Sleeping 4.00 seconds as required by the site...\n",
            "[download] Destination: /content/drive/MyDrive/dhivehi_audios/3pMQWB4-ek4.webm\n",
            "\u001b[K[download] 100% of   36.35MiB in \u001b[1;37m00:00:04\u001b[0m at \u001b[0;32m8.18MiB/s\u001b[0m\n",
            "[ExtractAudio] Destination: /content/drive/MyDrive/dhivehi_audios/3pMQWB4-ek4.wav\n",
            "Deleting original file /content/drive/MyDrive/dhivehi_audios/3pMQWB4-ek4.webm (pass -k to keep)\n",
            "[youtube] Extracting URL: https://www.youtube.com/watch?v=aHF7nsMAv1Y\n",
            "[youtube] aHF7nsMAv1Y: Downloading webpage\n",
            "[youtube] aHF7nsMAv1Y: Downloading tv simply player API JSON\n",
            "[youtube] aHF7nsMAv1Y: Downloading tv client config\n",
            "[youtube] aHF7nsMAv1Y: Downloading tv player API JSON\n",
            "[info] aHF7nsMAv1Y: Downloading 1 format(s): 251\n",
            "[download] Sleeping 4.00 seconds as required by the site...\n",
            "[download] Destination: /content/drive/MyDrive/dhivehi_audios/aHF7nsMAv1Y.webm\n",
            "\u001b[K[download] 100% of    2.84MiB in \u001b[1;37m00:00:00\u001b[0m at \u001b[0;32m10.87MiB/s\u001b[0m\n",
            "[ExtractAudio] Destination: /content/drive/MyDrive/dhivehi_audios/aHF7nsMAv1Y.wav\n",
            "Deleting original file /content/drive/MyDrive/dhivehi_audios/aHF7nsMAv1Y.webm (pass -k to keep)\n",
            "[youtube] Extracting URL: https://www.youtube.com/watch?v=9swQy86Z-Bs\n",
            "[youtube] 9swQy86Z-Bs: Downloading webpage\n",
            "[youtube] 9swQy86Z-Bs: Downloading tv simply player API JSON\n",
            "[youtube] 9swQy86Z-Bs: Downloading tv client config\n",
            "[youtube] 9swQy86Z-Bs: Downloading tv player API JSON\n",
            "[info] 9swQy86Z-Bs: Downloading 1 format(s): 251\n",
            "[download] Sleeping 3.00 seconds as required by the site...\n",
            "[download] Destination: /content/drive/MyDrive/dhivehi_audios/9swQy86Z-Bs.webm\n",
            "\u001b[K[download] 100% of   45.76MiB in \u001b[1;37m00:00:01\u001b[0m at \u001b[0;32m38.00MiB/s\u001b[0m\n",
            "[ExtractAudio] Destination: /content/drive/MyDrive/dhivehi_audios/9swQy86Z-Bs.wav\n",
            "Deleting original file /content/drive/MyDrive/dhivehi_audios/9swQy86Z-Bs.webm (pass -k to keep)\n",
            "[youtube] Extracting URL: https://www.youtube.com/watch?v=J9PzdmswVMU\n",
            "[youtube] J9PzdmswVMU: Downloading webpage\n",
            "[youtube] J9PzdmswVMU: Downloading tv simply player API JSON\n",
            "[youtube] J9PzdmswVMU: Downloading tv client config\n",
            "[youtube] J9PzdmswVMU: Downloading tv player API JSON\n",
            "[info] J9PzdmswVMU: Downloading 1 format(s): 251\n",
            "[download] Sleeping 4.00 seconds as required by the site...\n",
            "[download] Destination: /content/drive/MyDrive/dhivehi_audios/J9PzdmswVMU.webm\n",
            "\u001b[K[download] 100% of  131.92MiB in \u001b[1;37m00:00:23\u001b[0m at \u001b[0;32m5.73MiB/s\u001b[0m\n",
            "[ExtractAudio] Destination: /content/drive/MyDrive/dhivehi_audios/J9PzdmswVMU.wav\n",
            "Deleting original file /content/drive/MyDrive/dhivehi_audios/J9PzdmswVMU.webm (pass -k to keep)\n",
            "[youtube] Extracting URL: https://www.youtube.com/watch?v=DV9MdtGNbP8\n",
            "[youtube] DV9MdtGNbP8: Downloading webpage\n",
            "[youtube] DV9MdtGNbP8: Downloading tv simply player API JSON\n",
            "[youtube] DV9MdtGNbP8: Downloading tv client config\n",
            "[youtube] DV9MdtGNbP8: Downloading tv player API JSON\n",
            "[info] DV9MdtGNbP8: Downloading 1 format(s): 251\n",
            "[download] Sleeping 4.00 seconds as required by the site...\n",
            "[download] Destination: /content/drive/MyDrive/dhivehi_audios/DV9MdtGNbP8.webm\n",
            "\u001b[K[download] 100% of   44.64MiB in \u001b[1;37m00:00:02\u001b[0m at \u001b[0;32m16.14MiB/s\u001b[0m\n",
            "[ExtractAudio] Destination: /content/drive/MyDrive/dhivehi_audios/DV9MdtGNbP8.wav\n",
            "Deleting original file /content/drive/MyDrive/dhivehi_audios/DV9MdtGNbP8.webm (pass -k to keep)\n",
            "[youtube] Extracting URL: https://www.youtube.com/watch?v=uRPrHIs8D44\n",
            "[youtube] uRPrHIs8D44: Downloading webpage\n",
            "[youtube] uRPrHIs8D44: Downloading tv simply player API JSON\n",
            "[youtube] uRPrHIs8D44: Downloading tv client config\n",
            "[youtube] uRPrHIs8D44: Downloading tv player API JSON\n",
            "[info] uRPrHIs8D44: Downloading 1 format(s): 251\n",
            "[download] Sleeping 3.00 seconds as required by the site...\n",
            "[download] Destination: /content/drive/MyDrive/dhivehi_audios/uRPrHIs8D44.webm\n",
            "\u001b[K[download] 100% of  633.36KiB in \u001b[1;37m00:00:00\u001b[0m at \u001b[0;32m2.90MiB/s\u001b[0m\n",
            "[ExtractAudio] Destination: /content/drive/MyDrive/dhivehi_audios/uRPrHIs8D44.wav\n",
            "Deleting original file /content/drive/MyDrive/dhivehi_audios/uRPrHIs8D44.webm (pass -k to keep)\n",
            "[youtube] Extracting URL: https://www.youtube.com/watch?v=Fo9YlPNIVcw\n",
            "[youtube] Fo9YlPNIVcw: Downloading webpage\n",
            "[youtube] Fo9YlPNIVcw: Downloading tv simply player API JSON\n",
            "[youtube] Fo9YlPNIVcw: Downloading tv client config\n",
            "[youtube] Fo9YlPNIVcw: Downloading tv player API JSON\n",
            "[info] Fo9YlPNIVcw: Downloading 1 format(s): 251\n",
            "[download] Sleeping 3.00 seconds as required by the site...\n",
            "[download] Destination: /content/drive/MyDrive/dhivehi_audios/Fo9YlPNIVcw.webm\n",
            "\u001b[K[download] 100% of  134.42MiB in \u001b[1;37m00:00:14\u001b[0m at \u001b[0;32m9.25MiB/s\u001b[0m\n",
            "[ExtractAudio] Destination: /content/drive/MyDrive/dhivehi_audios/Fo9YlPNIVcw.wav\n",
            "Deleting original file /content/drive/MyDrive/dhivehi_audios/Fo9YlPNIVcw.webm (pass -k to keep)\n",
            "[youtube] Extracting URL: https://www.youtube.com/watch?v=Shdn58IKK3o\n",
            "[youtube] Shdn58IKK3o: Downloading webpage\n",
            "[youtube] Shdn58IKK3o: Downloading tv simply player API JSON\n",
            "[youtube] Shdn58IKK3o: Downloading tv client config\n",
            "[youtube] Shdn58IKK3o: Downloading tv player API JSON\n",
            "[info] Shdn58IKK3o: Downloading 1 format(s): 251-1\n",
            "[download] Sleeping 3.00 seconds as required by the site...\n",
            "[download] Destination: /content/drive/MyDrive/dhivehi_audios/Shdn58IKK3o.webm\n",
            "\u001b[K[download] 100% of   48.78MiB in \u001b[1;37m00:00:03\u001b[0m at \u001b[0;32m15.78MiB/s\u001b[0m\n",
            "[ExtractAudio] Destination: /content/drive/MyDrive/dhivehi_audios/Shdn58IKK3o.wav\n",
            "Deleting original file /content/drive/MyDrive/dhivehi_audios/Shdn58IKK3o.webm (pass -k to keep)\n",
            "[youtube] Extracting URL: https://www.youtube.com/watch?v=23gRqCSWxTI\n",
            "[youtube] 23gRqCSWxTI: Downloading webpage\n",
            "[youtube] 23gRqCSWxTI: Downloading tv simply player API JSON\n",
            "[youtube] 23gRqCSWxTI: Downloading tv client config\n",
            "[youtube] 23gRqCSWxTI: Downloading tv player API JSON\n",
            "[info] 23gRqCSWxTI: Downloading 1 format(s): 251\n",
            "[download] Sleeping 4.00 seconds as required by the site...\n",
            "[download] Destination: /content/drive/MyDrive/dhivehi_audios/23gRqCSWxTI.webm\n",
            "\u001b[K[download] 100% of   60.50MiB in \u001b[1;37m00:00:07\u001b[0m at \u001b[0;32m8.21MiB/s\u001b[0m\n",
            "[ExtractAudio] Destination: /content/drive/MyDrive/dhivehi_audios/23gRqCSWxTI.wav\n",
            "Deleting original file /content/drive/MyDrive/dhivehi_audios/23gRqCSWxTI.webm (pass -k to keep)\n",
            "[youtube] Extracting URL: https://www.youtube.com/watch?v=bbRAvMERnPI\n",
            "[youtube] bbRAvMERnPI: Downloading webpage\n",
            "[youtube] bbRAvMERnPI: Downloading tv simply player API JSON\n",
            "[youtube] bbRAvMERnPI: Downloading tv client config\n",
            "[youtube] bbRAvMERnPI: Downloading tv player API JSON\n",
            "[info] bbRAvMERnPI: Downloading 1 format(s): 251\n",
            "[download] Sleeping 4.00 seconds as required by the site...\n",
            "[download] Destination: /content/drive/MyDrive/dhivehi_audios/bbRAvMERnPI.webm\n",
            "\u001b[K[download] 100% of  130.40MiB in \u001b[1;37m00:00:37\u001b[0m at \u001b[0;32m3.46MiB/s\u001b[0m\n",
            "[ExtractAudio] Destination: /content/drive/MyDrive/dhivehi_audios/bbRAvMERnPI.wav\n",
            "Deleting original file /content/drive/MyDrive/dhivehi_audios/bbRAvMERnPI.webm (pass -k to keep)\n",
            "[youtube] Extracting URL: https://www.youtube.com/watch?v=xx6uCpYeyF0\n",
            "[youtube] xx6uCpYeyF0: Downloading webpage\n",
            "[youtube] xx6uCpYeyF0: Downloading tv simply player API JSON\n",
            "[youtube] xx6uCpYeyF0: Downloading tv client config\n",
            "[youtube] xx6uCpYeyF0: Downloading tv player API JSON\n",
            "[info] xx6uCpYeyF0: Downloading 1 format(s): 251\n",
            "[download] Sleeping 4.00 seconds as required by the site...\n",
            "[download] Destination: /content/drive/MyDrive/dhivehi_audios/xx6uCpYeyF0.webm\n",
            "\u001b[K[download] 100% of   34.20MiB in \u001b[1;37m00:00:10\u001b[0m at \u001b[0;32m3.17MiB/s\u001b[0m\n",
            "[ExtractAudio] Destination: /content/drive/MyDrive/dhivehi_audios/xx6uCpYeyF0.wav\n",
            "Deleting original file /content/drive/MyDrive/dhivehi_audios/xx6uCpYeyF0.webm (pass -k to keep)\n",
            "[youtube] Extracting URL: https://www.youtube.com/watch?v=pzVYZDrw0EM\n",
            "[youtube] pzVYZDrw0EM: Downloading webpage\n",
            "[youtube] pzVYZDrw0EM: Downloading tv simply player API JSON\n",
            "[youtube] pzVYZDrw0EM: Downloading tv client config\n",
            "[youtube] pzVYZDrw0EM: Downloading tv player API JSON\n",
            "[info] pzVYZDrw0EM: Downloading 1 format(s): 251\n",
            "[download] Sleeping 4.00 seconds as required by the site...\n",
            "[download] Destination: /content/drive/MyDrive/dhivehi_audios/pzVYZDrw0EM.webm\n",
            "\u001b[K[download] 100% of   33.19MiB in \u001b[1;37m00:00:10\u001b[0m at \u001b[0;32m3.18MiB/s\u001b[0m\n",
            "[ExtractAudio] Destination: /content/drive/MyDrive/dhivehi_audios/pzVYZDrw0EM.wav\n",
            "Deleting original file /content/drive/MyDrive/dhivehi_audios/pzVYZDrw0EM.webm (pass -k to keep)\n",
            "[youtube] Extracting URL: https://www.youtube.com/watch?v=jPWyEAc05Q8\n",
            "[youtube] jPWyEAc05Q8: Downloading webpage\n",
            "[youtube] jPWyEAc05Q8: Downloading tv simply player API JSON\n",
            "[youtube] jPWyEAc05Q8: Downloading tv client config\n",
            "[youtube] jPWyEAc05Q8: Downloading tv player API JSON\n",
            "[info] jPWyEAc05Q8: Downloading 1 format(s): 251\n",
            "[download] Sleeping 3.00 seconds as required by the site...\n",
            "[download] Destination: /content/drive/MyDrive/dhivehi_audios/jPWyEAc05Q8.webm\n",
            "\u001b[K[download] 100% of    3.26MiB in \u001b[1;37m00:00:00\u001b[0m at \u001b[0;32m3.32MiB/s\u001b[0m\n",
            "[ExtractAudio] Destination: /content/drive/MyDrive/dhivehi_audios/jPWyEAc05Q8.wav\n",
            "Deleting original file /content/drive/MyDrive/dhivehi_audios/jPWyEAc05Q8.webm (pass -k to keep)\n",
            "[youtube] Extracting URL: https://www.youtube.com/watch?v=HzYbLoCHtL8\n",
            "[youtube] HzYbLoCHtL8: Downloading webpage\n",
            "[youtube] HzYbLoCHtL8: Downloading tv simply player API JSON\n",
            "[youtube] HzYbLoCHtL8: Downloading tv client config\n",
            "[youtube] HzYbLoCHtL8: Downloading tv player API JSON\n",
            "[info] HzYbLoCHtL8: Downloading 1 format(s): 251\n",
            "[download] Sleeping 4.00 seconds as required by the site...\n",
            "[download] Destination: /content/drive/MyDrive/dhivehi_audios/HzYbLoCHtL8.webm\n",
            "\u001b[K[download] 100% of   53.31MiB in \u001b[1;37m00:00:01\u001b[0m at \u001b[0;32m41.94MiB/s\u001b[0m\n",
            "[ExtractAudio] Destination: /content/drive/MyDrive/dhivehi_audios/HzYbLoCHtL8.wav\n",
            "Deleting original file /content/drive/MyDrive/dhivehi_audios/HzYbLoCHtL8.webm (pass -k to keep)\n",
            "[youtube] Extracting URL: https://www.youtube.com/watch?v=UcNDA5Btn_A\n",
            "[youtube] UcNDA5Btn_A: Downloading webpage\n",
            "[youtube] UcNDA5Btn_A: Downloading tv simply player API JSON\n",
            "[youtube] UcNDA5Btn_A: Downloading tv client config\n",
            "[youtube] UcNDA5Btn_A: Downloading tv player API JSON\n",
            "[info] UcNDA5Btn_A: Downloading 1 format(s): 251\n",
            "[download] Sleeping 3.00 seconds as required by the site...\n",
            "[download] Destination: /content/drive/MyDrive/dhivehi_audios/UcNDA5Btn_A.webm\n",
            "\u001b[K[download] 100% of  128.33MiB in \u001b[1;37m00:00:17\u001b[0m at \u001b[0;32m7.17MiB/s\u001b[0m\n",
            "[ExtractAudio] Destination: /content/drive/MyDrive/dhivehi_audios/UcNDA5Btn_A.wav\n",
            "Deleting original file /content/drive/MyDrive/dhivehi_audios/UcNDA5Btn_A.webm (pass -k to keep)\n",
            "[youtube] Extracting URL: https://www.youtube.com/watch?v=7_jvCwNVp68\n",
            "[youtube] 7_jvCwNVp68: Downloading webpage\n",
            "[youtube] 7_jvCwNVp68: Downloading tv simply player API JSON\n",
            "[youtube] 7_jvCwNVp68: Downloading tv client config\n",
            "[youtube] 7_jvCwNVp68: Downloading tv player API JSON\n",
            "[info] 7_jvCwNVp68: Downloading 1 format(s): 251\n",
            "[download] Sleeping 3.00 seconds as required by the site...\n",
            "[download] Destination: /content/drive/MyDrive/dhivehi_audios/7_jvCwNVp68.webm\n",
            "\u001b[K[download] 100% of   20.14MiB in \u001b[1;37m00:00:04\u001b[0m at \u001b[0;32m4.34MiB/s\u001b[0m\n",
            "[ExtractAudio] Destination: /content/drive/MyDrive/dhivehi_audios/7_jvCwNVp68.wav\n",
            "Deleting original file /content/drive/MyDrive/dhivehi_audios/7_jvCwNVp68.webm (pass -k to keep)\n",
            "[youtube] Extracting URL: https://www.youtube.com/watch?v=lOyAb433RgI\n",
            "[youtube] lOyAb433RgI: Downloading webpage\n",
            "[youtube] lOyAb433RgI: Downloading tv simply player API JSON\n",
            "[youtube] lOyAb433RgI: Downloading tv client config\n",
            "[youtube] lOyAb433RgI: Downloading tv player API JSON\n",
            "[info] lOyAb433RgI: Downloading 1 format(s): 251\n",
            "[download] Sleeping 4.00 seconds as required by the site...\n",
            "[download] Destination: /content/drive/MyDrive/dhivehi_audios/lOyAb433RgI.webm\n",
            "\u001b[K[download] 100% of   71.31MiB in \u001b[1;37m00:00:07\u001b[0m at \u001b[0;32m9.76MiB/s\u001b[0m\n",
            "[ExtractAudio] Destination: /content/drive/MyDrive/dhivehi_audios/lOyAb433RgI.wav\n",
            "Deleting original file /content/drive/MyDrive/dhivehi_audios/lOyAb433RgI.webm (pass -k to keep)\n",
            "[youtube] Extracting URL: https://www.youtube.com/watch?v=VKEIG3a8URw\n",
            "[youtube] VKEIG3a8URw: Downloading webpage\n",
            "[youtube] VKEIG3a8URw: Downloading tv simply player API JSON\n",
            "[youtube] VKEIG3a8URw: Downloading tv client config\n",
            "[youtube] VKEIG3a8URw: Downloading tv player API JSON\n",
            "[info] VKEIG3a8URw: Downloading 1 format(s): 251\n",
            "[download] Sleeping 4.00 seconds as required by the site...\n",
            "[download] Destination: /content/drive/MyDrive/dhivehi_audios/VKEIG3a8URw.webm\n",
            "\u001b[K[download] 100% of   83.18MiB in \u001b[1;37m00:00:06\u001b[0m at \u001b[0;32m12.40MiB/s\u001b[0m\n",
            "[ExtractAudio] Destination: /content/drive/MyDrive/dhivehi_audios/VKEIG3a8URw.wav\n",
            "Deleting original file /content/drive/MyDrive/dhivehi_audios/VKEIG3a8URw.webm (pass -k to keep)\n",
            "[youtube] Extracting URL: https://www.youtube.com/watch?v=qJOXSFOp3Jk\n",
            "[youtube] qJOXSFOp3Jk: Downloading webpage\n",
            "[youtube] qJOXSFOp3Jk: Downloading tv simply player API JSON\n",
            "[youtube] qJOXSFOp3Jk: Downloading tv client config\n",
            "[youtube] qJOXSFOp3Jk: Downloading tv player API JSON\n",
            "[info] qJOXSFOp3Jk: Downloading 1 format(s): 251\n",
            "[download] Sleeping 4.00 seconds as required by the site...\n",
            "[download] Destination: /content/drive/MyDrive/dhivehi_audios/qJOXSFOp3Jk.webm\n",
            "\u001b[K[download] 100% of   33.75MiB in \u001b[1;37m00:00:04\u001b[0m at \u001b[0;32m6.76MiB/s\u001b[0m\n",
            "[ExtractAudio] Destination: /content/drive/MyDrive/dhivehi_audios/qJOXSFOp3Jk.wav\n",
            "Deleting original file /content/drive/MyDrive/dhivehi_audios/qJOXSFOp3Jk.webm (pass -k to keep)\n",
            "[youtube] Extracting URL: https://www.youtube.com/watch?v=l_F3ZyQDNxA\n",
            "[youtube] l_F3ZyQDNxA: Downloading webpage\n",
            "[youtube] l_F3ZyQDNxA: Downloading tv simply player API JSON\n",
            "[youtube] l_F3ZyQDNxA: Downloading tv client config\n",
            "[youtube] l_F3ZyQDNxA: Downloading tv player API JSON\n",
            "[info] l_F3ZyQDNxA: Downloading 1 format(s): 251\n",
            "[download] Sleeping 3.00 seconds as required by the site...\n",
            "[download] Destination: /content/drive/MyDrive/dhivehi_audios/l_F3ZyQDNxA.webm\n",
            "\u001b[K[download] 100% of   67.93MiB in \u001b[1;37m00:00:17\u001b[0m at \u001b[0;32m3.79MiB/s\u001b[0m\n",
            "[ExtractAudio] Destination: /content/drive/MyDrive/dhivehi_audios/l_F3ZyQDNxA.wav\n",
            "Deleting original file /content/drive/MyDrive/dhivehi_audios/l_F3ZyQDNxA.webm (pass -k to keep)\n",
            "[youtube] Extracting URL: https://www.youtube.com/watch?v=g40745pRP-8\n",
            "[youtube] g40745pRP-8: Downloading webpage\n",
            "[youtube] g40745pRP-8: Downloading tv simply player API JSON\n",
            "[youtube] g40745pRP-8: Downloading tv client config\n",
            "[youtube] g40745pRP-8: Downloading tv player API JSON\n",
            "[info] g40745pRP-8: Downloading 1 format(s): 251\n",
            "[download] Sleeping 2.00 seconds as required by the site...\n",
            "[download] Destination: /content/drive/MyDrive/dhivehi_audios/g40745pRP-8.webm\n",
            "\u001b[K[download] 100% of   84.70MiB in \u001b[1;37m00:00:12\u001b[0m at \u001b[0;32m7.01MiB/s\u001b[0m\n",
            "[ExtractAudio] Destination: /content/drive/MyDrive/dhivehi_audios/g40745pRP-8.wav\n",
            "Deleting original file /content/drive/MyDrive/dhivehi_audios/g40745pRP-8.webm (pass -k to keep)\n",
            "[youtube] Extracting URL: https://www.youtube.com/watch?v=Sc0ilLhXcbc\n",
            "[youtube] Sc0ilLhXcbc: Downloading webpage\n",
            "[youtube] Sc0ilLhXcbc: Downloading tv simply player API JSON\n",
            "[youtube] Sc0ilLhXcbc: Downloading tv client config\n",
            "[youtube] Sc0ilLhXcbc: Downloading tv player API JSON\n",
            "[info] Sc0ilLhXcbc: Downloading 1 format(s): 251\n",
            "[download] Sleeping 3.00 seconds as required by the site...\n",
            "[download] Destination: /content/drive/MyDrive/dhivehi_audios/Sc0ilLhXcbc.webm\n",
            "\u001b[K[download] 100% of    5.17MiB in \u001b[1;37m00:00:01\u001b[0m at \u001b[0;32m4.37MiB/s\u001b[0m\n",
            "[ExtractAudio] Destination: /content/drive/MyDrive/dhivehi_audios/Sc0ilLhXcbc.wav\n",
            "Deleting original file /content/drive/MyDrive/dhivehi_audios/Sc0ilLhXcbc.webm (pass -k to keep)\n",
            "[youtube] Extracting URL: https://www.youtube.com/watch?v=zFYLu8NhVdw\n",
            "[youtube] zFYLu8NhVdw: Downloading webpage\n",
            "[youtube] zFYLu8NhVdw: Downloading tv simply player API JSON\n",
            "[youtube] zFYLu8NhVdw: Downloading tv client config\n",
            "[youtube] zFYLu8NhVdw: Downloading tv player API JSON\n",
            "[info] zFYLu8NhVdw: Downloading 1 format(s): 251-9\n",
            "[download] Destination: /content/drive/MyDrive/dhivehi_audios/zFYLu8NhVdw.webm\n",
            "\u001b[K[download] 100% of   40.05MiB in \u001b[1;37m00:00:01\u001b[0m at \u001b[0;32m32.55MiB/s\u001b[0m\n",
            "[ExtractAudio] Destination: /content/drive/MyDrive/dhivehi_audios/zFYLu8NhVdw.wav\n",
            "Deleting original file /content/drive/MyDrive/dhivehi_audios/zFYLu8NhVdw.webm (pass -k to keep)\n",
            "[youtube] Extracting URL: https://www.youtube.com/watch?v=cn8UM26fBwA\n",
            "[youtube] cn8UM26fBwA: Downloading webpage\n",
            "[youtube] cn8UM26fBwA: Downloading tv simply player API JSON\n",
            "[youtube] cn8UM26fBwA: Downloading tv client config\n",
            "[youtube] cn8UM26fBwA: Downloading tv player API JSON\n",
            "[info] cn8UM26fBwA: Downloading 1 format(s): 251\n",
            "[download] Sleeping 2.00 seconds as required by the site...\n",
            "[download] Destination: /content/drive/MyDrive/dhivehi_audios/cn8UM26fBwA.webm\n",
            "\u001b[K[download] 100% of    6.27MiB in \u001b[1;37m00:00:01\u001b[0m at \u001b[0;32m4.58MiB/s\u001b[0m\n",
            "[ExtractAudio] Destination: /content/drive/MyDrive/dhivehi_audios/cn8UM26fBwA.wav\n",
            "Deleting original file /content/drive/MyDrive/dhivehi_audios/cn8UM26fBwA.webm (pass -k to keep)\n",
            "[youtube] Extracting URL: https://www.youtube.com/watch?v=T1SG3Q22u6E\n",
            "[youtube] T1SG3Q22u6E: Downloading webpage\n",
            "[youtube] T1SG3Q22u6E: Downloading tv simply player API JSON\n",
            "[youtube] T1SG3Q22u6E: Downloading tv client config\n",
            "[youtube] T1SG3Q22u6E: Downloading tv player API JSON\n",
            "[info] T1SG3Q22u6E: Downloading 1 format(s): 251\n",
            "[download] Sleeping 3.00 seconds as required by the site...\n",
            "[download] Destination: /content/drive/MyDrive/dhivehi_audios/T1SG3Q22u6E.webm\n",
            "\u001b[K[download] 100% of  148.57MiB in \u001b[1;37m00:00:37\u001b[0m at \u001b[0;32m3.98MiB/s\u001b[0m\n",
            "[ExtractAudio] Destination: /content/drive/MyDrive/dhivehi_audios/T1SG3Q22u6E.wav\n",
            "Deleting original file /content/drive/MyDrive/dhivehi_audios/T1SG3Q22u6E.webm (pass -k to keep)\n",
            "[youtube] Extracting URL: https://www.youtube.com/watch?v=2VV6NCzqdgo\n",
            "[youtube] 2VV6NCzqdgo: Downloading webpage\n",
            "[youtube] 2VV6NCzqdgo: Downloading tv simply player API JSON\n",
            "[youtube] 2VV6NCzqdgo: Downloading tv client config\n",
            "[youtube] 2VV6NCzqdgo: Downloading tv player API JSON\n",
            "[info] 2VV6NCzqdgo: Downloading 1 format(s): 251\n",
            "[download] Sleeping 2.00 seconds as required by the site...\n",
            "[download] Destination: /content/drive/MyDrive/dhivehi_audios/2VV6NCzqdgo.webm\n",
            "\u001b[K[download] 100% of   35.48MiB in \u001b[1;37m00:00:13\u001b[0m at \u001b[0;32m2.55MiB/s\u001b[0m\n",
            "[ExtractAudio] Destination: /content/drive/MyDrive/dhivehi_audios/2VV6NCzqdgo.wav\n",
            "Deleting original file /content/drive/MyDrive/dhivehi_audios/2VV6NCzqdgo.webm (pass -k to keep)\n",
            "[youtube] Extracting URL: https://www.youtube.com/watch?v=Pcni2vi_ZJw\n",
            "[youtube] Pcni2vi_ZJw: Downloading webpage\n",
            "[youtube] Pcni2vi_ZJw: Downloading tv simply player API JSON\n",
            "[youtube] Pcni2vi_ZJw: Downloading tv client config\n",
            "[youtube] Pcni2vi_ZJw: Downloading tv player API JSON\n",
            "[info] Pcni2vi_ZJw: Downloading 1 format(s): 251\n",
            "[download] Sleeping 1.00 seconds as required by the site...\n",
            "[download] Destination: /content/drive/MyDrive/dhivehi_audios/Pcni2vi_ZJw.webm\n",
            "\u001b[K[download] 100% of   19.51MiB in \u001b[1;37m00:00:02\u001b[0m at \u001b[0;32m6.57MiB/s\u001b[0m\n",
            "[ExtractAudio] Destination: /content/drive/MyDrive/dhivehi_audios/Pcni2vi_ZJw.wav\n",
            "Deleting original file /content/drive/MyDrive/dhivehi_audios/Pcni2vi_ZJw.webm (pass -k to keep)\n",
            "[youtube] Extracting URL: https://www.youtube.com/watch?v=f405jlvKc_8\n",
            "[youtube] f405jlvKc_8: Downloading webpage\n",
            "[youtube] f405jlvKc_8: Downloading tv simply player API JSON\n",
            "[youtube] f405jlvKc_8: Downloading tv client config\n",
            "[youtube] f405jlvKc_8: Downloading tv player API JSON\n",
            "[info] f405jlvKc_8: Downloading 1 format(s): 251\n",
            "[download] Sleeping 4.00 seconds as required by the site...\n",
            "[download] Destination: /content/drive/MyDrive/dhivehi_audios/f405jlvKc_8.webm\n",
            "\u001b[K[download] 100% of    2.10MiB in \u001b[1;37m00:00:00\u001b[0m at \u001b[0;32m2.55MiB/s\u001b[0m\n",
            "[ExtractAudio] Destination: /content/drive/MyDrive/dhivehi_audios/f405jlvKc_8.wav\n",
            "Deleting original file /content/drive/MyDrive/dhivehi_audios/f405jlvKc_8.webm (pass -k to keep)\n",
            "[youtube] Extracting URL: https://www.youtube.com/watch?v=G_aSnapci_I\n",
            "[youtube] G_aSnapci_I: Downloading webpage\n",
            "[youtube] G_aSnapci_I: Downloading tv simply player API JSON\n",
            "[youtube] G_aSnapci_I: Downloading tv client config\n",
            "[youtube] G_aSnapci_I: Downloading tv player API JSON\n",
            "[info] G_aSnapci_I: Downloading 1 format(s): 251\n",
            "[download] Sleeping 4.00 seconds as required by the site...\n",
            "[download] Destination: /content/drive/MyDrive/dhivehi_audios/G_aSnapci_I.webm\n",
            "\u001b[K[download] 100% of   34.58MiB in \u001b[1;37m00:00:07\u001b[0m at \u001b[0;32m4.79MiB/s\u001b[0m\n",
            "[ExtractAudio] Destination: /content/drive/MyDrive/dhivehi_audios/G_aSnapci_I.wav\n",
            "Deleting original file /content/drive/MyDrive/dhivehi_audios/G_aSnapci_I.webm (pass -k to keep)\n",
            "[youtube] Extracting URL: https://www.youtube.com/watch?v=HHu6YqZQjA4\n",
            "[youtube] HHu6YqZQjA4: Downloading webpage\n",
            "[youtube] HHu6YqZQjA4: Downloading tv simply player API JSON\n",
            "[youtube] HHu6YqZQjA4: Downloading tv client config\n",
            "[youtube] HHu6YqZQjA4: Downloading tv player API JSON\n",
            "[info] HHu6YqZQjA4: Downloading 1 format(s): 251\n",
            "[download] Sleeping 3.00 seconds as required by the site...\n",
            "[download] Destination: /content/drive/MyDrive/dhivehi_audios/HHu6YqZQjA4.webm\n",
            "\u001b[K[download] 100% of   21.16MiB in \u001b[1;37m00:00:00\u001b[0m at \u001b[0;32m30.24MiB/s\u001b[0m\n",
            "[ExtractAudio] Destination: /content/drive/MyDrive/dhivehi_audios/HHu6YqZQjA4.wav\n",
            "Deleting original file /content/drive/MyDrive/dhivehi_audios/HHu6YqZQjA4.webm (pass -k to keep)\n",
            "[youtube] Extracting URL: https://www.youtube.com/watch?v=KjTNvsc4wYQ\n",
            "[youtube] KjTNvsc4wYQ: Downloading webpage\n",
            "[youtube] KjTNvsc4wYQ: Downloading tv simply player API JSON\n",
            "[youtube] KjTNvsc4wYQ: Downloading tv client config\n",
            "[youtube] KjTNvsc4wYQ: Downloading tv player API JSON\n",
            "[info] KjTNvsc4wYQ: Downloading 1 format(s): 251\n",
            "[download] Sleeping 3.00 seconds as required by the site...\n",
            "[download] Destination: /content/drive/MyDrive/dhivehi_audios/KjTNvsc4wYQ.webm\n",
            "\u001b[K[download] 100% of   24.68MiB in \u001b[1;37m00:00:04\u001b[0m at \u001b[0;32m6.06MiB/s\u001b[0m\n",
            "[ExtractAudio] Destination: /content/drive/MyDrive/dhivehi_audios/KjTNvsc4wYQ.wav\n",
            "Deleting original file /content/drive/MyDrive/dhivehi_audios/KjTNvsc4wYQ.webm (pass -k to keep)\n",
            "[youtube] Extracting URL: https://www.youtube.com/watch?v=TqaR_u4Xle4\n",
            "[youtube] TqaR_u4Xle4: Downloading webpage\n",
            "[youtube] TqaR_u4Xle4: Downloading tv simply player API JSON\n",
            "[youtube] TqaR_u4Xle4: Downloading tv client config\n",
            "[youtube] TqaR_u4Xle4: Downloading tv player API JSON\n",
            "[info] TqaR_u4Xle4: Downloading 1 format(s): 251\n",
            "[download] Sleeping 4.00 seconds as required by the site...\n",
            "[download] Destination: /content/drive/MyDrive/dhivehi_audios/TqaR_u4Xle4.webm\n",
            "\u001b[K[download] 100% of   18.91MiB in \u001b[1;37m00:00:04\u001b[0m at \u001b[0;32m3.88MiB/s\u001b[0m\n",
            "[ExtractAudio] Destination: /content/drive/MyDrive/dhivehi_audios/TqaR_u4Xle4.wav\n",
            "Deleting original file /content/drive/MyDrive/dhivehi_audios/TqaR_u4Xle4.webm (pass -k to keep)\n",
            "[youtube] Extracting URL: https://www.youtube.com/watch?v=6JAsFZeE2W8\n",
            "[youtube] 6JAsFZeE2W8: Downloading webpage\n",
            "[youtube] 6JAsFZeE2W8: Downloading tv simply player API JSON\n",
            "[youtube] 6JAsFZeE2W8: Downloading tv client config\n",
            "[youtube] 6JAsFZeE2W8: Downloading tv player API JSON\n",
            "[info] 6JAsFZeE2W8: Downloading 1 format(s): 251\n",
            "[download] Sleeping 4.00 seconds as required by the site...\n",
            "[download] Destination: /content/drive/MyDrive/dhivehi_audios/6JAsFZeE2W8.webm\n",
            "\u001b[K[download] 100% of   55.70MiB in \u001b[1;37m00:00:15\u001b[0m at \u001b[0;32m3.50MiB/s\u001b[0m\n",
            "[ExtractAudio] Destination: /content/drive/MyDrive/dhivehi_audios/6JAsFZeE2W8.wav\n",
            "Deleting original file /content/drive/MyDrive/dhivehi_audios/6JAsFZeE2W8.webm (pass -k to keep)\n",
            "[youtube] Extracting URL: https://www.youtube.com/watch?v=MrKQqneQ3TQ\n",
            "[youtube] MrKQqneQ3TQ: Downloading webpage\n",
            "[youtube] MrKQqneQ3TQ: Downloading tv simply player API JSON\n",
            "[youtube] MrKQqneQ3TQ: Downloading tv client config\n",
            "[youtube] MrKQqneQ3TQ: Downloading tv player API JSON\n",
            "[info] MrKQqneQ3TQ: Downloading 1 format(s): 251\n",
            "[download] Sleeping 2.00 seconds as required by the site...\n",
            "[download] Destination: /content/drive/MyDrive/dhivehi_audios/MrKQqneQ3TQ.webm\n",
            "\u001b[K[download] 100% of   91.57MiB in \u001b[1;37m00:00:13\u001b[0m at \u001b[0;32m6.67MiB/s\u001b[0m\n",
            "[ExtractAudio] Destination: /content/drive/MyDrive/dhivehi_audios/MrKQqneQ3TQ.wav\n",
            "Deleting original file /content/drive/MyDrive/dhivehi_audios/MrKQqneQ3TQ.webm (pass -k to keep)\n",
            "[youtube] Extracting URL: https://www.youtube.com/watch?v=s2TDVUmfJO8\n",
            "[youtube] s2TDVUmfJO8: Downloading webpage\n",
            "[youtube] s2TDVUmfJO8: Downloading tv simply player API JSON\n",
            "[youtube] s2TDVUmfJO8: Downloading tv client config\n",
            "[youtube] s2TDVUmfJO8: Downloading tv player API JSON\n",
            "[info] s2TDVUmfJO8: Downloading 1 format(s): 251\n",
            "[download] Sleeping 2.00 seconds as required by the site...\n",
            "[download] Destination: /content/drive/MyDrive/dhivehi_audios/s2TDVUmfJO8.webm\n",
            "\u001b[K[download] 100% of   35.54MiB in \u001b[1;37m00:00:11\u001b[0m at \u001b[0;32m3.10MiB/s\u001b[0m\n",
            "[ExtractAudio] Destination: /content/drive/MyDrive/dhivehi_audios/s2TDVUmfJO8.wav\n",
            "Deleting original file /content/drive/MyDrive/dhivehi_audios/s2TDVUmfJO8.webm (pass -k to keep)\n",
            "[youtube] Extracting URL: https://www.youtube.com/watch?v=IIX_T96_YlU\n",
            "[youtube] IIX_T96_YlU: Downloading webpage\n",
            "[youtube] IIX_T96_YlU: Downloading tv simply player API JSON\n",
            "[youtube] IIX_T96_YlU: Downloading tv client config\n",
            "[youtube] IIX_T96_YlU: Downloading tv player API JSON\n",
            "[info] IIX_T96_YlU: Downloading 1 format(s): 251\n",
            "[download] Sleeping 3.00 seconds as required by the site...\n",
            "[download] Destination: /content/drive/MyDrive/dhivehi_audios/IIX_T96_YlU.webm\n",
            "\u001b[K[download] 100% of    6.35MiB in \u001b[1;37m00:00:02\u001b[0m at \u001b[0;32m2.67MiB/s\u001b[0m\n",
            "[ExtractAudio] Destination: /content/drive/MyDrive/dhivehi_audios/IIX_T96_YlU.wav\n",
            "Deleting original file /content/drive/MyDrive/dhivehi_audios/IIX_T96_YlU.webm (pass -k to keep)\n",
            "[youtube] Extracting URL: https://www.youtube.com/watch?v=D2w7udtzrfs\n",
            "[youtube] D2w7udtzrfs: Downloading webpage\n",
            "[youtube] D2w7udtzrfs: Downloading tv simply player API JSON\n",
            "[youtube] D2w7udtzrfs: Downloading tv client config\n",
            "[youtube] D2w7udtzrfs: Downloading tv player API JSON\n",
            "[info] D2w7udtzrfs: Downloading 1 format(s): 251\n",
            "[download] Sleeping 4.00 seconds as required by the site...\n",
            "[download] Destination: /content/drive/MyDrive/dhivehi_audios/D2w7udtzrfs.webm\n",
            "\u001b[K[download] 100% of  128.56MiB in \u001b[1;37m00:00:10\u001b[0m at \u001b[0;32m11.97MiB/s\u001b[0m\n",
            "[ExtractAudio] Destination: /content/drive/MyDrive/dhivehi_audios/D2w7udtzrfs.wav\n",
            "Deleting original file /content/drive/MyDrive/dhivehi_audios/D2w7udtzrfs.webm (pass -k to keep)\n",
            "[youtube] Extracting URL: https://www.youtube.com/watch?v=3pD7aB0x8Jg\n",
            "[youtube] 3pD7aB0x8Jg: Downloading webpage\n",
            "[youtube] 3pD7aB0x8Jg: Downloading tv simply player API JSON\n",
            "[youtube] 3pD7aB0x8Jg: Downloading tv client config\n",
            "[youtube] 3pD7aB0x8Jg: Downloading tv player API JSON\n",
            "[info] 3pD7aB0x8Jg: Downloading 1 format(s): 251\n",
            "[download] Sleeping 3.00 seconds as required by the site...\n",
            "[download] Destination: /content/drive/MyDrive/dhivehi_audios/3pD7aB0x8Jg.webm\n",
            "\u001b[K[download] 100% of    1.69MiB in \u001b[1;37m00:00:00\u001b[0m at \u001b[0;32m5.34MiB/s\u001b[0m\n",
            "[ExtractAudio] Destination: /content/drive/MyDrive/dhivehi_audios/3pD7aB0x8Jg.wav\n",
            "Deleting original file /content/drive/MyDrive/dhivehi_audios/3pD7aB0x8Jg.webm (pass -k to keep)\n",
            "[youtube] Extracting URL: https://www.youtube.com/watch?v=oMV1_7a4_mc\n",
            "[youtube] oMV1_7a4_mc: Downloading webpage\n",
            "[youtube] oMV1_7a4_mc: Downloading tv simply player API JSON\n",
            "[youtube] oMV1_7a4_mc: Downloading tv client config\n",
            "[youtube] oMV1_7a4_mc: Downloading tv player API JSON\n",
            "[info] oMV1_7a4_mc: Downloading 1 format(s): 251\n",
            "[download] Sleeping 1.00 seconds as required by the site...\n",
            "[download] Destination: /content/drive/MyDrive/dhivehi_audios/oMV1_7a4_mc.webm\n",
            "\u001b[K[download] 100% of    2.98MiB in \u001b[1;37m00:00:01\u001b[0m at \u001b[0;32m2.96MiB/s\u001b[0m\n",
            "[ExtractAudio] Destination: /content/drive/MyDrive/dhivehi_audios/oMV1_7a4_mc.wav\n",
            "Deleting original file /content/drive/MyDrive/dhivehi_audios/oMV1_7a4_mc.webm (pass -k to keep)\n",
            "[youtube] Extracting URL: https://www.youtube.com/watch?v=OYV3JJ4Z7A4\n",
            "[youtube] OYV3JJ4Z7A4: Downloading webpage\n",
            "[youtube] OYV3JJ4Z7A4: Downloading tv simply player API JSON\n",
            "[youtube] OYV3JJ4Z7A4: Downloading tv client config\n",
            "[youtube] OYV3JJ4Z7A4: Downloading tv player API JSON\n",
            "[info] OYV3JJ4Z7A4: Downloading 1 format(s): 251\n",
            "[download] Sleeping 2.00 seconds as required by the site...\n",
            "[download] Destination: /content/drive/MyDrive/dhivehi_audios/OYV3JJ4Z7A4.webm\n",
            "\u001b[K[download] 100% of   54.41MiB in \u001b[1;37m00:00:10\u001b[0m at \u001b[0;32m5.08MiB/s\u001b[0m\n",
            "[ExtractAudio] Destination: /content/drive/MyDrive/dhivehi_audios/OYV3JJ4Z7A4.wav\n",
            "Deleting original file /content/drive/MyDrive/dhivehi_audios/OYV3JJ4Z7A4.webm (pass -k to keep)\n",
            "[youtube] Extracting URL: https://www.youtube.com/watch?v=1FZ9llN5ZZE\n",
            "[youtube] 1FZ9llN5ZZE: Downloading webpage\n",
            "[youtube] 1FZ9llN5ZZE: Downloading tv simply player API JSON\n",
            "[youtube] 1FZ9llN5ZZE: Downloading tv client config\n",
            "[youtube] 1FZ9llN5ZZE: Downloading tv player API JSON\n",
            "[info] 1FZ9llN5ZZE: Downloading 1 format(s): 251\n",
            "[download] Destination: /content/drive/MyDrive/dhivehi_audios/1FZ9llN5ZZE.webm\n",
            "\u001b[K[download] 100% of  118.38MiB in \u001b[1;37m00:00:18\u001b[0m at \u001b[0;32m6.27MiB/s\u001b[0m\n",
            "[ExtractAudio] Destination: /content/drive/MyDrive/dhivehi_audios/1FZ9llN5ZZE.wav\n",
            "Deleting original file /content/drive/MyDrive/dhivehi_audios/1FZ9llN5ZZE.webm (pass -k to keep)\n",
            "[youtube] Extracting URL: https://www.youtube.com/watch?v=uyxv9W4HShU\n",
            "[youtube] uyxv9W4HShU: Downloading webpage\n",
            "[youtube] uyxv9W4HShU: Downloading tv simply player API JSON\n",
            "[youtube] uyxv9W4HShU: Downloading tv client config\n",
            "[youtube] uyxv9W4HShU: Downloading tv player API JSON\n",
            "[info] uyxv9W4HShU: Downloading 1 format(s): 251\n",
            "[download] Sleeping 2.00 seconds as required by the site...\n",
            "[download] Destination: /content/drive/MyDrive/dhivehi_audios/uyxv9W4HShU.webm\n",
            "\u001b[K[download] 100% of    3.32MiB in \u001b[1;37m00:00:00\u001b[0m at \u001b[0;32m3.58MiB/s\u001b[0m\n",
            "[ExtractAudio] Destination: /content/drive/MyDrive/dhivehi_audios/uyxv9W4HShU.wav\n",
            "Deleting original file /content/drive/MyDrive/dhivehi_audios/uyxv9W4HShU.webm (pass -k to keep)\n",
            "[youtube] Extracting URL: https://www.youtube.com/watch?v=YbIFrPCJWNM\n",
            "[youtube] YbIFrPCJWNM: Downloading webpage\n",
            "[youtube] YbIFrPCJWNM: Downloading tv simply player API JSON\n",
            "[youtube] YbIFrPCJWNM: Downloading tv client config\n",
            "[youtube] YbIFrPCJWNM: Downloading tv player API JSON\n",
            "[info] YbIFrPCJWNM: Downloading 1 format(s): 251\n",
            "[download] Sleeping 3.00 seconds as required by the site...\n",
            "[download] Destination: /content/drive/MyDrive/dhivehi_audios/YbIFrPCJWNM.webm\n",
            "\u001b[K[download] 100% of  122.36MiB in \u001b[1;37m00:00:32\u001b[0m at \u001b[0;32m3.76MiB/s\u001b[0m\n",
            "[ExtractAudio] Destination: /content/drive/MyDrive/dhivehi_audios/YbIFrPCJWNM.wav\n",
            "Deleting original file /content/drive/MyDrive/dhivehi_audios/YbIFrPCJWNM.webm (pass -k to keep)\n",
            "[youtube] Extracting URL: https://www.youtube.com/watch?v=EnTP06uXJUw\n",
            "[youtube] EnTP06uXJUw: Downloading webpage\n",
            "[youtube] EnTP06uXJUw: Downloading tv simply player API JSON\n",
            "[youtube] EnTP06uXJUw: Downloading tv client config\n",
            "[youtube] EnTP06uXJUw: Downloading tv player API JSON\n",
            "[info] EnTP06uXJUw: Downloading 1 format(s): 251\n",
            "[download] Sleeping 4.00 seconds as required by the site...\n",
            "[download] Destination: /content/drive/MyDrive/dhivehi_audios/EnTP06uXJUw.webm\n",
            "\u001b[K[download] 100% of   50.44MiB in \u001b[1;37m00:00:06\u001b[0m at \u001b[0;32m7.73MiB/s\u001b[0m\n",
            "[ExtractAudio] Destination: /content/drive/MyDrive/dhivehi_audios/EnTP06uXJUw.wav\n",
            "Deleting original file /content/drive/MyDrive/dhivehi_audios/EnTP06uXJUw.webm (pass -k to keep)\n",
            "[youtube] Extracting URL: https://www.youtube.com/watch?v=nypKj9nbsUI\n",
            "[youtube] nypKj9nbsUI: Downloading webpage\n",
            "[youtube] nypKj9nbsUI: Downloading tv simply player API JSON\n",
            "[youtube] nypKj9nbsUI: Downloading tv client config\n",
            "[youtube] nypKj9nbsUI: Downloading tv player API JSON\n",
            "[info] nypKj9nbsUI: Downloading 1 format(s): 251\n",
            "[download] Sleeping 4.00 seconds as required by the site...\n",
            "[download] Destination: /content/drive/MyDrive/dhivehi_audios/nypKj9nbsUI.webm\n",
            "\u001b[K[download] 100% of   52.14MiB in \u001b[1;37m00:00:05\u001b[0m at \u001b[0;32m8.98MiB/s\u001b[0m\n",
            "[ExtractAudio] Destination: /content/drive/MyDrive/dhivehi_audios/nypKj9nbsUI.wav\n",
            "Deleting original file /content/drive/MyDrive/dhivehi_audios/nypKj9nbsUI.webm (pass -k to keep)\n",
            "[youtube] Extracting URL: https://www.youtube.com/watch?v=1IQDbny8nPE\n",
            "[youtube] 1IQDbny8nPE: Downloading webpage\n",
            "[youtube] 1IQDbny8nPE: Downloading tv simply player API JSON\n",
            "[youtube] 1IQDbny8nPE: Downloading tv client config\n",
            "[youtube] 1IQDbny8nPE: Downloading tv player API JSON\n",
            "[info] 1IQDbny8nPE: Downloading 1 format(s): 251\n",
            "[download] Sleeping 3.00 seconds as required by the site...\n",
            "[download] Destination: /content/drive/MyDrive/dhivehi_audios/1IQDbny8nPE.webm\n",
            "\u001b[K[download] 100% of   49.69MiB in \u001b[1;37m00:00:10\u001b[0m at \u001b[0;32m4.85MiB/s\u001b[0m\n",
            "[ExtractAudio] Destination: /content/drive/MyDrive/dhivehi_audios/1IQDbny8nPE.wav\n",
            "Deleting original file /content/drive/MyDrive/dhivehi_audios/1IQDbny8nPE.webm (pass -k to keep)\n",
            "[youtube] Extracting URL: https://www.youtube.com/watch?v=TyKxarCPprU\n",
            "[youtube] TyKxarCPprU: Downloading webpage\n",
            "[youtube] TyKxarCPprU: Downloading tv simply player API JSON\n",
            "[youtube] TyKxarCPprU: Downloading tv client config\n",
            "[youtube] TyKxarCPprU: Downloading tv player API JSON\n",
            "[info] TyKxarCPprU: Downloading 1 format(s): 251\n",
            "[download] Sleeping 4.00 seconds as required by the site...\n",
            "[download] Destination: /content/drive/MyDrive/dhivehi_audios/TyKxarCPprU.webm\n",
            "\u001b[K[download] 100% of   38.06MiB in \u001b[1;37m00:00:05\u001b[0m at \u001b[0;32m7.02MiB/s\u001b[0m\n",
            "[ExtractAudio] Destination: /content/drive/MyDrive/dhivehi_audios/TyKxarCPprU.wav\n",
            "Deleting original file /content/drive/MyDrive/dhivehi_audios/TyKxarCPprU.webm (pass -k to keep)\n",
            "[youtube] Extracting URL: https://www.youtube.com/watch?v=B4R04Hxs9m0\n",
            "[youtube] B4R04Hxs9m0: Downloading webpage\n",
            "[youtube] B4R04Hxs9m0: Downloading tv simply player API JSON\n",
            "[youtube] B4R04Hxs9m0: Downloading tv client config\n",
            "[youtube] B4R04Hxs9m0: Downloading tv player API JSON\n",
            "[info] B4R04Hxs9m0: Downloading 1 format(s): 251\n",
            "[download] Sleeping 2.00 seconds as required by the site...\n",
            "[download] Destination: /content/drive/MyDrive/dhivehi_audios/B4R04Hxs9m0.webm\n",
            "\u001b[K[download] 100% of   74.63MiB in \u001b[1;37m00:00:02\u001b[0m at \u001b[0;32m31.66MiB/s\u001b[0m\n",
            "[ExtractAudio] Destination: /content/drive/MyDrive/dhivehi_audios/B4R04Hxs9m0.wav\n",
            "Deleting original file /content/drive/MyDrive/dhivehi_audios/B4R04Hxs9m0.webm (pass -k to keep)\n",
            "[youtube] Extracting URL: https://www.youtube.com/watch?v=4BGogU5ZUl8\n",
            "[youtube] 4BGogU5ZUl8: Downloading webpage\n",
            "[youtube] 4BGogU5ZUl8: Downloading tv simply player API JSON\n",
            "[youtube] 4BGogU5ZUl8: Downloading tv client config\n",
            "[youtube] 4BGogU5ZUl8: Downloading tv player API JSON\n",
            "[info] 4BGogU5ZUl8: Downloading 1 format(s): 251\n",
            "[download] Sleeping 3.00 seconds as required by the site...\n",
            "[download] Destination: /content/drive/MyDrive/dhivehi_audios/4BGogU5ZUl8.webm\n",
            "\u001b[K[download] 100% of  128.73MiB in \u001b[1;37m00:00:26\u001b[0m at \u001b[0;32m4.90MiB/s\u001b[0m\n",
            "[ExtractAudio] Destination: /content/drive/MyDrive/dhivehi_audios/4BGogU5ZUl8.wav\n",
            "Deleting original file /content/drive/MyDrive/dhivehi_audios/4BGogU5ZUl8.webm (pass -k to keep)\n",
            "[youtube] Extracting URL: https://www.youtube.com/watch?v=ugeyCBEFzZs\n",
            "[youtube] ugeyCBEFzZs: Downloading webpage\n",
            "[youtube] ugeyCBEFzZs: Downloading tv simply player API JSON\n",
            "[youtube] ugeyCBEFzZs: Downloading tv client config\n",
            "[youtube] ugeyCBEFzZs: Downloading tv player API JSON\n",
            "[info] ugeyCBEFzZs: Downloading 1 format(s): 251\n",
            "[download] Sleeping 4.00 seconds as required by the site...\n",
            "[download] Destination: /content/drive/MyDrive/dhivehi_audios/ugeyCBEFzZs.webm\n",
            "\u001b[K[download] 100% of   57.32MiB in \u001b[1;37m00:00:03\u001b[0m at \u001b[0;32m17.15MiB/s\u001b[0m\n",
            "[ExtractAudio] Destination: /content/drive/MyDrive/dhivehi_audios/ugeyCBEFzZs.wav\n",
            "Deleting original file /content/drive/MyDrive/dhivehi_audios/ugeyCBEFzZs.webm (pass -k to keep)\n",
            "[youtube] Extracting URL: https://www.youtube.com/watch?v=GnpNwZon3qk\n",
            "[youtube] GnpNwZon3qk: Downloading webpage\n",
            "[youtube] GnpNwZon3qk: Downloading tv simply player API JSON\n",
            "[youtube] GnpNwZon3qk: Downloading tv client config\n",
            "[youtube] GnpNwZon3qk: Downloading tv player API JSON\n",
            "[info] GnpNwZon3qk: Downloading 1 format(s): 251\n",
            "[download] Sleeping 4.00 seconds as required by the site...\n",
            "[download] Destination: /content/drive/MyDrive/dhivehi_audios/GnpNwZon3qk.webm\n",
            "\u001b[K[download] 100% of   34.75MiB in \u001b[1;37m00:00:08\u001b[0m at \u001b[0;32m4.04MiB/s\u001b[0m\n",
            "[ExtractAudio] Destination: /content/drive/MyDrive/dhivehi_audios/GnpNwZon3qk.wav\n",
            "Deleting original file /content/drive/MyDrive/dhivehi_audios/GnpNwZon3qk.webm (pass -k to keep)\n",
            "[youtube] Extracting URL: https://www.youtube.com/watch?v=nnolovZdT6E\n",
            "[youtube] nnolovZdT6E: Downloading webpage\n",
            "[youtube] nnolovZdT6E: Downloading tv simply player API JSON\n",
            "[youtube] nnolovZdT6E: Downloading tv client config\n",
            "[youtube] nnolovZdT6E: Downloading tv player API JSON\n",
            "[info] nnolovZdT6E: Downloading 1 format(s): 251\n",
            "[download] Sleeping 2.00 seconds as required by the site...\n",
            "[download] Destination: /content/drive/MyDrive/dhivehi_audios/nnolovZdT6E.webm\n",
            "\u001b[K[download] 100% of   35.48MiB in \u001b[1;37m00:00:09\u001b[0m at \u001b[0;32m3.68MiB/s\u001b[0m\n",
            "[ExtractAudio] Destination: /content/drive/MyDrive/dhivehi_audios/nnolovZdT6E.wav\n",
            "Deleting original file /content/drive/MyDrive/dhivehi_audios/nnolovZdT6E.webm (pass -k to keep)\n",
            "[youtube] Extracting URL: https://www.youtube.com/watch?v=27hb50BWhFw\n",
            "[youtube] 27hb50BWhFw: Downloading webpage\n",
            "[youtube] 27hb50BWhFw: Downloading tv simply player API JSON\n",
            "[youtube] 27hb50BWhFw: Downloading tv client config\n",
            "[youtube] 27hb50BWhFw: Downloading tv player API JSON\n",
            "[info] 27hb50BWhFw: Downloading 1 format(s): 251\n",
            "[download] Sleeping 4.00 seconds as required by the site...\n",
            "[download] Destination: /content/drive/MyDrive/dhivehi_audios/27hb50BWhFw.webm\n",
            "\u001b[K[download] 100% of    1.17MiB in \u001b[1;37m00:00:00\u001b[0m at \u001b[0;32m2.70MiB/s\u001b[0m\n",
            "[ExtractAudio] Destination: /content/drive/MyDrive/dhivehi_audios/27hb50BWhFw.wav\n",
            "Deleting original file /content/drive/MyDrive/dhivehi_audios/27hb50BWhFw.webm (pass -k to keep)\n",
            "[youtube] Extracting URL: https://www.youtube.com/watch?v=kPf670uH0m4\n",
            "[youtube] kPf670uH0m4: Downloading webpage\n",
            "[youtube] kPf670uH0m4: Downloading tv simply player API JSON\n",
            "[youtube] kPf670uH0m4: Downloading tv client config\n",
            "[youtube] kPf670uH0m4: Downloading tv player API JSON\n",
            "[info] kPf670uH0m4: Downloading 1 format(s): 251\n",
            "[download] Sleeping 3.00 seconds as required by the site...\n",
            "[download] Destination: /content/drive/MyDrive/dhivehi_audios/kPf670uH0m4.webm\n",
            "\u001b[K[download] 100% of   51.69MiB in \u001b[1;37m00:00:07\u001b[0m at \u001b[0;32m7.07MiB/s\u001b[0m\n",
            "[ExtractAudio] Destination: /content/drive/MyDrive/dhivehi_audios/kPf670uH0m4.wav\n",
            "Deleting original file /content/drive/MyDrive/dhivehi_audios/kPf670uH0m4.webm (pass -k to keep)\n",
            "[youtube] Extracting URL: https://www.youtube.com/watch?v=qQRqJqeUYTU\n",
            "[youtube] qQRqJqeUYTU: Downloading webpage\n",
            "[youtube] qQRqJqeUYTU: Downloading tv simply player API JSON\n",
            "[youtube] qQRqJqeUYTU: Downloading tv client config\n",
            "[youtube] qQRqJqeUYTU: Downloading tv player API JSON\n",
            "[info] qQRqJqeUYTU: Downloading 1 format(s): 251\n",
            "[download] Sleeping 4.00 seconds as required by the site...\n",
            "[download] Destination: /content/drive/MyDrive/dhivehi_audios/qQRqJqeUYTU.webm\n",
            "\u001b[K[download] 100% of    5.79MiB in \u001b[1;37m00:00:00\u001b[0m at \u001b[0;32m7.28MiB/s\u001b[0m\n",
            "[ExtractAudio] Destination: /content/drive/MyDrive/dhivehi_audios/qQRqJqeUYTU.wav\n",
            "Deleting original file /content/drive/MyDrive/dhivehi_audios/qQRqJqeUYTU.webm (pass -k to keep)\n",
            "[youtube] Extracting URL: https://www.youtube.com/watch?v=YSM7tuP9vGw\n",
            "[youtube] YSM7tuP9vGw: Downloading webpage\n",
            "[youtube] YSM7tuP9vGw: Downloading tv simply player API JSON\n",
            "[youtube] YSM7tuP9vGw: Downloading tv client config\n",
            "[youtube] YSM7tuP9vGw: Downloading tv player API JSON\n",
            "[info] YSM7tuP9vGw: Downloading 1 format(s): 251\n",
            "[download] Sleeping 3.00 seconds as required by the site...\n",
            "[download] Destination: /content/drive/MyDrive/dhivehi_audios/YSM7tuP9vGw.webm\n",
            "\u001b[K[download] 100% of  117.63MiB in \u001b[1;37m00:00:18\u001b[0m at \u001b[0;32m6.36MiB/s\u001b[0m\n",
            "[ExtractAudio] Destination: /content/drive/MyDrive/dhivehi_audios/YSM7tuP9vGw.wav\n",
            "Deleting original file /content/drive/MyDrive/dhivehi_audios/YSM7tuP9vGw.webm (pass -k to keep)\n",
            "[youtube] Extracting URL: https://www.youtube.com/watch?v=9-k9kDANUmk\n",
            "[youtube] 9-k9kDANUmk: Downloading webpage\n",
            "[youtube] 9-k9kDANUmk: Downloading tv simply player API JSON\n",
            "[youtube] 9-k9kDANUmk: Downloading tv client config\n",
            "[youtube] 9-k9kDANUmk: Downloading tv player API JSON\n",
            "[info] 9-k9kDANUmk: Downloading 1 format(s): 251\n",
            "[download] Sleeping 3.00 seconds as required by the site...\n",
            "[download] Destination: /content/drive/MyDrive/dhivehi_audios/9-k9kDANUmk.webm\n",
            "\u001b[K[download] 100% of   69.25MiB in \u001b[1;37m00:00:12\u001b[0m at \u001b[0;32m5.56MiB/s\u001b[0m\n",
            "[ExtractAudio] Destination: /content/drive/MyDrive/dhivehi_audios/9-k9kDANUmk.wav\n",
            "Deleting original file /content/drive/MyDrive/dhivehi_audios/9-k9kDANUmk.webm (pass -k to keep)\n",
            "[youtube] Extracting URL: https://www.youtube.com/watch?v=x1hAqF7-RBo\n",
            "[youtube] x1hAqF7-RBo: Downloading webpage\n",
            "[youtube] x1hAqF7-RBo: Downloading tv simply player API JSON\n",
            "[youtube] x1hAqF7-RBo: Downloading tv client config\n",
            "[youtube] x1hAqF7-RBo: Downloading tv player API JSON\n",
            "[info] x1hAqF7-RBo: Downloading 1 format(s): 251\n",
            "[download] Sleeping 4.00 seconds as required by the site...\n",
            "[download] Destination: /content/drive/MyDrive/dhivehi_audios/x1hAqF7-RBo.webm\n",
            "\u001b[K[download] 100% of    4.75MiB in \u001b[1;37m00:00:01\u001b[0m at \u001b[0;32m4.34MiB/s\u001b[0m\n",
            "[ExtractAudio] Destination: /content/drive/MyDrive/dhivehi_audios/x1hAqF7-RBo.wav\n",
            "Deleting original file /content/drive/MyDrive/dhivehi_audios/x1hAqF7-RBo.webm (pass -k to keep)\n",
            "[youtube] Extracting URL: https://www.youtube.com/watch?v=juuIQuoNFgA\n",
            "[youtube] juuIQuoNFgA: Downloading webpage\n",
            "[youtube] juuIQuoNFgA: Downloading tv simply player API JSON\n",
            "[youtube] juuIQuoNFgA: Downloading tv client config\n",
            "[youtube] juuIQuoNFgA: Downloading tv player API JSON\n",
            "[info] juuIQuoNFgA: Downloading 1 format(s): 251\n",
            "[download] Destination: /content/drive/MyDrive/dhivehi_audios/juuIQuoNFgA.webm\n",
            "\u001b[K[download] 100% of   32.94MiB in \u001b[1;37m00:00:15\u001b[0m at \u001b[0;32m2.08MiB/s\u001b[0m\n",
            "[ExtractAudio] Destination: /content/drive/MyDrive/dhivehi_audios/juuIQuoNFgA.wav\n",
            "Deleting original file /content/drive/MyDrive/dhivehi_audios/juuIQuoNFgA.webm (pass -k to keep)\n",
            "[youtube] Extracting URL: https://www.youtube.com/watch?v=moaU_TnQDac\n",
            "[youtube] moaU_TnQDac: Downloading webpage\n",
            "[youtube] moaU_TnQDac: Downloading tv simply player API JSON\n",
            "[youtube] moaU_TnQDac: Downloading tv client config\n",
            "[youtube] moaU_TnQDac: Downloading tv player API JSON\n",
            "[info] moaU_TnQDac: Downloading 1 format(s): 251\n",
            "[download] Sleeping 4.00 seconds as required by the site...\n",
            "[download] Destination: /content/drive/MyDrive/dhivehi_audios/moaU_TnQDac.webm\n",
            "\u001b[K[download] 100% of   58.47MiB in \u001b[1;37m00:00:11\u001b[0m at \u001b[0;32m4.89MiB/s\u001b[0m\n",
            "[ExtractAudio] Destination: /content/drive/MyDrive/dhivehi_audios/moaU_TnQDac.wav\n",
            "Deleting original file /content/drive/MyDrive/dhivehi_audios/moaU_TnQDac.webm (pass -k to keep)\n",
            "[youtube] Extracting URL: https://www.youtube.com/watch?v=JFR2WFm7Q4U\n",
            "[youtube] JFR2WFm7Q4U: Downloading webpage\n",
            "[youtube] JFR2WFm7Q4U: Downloading tv simply player API JSON\n",
            "[youtube] JFR2WFm7Q4U: Downloading tv client config\n",
            "[youtube] JFR2WFm7Q4U: Downloading tv player API JSON\n",
            "[info] JFR2WFm7Q4U: Downloading 1 format(s): 251\n",
            "[download] Sleeping 3.00 seconds as required by the site...\n",
            "[download] Destination: /content/drive/MyDrive/dhivehi_audios/JFR2WFm7Q4U.webm\n",
            "\u001b[K[download] 100% of    4.54MiB in \u001b[1;37m00:00:00\u001b[0m at \u001b[0;32m17.05MiB/s\u001b[0m\n",
            "[ExtractAudio] Destination: /content/drive/MyDrive/dhivehi_audios/JFR2WFm7Q4U.wav\n",
            "Deleting original file /content/drive/MyDrive/dhivehi_audios/JFR2WFm7Q4U.webm (pass -k to keep)\n",
            "[youtube] Extracting URL: https://www.youtube.com/watch?v=7cIklqoQz7E\n",
            "[youtube] 7cIklqoQz7E: Downloading webpage\n",
            "[youtube] 7cIklqoQz7E: Downloading tv simply player API JSON\n",
            "[youtube] 7cIklqoQz7E: Downloading tv client config\n",
            "[youtube] 7cIklqoQz7E: Downloading tv player API JSON\n",
            "[info] 7cIklqoQz7E: Downloading 1 format(s): 251\n",
            "[download] Sleeping 3.00 seconds as required by the site...\n",
            "[download] Destination: /content/drive/MyDrive/dhivehi_audios/7cIklqoQz7E.webm\n",
            "\u001b[K[download] 100% of   47.37MiB in \u001b[1;37m00:00:16\u001b[0m at \u001b[0;32m2.79MiB/s\u001b[0m\n",
            "[ExtractAudio] Destination: /content/drive/MyDrive/dhivehi_audios/7cIklqoQz7E.wav\n",
            "Deleting original file /content/drive/MyDrive/dhivehi_audios/7cIklqoQz7E.webm (pass -k to keep)\n",
            "[youtube] Extracting URL: https://www.youtube.com/watch?v=Bi5ZFMtQVVw\n",
            "[youtube] Bi5ZFMtQVVw: Downloading webpage\n",
            "[youtube] Bi5ZFMtQVVw: Downloading tv simply player API JSON\n",
            "[youtube] Bi5ZFMtQVVw: Downloading tv client config\n",
            "[youtube] Bi5ZFMtQVVw: Downloading tv player API JSON\n",
            "[info] Bi5ZFMtQVVw: Downloading 1 format(s): 251\n",
            "[download] Sleeping 3.00 seconds as required by the site...\n",
            "[download] Destination: /content/drive/MyDrive/dhivehi_audios/Bi5ZFMtQVVw.webm\n",
            "\u001b[K[download] 100% of   46.12MiB in \u001b[1;37m00:00:09\u001b[0m at \u001b[0;32m4.94MiB/s\u001b[0m\n",
            "[ExtractAudio] Destination: /content/drive/MyDrive/dhivehi_audios/Bi5ZFMtQVVw.wav\n",
            "Deleting original file /content/drive/MyDrive/dhivehi_audios/Bi5ZFMtQVVw.webm (pass -k to keep)\n",
            "[youtube] Extracting URL: https://www.youtube.com/watch?v=Le_a7ic_nDk\n",
            "[youtube] Le_a7ic_nDk: Downloading webpage\n",
            "[youtube] Le_a7ic_nDk: Downloading tv simply player API JSON\n",
            "[youtube] Le_a7ic_nDk: Downloading tv client config\n",
            "[youtube] Le_a7ic_nDk: Downloading tv player API JSON\n",
            "[info] Le_a7ic_nDk: Downloading 1 format(s): 251\n",
            "[download] Sleeping 4.00 seconds as required by the site...\n",
            "[download] Destination: /content/drive/MyDrive/dhivehi_audios/Le_a7ic_nDk.webm\n",
            "\u001b[K[download] 100% of   17.73MiB in \u001b[1;37m00:00:06\u001b[0m at \u001b[0;32m2.89MiB/s\u001b[0m\n",
            "[ExtractAudio] Destination: /content/drive/MyDrive/dhivehi_audios/Le_a7ic_nDk.wav\n",
            "Deleting original file /content/drive/MyDrive/dhivehi_audios/Le_a7ic_nDk.webm (pass -k to keep)\n",
            "[youtube] Extracting URL: https://www.youtube.com/watch?v=Mp9MhaDxf1I\n",
            "[youtube] Mp9MhaDxf1I: Downloading webpage\n",
            "[youtube] Mp9MhaDxf1I: Downloading tv simply player API JSON\n",
            "[youtube] Mp9MhaDxf1I: Downloading tv client config\n",
            "[youtube] Mp9MhaDxf1I: Downloading tv player API JSON\n",
            "[info] Mp9MhaDxf1I: Downloading 1 format(s): 251\n",
            "[download] Sleeping 3.00 seconds as required by the site...\n",
            "[download] Destination: /content/drive/MyDrive/dhivehi_audios/Mp9MhaDxf1I.webm\n",
            "\u001b[K[download] 100% of   64.20MiB in \u001b[1;37m00:00:11\u001b[0m at \u001b[0;32m5.47MiB/s\u001b[0m\n",
            "[ExtractAudio] Destination: /content/drive/MyDrive/dhivehi_audios/Mp9MhaDxf1I.wav\n",
            "Deleting original file /content/drive/MyDrive/dhivehi_audios/Mp9MhaDxf1I.webm (pass -k to keep)\n",
            "[youtube] Extracting URL: https://www.youtube.com/watch?v=cSjvfspUaT4\n",
            "[youtube] cSjvfspUaT4: Downloading webpage\n",
            "[youtube] cSjvfspUaT4: Downloading tv simply player API JSON\n",
            "[youtube] cSjvfspUaT4: Downloading tv client config\n",
            "[youtube] cSjvfspUaT4: Downloading tv player API JSON\n",
            "[info] cSjvfspUaT4: Downloading 1 format(s): 251\n",
            "[download] Sleeping 4.00 seconds as required by the site...\n",
            "[download] Destination: /content/drive/MyDrive/dhivehi_audios/cSjvfspUaT4.webm\n",
            "\u001b[K[download] 100% of   82.18MiB in \u001b[1;37m00:00:07\u001b[0m at \u001b[0;32m10.90MiB/s\u001b[0m\n",
            "[ExtractAudio] Destination: /content/drive/MyDrive/dhivehi_audios/cSjvfspUaT4.wav\n",
            "Deleting original file /content/drive/MyDrive/dhivehi_audios/cSjvfspUaT4.webm (pass -k to keep)\n",
            "[youtube] Extracting URL: https://www.youtube.com/watch?v=km7OJpIrx1M\n",
            "[youtube] km7OJpIrx1M: Downloading webpage\n",
            "[youtube] km7OJpIrx1M: Downloading tv simply player API JSON\n",
            "[youtube] km7OJpIrx1M: Downloading tv client config\n",
            "[youtube] km7OJpIrx1M: Downloading tv player API JSON\n",
            "[info] km7OJpIrx1M: Downloading 1 format(s): 251\n",
            "[download] Sleeping 2.00 seconds as required by the site...\n",
            "[download] Destination: /content/drive/MyDrive/dhivehi_audios/km7OJpIrx1M.webm\n",
            "\u001b[K[download] 100% of   48.97MiB in \u001b[1;37m00:00:06\u001b[0m at \u001b[0;32m7.36MiB/s\u001b[0m\n",
            "[ExtractAudio] Destination: /content/drive/MyDrive/dhivehi_audios/km7OJpIrx1M.wav\n",
            "Deleting original file /content/drive/MyDrive/dhivehi_audios/km7OJpIrx1M.webm (pass -k to keep)\n",
            "[youtube] Extracting URL: https://www.youtube.com/watch?v=0kGhQr7_23c\n",
            "[youtube] 0kGhQr7_23c: Downloading webpage\n",
            "[youtube] 0kGhQr7_23c: Downloading tv simply player API JSON\n",
            "[youtube] 0kGhQr7_23c: Downloading tv client config\n",
            "[youtube] 0kGhQr7_23c: Downloading tv player API JSON\n",
            "[info] 0kGhQr7_23c: Downloading 1 format(s): 251\n",
            "[download] Sleeping 3.00 seconds as required by the site...\n",
            "[download] Destination: /content/drive/MyDrive/dhivehi_audios/0kGhQr7_23c.webm\n",
            "\u001b[K[download] 100% of   46.92MiB in \u001b[1;37m00:00:14\u001b[0m at \u001b[0;32m3.28MiB/s\u001b[0m\n",
            "[ExtractAudio] Destination: /content/drive/MyDrive/dhivehi_audios/0kGhQr7_23c.wav\n",
            "Deleting original file /content/drive/MyDrive/dhivehi_audios/0kGhQr7_23c.webm (pass -k to keep)\n",
            "[youtube] Extracting URL: https://www.youtube.com/watch?v=ovbNW9Ws0bE\n",
            "[youtube] ovbNW9Ws0bE: Downloading webpage\n",
            "[youtube] ovbNW9Ws0bE: Downloading tv simply player API JSON\n",
            "[youtube] ovbNW9Ws0bE: Downloading tv client config\n",
            "[youtube] ovbNW9Ws0bE: Downloading tv player API JSON\n",
            "[info] ovbNW9Ws0bE: Downloading 1 format(s): 251\n",
            "[download] Sleeping 4.00 seconds as required by the site...\n",
            "[download] Destination: /content/drive/MyDrive/dhivehi_audios/ovbNW9Ws0bE.webm\n",
            "\u001b[K[download] 100% of   29.25MiB in \u001b[1;37m00:00:09\u001b[0m at \u001b[0;32m3.24MiB/s\u001b[0m\n",
            "[ExtractAudio] Destination: /content/drive/MyDrive/dhivehi_audios/ovbNW9Ws0bE.wav\n",
            "Deleting original file /content/drive/MyDrive/dhivehi_audios/ovbNW9Ws0bE.webm (pass -k to keep)\n",
            "[youtube] Extracting URL: https://www.youtube.com/watch?v=8QQsboZgJJk\n",
            "[youtube] 8QQsboZgJJk: Downloading webpage\n",
            "[youtube] 8QQsboZgJJk: Downloading tv simply player API JSON\n",
            "[youtube] 8QQsboZgJJk: Downloading tv client config\n",
            "[youtube] 8QQsboZgJJk: Downloading tv player API JSON\n",
            "[info] 8QQsboZgJJk: Downloading 1 format(s): 251\n",
            "[download] Destination: /content/drive/MyDrive/dhivehi_audios/8QQsboZgJJk.webm\n",
            "\u001b[K[download] 100% of   59.88MiB in \u001b[1;37m00:00:11\u001b[0m at \u001b[0;32m5.39MiB/s\u001b[0m\n",
            "[ExtractAudio] Destination: /content/drive/MyDrive/dhivehi_audios/8QQsboZgJJk.wav\n",
            "Deleting original file /content/drive/MyDrive/dhivehi_audios/8QQsboZgJJk.webm (pass -k to keep)\n",
            "[youtube] Extracting URL: https://www.youtube.com/watch?v=C2XMBCHPyeM\n",
            "[youtube] C2XMBCHPyeM: Downloading webpage\n",
            "[youtube] C2XMBCHPyeM: Downloading tv simply player API JSON\n",
            "[youtube] C2XMBCHPyeM: Downloading tv client config\n",
            "[youtube] C2XMBCHPyeM: Downloading tv player API JSON\n",
            "[info] C2XMBCHPyeM: Downloading 1 format(s): 251\n",
            "[download] Sleeping 3.00 seconds as required by the site...\n",
            "[download] Destination: /content/drive/MyDrive/dhivehi_audios/C2XMBCHPyeM.webm\n",
            "\u001b[K[download] 100% of    4.89MiB in \u001b[1;37m00:00:00\u001b[0m at \u001b[0;32m5.86MiB/s\u001b[0m\n",
            "[ExtractAudio] Destination: /content/drive/MyDrive/dhivehi_audios/C2XMBCHPyeM.wav\n",
            "Deleting original file /content/drive/MyDrive/dhivehi_audios/C2XMBCHPyeM.webm (pass -k to keep)\n",
            "[youtube] Extracting URL: https://www.youtube.com/watch?v=8gCC9xhAL8U\n",
            "[youtube] 8gCC9xhAL8U: Downloading webpage\n",
            "[youtube] 8gCC9xhAL8U: Downloading tv simply player API JSON\n",
            "[youtube] 8gCC9xhAL8U: Downloading tv client config\n",
            "[youtube] 8gCC9xhAL8U: Downloading tv player API JSON\n",
            "[info] 8gCC9xhAL8U: Downloading 1 format(s): 251\n",
            "[download] Sleeping 2.00 seconds as required by the site...\n",
            "[download] Destination: /content/drive/MyDrive/dhivehi_audios/8gCC9xhAL8U.webm\n",
            "\u001b[K[download] 100% of    4.04MiB in \u001b[1;37m00:00:01\u001b[0m at \u001b[0;32m2.79MiB/s\u001b[0m\n",
            "[ExtractAudio] Destination: /content/drive/MyDrive/dhivehi_audios/8gCC9xhAL8U.wav\n",
            "Deleting original file /content/drive/MyDrive/dhivehi_audios/8gCC9xhAL8U.webm (pass -k to keep)\n",
            "[youtube] Extracting URL: https://www.youtube.com/watch?v=lwhyn1ZQsZw\n",
            "[youtube] lwhyn1ZQsZw: Downloading webpage\n",
            "[youtube] lwhyn1ZQsZw: Downloading tv simply player API JSON\n",
            "[youtube] lwhyn1ZQsZw: Downloading tv client config\n",
            "[youtube] lwhyn1ZQsZw: Downloading tv player API JSON\n",
            "[info] lwhyn1ZQsZw: Downloading 1 format(s): 251\n",
            "[download] Sleeping 4.00 seconds as required by the site...\n",
            "[download] Destination: /content/drive/MyDrive/dhivehi_audios/lwhyn1ZQsZw.webm\n",
            "\u001b[K[download] 100% of   58.57MiB in \u001b[1;37m00:00:11\u001b[0m at \u001b[0;32m4.91MiB/s\u001b[0m\n",
            "[ExtractAudio] Destination: /content/drive/MyDrive/dhivehi_audios/lwhyn1ZQsZw.wav\n",
            "Deleting original file /content/drive/MyDrive/dhivehi_audios/lwhyn1ZQsZw.webm (pass -k to keep)\n",
            "[youtube] Extracting URL: https://www.youtube.com/watch?v=fOWVHQsFQ3E\n",
            "[youtube] fOWVHQsFQ3E: Downloading webpage\n",
            "[youtube] fOWVHQsFQ3E: Downloading tv simply player API JSON\n",
            "[youtube] fOWVHQsFQ3E: Downloading tv client config\n",
            "[youtube] fOWVHQsFQ3E: Downloading tv player API JSON\n",
            "[info] fOWVHQsFQ3E: Downloading 1 format(s): 251\n",
            "[download] Sleeping 4.00 seconds as required by the site...\n",
            "[download] Destination: /content/drive/MyDrive/dhivehi_audios/fOWVHQsFQ3E.webm\n",
            "\u001b[K[download] 100% of   41.20MiB in \u001b[1;37m00:00:06\u001b[0m at \u001b[0;32m6.01MiB/s\u001b[0m\n",
            "[ExtractAudio] Destination: /content/drive/MyDrive/dhivehi_audios/fOWVHQsFQ3E.wav\n",
            "Deleting original file /content/drive/MyDrive/dhivehi_audios/fOWVHQsFQ3E.webm (pass -k to keep)\n",
            "[youtube] Extracting URL: https://www.youtube.com/watch?v=XGU7oD9JVhU\n",
            "[youtube] XGU7oD9JVhU: Downloading webpage\n",
            "[youtube] XGU7oD9JVhU: Downloading tv simply player API JSON\n",
            "[youtube] XGU7oD9JVhU: Downloading tv client config\n",
            "[youtube] XGU7oD9JVhU: Downloading tv player API JSON\n",
            "[info] XGU7oD9JVhU: Downloading 1 format(s): 251\n",
            "[download] Sleeping 4.00 seconds as required by the site...\n",
            "[download] Destination: /content/drive/MyDrive/dhivehi_audios/XGU7oD9JVhU.webm\n",
            "\u001b[K[download] 100% of   55.20MiB in \u001b[1;37m00:00:19\u001b[0m at \u001b[0;32m2.87MiB/s\u001b[0m\n",
            "[ExtractAudio] Destination: /content/drive/MyDrive/dhivehi_audios/XGU7oD9JVhU.wav\n",
            "Deleting original file /content/drive/MyDrive/dhivehi_audios/XGU7oD9JVhU.webm (pass -k to keep)\n",
            "[youtube] Extracting URL: https://www.youtube.com/watch?v=5xL0H7kdWGM\n",
            "[youtube] 5xL0H7kdWGM: Downloading webpage\n",
            "[youtube] 5xL0H7kdWGM: Downloading tv simply player API JSON\n",
            "[youtube] 5xL0H7kdWGM: Downloading tv client config\n",
            "[youtube] 5xL0H7kdWGM: Downloading tv player API JSON\n",
            "[info] 5xL0H7kdWGM: Downloading 1 format(s): 251\n",
            "[download] Sleeping 2.00 seconds as required by the site...\n",
            "[download] Destination: /content/drive/MyDrive/dhivehi_audios/5xL0H7kdWGM.webm\n",
            "\u001b[K[download] 100% of  149.35MiB in \u001b[1;37m00:00:26\u001b[0m at \u001b[0;32m5.54MiB/s\u001b[0m\n",
            "[ExtractAudio] Destination: /content/drive/MyDrive/dhivehi_audios/5xL0H7kdWGM.wav\n",
            "Deleting original file /content/drive/MyDrive/dhivehi_audios/5xL0H7kdWGM.webm (pass -k to keep)\n",
            "[youtube] Extracting URL: https://www.youtube.com/watch?v=WuAMNLEZmI8\n",
            "[youtube] WuAMNLEZmI8: Downloading webpage\n",
            "[youtube] WuAMNLEZmI8: Downloading tv simply player API JSON\n",
            "[youtube] WuAMNLEZmI8: Downloading tv client config\n",
            "[youtube] WuAMNLEZmI8: Downloading tv player API JSON\n",
            "[info] WuAMNLEZmI8: Downloading 1 format(s): 251\n",
            "[download] Sleeping 2.00 seconds as required by the site...\n",
            "[download] Destination: /content/drive/MyDrive/dhivehi_audios/WuAMNLEZmI8.webm\n",
            "\u001b[K[download] 100% of    3.46MiB in \u001b[1;37m00:00:01\u001b[0m at \u001b[0;32m2.86MiB/s\u001b[0m\n",
            "[ExtractAudio] Destination: /content/drive/MyDrive/dhivehi_audios/WuAMNLEZmI8.wav\n",
            "Deleting original file /content/drive/MyDrive/dhivehi_audios/WuAMNLEZmI8.webm (pass -k to keep)\n",
            "[youtube] Extracting URL: https://www.youtube.com/watch?v=bAoWnQyBIWA\n",
            "[youtube] bAoWnQyBIWA: Downloading webpage\n",
            "[youtube] bAoWnQyBIWA: Downloading tv simply player API JSON\n",
            "[youtube] bAoWnQyBIWA: Downloading tv client config\n",
            "[youtube] bAoWnQyBIWA: Downloading tv player API JSON\n",
            "[info] bAoWnQyBIWA: Downloading 1 format(s): 251\n",
            "[download] Destination: /content/drive/MyDrive/dhivehi_audios/bAoWnQyBIWA.webm\n",
            "\u001b[K[download] 100% of   41.32MiB in \u001b[1;37m00:00:01\u001b[0m at \u001b[0;32m37.75MiB/s\u001b[0m\n",
            "[ExtractAudio] Destination: /content/drive/MyDrive/dhivehi_audios/bAoWnQyBIWA.wav\n",
            "Deleting original file /content/drive/MyDrive/dhivehi_audios/bAoWnQyBIWA.webm (pass -k to keep)\n",
            "[youtube] Extracting URL: https://www.youtube.com/watch?v=Y_Dc1Ro0M6g\n",
            "[youtube] Y_Dc1Ro0M6g: Downloading webpage\n",
            "[youtube] Y_Dc1Ro0M6g: Downloading tv simply player API JSON\n",
            "[youtube] Y_Dc1Ro0M6g: Downloading tv client config\n",
            "[youtube] Y_Dc1Ro0M6g: Downloading tv player API JSON\n",
            "[info] Y_Dc1Ro0M6g: Downloading 1 format(s): 251\n",
            "[download] Sleeping 4.00 seconds as required by the site...\n",
            "[download] Destination: /content/drive/MyDrive/dhivehi_audios/Y_Dc1Ro0M6g.webm\n",
            "\u001b[K[download] 100% of   25.82MiB in \u001b[1;37m00:00:04\u001b[0m at \u001b[0;32m6.06MiB/s\u001b[0m\n",
            "[ExtractAudio] Destination: /content/drive/MyDrive/dhivehi_audios/Y_Dc1Ro0M6g.wav\n",
            "Deleting original file /content/drive/MyDrive/dhivehi_audios/Y_Dc1Ro0M6g.webm (pass -k to keep)\n",
            "[youtube] Extracting URL: https://www.youtube.com/watch?v=oVVzkQKDHKk\n",
            "[youtube] oVVzkQKDHKk: Downloading webpage\n",
            "[youtube] oVVzkQKDHKk: Downloading tv simply player API JSON\n",
            "[youtube] oVVzkQKDHKk: Downloading tv client config\n",
            "[youtube] oVVzkQKDHKk: Downloading tv player API JSON\n",
            "[info] oVVzkQKDHKk: Downloading 1 format(s): 251\n",
            "[download] Sleeping 4.00 seconds as required by the site...\n",
            "[download] Destination: /content/drive/MyDrive/dhivehi_audios/oVVzkQKDHKk.webm\n",
            "\u001b[K[download] 100% of    4.64MiB in \u001b[1;37m00:00:00\u001b[0m at \u001b[0;32m14.09MiB/s\u001b[0m\n",
            "[ExtractAudio] Destination: /content/drive/MyDrive/dhivehi_audios/oVVzkQKDHKk.wav\n",
            "Deleting original file /content/drive/MyDrive/dhivehi_audios/oVVzkQKDHKk.webm (pass -k to keep)\n",
            "[youtube] Extracting URL: https://www.youtube.com/watch?v=5eV9Mm5jaeE\n",
            "[youtube] 5eV9Mm5jaeE: Downloading webpage\n",
            "[youtube] 5eV9Mm5jaeE: Downloading tv simply player API JSON\n",
            "[youtube] 5eV9Mm5jaeE: Downloading tv client config\n",
            "[youtube] 5eV9Mm5jaeE: Downloading tv player API JSON\n",
            "[info] 5eV9Mm5jaeE: Downloading 1 format(s): 251\n",
            "[download] Sleeping 3.00 seconds as required by the site...\n",
            "[download] Destination: /content/drive/MyDrive/dhivehi_audios/5eV9Mm5jaeE.webm\n",
            "\u001b[K[download] 100% of   15.25MiB in \u001b[1;37m00:00:02\u001b[0m at \u001b[0;32m6.89MiB/s\u001b[0m\n",
            "[ExtractAudio] Destination: /content/drive/MyDrive/dhivehi_audios/5eV9Mm5jaeE.wav\n",
            "Deleting original file /content/drive/MyDrive/dhivehi_audios/5eV9Mm5jaeE.webm (pass -k to keep)\n",
            "[youtube] Extracting URL: https://www.youtube.com/watch?v=g7j4satykWU\n",
            "[youtube] g7j4satykWU: Downloading webpage\n",
            "[youtube] g7j4satykWU: Downloading tv simply player API JSON\n",
            "[youtube] g7j4satykWU: Downloading tv client config\n",
            "[youtube] g7j4satykWU: Downloading tv player API JSON\n",
            "[info] g7j4satykWU: Downloading 1 format(s): 251\n",
            "[download] Sleeping 3.00 seconds as required by the site...\n",
            "[download] Destination: /content/drive/MyDrive/dhivehi_audios/g7j4satykWU.webm\n",
            "\u001b[K[download] 100% of   46.89MiB in \u001b[1;37m00:00:09\u001b[0m at \u001b[0;32m5.13MiB/s\u001b[0m\n",
            "[ExtractAudio] Destination: /content/drive/MyDrive/dhivehi_audios/g7j4satykWU.wav\n",
            "Deleting original file /content/drive/MyDrive/dhivehi_audios/g7j4satykWU.webm (pass -k to keep)\n",
            "[youtube] Extracting URL: https://www.youtube.com/watch?v=FI5GcSNnrqg\n",
            "[youtube] FI5GcSNnrqg: Downloading webpage\n",
            "[youtube] FI5GcSNnrqg: Downloading tv simply player API JSON\n",
            "[youtube] FI5GcSNnrqg: Downloading tv client config\n",
            "[youtube] FI5GcSNnrqg: Downloading tv player API JSON\n",
            "[info] FI5GcSNnrqg: Downloading 1 format(s): 251\n",
            "[download] Sleeping 3.00 seconds as required by the site...\n",
            "[download] Destination: /content/drive/MyDrive/dhivehi_audios/FI5GcSNnrqg.webm\n",
            "\u001b[K[download] 100% of   39.09MiB in \u001b[1;37m00:00:01\u001b[0m at \u001b[0;32m37.59MiB/s\u001b[0m\n",
            "[ExtractAudio] Destination: /content/drive/MyDrive/dhivehi_audios/FI5GcSNnrqg.wav\n",
            "Deleting original file /content/drive/MyDrive/dhivehi_audios/FI5GcSNnrqg.webm (pass -k to keep)\n",
            "[youtube] Extracting URL: https://www.youtube.com/watch?v=0pG7xOICpr4\n",
            "[youtube] 0pG7xOICpr4: Downloading webpage\n",
            "[youtube] 0pG7xOICpr4: Downloading tv simply player API JSON\n",
            "[youtube] 0pG7xOICpr4: Downloading tv client config\n",
            "[youtube] 0pG7xOICpr4: Downloading tv player API JSON\n",
            "[info] 0pG7xOICpr4: Downloading 1 format(s): 251\n",
            "[download] Sleeping 2.00 seconds as required by the site...\n",
            "[download] Destination: /content/drive/MyDrive/dhivehi_audios/0pG7xOICpr4.webm\n",
            "\u001b[K[download] 100% of   23.69MiB in \u001b[1;37m00:00:05\u001b[0m at \u001b[0;32m4.54MiB/s\u001b[0m\n",
            "[ExtractAudio] Destination: /content/drive/MyDrive/dhivehi_audios/0pG7xOICpr4.wav\n",
            "Deleting original file /content/drive/MyDrive/dhivehi_audios/0pG7xOICpr4.webm (pass -k to keep)\n",
            "[youtube] Extracting URL: https://www.youtube.com/watch?v=ZdtQhM2kWi4\n",
            "[youtube] ZdtQhM2kWi4: Downloading webpage\n",
            "[youtube] ZdtQhM2kWi4: Downloading tv simply player API JSON\n",
            "[youtube] ZdtQhM2kWi4: Downloading tv client config\n",
            "[youtube] ZdtQhM2kWi4: Downloading tv player API JSON\n",
            "[info] ZdtQhM2kWi4: Downloading 1 format(s): 251\n",
            "[download] Sleeping 2.00 seconds as required by the site...\n",
            "[download] Destination: /content/drive/MyDrive/dhivehi_audios/ZdtQhM2kWi4.webm\n",
            "\u001b[K[download] 100% of   93.98MiB in \u001b[1;37m00:00:02\u001b[0m at \u001b[0;32m46.71MiB/s\u001b[0m\n",
            "[ExtractAudio] Destination: /content/drive/MyDrive/dhivehi_audios/ZdtQhM2kWi4.wav\n",
            "Deleting original file /content/drive/MyDrive/dhivehi_audios/ZdtQhM2kWi4.webm (pass -k to keep)\n",
            "[youtube] Extracting URL: https://www.youtube.com/watch?v=d1vg3Y0KIuI\n",
            "[youtube] d1vg3Y0KIuI: Downloading webpage\n",
            "[youtube] d1vg3Y0KIuI: Downloading tv simply player API JSON\n",
            "[youtube] d1vg3Y0KIuI: Downloading tv client config\n",
            "[youtube] d1vg3Y0KIuI: Downloading tv player API JSON\n",
            "[info] d1vg3Y0KIuI: Downloading 1 format(s): 251\n",
            "[download] Sleeping 3.00 seconds as required by the site...\n",
            "[download] Destination: /content/drive/MyDrive/dhivehi_audios/d1vg3Y0KIuI.webm\n",
            "\u001b[K[download] 100% of   18.92MiB in \u001b[1;37m00:00:05\u001b[0m at \u001b[0;32m3.57MiB/s\u001b[0m\n",
            "[ExtractAudio] Destination: /content/drive/MyDrive/dhivehi_audios/d1vg3Y0KIuI.wav\n",
            "Deleting original file /content/drive/MyDrive/dhivehi_audios/d1vg3Y0KIuI.webm (pass -k to keep)\n",
            "[youtube] Extracting URL: https://www.youtube.com/watch?v=IXCcK1OegFU\n",
            "[youtube] IXCcK1OegFU: Downloading webpage\n",
            "[youtube] IXCcK1OegFU: Downloading tv simply player API JSON\n",
            "[youtube] IXCcK1OegFU: Downloading tv client config\n",
            "[youtube] IXCcK1OegFU: Downloading tv player API JSON\n",
            "\u001b[0;31mERROR:\u001b[0m [youtube] IXCcK1OegFU: Sign in to confirm you’re not a bot. Use --cookies-from-browser or --cookies for the authentication. See  https://github.com/yt-dlp/yt-dlp/wiki/FAQ#how-do-i-pass-cookies-to-yt-dlp  for how to manually pass cookies. Also see  https://github.com/yt-dlp/yt-dlp/wiki/Extractors#exporting-youtube-cookies  for tips on effectively exporting YouTube cookies\n",
            "[youtube] Extracting URL: https://www.youtube.com/watch?v=JvGLOma4jeQ\n",
            "[youtube] JvGLOma4jeQ: Downloading webpage\n",
            "[youtube] JvGLOma4jeQ: Downloading tv simply player API JSON\n",
            "[youtube] JvGLOma4jeQ: Downloading tv client config\n",
            "[youtube] JvGLOma4jeQ: Downloading tv player API JSON\n",
            "\u001b[0;31mERROR:\u001b[0m [youtube] JvGLOma4jeQ: Sign in to confirm you’re not a bot. Use --cookies-from-browser or --cookies for the authentication. See  https://github.com/yt-dlp/yt-dlp/wiki/FAQ#how-do-i-pass-cookies-to-yt-dlp  for how to manually pass cookies. Also see  https://github.com/yt-dlp/yt-dlp/wiki/Extractors#exporting-youtube-cookies  for tips on effectively exporting YouTube cookies\n",
            "[youtube] Extracting URL: https://www.youtube.com/watch?v=aDZ7k9_yKbI\n",
            "[youtube] aDZ7k9_yKbI: Downloading webpage\n",
            "[youtube] aDZ7k9_yKbI: Downloading tv simply player API JSON\n",
            "[youtube] aDZ7k9_yKbI: Downloading tv client config\n",
            "[youtube] aDZ7k9_yKbI: Downloading tv player API JSON\n",
            "\u001b[0;31mERROR:\u001b[0m [youtube] aDZ7k9_yKbI: Sign in to confirm you’re not a bot. Use --cookies-from-browser or --cookies for the authentication. See  https://github.com/yt-dlp/yt-dlp/wiki/FAQ#how-do-i-pass-cookies-to-yt-dlp  for how to manually pass cookies. Also see  https://github.com/yt-dlp/yt-dlp/wiki/Extractors#exporting-youtube-cookies  for tips on effectively exporting YouTube cookies\n",
            "✅ All unique audio files downloaded to Google Drive.\n"
          ]
        }
      ],
      "source": [
        "# -----------------------------\n",
        "clean_links = list(set([link.split(\"&\")[0].strip('\"') for link in raw_links]))\n",
        "print(f\"✅ Total unique links: {len(clean_links)}\")\n",
        "\n",
        "# -----------------------------\n",
        "# STEP 6: Download audio files\n",
        "# -----------------------------\n",
        "for link in clean_links:\n",
        "    !yt-dlp -x --audio-format wav -o \"{audio_folder}/%(id)s.%(ext)s\" {link}\n",
        "\n",
        "print(\"✅ All unique audio files downloaded to Google Drive.\")"
      ]
    },
    {
      "cell_type": "code",
      "execution_count": null,
      "metadata": {
        "colab": {
          "base_uri": "https://localhost:8080/"
        },
        "id": "fLlcGimij25d",
        "outputId": "d41d917c-d677-4eca-cef7-be8499469ec7"
      },
      "outputs": [
        {
          "name": "stdout",
          "output_type": "stream",
          "text": [
            "✅ Total audio files: 99\n",
            "🔹 First 10 files: ['8Vzoxz8b2as.wav', 'AdtFTnhmIGM.wav', 'Pfx_3cz2-Uo.wav', 'PmQ3XfsOQSM.wav', '_lze10rTZVQ.wav', 'WsDPnAtPDRo.wav', 'ibaiMau81Ts.wav', 'vMYsIBi3ueo.wav', '6-748dE3RZ0.wav', 'gho6tzNLsDg.wav']\n"
          ]
        }
      ],
      "source": [
        "  import os\n",
        "\n",
        "files = os.listdir(audio_folder)\n",
        "print(\"✅ Total audio files:\", len(files))\n",
        "print(\"🔹 First 10 files:\", files[:10])\n"
      ]
    },
    {
      "cell_type": "code",
      "execution_count": null,
      "metadata": {
        "colab": {
          "base_uri": "https://localhost:8080/"
        },
        "id": "aQwInvwqzvYO",
        "outputId": "317d0105-7fa9-4011-91d0-ba5fd32bf6b6"
      },
      "outputs": [
        {
          "name": "stdout",
          "output_type": "stream",
          "text": [
            "Requirement already satisfied: librosa in /usr/local/lib/python3.12/dist-packages (0.11.0)\n",
            "Requirement already satisfied: soundfile in /usr/local/lib/python3.12/dist-packages (0.13.1)\n",
            "Requirement already satisfied: audioread>=2.1.9 in /usr/local/lib/python3.12/dist-packages (from librosa) (3.0.1)\n",
            "Requirement already satisfied: numba>=0.51.0 in /usr/local/lib/python3.12/dist-packages (from librosa) (0.60.0)\n",
            "Requirement already satisfied: numpy>=1.22.3 in /usr/local/lib/python3.12/dist-packages (from librosa) (2.0.2)\n",
            "Requirement already satisfied: scipy>=1.6.0 in /usr/local/lib/python3.12/dist-packages (from librosa) (1.16.1)\n",
            "Requirement already satisfied: scikit-learn>=1.1.0 in /usr/local/lib/python3.12/dist-packages (from librosa) (1.6.1)\n",
            "Requirement already satisfied: joblib>=1.0 in /usr/local/lib/python3.12/dist-packages (from librosa) (1.5.2)\n",
            "Requirement already satisfied: decorator>=4.3.0 in /usr/local/lib/python3.12/dist-packages (from librosa) (4.4.2)\n",
            "Requirement already satisfied: pooch>=1.1 in /usr/local/lib/python3.12/dist-packages (from librosa) (1.8.2)\n",
            "Requirement already satisfied: soxr>=0.3.2 in /usr/local/lib/python3.12/dist-packages (from librosa) (1.0.0)\n",
            "Requirement already satisfied: typing_extensions>=4.1.1 in /usr/local/lib/python3.12/dist-packages (from librosa) (4.15.0)\n",
            "Requirement already satisfied: lazy_loader>=0.1 in /usr/local/lib/python3.12/dist-packages (from librosa) (0.4)\n",
            "Requirement already satisfied: msgpack>=1.0 in /usr/local/lib/python3.12/dist-packages (from librosa) (1.1.1)\n",
            "Requirement already satisfied: cffi>=1.0 in /usr/local/lib/python3.12/dist-packages (from soundfile) (2.0.0)\n",
            "Requirement already satisfied: pycparser in /usr/local/lib/python3.12/dist-packages (from cffi>=1.0->soundfile) (2.23)\n",
            "Requirement already satisfied: packaging in /usr/local/lib/python3.12/dist-packages (from lazy_loader>=0.1->librosa) (25.0)\n",
            "Requirement already satisfied: llvmlite<0.44,>=0.43.0dev0 in /usr/local/lib/python3.12/dist-packages (from numba>=0.51.0->librosa) (0.43.0)\n",
            "Requirement already satisfied: platformdirs>=2.5.0 in /usr/local/lib/python3.12/dist-packages (from pooch>=1.1->librosa) (4.4.0)\n",
            "Requirement already satisfied: requests>=2.19.0 in /usr/local/lib/python3.12/dist-packages (from pooch>=1.1->librosa) (2.32.4)\n",
            "Requirement already satisfied: threadpoolctl>=3.1.0 in /usr/local/lib/python3.12/dist-packages (from scikit-learn>=1.1.0->librosa) (3.6.0)\n",
            "Requirement already satisfied: charset_normalizer<4,>=2 in /usr/local/lib/python3.12/dist-packages (from requests>=2.19.0->pooch>=1.1->librosa) (3.4.3)\n",
            "Requirement already satisfied: idna<4,>=2.5 in /usr/local/lib/python3.12/dist-packages (from requests>=2.19.0->pooch>=1.1->librosa) (3.10)\n",
            "Requirement already satisfied: urllib3<3,>=1.21.1 in /usr/local/lib/python3.12/dist-packages (from requests>=2.19.0->pooch>=1.1->librosa) (2.5.0)\n",
            "Requirement already satisfied: certifi>=2017.4.17 in /usr/local/lib/python3.12/dist-packages (from requests>=2.19.0->pooch>=1.1->librosa) (2025.8.3)\n"
          ]
        },
        {
          "name": "stderr",
          "output_type": "stream",
          "text": [
            "/tmp/ipython-input-1318863110.py:10: FutureWarning: get_duration() keyword argument 'filename' has been renamed to 'path' in version 0.10.0.\n",
            "\tThis alias will be removed in version 1.0.\n",
            "  duration = librosa.get_duration(filename=path)\n"
          ]
        },
        {
          "name": "stdout",
          "output_type": "stream",
          "text": [
            "⏱️ Total Duration: 96.82 hours\n"
          ]
        }
      ],
      "source": [
        "!pip install librosa soundfile\n",
        "\n",
        "import librosa, os\n",
        "\n",
        "total_seconds = 0\n",
        "for f in os.listdir(audio_folder):\n",
        "    if f.endswith(\".wav\"):\n",
        "        path = os.path.join(audio_folder, f)\n",
        "        try:\n",
        "            duration = librosa.get_duration(filename=path)\n",
        "            total_seconds += duration\n",
        "        except Exception as e:\n",
        "            print(\"❌ Error with:\", f, e)\n",
        "\n",
        "print(f\"⏱️ Total Duration: {total_seconds/3600:.2f} hours\")\n"
      ]
    },
    {
      "cell_type": "code",
      "execution_count": null,
      "metadata": {
        "colab": {
          "base_uri": "https://localhost:8080/"
        },
        "id": "vedGdt_Nz_oC",
        "outputId": "0ed2f281-889b-4835-c002-68e0619da5ba"
      },
      "outputs": [
        {
          "name": "stdout",
          "output_type": "stream",
          "text": [
            "Requirement already satisfied: pydub in /usr/local/lib/python3.12/dist-packages (0.25.1)\n"
          ]
        },
        {
          "name": "stderr",
          "output_type": "stream",
          "text": [
            "/usr/local/lib/python3.12/dist-packages/pydub/utils.py:300: SyntaxWarning: invalid escape sequence '\\('\n",
            "  m = re.match('([su]([0-9]{1,2})p?) \\(([0-9]{1,2}) bit\\)$', token)\n",
            "/usr/local/lib/python3.12/dist-packages/pydub/utils.py:301: SyntaxWarning: invalid escape sequence '\\('\n",
            "  m2 = re.match('([su]([0-9]{1,2})p?)( \\(default\\))?$', token)\n",
            "/usr/local/lib/python3.12/dist-packages/pydub/utils.py:310: SyntaxWarning: invalid escape sequence '\\('\n",
            "  elif re.match('(flt)p?( \\(default\\))?$', token):\n",
            "/usr/local/lib/python3.12/dist-packages/pydub/utils.py:314: SyntaxWarning: invalid escape sequence '\\('\n",
            "  elif re.match('(dbl)p?( \\(default\\))?$', token):\n"
          ]
        },
        {
          "name": "stdout",
          "output_type": "stream",
          "text": [
            "✅ All audio files have been split into 5-min chunks.\n"
          ]
        }
      ],
      "source": [
        "!pip install pydub\n",
        "\n",
        "from pydub import AudioSegment\n",
        "import os\n",
        "\n",
        "# Input & output folders\n",
        "input_folder = audio_folder\n",
        "chunks_folder = \"/content/drive/MyDrive/dhivehi_chunks_5min\"\n",
        "os.makedirs(chunks_folder, exist_ok=True)\n",
        "\n",
        "# Chunk length: 5 minutes\n",
        "chunk_length_ms = 5 * 60 * 1000\n",
        "\n",
        "for file in os.listdir(input_folder):\n",
        "    if file.endswith(\".wav\"):\n",
        "        file_path = os.path.join(input_folder, file)\n",
        "        audio = AudioSegment.from_wav(file_path)\n",
        "\n",
        "        # Split into 5-min chunks\n",
        "        for i, start in enumerate(range(0, len(audio), chunk_length_ms)):\n",
        "            chunk = audio[start:start + chunk_length_ms]\n",
        "            out_name = f\"{os.path.splitext(file)[0]}_part{i+1}.wav\"\n",
        "            out_path = os.path.join(chunks_folder, out_name)\n",
        "            chunk.export(out_path, format=\"wav\")\n",
        "\n",
        "print(\"✅ All audio files have been split into 5-min chunks.\")\n"
      ]
    },
    {
      "cell_type": "code",
      "execution_count": null,
      "metadata": {
        "colab": {
          "base_uri": "https://localhost:8080/"
        },
        "id": "ASipZSDI1EIx",
        "outputId": "ba89b1e2-25de-4f16-bfcf-55a7a2e87d4b"
      },
      "outputs": [
        {
          "name": "stdout",
          "output_type": "stream",
          "text": [
            "✅ Total chunk files: 1214\n",
            "📂 Example files: ['8Vzoxz8b2as_part1.wav', '8Vzoxz8b2as_part2.wav', '8Vzoxz8b2as_part3.wav', '8Vzoxz8b2as_part4.wav', '8Vzoxz8b2as_part5.wav', '8Vzoxz8b2as_part6.wav', 'AdtFTnhmIGM_part1.wav', 'AdtFTnhmIGM_part2.wav', 'AdtFTnhmIGM_part3.wav', 'AdtFTnhmIGM_part4.wav']\n"
          ]
        }
      ],
      "source": [
        " import os\n",
        "\n",
        "chunks_folder = \"/content/drive/MyDrive/dhivehi_chunks_5min\"\n",
        "chunk_files = [f for f in os.listdir(chunks_folder) if f.endswith(\".wav\")]\n",
        "\n",
        "print(f\"✅ Total chunk files: {len(chunk_files)}\")\n",
        "print(\"📂 Example files:\", chunk_files[:10])  # show first 10\n"
      ]
    },
    {
      "cell_type": "code",
      "execution_count": null,
      "metadata": {
        "colab": {
          "base_uri": "https://localhost:8080/"
        },
        "id": "zp-2XplW8nE7",
        "outputId": "358b893e-512f-4003-bb47-b81ed0b3f410"
      },
      "outputs": [
        {
          "name": "stdout",
          "output_type": "stream",
          "text": [
            "\u001b[?25l     \u001b[90m━━━━━━━━━━━━━━━━━━━━━━━━━━━━━━━━━━━━━━━━\u001b[0m \u001b[32m0.0/803.2 kB\u001b[0m \u001b[31m?\u001b[0m eta \u001b[36m-:--:--\u001b[0m\r",
            "\u001b[2K     \u001b[91m━━━━━━━━━━━━━\u001b[0m\u001b[90m╺\u001b[0m\u001b[90m━━━━━━━━━━━━━━━━━━━━━━━━━\u001b[0m \u001b[32m276.5/803.2 kB\u001b[0m \u001b[31m8.1 MB/s\u001b[0m eta \u001b[36m0:00:01\u001b[0m\r",
            "\u001b[2K     \u001b[90m━━━━━━━━━━━━━━━━━━━━━━━━━━━━━━━━━━━━━━\u001b[0m \u001b[32m803.2/803.2 kB\u001b[0m \u001b[31m11.6 MB/s\u001b[0m eta \u001b[36m0:00:00\u001b[0m\n",
            "\u001b[?25h  Installing build dependencies ... \u001b[?25l\u001b[?25hdone\n",
            "  Getting requirements to build wheel ... \u001b[?25l\u001b[?25hdone\n",
            "  Preparing metadata (pyproject.toml) ... \u001b[?25l\u001b[?25hdone\n",
            "  Building wheel for openai-whisper (pyproject.toml) ... \u001b[?25l\u001b[?25hdone\n"
          ]
        }
      ],
      "source": [
        "!pip install -q openai-whisper\n",
        "!pip install -q torch torchaudio tqdm pandas\n"
      ]
    },
    {
      "cell_type": "code",
      "execution_count": null,
      "metadata": {
        "colab": {
          "base_uri": "https://localhost:8080/"
        },
        "id": "7hTpUev9_igM",
        "outputId": "5dc06e73-8cde-4524-f4bf-c03f570e81c4"
      },
      "outputs": [
        {
          "name": "stdout",
          "output_type": "stream",
          "text": [
            "ℹ️ CSV does not exist, nothing to delete.\n"
          ]
        }
      ],
      "source": [
        "import os\n",
        "\n",
        "output_csv = \"/content/drive/MyDrive/dhivehi_transcriptions_deepgram.csv\"\n",
        "\n",
        "if os.path.exists(output_csv):\n",
        "    os.remove(output_csv)\n",
        "    print(f\"✅ Deleted existing CSV: {output_csv}\")\n",
        "else:\n",
        "    print(\"ℹ️ CSV does not exist, nothing to delete.\")\n"
      ]
    },
    {
      "cell_type": "code",
      "execution_count": null,
      "metadata": {
        "colab": {
          "base_uri": "https://localhost:8080/"
        },
        "id": "zDYvGo3gAkWH",
        "outputId": "4df2d789-2942-4603-df33-f2aaeb97e06c"
      },
      "outputs": [
        {
          "name": "stdout",
          "output_type": "stream",
          "text": [
            "✅ Deleted 0 files from /content/drive/MyDrive/dhivehi_transcriptions_folder\n"
          ]
        }
      ],
      "source": [
        "import os\n",
        "import glob\n",
        "\n",
        "transcription_folder = \"/content/drive/MyDrive/dhivehi_transcriptions_folder\"  # if you have one\n",
        "\n",
        "# Delete all files inside folder\n",
        "files = glob.glob(os.path.join(transcription_folder, \"*\"))\n",
        "for f in files:\n",
        "    os.remove(f)\n",
        "print(f\"✅ Deleted {len(files)} files from {transcription_folder}\")\n"
      ]
    },
    {
      "cell_type": "code",
      "execution_count": null,
      "metadata": {
        "colab": {
          "base_uri": "https://localhost:8080/"
        },
        "id": "_zkWiKxsJeUQ",
        "outputId": "8f957cce-e430-4999-82de-a9e1861209a8"
      },
      "outputs": [
        {
          "name": "stdout",
          "output_type": "stream",
          "text": [
            "✅ All files inside transcription folder have been deleted.\n"
          ]
        }
      ],
      "source": [
        "import os\n",
        "\n",
        "# Path to your transcription folder\n",
        "transcriptions_folder = \"/content/drive/MyDrive/dhivehi_transcriptions\"\n",
        "\n",
        "# Delete all files inside the folder\n",
        "if os.path.exists(transcriptions_folder):\n",
        "    for filename in os.listdir(transcriptions_folder):\n",
        "        file_path = os.path.join(transcriptions_folder, filename)\n",
        "        try:\n",
        "            if os.path.isfile(file_path) or os.path.islink(file_path):\n",
        "                os.unlink(file_path)  # remove file or link\n",
        "            elif os.path.isdir(file_path):\n",
        "                os.rmdir(file_path)   # remove empty subdirectory\n",
        "        except Exception as e:\n",
        "            print(f\"❌ Failed to delete {file_path}: {e}\")\n",
        "    print(\"✅ All files inside transcription folder have been deleted.\")\n",
        "else:\n",
        "    os.makedirs(transcriptions_folder, exist_ok=True)\n",
        "    print(\"📂 Transcription folder created and ready.\")\n"
      ]
    },
    {
      "cell_type": "code",
      "execution_count": null,
      "metadata": {
        "colab": {
          "base_uri": "https://localhost:8080/"
        },
        "id": "VCvn-xigJ6bj",
        "outputId": "6b4d634f-8447-4276-f479-7d7b1f81d1cf"
      },
      "outputs": [
        {
          "name": "stdout",
          "output_type": "stream",
          "text": [
            "📂 Total original audio files: 99\n",
            "📂 Total chunk files: 1214\n",
            "📄 Example audio files: ['8Vzoxz8b2as.wav', 'AdtFTnhmIGM.wav', 'Pfx_3cz2-Uo.wav', 'PmQ3XfsOQSM.wav', '_lze10rTZVQ.wav']\n",
            "📄 Example chunk files: ['8Vzoxz8b2as_part1.wav', '8Vzoxz8b2as_part2.wav', '8Vzoxz8b2as_part3.wav', '8Vzoxz8b2as_part4.wav', '8Vzoxz8b2as_part5.wav']\n"
          ]
        }
      ],
      "source": [
        "import os\n",
        "\n",
        "# Paths\n",
        "audio_folder = \"/content/drive/MyDrive/dhivehi_audios\"       # original audio files\n",
        "chunks_folder = \"/content/drive/MyDrive/dhivehi_chunks_5min\" # split chunks\n",
        "\n",
        "# Count files\n",
        "audio_files = [f for f in os.listdir(audio_folder) if f.endswith(\".wav\")]\n",
        "chunk_files = [f for f in os.listdir(chunks_folder) if f.endswith(\".wav\")]\n",
        "\n",
        "print(f\"📂 Total original audio files: {len(audio_files)}\")\n",
        "print(f\"📂 Total chunk files: {len(chunk_files)}\")\n",
        "print(\"📄 Example audio files:\", audio_files[:5])\n",
        "print(\"📄 Example chunk files:\", chunk_files[:5])\n"
      ]
    },
    {
      "cell_type": "code",
      "execution_count": null,
      "metadata": {
        "colab": {
          "base_uri": "https://localhost:8080/"
        },
        "id": "fdxxmjsDTgdD",
        "outputId": "d74cd9eb-31cf-4e65-e603-509709c405db"
      },
      "outputs": [
        {
          "name": "stdout",
          "output_type": "stream",
          "text": [
            "✅ Folder structure ready and files moved:\n",
            "- Audios: /content/drive/MyDrive/task_dhivehi/audios\n",
            "- Chunks: /content/drive/MyDrive/task_dhivehi/chunks\n",
            "- Transcriptions: /content/drive/MyDrive/task_dhivehi/transcriptions\n",
            "- Translations: /content/drive/MyDrive/task_dhivehi/translations\n"
          ]
        }
      ],
      "source": [
        "import os\n",
        "import shutil\n",
        "\n",
        "# 1️⃣ Paths for existing folders\n",
        "audio_folder = \"/content/drive/MyDrive/dhivehi_audios\"\n",
        "chunks_folder = \"/content/drive/MyDrive/dhivehi_chunks_5min\"\n",
        "\n",
        "# 2️⃣ Main task folder\n",
        "task_folder = \"/content/drive/MyDrive/task_dhivehi\"\n",
        "\n",
        "# 3️⃣ Subfolders inside task_dhivehi\n",
        "task_audios = os.path.join(task_folder, \"audios\")\n",
        "task_chunks = os.path.join(task_folder, \"chunks\")\n",
        "transcriptions_folder = os.path.join(task_folder, \"transcriptions\")\n",
        "translations_folder = os.path.join(task_folder, \"translations\")\n",
        "\n",
        "# 4️⃣ Create all folders\n",
        "for folder in [task_folder, task_audios, task_chunks, transcriptions_folder, translations_folder]:\n",
        "    os.makedirs(folder, exist_ok=True)\n",
        "\n",
        "# 5️⃣ Move existing audios and chunks into the task folder\n",
        "for f in os.listdir(audio_folder):\n",
        "    if f.endswith(\".wav\"):\n",
        "        shutil.move(os.path.join(audio_folder, f), os.path.join(task_audios, f))\n",
        "\n",
        "for f in os.listdir(chunks_folder):\n",
        "    if f.endswith(\".wav\"):\n",
        "        shutil.move(os.path.join(chunks_folder, f), os.path.join(task_chunks, f))\n",
        "\n",
        "print(\"✅ Folder structure ready and files moved:\")\n",
        "print(f\"- Audios: {task_audios}\")\n",
        "print(f\"- Chunks: {task_chunks}\")\n",
        "print(f\"- Transcriptions: {transcriptions_folder}\")\n",
        "print(f\"- Translations: {translations_folder}\")\n"
      ]
    },
    {
      "cell_type": "code",
      "execution_count": null,
      "metadata": {
        "colab": {
          "base_uri": "https://localhost:8080/"
        },
        "id": "wkxOXQTEUMuJ",
        "outputId": "3c0d134f-79f6-4eac-e22d-54d59c6b0b80"
      },
      "outputs": [
        {
          "name": "stdout",
          "output_type": "stream",
          "text": [
            "📁 Found 4 folders in '/content/drive/MyDrive/task_dhivehi':\n",
            "\n",
            "Folder: audios | Files: 99\n",
            "Folder: chunks | Files: 1214\n",
            "Folder: transcriptions | Files: 0\n",
            "Folder: translations | Files: 0\n"
          ]
        }
      ],
      "source": [
        "import os\n",
        "\n",
        "base_folder = \"/content/drive/MyDrive/task_dhivehi\"\n",
        "\n",
        "# List all subfolders\n",
        "subfolders = [f.path for f in os.scandir(base_folder) if f.is_dir()]\n",
        "print(f\"📁 Found {len(subfolders)} folders in '{base_folder}':\\n\")\n",
        "\n",
        "for folder in subfolders:\n",
        "    # Count files in each folder\n",
        "    files = [f for f in os.listdir(folder) if os.path.isfile(os.path.join(folder, f))]\n",
        "    print(f\"Folder: {os.path.basename(folder)} | Files: {len(files)}\")\n"
      ]
    },
    {
      "cell_type": "code",
      "execution_count": null,
      "metadata": {
        "colab": {
          "base_uri": "https://localhost:8080/"
        },
        "id": "H7mK2RZtXO13",
        "outputId": "7e468de3-1e37-4cd0-97e0-bee06823df1a"
      },
      "outputs": [
        {
          "name": "stdout",
          "output_type": "stream",
          "text": [
            "Collecting git+https://github.com/openai/whisper.git\n",
            "  Cloning https://github.com/openai/whisper.git to /tmp/pip-req-build-2zw6wubm\n",
            "  Running command git clone --filter=blob:none --quiet https://github.com/openai/whisper.git /tmp/pip-req-build-2zw6wubm\n",
            "  Resolved https://github.com/openai/whisper.git to commit c0d2f624c09dc18e709e37c2ad90c039a4eb72a2\n",
            "  Installing build dependencies ... \u001b[?25l\u001b[?25hdone\n",
            "  Getting requirements to build wheel ... \u001b[?25l\u001b[?25hdone\n",
            "  Preparing metadata (pyproject.toml) ... \u001b[?25l\u001b[?25hdone\n",
            "Requirement already satisfied: more-itertools in /usr/local/lib/python3.12/dist-packages (from openai-whisper==20250625) (10.8.0)\n",
            "Requirement already satisfied: numba in /usr/local/lib/python3.12/dist-packages (from openai-whisper==20250625) (0.60.0)\n",
            "Requirement already satisfied: numpy in /usr/local/lib/python3.12/dist-packages (from openai-whisper==20250625) (2.0.2)\n",
            "Requirement already satisfied: tiktoken in /usr/local/lib/python3.12/dist-packages (from openai-whisper==20250625) (0.11.0)\n",
            "Requirement already satisfied: torch in /usr/local/lib/python3.12/dist-packages (from openai-whisper==20250625) (2.8.0+cu126)\n",
            "Requirement already satisfied: tqdm in /usr/local/lib/python3.12/dist-packages (from openai-whisper==20250625) (4.67.1)\n",
            "Requirement already satisfied: triton>=2 in /usr/local/lib/python3.12/dist-packages (from openai-whisper==20250625) (3.4.0)\n",
            "Requirement already satisfied: setuptools>=40.8.0 in /usr/local/lib/python3.12/dist-packages (from triton>=2->openai-whisper==20250625) (75.2.0)\n",
            "Requirement already satisfied: llvmlite<0.44,>=0.43.0dev0 in /usr/local/lib/python3.12/dist-packages (from numba->openai-whisper==20250625) (0.43.0)\n",
            "Requirement already satisfied: regex>=2022.1.18 in /usr/local/lib/python3.12/dist-packages (from tiktoken->openai-whisper==20250625) (2024.11.6)\n",
            "Requirement already satisfied: requests>=2.26.0 in /usr/local/lib/python3.12/dist-packages (from tiktoken->openai-whisper==20250625) (2.32.4)\n",
            "Requirement already satisfied: filelock in /usr/local/lib/python3.12/dist-packages (from torch->openai-whisper==20250625) (3.19.1)\n",
            "Requirement already satisfied: typing-extensions>=4.10.0 in /usr/local/lib/python3.12/dist-packages (from torch->openai-whisper==20250625) (4.15.0)\n",
            "Requirement already satisfied: sympy>=1.13.3 in /usr/local/lib/python3.12/dist-packages (from torch->openai-whisper==20250625) (1.13.3)\n",
            "Requirement already satisfied: networkx in /usr/local/lib/python3.12/dist-packages (from torch->openai-whisper==20250625) (3.5)\n",
            "Requirement already satisfied: jinja2 in /usr/local/lib/python3.12/dist-packages (from torch->openai-whisper==20250625) (3.1.6)\n",
            "Requirement already satisfied: fsspec in /usr/local/lib/python3.12/dist-packages (from torch->openai-whisper==20250625) (2025.3.0)\n",
            "Requirement already satisfied: nvidia-cuda-nvrtc-cu12==12.6.77 in /usr/local/lib/python3.12/dist-packages (from torch->openai-whisper==20250625) (12.6.77)\n",
            "Requirement already satisfied: nvidia-cuda-runtime-cu12==12.6.77 in /usr/local/lib/python3.12/dist-packages (from torch->openai-whisper==20250625) (12.6.77)\n",
            "Requirement already satisfied: nvidia-cuda-cupti-cu12==12.6.80 in /usr/local/lib/python3.12/dist-packages (from torch->openai-whisper==20250625) (12.6.80)\n",
            "Requirement already satisfied: nvidia-cudnn-cu12==9.10.2.21 in /usr/local/lib/python3.12/dist-packages (from torch->openai-whisper==20250625) (9.10.2.21)\n",
            "Requirement already satisfied: nvidia-cublas-cu12==12.6.4.1 in /usr/local/lib/python3.12/dist-packages (from torch->openai-whisper==20250625) (12.6.4.1)\n",
            "Requirement already satisfied: nvidia-cufft-cu12==11.3.0.4 in /usr/local/lib/python3.12/dist-packages (from torch->openai-whisper==20250625) (11.3.0.4)\n",
            "Requirement already satisfied: nvidia-curand-cu12==10.3.7.77 in /usr/local/lib/python3.12/dist-packages (from torch->openai-whisper==20250625) (10.3.7.77)\n",
            "Requirement already satisfied: nvidia-cusolver-cu12==11.7.1.2 in /usr/local/lib/python3.12/dist-packages (from torch->openai-whisper==20250625) (11.7.1.2)\n",
            "Requirement already satisfied: nvidia-cusparse-cu12==12.5.4.2 in /usr/local/lib/python3.12/dist-packages (from torch->openai-whisper==20250625) (12.5.4.2)\n",
            "Requirement already satisfied: nvidia-cusparselt-cu12==0.7.1 in /usr/local/lib/python3.12/dist-packages (from torch->openai-whisper==20250625) (0.7.1)\n",
            "Requirement already satisfied: nvidia-nccl-cu12==2.27.3 in /usr/local/lib/python3.12/dist-packages (from torch->openai-whisper==20250625) (2.27.3)\n",
            "Requirement already satisfied: nvidia-nvtx-cu12==12.6.77 in /usr/local/lib/python3.12/dist-packages (from torch->openai-whisper==20250625) (12.6.77)\n",
            "Requirement already satisfied: nvidia-nvjitlink-cu12==12.6.85 in /usr/local/lib/python3.12/dist-packages (from torch->openai-whisper==20250625) (12.6.85)\n",
            "Requirement already satisfied: nvidia-cufile-cu12==1.11.1.6 in /usr/local/lib/python3.12/dist-packages (from torch->openai-whisper==20250625) (1.11.1.6)\n",
            "Requirement already satisfied: charset_normalizer<4,>=2 in /usr/local/lib/python3.12/dist-packages (from requests>=2.26.0->tiktoken->openai-whisper==20250625) (3.4.3)\n",
            "Requirement already satisfied: idna<4,>=2.5 in /usr/local/lib/python3.12/dist-packages (from requests>=2.26.0->tiktoken->openai-whisper==20250625) (3.10)\n",
            "Requirement already satisfied: urllib3<3,>=1.21.1 in /usr/local/lib/python3.12/dist-packages (from requests>=2.26.0->tiktoken->openai-whisper==20250625) (2.5.0)\n",
            "Requirement already satisfied: certifi>=2017.4.17 in /usr/local/lib/python3.12/dist-packages (from requests>=2.26.0->tiktoken->openai-whisper==20250625) (2025.8.3)\n",
            "Requirement already satisfied: mpmath<1.4,>=1.1.0 in /usr/local/lib/python3.12/dist-packages (from sympy>=1.13.3->torch->openai-whisper==20250625) (1.3.0)\n",
            "Requirement already satisfied: MarkupSafe>=2.0 in /usr/local/lib/python3.12/dist-packages (from jinja2->torch->openai-whisper==20250625) (3.0.2)\n",
            "Building wheels for collected packages: openai-whisper\n",
            "  Building wheel for openai-whisper (pyproject.toml) ... \u001b[?25l\u001b[?25hdone\n",
            "  Created wheel for openai-whisper: filename=openai_whisper-20250625-py3-none-any.whl size=803979 sha256=c6ea623f3641db0528635c2c153fc451152f654a96e0fdf57ecf47bd6c300130\n",
            "  Stored in directory: /tmp/pip-ephem-wheel-cache-wfzcvjeb/wheels/c3/03/25/5e0ba78bc27a3a089f137c9f1d92fdfce16d06996c071a016c\n",
            "Successfully built openai-whisper\n",
            "Installing collected packages: openai-whisper\n",
            "Successfully installed openai-whisper-20250625\n"
          ]
        }
      ],
      "source": [
        "pip install git+https://github.com/openai/whisper.git"
      ]
    },
    {
      "cell_type": "code",
      "execution_count": null,
      "metadata": {
        "colab": {
          "base_uri": "https://localhost:8080/"
        },
        "id": "KRCr--o_UErT",
        "outputId": "5a558806-0161-4d9c-e5d3-e6228621cda7"
      },
      "outputs": [
        {
          "name": "stdout",
          "output_type": "stream",
          "text": [
            "Collecting deepgram-sdk\n",
            "  Downloading deepgram_sdk-4.8.1-py3-none-any.whl.metadata (27 kB)\n",
            "Requirement already satisfied: aiofiles in /usr/local/lib/python3.12/dist-packages (24.1.0)\n",
            "Requirement already satisfied: tqdm in /usr/local/lib/python3.12/dist-packages (4.67.1)\n",
            "Requirement already satisfied: httpx>=0.25.2 in /usr/local/lib/python3.12/dist-packages (from deepgram-sdk) (0.28.1)\n",
            "Requirement already satisfied: websockets>=12.0 in /usr/local/lib/python3.12/dist-packages (from deepgram-sdk) (15.0.1)\n",
            "Collecting dataclasses-json>=0.6.3 (from deepgram-sdk)\n",
            "  Downloading dataclasses_json-0.6.7-py3-none-any.whl.metadata (25 kB)\n",
            "Requirement already satisfied: typing_extensions>=4.9.0 in /usr/local/lib/python3.12/dist-packages (from deepgram-sdk) (4.15.0)\n",
            "Requirement already satisfied: aiohttp>=3.9.1 in /usr/local/lib/python3.12/dist-packages (from deepgram-sdk) (3.12.15)\n",
            "Collecting aenum>=3.1.0 (from deepgram-sdk)\n",
            "  Downloading aenum-3.1.16-py3-none-any.whl.metadata (3.8 kB)\n",
            "Collecting deprecation>=2.1.0 (from deepgram-sdk)\n",
            "  Downloading deprecation-2.1.0-py2.py3-none-any.whl.metadata (4.6 kB)\n",
            "Requirement already satisfied: aiohappyeyeballs>=2.5.0 in /usr/local/lib/python3.12/dist-packages (from aiohttp>=3.9.1->deepgram-sdk) (2.6.1)\n",
            "Requirement already satisfied: aiosignal>=1.4.0 in /usr/local/lib/python3.12/dist-packages (from aiohttp>=3.9.1->deepgram-sdk) (1.4.0)\n",
            "Requirement already satisfied: attrs>=17.3.0 in /usr/local/lib/python3.12/dist-packages (from aiohttp>=3.9.1->deepgram-sdk) (25.3.0)\n",
            "Requirement already satisfied: frozenlist>=1.1.1 in /usr/local/lib/python3.12/dist-packages (from aiohttp>=3.9.1->deepgram-sdk) (1.7.0)\n",
            "Requirement already satisfied: multidict<7.0,>=4.5 in /usr/local/lib/python3.12/dist-packages (from aiohttp>=3.9.1->deepgram-sdk) (6.6.4)\n",
            "Requirement already satisfied: propcache>=0.2.0 in /usr/local/lib/python3.12/dist-packages (from aiohttp>=3.9.1->deepgram-sdk) (0.3.2)\n",
            "Requirement already satisfied: yarl<2.0,>=1.17.0 in /usr/local/lib/python3.12/dist-packages (from aiohttp>=3.9.1->deepgram-sdk) (1.20.1)\n",
            "Collecting marshmallow<4.0.0,>=3.18.0 (from dataclasses-json>=0.6.3->deepgram-sdk)\n",
            "  Downloading marshmallow-3.26.1-py3-none-any.whl.metadata (7.3 kB)\n",
            "Collecting typing-inspect<1,>=0.4.0 (from dataclasses-json>=0.6.3->deepgram-sdk)\n",
            "  Downloading typing_inspect-0.9.0-py3-none-any.whl.metadata (1.5 kB)\n",
            "Requirement already satisfied: packaging in /usr/local/lib/python3.12/dist-packages (from deprecation>=2.1.0->deepgram-sdk) (25.0)\n",
            "Requirement already satisfied: anyio in /usr/local/lib/python3.12/dist-packages (from httpx>=0.25.2->deepgram-sdk) (4.10.0)\n",
            "Requirement already satisfied: certifi in /usr/local/lib/python3.12/dist-packages (from httpx>=0.25.2->deepgram-sdk) (2025.8.3)\n",
            "Requirement already satisfied: httpcore==1.* in /usr/local/lib/python3.12/dist-packages (from httpx>=0.25.2->deepgram-sdk) (1.0.9)\n",
            "Requirement already satisfied: idna in /usr/local/lib/python3.12/dist-packages (from httpx>=0.25.2->deepgram-sdk) (3.10)\n",
            "Requirement already satisfied: h11>=0.16 in /usr/local/lib/python3.12/dist-packages (from httpcore==1.*->httpx>=0.25.2->deepgram-sdk) (0.16.0)\n",
            "Collecting mypy-extensions>=0.3.0 (from typing-inspect<1,>=0.4.0->dataclasses-json>=0.6.3->deepgram-sdk)\n",
            "  Downloading mypy_extensions-1.1.0-py3-none-any.whl.metadata (1.1 kB)\n",
            "Requirement already satisfied: sniffio>=1.1 in /usr/local/lib/python3.12/dist-packages (from anyio->httpx>=0.25.2->deepgram-sdk) (1.3.1)\n",
            "Downloading deepgram_sdk-4.8.1-py3-none-any.whl (157 kB)\n",
            "\u001b[2K   \u001b[90m━━━━━━━━━━━━━━━━━━━━━━━━━━━━━━━━━━━━━━━━\u001b[0m \u001b[32m157.9/157.9 kB\u001b[0m \u001b[31m9.0 MB/s\u001b[0m eta \u001b[36m0:00:00\u001b[0m\n",
            "\u001b[?25hDownloading aenum-3.1.16-py3-none-any.whl (165 kB)\n",
            "\u001b[2K   \u001b[90m━━━━━━━━━━━━━━━━━━━━━━━━━━━━━━━━━━━━━━━━\u001b[0m \u001b[32m165.6/165.6 kB\u001b[0m \u001b[31m11.8 MB/s\u001b[0m eta \u001b[36m0:00:00\u001b[0m\n",
            "\u001b[?25hDownloading dataclasses_json-0.6.7-py3-none-any.whl (28 kB)\n",
            "Downloading deprecation-2.1.0-py2.py3-none-any.whl (11 kB)\n",
            "Downloading marshmallow-3.26.1-py3-none-any.whl (50 kB)\n",
            "\u001b[2K   \u001b[90m━━━━━━━━━━━━━━━━━━━━━━━━━━━━━━━━━━━━━━━━\u001b[0m \u001b[32m50.9/50.9 kB\u001b[0m \u001b[31m3.5 MB/s\u001b[0m eta \u001b[36m0:00:00\u001b[0m\n",
            "\u001b[?25hDownloading typing_inspect-0.9.0-py3-none-any.whl (8.8 kB)\n",
            "Downloading mypy_extensions-1.1.0-py3-none-any.whl (5.0 kB)\n",
            "Installing collected packages: aenum, mypy-extensions, marshmallow, deprecation, typing-inspect, dataclasses-json, deepgram-sdk\n",
            "Successfully installed aenum-3.1.16 dataclasses-json-0.6.7 deepgram-sdk-4.8.1 deprecation-2.1.0 marshmallow-3.26.1 mypy-extensions-1.1.0 typing-inspect-0.9.0\n"
          ]
        }
      ],
      "source": [
        "pip install deepgram-sdk aiofiles tqdm\n"
      ]
    },
    {
      "cell_type": "code",
      "execution_count": null,
      "metadata": {
        "colab": {
          "base_uri": "https://localhost:8080/"
        },
        "id": "wT8geHF2YeFz",
        "outputId": "e6c6bd3e-daf0-43bb-df15-2b2e3b5b0b9e"
      },
      "outputs": [
        {
          "name": "stdout",
          "output_type": "stream",
          "text": [
            "Requirement already satisfied: deepgram-sdk==2.12.0 in /usr/local/lib/python3.12/dist-packages (2.12.0)\n",
            "Requirement already satisfied: aiohttp in /usr/local/lib/python3.12/dist-packages (from deepgram-sdk==2.12.0) (3.12.15)\n",
            "Requirement already satisfied: websockets in /usr/local/lib/python3.12/dist-packages (from deepgram-sdk==2.12.0) (15.0.1)\n",
            "Requirement already satisfied: aiohappyeyeballs>=2.5.0 in /usr/local/lib/python3.12/dist-packages (from aiohttp->deepgram-sdk==2.12.0) (2.6.1)\n",
            "Requirement already satisfied: aiosignal>=1.4.0 in /usr/local/lib/python3.12/dist-packages (from aiohttp->deepgram-sdk==2.12.0) (1.4.0)\n",
            "Requirement already satisfied: attrs>=17.3.0 in /usr/local/lib/python3.12/dist-packages (from aiohttp->deepgram-sdk==2.12.0) (25.3.0)\n",
            "Requirement already satisfied: frozenlist>=1.1.1 in /usr/local/lib/python3.12/dist-packages (from aiohttp->deepgram-sdk==2.12.0) (1.7.0)\n",
            "Requirement already satisfied: multidict<7.0,>=4.5 in /usr/local/lib/python3.12/dist-packages (from aiohttp->deepgram-sdk==2.12.0) (6.6.4)\n",
            "Requirement already satisfied: propcache>=0.2.0 in /usr/local/lib/python3.12/dist-packages (from aiohttp->deepgram-sdk==2.12.0) (0.3.2)\n",
            "Requirement already satisfied: yarl<2.0,>=1.17.0 in /usr/local/lib/python3.12/dist-packages (from aiohttp->deepgram-sdk==2.12.0) (1.20.1)\n",
            "Requirement already satisfied: typing-extensions>=4.2 in /usr/local/lib/python3.12/dist-packages (from aiosignal>=1.4.0->aiohttp->deepgram-sdk==2.12.0) (4.15.0)\n",
            "Requirement already satisfied: idna>=2.0 in /usr/local/lib/python3.12/dist-packages (from yarl<2.0,>=1.17.0->aiohttp->deepgram-sdk==2.12.0) (3.10)\n"
          ]
        },
        {
          "name": "stderr",
          "output_type": "stream",
          "text": [
            "/usr/lib/python3.12/pathlib.py:404: RuntimeWarning: coroutine 'main' was never awaited\n",
            "  parsed = [sys.intern(str(x)) for x in rel.split(sep) if x and x != '.']\n",
            "RuntimeWarning: Enable tracemalloc to get the object allocation traceback\n"
          ]
        }
      ],
      "source": [
        "pip install deepgram-sdk==2.12.0\n"
      ]
    },
    {
      "cell_type": "code",
      "execution_count": null,
      "metadata": {
        "colab": {
          "base_uri": "https://localhost:8080/"
        },
        "id": "1r0BxcU5Zkb_",
        "outputId": "b4de19de-19ef-4c5d-cee9-6223ffbd8cbc"
      },
      "outputs": [
        {
          "name": "stdout",
          "output_type": "stream",
          "text": [
            "fusermount: failed to unmount /content/drive: Invalid argument\n"
          ]
        }
      ],
      "source": [
        "!fusermount -u /content/drive\n",
        "!rm -rf /content/drive\n"
      ]
    },
    {
      "cell_type": "code",
      "execution_count": null,
      "metadata": {
        "colab": {
          "base_uri": "https://localhost:8080/"
        },
        "id": "2Kf_VpIGaCWT",
        "outputId": "064f724f-ebf7-485e-c572-fa3239684b47"
      },
      "outputs": [
        {
          "name": "stdout",
          "output_type": "stream",
          "text": [
            "Mounted at /content/drive\n"
          ]
        }
      ],
      "source": [
        "from google.colab import drive\n",
        "drive.mount('/content/drive')\n"
      ]
    },
    {
      "cell_type": "code",
      "execution_count": null,
      "metadata": {
        "colab": {
          "base_uri": "https://localhost:8080/"
        },
        "id": "6FSmr5zXbAM4",
        "outputId": "59049a84-0f96-4fda-b072-09eead7a15df"
      },
      "outputs": [
        {
          "name": "stdout",
          "output_type": "stream",
          "text": [
            "Requirement already satisfied: deepgram-sdk==2.12.0 in /usr/local/lib/python3.12/dist-packages (2.12.0)\n",
            "Requirement already satisfied: aiofiles in /usr/local/lib/python3.12/dist-packages (24.1.0)\n",
            "Requirement already satisfied: nest_asyncio in /usr/local/lib/python3.12/dist-packages (1.6.0)\n",
            "Requirement already satisfied: tqdm in /usr/local/lib/python3.12/dist-packages (4.67.1)\n",
            "Requirement already satisfied: aiohttp in /usr/local/lib/python3.12/dist-packages (from deepgram-sdk==2.12.0) (3.12.15)\n",
            "Requirement already satisfied: websockets in /usr/local/lib/python3.12/dist-packages (from deepgram-sdk==2.12.0) (15.0.1)\n",
            "Requirement already satisfied: aiohappyeyeballs>=2.5.0 in /usr/local/lib/python3.12/dist-packages (from aiohttp->deepgram-sdk==2.12.0) (2.6.1)\n",
            "Requirement already satisfied: aiosignal>=1.4.0 in /usr/local/lib/python3.12/dist-packages (from aiohttp->deepgram-sdk==2.12.0) (1.4.0)\n",
            "Requirement already satisfied: attrs>=17.3.0 in /usr/local/lib/python3.12/dist-packages (from aiohttp->deepgram-sdk==2.12.0) (25.3.0)\n",
            "Requirement already satisfied: frozenlist>=1.1.1 in /usr/local/lib/python3.12/dist-packages (from aiohttp->deepgram-sdk==2.12.0) (1.7.0)\n",
            "Requirement already satisfied: multidict<7.0,>=4.5 in /usr/local/lib/python3.12/dist-packages (from aiohttp->deepgram-sdk==2.12.0) (6.6.4)\n",
            "Requirement already satisfied: propcache>=0.2.0 in /usr/local/lib/python3.12/dist-packages (from aiohttp->deepgram-sdk==2.12.0) (0.3.2)\n",
            "Requirement already satisfied: yarl<2.0,>=1.17.0 in /usr/local/lib/python3.12/dist-packages (from aiohttp->deepgram-sdk==2.12.0) (1.20.1)\n",
            "Requirement already satisfied: typing-extensions>=4.2 in /usr/local/lib/python3.12/dist-packages (from aiosignal>=1.4.0->aiohttp->deepgram-sdk==2.12.0) (4.15.0)\n",
            "Requirement already satisfied: idna>=2.0 in /usr/local/lib/python3.12/dist-packages (from yarl<2.0,>=1.17.0->aiohttp->deepgram-sdk==2.12.0) (3.10)\n"
          ]
        }
      ],
      "source": [
        "pip install deepgram-sdk==2.12.0 aiofiles nest_asyncio tqdm\n"
      ]
    },
    {
      "cell_type": "code",
      "execution_count": null,
      "metadata": {
        "colab": {
          "base_uri": "https://localhost:8080/"
        },
        "id": "oY0OpZGGaWJV",
        "outputId": "5781ae99-06f9-4042-a5dd-90d950d6e013"
      },
      "outputs": [
        {
          "name": "stdout",
          "output_type": "stream",
          "text": [
            "['MyDrive', '.shortcut-targets-by-id', '.Trash-0', '.Encrypted']\n"
          ]
        }
      ],
      "source": [
        "import os\n",
        "\n",
        "print(os.listdir(\"/content/drive\"))\n"
      ]
    },
    {
      "cell_type": "code",
      "execution_count": null,
      "metadata": {
        "colab": {
          "base_uri": "https://localhost:8080/"
        },
        "id": "fhFcQHnwbXgk",
        "outputId": "78ab9090-e045-4187-bfc2-2d8fd87d8806"
      },
      "outputs": [
        {
          "name": "stdout",
          "output_type": "stream",
          "text": [
            "Requirement already satisfied: deepgram-sdk==2.12.0 in /usr/local/lib/python3.12/dist-packages (2.12.0)\n",
            "Requirement already satisfied: aiofiles in /usr/local/lib/python3.12/dist-packages (24.1.0)\n",
            "Requirement already satisfied: nest_asyncio in /usr/local/lib/python3.12/dist-packages (1.6.0)\n",
            "Requirement already satisfied: tqdm in /usr/local/lib/python3.12/dist-packages (4.67.1)\n",
            "Requirement already satisfied: aiohttp in /usr/local/lib/python3.12/dist-packages (from deepgram-sdk==2.12.0) (3.12.15)\n",
            "Requirement already satisfied: websockets in /usr/local/lib/python3.12/dist-packages (from deepgram-sdk==2.12.0) (15.0.1)\n",
            "Requirement already satisfied: aiohappyeyeballs>=2.5.0 in /usr/local/lib/python3.12/dist-packages (from aiohttp->deepgram-sdk==2.12.0) (2.6.1)\n",
            "Requirement already satisfied: aiosignal>=1.4.0 in /usr/local/lib/python3.12/dist-packages (from aiohttp->deepgram-sdk==2.12.0) (1.4.0)\n",
            "Requirement already satisfied: attrs>=17.3.0 in /usr/local/lib/python3.12/dist-packages (from aiohttp->deepgram-sdk==2.12.0) (25.3.0)\n",
            "Requirement already satisfied: frozenlist>=1.1.1 in /usr/local/lib/python3.12/dist-packages (from aiohttp->deepgram-sdk==2.12.0) (1.7.0)\n",
            "Requirement already satisfied: multidict<7.0,>=4.5 in /usr/local/lib/python3.12/dist-packages (from aiohttp->deepgram-sdk==2.12.0) (6.6.4)\n",
            "Requirement already satisfied: propcache>=0.2.0 in /usr/local/lib/python3.12/dist-packages (from aiohttp->deepgram-sdk==2.12.0) (0.3.2)\n",
            "Requirement already satisfied: yarl<2.0,>=1.17.0 in /usr/local/lib/python3.12/dist-packages (from aiohttp->deepgram-sdk==2.12.0) (1.20.1)\n",
            "Requirement already satisfied: typing-extensions>=4.2 in /usr/local/lib/python3.12/dist-packages (from aiosignal>=1.4.0->aiohttp->deepgram-sdk==2.12.0) (4.15.0)\n",
            "Requirement already satisfied: idna>=2.0 in /usr/local/lib/python3.12/dist-packages (from yarl<2.0,>=1.17.0->aiohttp->deepgram-sdk==2.12.0) (3.10)\n"
          ]
        }
      ],
      "source": [
        "!pip install deepgram-sdk==2.12.0 aiofiles nest_asyncio tqdm\n"
      ]
    },
    {
      "cell_type": "code",
      "execution_count": null,
      "metadata": {
        "colab": {
          "base_uri": "https://localhost:8080/"
        },
        "id": "CP2s7zKddM3T",
        "outputId": "90492671-b655-47a1-f03b-254b7d08d818"
      },
      "outputs": [
        {
          "name": "stdout",
          "output_type": "stream",
          "text": [
            "fusermount: failed to unmount /content/drive: Invalid argument\n",
            "umount: /content/drive: not mounted.\n"
          ]
        }
      ],
      "source": [
        "!fusermount -u /content/drive || true\n",
        "!umount -l /content/drive || true\n"
      ]
    },
    {
      "cell_type": "code",
      "execution_count": null,
      "metadata": {
        "id": "-ldrqqGoYQCU"
      },
      "outputs": [],
      "source": [
        "!fusermount -u /content/drive 2>/dev/null || true\n",
        "!umount -l /content/drive 2>/dev/null || true\n",
        "!rm -rf /content/drive\n"
      ]
    },
    {
      "cell_type": "code",
      "execution_count": null,
      "metadata": {
        "id": "uIhm8xHVxbTm"
      },
      "outputs": [],
      "source": [
        "!mkdir -p /content/drive\n"
      ]
    },
    {
      "cell_type": "code",
      "execution_count": null,
      "metadata": {
        "colab": {
          "base_uri": "https://localhost:8080/"
        },
        "id": "bxGkQZ3_xnSY",
        "outputId": "2051cbc2-a8e6-40a1-8451-a95d502830e6"
      },
      "outputs": [
        {
          "name": "stdout",
          "output_type": "stream",
          "text": [
            "✅ Found 1214 chunk files.\n"
          ]
        }
      ],
      "source": [
        "import os\n",
        "\n",
        "CHUNKS_FOLDER = \"/content/drive/MyDrive/task_dhivehi/chunks\"\n",
        "OUTPUT_FOLDER = \"/content/drive/MyDrive/task_dhivehi/transcriptions\"\n",
        "\n",
        "if not os.path.exists(CHUNKS_FOLDER):\n",
        "    print(\"❌ Chunks folder not found!\")\n",
        "else:\n",
        "    print(f\"✅ Found {len(os.listdir(CHUNKS_FOLDER))} chunk files.\")\n"
      ]
    },
    {
      "cell_type": "code",
      "execution_count": null,
      "metadata": {
        "colab": {
          "base_uri": "https://localhost:8080/"
        },
        "id": "b7B3XiNt1PDf",
        "outputId": "83281cc8-26a8-4724-b59e-6f612c412044"
      },
      "outputs": [
        {
          "name": "stdout",
          "output_type": "stream",
          "text": [
            "✅ GPU available: Tesla T4\n",
            "Total GPU Memory: 15.83 GB\n",
            "Memory Allocated: 0.00 GB\n",
            "Memory Reserved: 0.00 GB\n"
          ]
        }
      ],
      "source": [
        "import torch\n",
        "\n",
        "# Check if GPU is available\n",
        "if torch.cuda.is_available():\n",
        "    device_name = torch.cuda.get_device_name(0)\n",
        "    total_memory = torch.cuda.get_device_properties(0).total_memory / 1e9  # GB\n",
        "    allocated = torch.cuda.memory_allocated(0) / 1e9  # GB\n",
        "    reserved = torch.cuda.memory_reserved(0) / 1e9  # GB\n",
        "    print(f\"✅ GPU available: {device_name}\")\n",
        "    print(f\"Total GPU Memory: {total_memory:.2f} GB\")\n",
        "    print(f\"Memory Allocated: {allocated:.2f} GB\")\n",
        "    print(f\"Memory Reserved: {reserved:.2f} GB\")\n",
        "else:\n",
        "    print(\"❌ GPU not available. Please enable GPU in Runtime settings.\")\n"
      ]
    },
    {
      "cell_type": "code",
      "execution_count": null,
      "metadata": {
        "colab": {
          "base_uri": "https://localhost:8080/"
        },
        "id": "p2uVVycv8XbI",
        "outputId": "1951af1e-32bc-43e2-8d9a-1f859ffeb887"
      },
      "outputs": [
        {
          "name": "stdout",
          "output_type": "stream",
          "text": [
            "Mounted at /content/drive\n"
          ]
        }
      ],
      "source": [
        "from google.colab import drive\n",
        "drive.mount('/content/drive')\n"
      ]
    },
    {
      "cell_type": "code",
      "execution_count": null,
      "metadata": {
        "colab": {
          "base_uri": "https://localhost:8080/"
        },
        "id": "OHB-1rdw_aLS",
        "outputId": "c82ebf22-0e89-41f3-e117-c1fe77e1c7d5"
      },
      "outputs": [
        {
          "name": "stdout",
          "output_type": "stream",
          "text": [
            "Mounted at /content/drive\n",
            "📂 /content/drive/MyDrive/task_dhivehi → 0 files\n",
            "📂 audios → 99 files\n",
            "📂 chunks → 962 files\n",
            "📂 transcriptions → 962 files\n",
            "📂 transcriptions_cleaned → 962 files\n",
            "📂 translated_txt → 193 files\n"
          ]
        }
      ],
      "source": [
        "import os\n",
        "from google.colab import drive\n",
        "\n",
        "# ---------- 1. MOUNT GOOGLE DRIVE ----------\n",
        "drive.mount('/content/drive', force_remount=True)\n",
        "\n",
        "# ---------- 2. BASE PATH ----------\n",
        "BASE_FOLDER = \"/content/drive/MyDrive/task_dhivehi\"\n",
        "\n",
        "# ---------- 3. WALK THROUGH FOLDERS WITH FILE COUNTS ----------\n",
        "for root, dirs, files in os.walk(BASE_FOLDER):\n",
        "    rel_path = os.path.relpath(root, BASE_FOLDER)\n",
        "    if rel_path == \".\":\n",
        "        folder_name = BASE_FOLDER\n",
        "    else:\n",
        "        folder_name = rel_path\n",
        "\n",
        "    file_count = len([f for f in files if os.path.isfile(os.path.join(root, f))])\n",
        "    print(f\"📂 {folder_name} → {file_count} files\")\n"
      ]
    },
    {
      "cell_type": "code",
      "execution_count": null,
      "metadata": {
        "colab": {
          "base_uri": "https://localhost:8080/"
        },
        "id": "HMd95NymCZ_9",
        "outputId": "88060686-497d-4b05-8cac-cc44254573ec"
      },
      "outputs": [
        {
          "name": "stdout",
          "output_type": "stream",
          "text": [
            "Collecting deep-translator\n",
            "  Downloading deep_translator-1.11.4-py3-none-any.whl.metadata (30 kB)\n",
            "Requirement already satisfied: beautifulsoup4<5.0.0,>=4.9.1 in /usr/local/lib/python3.12/dist-packages (from deep-translator) (4.13.5)\n",
            "Requirement already satisfied: requests<3.0.0,>=2.23.0 in /usr/local/lib/python3.12/dist-packages (from deep-translator) (2.32.4)\n",
            "Requirement already satisfied: soupsieve>1.2 in /usr/local/lib/python3.12/dist-packages (from beautifulsoup4<5.0.0,>=4.9.1->deep-translator) (2.8)\n",
            "Requirement already satisfied: typing-extensions>=4.0.0 in /usr/local/lib/python3.12/dist-packages (from beautifulsoup4<5.0.0,>=4.9.1->deep-translator) (4.15.0)\n",
            "Requirement already satisfied: charset_normalizer<4,>=2 in /usr/local/lib/python3.12/dist-packages (from requests<3.0.0,>=2.23.0->deep-translator) (3.4.3)\n",
            "Requirement already satisfied: idna<4,>=2.5 in /usr/local/lib/python3.12/dist-packages (from requests<3.0.0,>=2.23.0->deep-translator) (3.10)\n",
            "Requirement already satisfied: urllib3<3,>=1.21.1 in /usr/local/lib/python3.12/dist-packages (from requests<3.0.0,>=2.23.0->deep-translator) (2.5.0)\n",
            "Requirement already satisfied: certifi>=2017.4.17 in /usr/local/lib/python3.12/dist-packages (from requests<3.0.0,>=2.23.0->deep-translator) (2025.8.3)\n",
            "Downloading deep_translator-1.11.4-py3-none-any.whl (42 kB)\n",
            "\u001b[?25l   \u001b[90m━━━━━━━━━━━━━━━━━━━━━━━━━━━━━━━━━━━━━━━━\u001b[0m \u001b[32m0.0/42.3 kB\u001b[0m \u001b[31m?\u001b[0m eta \u001b[36m-:--:--\u001b[0m\r",
            "\u001b[2K   \u001b[90m━━━━━━━━━━━━━━━━━━━━━━━━━━━━━━━━━━━━━━━━\u001b[0m \u001b[32m42.3/42.3 kB\u001b[0m \u001b[31m3.2 MB/s\u001b[0m eta \u001b[36m0:00:00\u001b[0m\n",
            "\u001b[?25hInstalling collected packages: deep-translator\n",
            "Successfully installed deep-translator-1.11.4\n"
          ]
        }
      ],
      "source": [
        "!pip install deep-translator\n"
      ]
    },
    {
      "cell_type": "code",
      "execution_count": null,
      "metadata": {
        "colab": {
          "base_uri": "https://localhost:8080/"
        },
        "id": "7gLGd5TmCfY8",
        "outputId": "d95fc6b0-d187-44d8-feda-4faeb8458415"
      },
      "outputs": [
        {
          "name": "stdout",
          "output_type": "stream",
          "text": [
            "Requirement already satisfied: tqdm in /usr/local/lib/python3.12/dist-packages (4.67.1)\n"
          ]
        }
      ],
      "source": [
        "!pip install tqdm\n"
      ]
    },
    {
      "cell_type": "code",
      "execution_count": null,
      "metadata": {
        "colab": {
          "base_uri": "https://localhost:8080/"
        },
        "id": "FCK2nbcRCvtn",
        "outputId": "9ca0e163-da93-4446-c545-bb88db754680"
      },
      "outputs": [
        {
          "name": "stdout",
          "output_type": "stream",
          "text": [
            "umount: /content/drive: not mounted.\n"
          ]
        }
      ],
      "source": [
        "!fusermount -u /content/drive || true\n",
        "!umount -l /content/drive || true\n"
      ]
    },
    {
      "cell_type": "code",
      "execution_count": null,
      "metadata": {
        "id": "PxwPKKLPEFKF"
      },
      "outputs": [],
      "source": [
        "!fusermount -u /content/drive 2>/dev/null || true\n",
        "!umount -l /content/drive 2>/dev/null || true\n",
        "!rm -rf /content/drive\n"
      ]
    },
    {
      "cell_type": "code",
      "execution_count": null,
      "metadata": {
        "id": "QG29Ahq7ETvX"
      },
      "outputs": [],
      "source": [
        "!mkdir -p /content/drive\n"
      ]
    },
    {
      "cell_type": "code",
      "execution_count": null,
      "metadata": {
        "colab": {
          "base_uri": "https://localhost:8080/"
        },
        "id": "S4vxs1osEXxb",
        "outputId": "01a05f84-b84e-4d9e-cef8-b9ccc7f88b9a"
      },
      "outputs": [
        {
          "name": "stdout",
          "output_type": "stream",
          "text": [
            "Mounted at /content/drive\n"
          ]
        }
      ],
      "source": [
        "from google.colab import drive\n",
        "drive.mount('/content/drive')\n"
      ]
    },
    {
      "cell_type": "code",
      "execution_count": null,
      "metadata": {
        "colab": {
          "base_uri": "https://localhost:8080/"
        },
        "id": "_JiGsmVgDJDj",
        "outputId": "946f7201-c312-4050-f957-9dd2072f4593"
      },
      "outputs": [
        {
          "name": "stdout",
          "output_type": "stream",
          "text": [
            "audios\ttranscriptions\t\ttranslated_txt\t  translations_txtfile\n",
            "chunks\ttranscriptions_cleaned\ttranslations_txt\n"
          ]
        }
      ],
      "source": [
        "!ls \"/content/drive/MyDrive/task_dhivehi/\"\n"
      ]
    },
    {
      "cell_type": "code",
      "execution_count": null,
      "metadata": {
        "colab": {
          "base_uri": "https://localhost:8080/"
        },
        "id": "_WbgDT0wE8B5",
        "outputId": "470aeebc-e5ca-4b06-e797-4b56ea73d872"
      },
      "outputs": [
        {
          "name": "stdout",
          "output_type": "stream",
          "text": [
            "📂 Found 962 JSON transcript files.\n",
            "⚠ Total empty transcripts: 0\n",
            "✅ Total non-empty transcripts: 962\n",
            "✅ Log saved to: /content/drive/MyDrive/task_dhivehi/transcriptions_cleaned/empty_transcripts.log\n"
          ]
        }
      ],
      "source": [
        "import os\n",
        "import json\n",
        "\n",
        "INPUT_FOLDER = \"/content/drive/MyDrive/task_dhivehi/transcriptions_cleaned\"\n",
        "\n",
        "json_files = [f for f in os.listdir(INPUT_FOLDER) if f.endswith(\".json\")]\n",
        "print(f\"📂 Found {len(json_files)} JSON transcript files.\")\n",
        "\n",
        "empty_files = []\n",
        "non_empty_files = []\n",
        "\n",
        "for file in json_files:\n",
        "    file_path = os.path.join(INPUT_FOLDER, file)\n",
        "    try:\n",
        "        with open(file_path, 'r', encoding='utf-8') as f:\n",
        "            data = json.load(f)\n",
        "            # Check multiple fields\n",
        "            transcript = data.get(\"cleaned_transcript\") or data.get(\"transcript_corrected\") or data.get(\"transcript_raw\") or \"\"\n",
        "\n",
        "            if not transcript.strip():\n",
        "                empty_files.append(file)\n",
        "            else:\n",
        "                non_empty_files.append(file)\n",
        "\n",
        "    except Exception as e:\n",
        "        print(f\"❌ Error reading {file}: {e}\")\n",
        "\n",
        "print(f\"⚠ Total empty transcripts: {len(empty_files)}\")\n",
        "print(f\"✅ Total non-empty transcripts: {len(non_empty_files)}\")\n",
        "\n",
        "# Save log\n",
        "log_path = os.path.join(INPUT_FOLDER, \"empty_transcripts.log\")\n",
        "with open(log_path, 'w', encoding='utf-8') as f:\n",
        "    for ef in empty_files:\n",
        "        f.write(ef + \"\\n\")\n",
        "\n",
        "print(f\"✅ Log saved to: {log_path}\")\n"
      ]
    },
    {
      "cell_type": "code",
      "execution_count": null,
      "metadata": {
        "colab": {
          "base_uri": "https://localhost:8080/"
        },
        "id": "SrO08Y-5ixze",
        "outputId": "49ddb348-dd0b-4004-ec52-fd7608e5fb6e"
      },
      "outputs": [
        {
          "name": "stdout",
          "output_type": "stream",
          "text": [
            "✅ Conversion done! Total skipped files: 962\n"
          ]
        }
      ],
      "source": [
        "import os\n",
        "import json\n",
        "\n",
        "# ⚡ Configure your paths\n",
        "json_folder = \"/content/drive/MyDrive/task_dhivehi/transcriptions\"  # folder with JSON files\n",
        "txt_folder = \"/content/drive/MyDrive/task_dhivehi/transcriptions_txt\"  # folder to save TXT files\n",
        "log_file = \"/content/drive/MyDrive/task_dhivehi/skipped_files.log\"\n",
        "\n",
        "# Create output folder if it doesn't exist\n",
        "os.makedirs(txt_folder, exist_ok=True)\n",
        "\n",
        "# Keep track of skipped files\n",
        "skipped_files = []\n",
        "\n",
        "# Loop through all JSON files\n",
        "for filename in os.listdir(json_folder):\n",
        "    if filename.endswith(\".json\"):\n",
        "        json_path = os.path.join(json_folder, filename)\n",
        "        txt_path = os.path.join(txt_folder, filename.replace(\".json\", \".txt\"))\n",
        "\n",
        "        try:\n",
        "            with open(json_path, \"r\", encoding=\"utf-8\") as f:\n",
        "                data = json.load(f)\n",
        "\n",
        "            # Extract text content (assuming key \"transcript\" or \"text\")\n",
        "            # Adjust according to your JSON structure\n",
        "            text_content = \"\"\n",
        "            if isinstance(data, dict):\n",
        "                text_content = data.get(\"transcript\") or data.get(\"text\") or \"\"\n",
        "            elif isinstance(data, list):\n",
        "                # If JSON is a list of segments\n",
        "                text_content = \" \".join([seg.get(\"transcript\", \"\") for seg in data if isinstance(seg, dict)])\n",
        "\n",
        "            # Skip empty content\n",
        "            if not text_content.strip():\n",
        "                skipped_files.append(filename)\n",
        "                continue\n",
        "\n",
        "            # Save to TXT\n",
        "            with open(txt_path, \"w\", encoding=\"utf-8\") as f:\n",
        "                f.write(text_content)\n",
        "\n",
        "        except Exception as e:\n",
        "            print(f\"⚠ Error processing {filename}: {e}\")\n",
        "            skipped_files.append(filename)\n",
        "\n",
        "# Save log of skipped files\n",
        "with open(log_file, \"w\", encoding=\"utf-8\") as f:\n",
        "    for f_name in skipped_files:\n",
        "        f.write(f_name + \"\\n\")\n",
        "\n",
        "print(f\"✅ Conversion done! Total skipped files: {len(skipped_files)}\")\n"
      ]
    },
    {
      "cell_type": "code",
      "execution_count": null,
      "metadata": {
        "id": "WIanWzU2kUW_"
      },
      "outputs": [],
      "source": []
    }
  ],
  "metadata": {
    "colab": {
      "provenance": [],
      "authorship_tag": "ABX9TyPbWo9faAQGQ8VNe2z1ATPB",
      "include_colab_link": true
    },
    "kernelspec": {
      "display_name": "Python 3",
      "name": "python3"
    },
    "language_info": {
      "name": "python"
    }
  },
  "nbformat": 4,
  "nbformat_minor": 0
}